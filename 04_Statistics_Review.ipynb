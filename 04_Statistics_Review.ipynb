{
 "cells": [
  {
   "cell_type": "markdown",
   "id": "f25155fc-cd9a-4f2a-8b45-24fcf558748e",
   "metadata": {},
   "source": [
    "# 04 Statistics Review\n",
    "__Math 3080: Fundamentals of Data Science__\n",
    "\n",
    "Reading:\n",
    "* Grus, Chapter 5 - Statistics\n",
    "* Phillips, Chapter 1 - Probability Review\n",
    "* Grus, Chapter 6 - Probability\n",
    "\n",
    "Outline:\n",
    "1. Types of Data\n",
    "2. Summary Statistics\n",
    "3. Probability\n",
    "4. Expected Values, Variance, and Covariance\n",
    "5. Bayes' Theorem\n",
    "6. Correlation\n",
    "7. Linear Regression"
   ]
  },
  {
   "cell_type": "markdown",
   "id": "f99c1e14-da2c-4921-8939-692b68ad3c9c",
   "metadata": {},
   "source": [
    "## 4.1 Types of Data\n",
    "* Quantitative (Numerical)\n",
    "  * Discrete / Continuous\n",
    "* Qualitative (Categorical)\n",
    "  * Nominal / Ordinal\n",
    "\n",
    "Quantitative data can become *categorized* when we put specific numbers in bins, as we do with a histogram.\n",
    "\n",
    "We summarize quantitative data using __Summary Statistics__. We summary categorical data by using __Probability__. Merging the two, you get into __normal distributions__, which we use to tell information about a population (__confidence intervals__ and __hypothesis testing__)."
   ]
  },
  {
   "cell_type": "markdown",
   "id": "4f0bf456",
   "metadata": {},
   "source": [
    "## 4.2 Summary Statistics\n",
    "* Mean\n",
    "* Median\n",
    "* Mode\n",
    "  * Skewness\n",
    "* Quartiles\n",
    "* Variance\n",
    "  * Standard Deviation\n",
    "* Covariance (2 variables)\n",
    "* Correlation"
   ]
  },
  {
   "cell_type": "code",
   "execution_count": 1,
   "id": "ad7c4031",
   "metadata": {},
   "outputs": [
    {
     "data": {
      "text/plain": [
       "array([37,  2, 48, 25, 11,  6, 38, 13, 40, 18, 41, 31, 36, 16, 17, 41, 39,\n",
       "       23, 27,  7, 13, 39, 23, 23, 17, 13, 29,  0,  7, 44, 26,  6, 27, 11,\n",
       "       37, 15, 42, 44, 38, 46, 34, 39, 31, 47, 32, 29, 17, 33, 21,  2, 29,\n",
       "        0, 15, 11, 29, 33, 29,  3, 32, 41,  6, 21, 18, 28, 42, 33,  3,  8,\n",
       "        2, 42, 49, 42, 30, 43, 44, 39, 30, 49, 33, 21,  5,  3, 27, 47, 26,\n",
       "       43, 24, 49,  9, 24, 34, 20, 21, 49, 29, 22,  3,  8, 36, 46, 16, 16,\n",
       "       19, 25, 13, 10,  1,  5,  4, 48, 36, 48, 19,  1, 30, 41, 40, 40,  9,\n",
       "       30, 45, 32, 13, 18,  9])"
      ]
     },
     "execution_count": 1,
     "metadata": {},
     "output_type": "execute_result"
    }
   ],
   "source": [
    "import numpy as np\n",
    "\n",
    "from scipy import stats\n",
    "\n",
    "x = np.random.randint(50, size=125)\n",
    "x"
   ]
  },
  {
   "cell_type": "markdown",
   "id": "d98cfd27",
   "metadata": {},
   "source": [
    "#### Mean\n",
    "The mean is the average of all values.\n",
    "$$\\bar{x} = \\frac{\\sum_{i=1}^n x_i}{n}$$"
   ]
  },
  {
   "cell_type": "code",
   "execution_count": 2,
   "id": "ac4331ce",
   "metadata": {},
   "outputs": [
    {
     "data": {
      "text/plain": [
       "25.592"
      ]
     },
     "execution_count": 2,
     "metadata": {},
     "output_type": "execute_result"
    }
   ],
   "source": [
    "# Mean\n",
    "np.mean(x)"
   ]
  },
  {
   "cell_type": "markdown",
   "id": "73706203",
   "metadata": {},
   "source": [
    "#### Median\n",
    "The median is the value that is the very center of an ordered dataset"
   ]
  },
  {
   "cell_type": "code",
   "execution_count": 3,
   "id": "d49ffa1b",
   "metadata": {},
   "outputs": [
    {
     "data": {
      "text/plain": [
       "27.0"
      ]
     },
     "execution_count": 3,
     "metadata": {},
     "output_type": "execute_result"
    }
   ],
   "source": [
    "# Median\n",
    "np.median(x)"
   ]
  },
  {
   "cell_type": "markdown",
   "id": "a1eeb9ea",
   "metadata": {},
   "source": [
    "#### Mode\n",
    "The mode is the most recurring element in a dataset\n",
    "* If two numbers qualify as the most recurring, the dataset is referred to as \"bimodal\"\n",
    "* In python, only the first modal value is returned"
   ]
  },
  {
   "cell_type": "code",
   "execution_count": 4,
   "id": "5a232fe6",
   "metadata": {},
   "outputs": [
    {
     "data": {
      "text/plain": [
       "ModeResult(mode=29, count=6)"
      ]
     },
     "execution_count": 4,
     "metadata": {},
     "output_type": "execute_result"
    }
   ],
   "source": [
    "# Mode\n",
    "from scipy import stats\n",
    "stats.mode(x, keepdims=False)"
   ]
  },
  {
   "cell_type": "markdown",
   "id": "dd94d47a",
   "metadata": {},
   "source": [
    "The mean, median, and mode helped us to understand the *center* of the data. But in addition to the center, we also want to know the *spread* of the data.\n",
    "\n",
    "#### Quartiles and Percentiles\n",
    "When the dataset is divided into 4 equal pieces (quarters), then the values separating those quarters are known as __quartiles__.\n",
    "* Likewise, when the dataset is divided into 100 equal pieces, then the values separating those pieces are known as __percentiles__."
   ]
  },
  {
   "cell_type": "code",
   "execution_count": 5,
   "id": "ab880468",
   "metadata": {},
   "outputs": [
    {
     "name": "stdout",
     "output_type": "stream",
     "text": [
      "[ 0. 13. 27. 39. 49.]\n"
     ]
    }
   ],
   "source": [
    "# Quartiles (or percentiles)\n",
    "\n",
    "quartile0 = np.quantile(x,0)     # Minimum\n",
    "quartile1 = np.quantile(x,0.25)  # 1st quartile = 25th percentile\n",
    "quartile2 = np.quantile(x,0.5)   # Median = 2nd quartile = 50th percentile\n",
    "quartile3 = np.quantile(x,0.75)  # 3rd quartile = 75th percentile\n",
    "quartile4 = np.quantile(x,1)     # Maximum = 4th quartile = 100th percentile\n",
    "\n",
    "percentile36 = np.quantile(x,0.36)\n",
    "\n",
    "print(np.array([quartile0, quartile1, quartile2, quartile3, quartile4]))"
   ]
  },
  {
   "cell_type": "markdown",
   "id": "665842b3",
   "metadata": {},
   "source": [
    "Quartiles are often depicted with a __boxplot__."
   ]
  },
  {
   "cell_type": "code",
   "execution_count": 6,
   "id": "fa47f088",
   "metadata": {},
   "outputs": [
    {
     "data": {
      "text/plain": [
       "<AxesSubplot: >"
      ]
     },
     "execution_count": 6,
     "metadata": {},
     "output_type": "execute_result"
    },
    {
     "data": {
      "image/png": "[encoded data removed]",
      "text/plain": [
       "<Figure size 100x400 with 1 Axes>"
      ]
     },
     "metadata": {},
     "output_type": "display_data"
    }
   ],
   "source": [
    "import seaborn as sns # The Seaborn package makes plotting with pandas convenient and high-quality\n",
    "\n",
    "sns.set(rc={'figure.figsize':(1,4)}) # Size of the figure\n",
    "\n",
    "sns.boxplot(data=x)"
   ]
  },
  {
   "cell_type": "markdown",
   "id": "ef4359af",
   "metadata": {},
   "source": [
    "#### Variance\n",
    "We want to measure how far the data is from the mean. But if we take the average distance from the mean, then we are going to get 0 because there are an equal number of elements less than the mean as there are greater than the mean. So, let's get rid of that problem by squaring the deviation:\n",
    "* Take the deviation: \n",
    "$$(x_i-\\bar{x})$$\n",
    "* Square the deviation to get rid of the negatives in the deviations\n",
    "$$(x_i-\\bar{x})^2$$\n",
    "* Take the mean of the squared deviations. \n",
    "$$var(x) = \\frac{\\sum_{i=1}^n (x_i-\\bar{x})^2}{n}$$\n",
    "* When dealing with samples, this is not exactly right. There is an issue referred to as degrees of freedom. To correct, we instead divide by $n-1$. This is the __variance__, or a measure of how much variation there is within the data\n",
    "$$var(x) = \\frac{\\sum_{i=1}^n (x_i-\\bar{x})^2}{n-1}$$"
   ]
  },
  {
   "cell_type": "code",
   "execution_count": 10,
   "id": "e3d0e7c9",
   "metadata": {},
   "outputs": [],
   "source": [
    "def variance(x):\n",
    "    return sum((x-np.mean(x))**2) / (len(x))"
   ]
  },
  {
   "cell_type": "code",
   "execution_count": 11,
   "id": "37a2703d",
   "metadata": {},
   "outputs": [
    {
     "data": {
      "text/plain": [
       "208.43353600000003"
      ]
     },
     "execution_count": 11,
     "metadata": {},
     "output_type": "execute_result"
    }
   ],
   "source": [
    "# Using our function\n",
    "variance(x)"
   ]
  },
  {
   "cell_type": "code",
   "execution_count": 9,
   "id": "d53685f2",
   "metadata": {},
   "outputs": [
    {
     "data": {
      "text/plain": [
       "208.43353599999998"
      ]
     },
     "execution_count": 9,
     "metadata": {},
     "output_type": "execute_result"
    }
   ],
   "source": [
    "# Using the built-in function\n",
    "np.var(x)"
   ]
  },
  {
   "cell_type": "markdown",
   "id": "00665fe0",
   "metadata": {},
   "source": [
    "But the units of variance are the squared unit of the data. For example, if we have a financial record and the data are in dollars, then the variance has a unit of dollars squared $(\\$^2)$. To correct for this, we take the square root. This is known as the __standard deviation__.\n",
    "$$StDev(x)=\\sqrt{\\frac{\\sum_{i=1}^n (x_i-\\bar{x})^2}{n-1}}$$"
   ]
  },
  {
   "cell_type": "code",
   "execution_count": 12,
   "id": "057bb2f5",
   "metadata": {},
   "outputs": [
    {
     "data": {
      "text/plain": [
       "14.43722743465656"
      ]
     },
     "execution_count": 12,
     "metadata": {},
     "output_type": "execute_result"
    }
   ],
   "source": [
    "# Using our function\n",
    "np.sqrt(variance(x))"
   ]
  },
  {
   "cell_type": "code",
   "execution_count": 13,
   "id": "4bf9d0cb",
   "metadata": {},
   "outputs": [
    {
     "data": {
      "text/plain": [
       "14.437227434656558"
      ]
     },
     "execution_count": 13,
     "metadata": {},
     "output_type": "execute_result"
    }
   ],
   "source": [
    "# Using the built-in function\n",
    "np.std(x)"
   ]
  },
  {
   "cell_type": "markdown",
   "id": "a05d4ab2",
   "metadata": {},
   "source": [
    "## 4.3 Probability\n",
    "* Sample Spaces $\\Omega = \\{\\omega_1,\\omega_2, \\dots ,\\omega_n\\}$\n",
    "* Outcomes $\\omega\\in\\Omega$\n",
    "* Events $A=\\{\\omega_i,\\omega_j,...\\}\\subset\\Omega$\n",
    "* Probabilities\n",
    "  * $0 \\le Pr(A) \\le 1$ for any $A$\n",
    "  * $Pr(\\Omega)=\\sum Pr(\\omega) = 1$\n",
    "  * The probability of disjoint events is the sum of their individual probabilities\n",
    "\n",
    "$$Pr(\\cup_{i=1} A_i) = \\sum_{i=1} Pr(A_i)$$\n",
    "\n",
    "It is easiest to consider probabilities with discrete variables. But this can also be done with continuous variables.\n",
    "* Weather: Probabilities of precipitation \n",
    "* Departure of airline flights (Takeoff at 6:24 means any time between 6:24 and 6:25. Takeoff itself starts at 6:24:15 and takes 40 seconds.)"
   ]
  },
  {
   "cell_type": "markdown",
   "id": "215e865b",
   "metadata": {},
   "source": [
    "### Two events\n",
    "When two events occur (whether from the same sample space or different sample spaces), there is a chance that they both occur. Mathematically, this is the region where event $A$ intesects with event $B$: $A\\cap B$.\n",
    "* Favorite flavor of ice cream\n",
    "  * 25% of students like Vanilla-based ice cream over chocolate- or fruit-based ice cream\n",
    "  * 40% of students like chocolate-based ice cream\n",
    "* Servings\n",
    "  * 38% of students prefer having their ice cream in a bowl instead of a cone.\n",
    "* (Draw these as a scaled confusion matrix - drawn in perfect rows and columns whose size depict the percentage)\n",
    "\n",
    "This is an example of two __independent events__ because the preference of ice cream flavor is unrelated to the preference of bowl or cone. When this is the case, $Pr(A\\cap B) = Pr(A)Pr(B)$.\n",
    "\n",
    "$$Pr(Vanilla\\cap bowl) = 25\\%\\cdot 38\\% = 0.25\\cdot 0.38 = 0.095 = 9.5\\%$$"
   ]
  },
  {
   "cell_type": "markdown",
   "id": "3307c295",
   "metadata": {},
   "source": [
    "### Conditional Probabilities\n",
    "Two events are known as __dependent__ if the decision of one influences the decision of the other. For example, the preference of ice cream topping may be influenced by the ice cream flavor. When this is the case,\n",
    "$$Pr(A|B)= \\frac{Pr(A\\cap B)}{Pr(B)}$$\n",
    "\n",
    "* Of the 25\\% of students who like Vanilla-based ice cream, 65\\% prefer chocolate topping\n",
    "  * $Pr(Chocolate~topping | Vanilla) = 65\\%=0.65$\n",
    "  * $Pr(Chocolate~topping\\cap Vanilla) = Pr(Chocolate~topping | Vanilla)Pr(Vanilla) = 0.65 \\cdot 0.25 = 0.1625 = 16.25\\%$\n",
    "\n",
    "* Of the 75\\% of students who don't prefer Vanilla-based ice cream, 40\\% prefer chocolate topping\n",
    "  * $0.25 \\cdot 0.40 = 0.10 = 10\\%$\n",
    "* (Draw these as a staggered confusion matrix - column is divided by percentage of one variable, but the rows are staggered by the percentage of the other variable)\n",
    "\n",
    "\n",
    "$$Pr(Vanilla\\cap Chocolate~topping) = 25\\%\\cdot 65\\% = 0.25\\cdot 0.65 = .1625 = 16.25\\%$$"
   ]
  },
  {
   "cell_type": "markdown",
   "id": "ffdaa597",
   "metadata": {},
   "source": [
    "## Density Functions and Normal Distributions\n",
    "The ice cream example was an example of a discrete variable: either you do like Vanilla-based ice cream or you don't. But in the case of a continuous variable, we need to involve calculus.\n",
    "\n"
   ]
  },
  {
   "cell_type": "code",
   "execution_count": 5,
   "id": "75d13fa2",
   "metadata": {},
   "outputs": [
    {
     "data": {
      "image/png": "[encoded data removed]",
      "text/plain": [
       "<Figure size 640x480 with 1 Axes>"
      ]
     },
     "metadata": {},
     "output_type": "display_data"
    }
   ],
   "source": [
    "import numpy as np\n",
    "import matplotlib.pyplot as plt\n",
    "\n",
    "x = np.linspace(-4, 4, 161)\n",
    "\n",
    "from scipy.stats import norm\n",
    "\n",
    "# Plot the Probability Density Function\n",
    "y = np.exp(-(x**2)/2)/np.sqrt(2*np.pi)\n",
    "plt.plot(x, y, label='normal PDF')\n",
    "\n",
    "#plt.plot(x, norm.pdf(x), linestyle=\"--\", linewidth=0.7, label='another normal')\n",
    "\n",
    "\n",
    "# Plot the Probability Density Function\n",
    "plt.plot(x, norm.cdf(x), color='green', label='normal CDF')\n",
    "\n",
    "# Show the figure\n",
    "plt.legend(bbox_to_anchor=(.35, 1))\n",
    "plt.show()"
   ]
  },
  {
   "cell_type": "markdown",
   "id": "072fcae7",
   "metadata": {},
   "source": [
    "## 4.4 Expected Values, Variance, and Covariance\n"
   ]
  },
  {
   "cell_type": "code",
   "execution_count": null,
   "id": "e6ea12e0-9a87-48df-b0cf-b94c48093d21",
   "metadata": {},
   "outputs": [],
   "source": []
  },
  {
   "cell_type": "markdown",
   "id": "c5e3f1c8",
   "metadata": {},
   "source": [
    "## 4.5. Bayes' Theorem\n"
   ]
  },
  {
   "cell_type": "code",
   "execution_count": null,
   "id": "4c37e14b-626c-44df-b643-b32e4fc673b7",
   "metadata": {},
   "outputs": [],
   "source": []
  },
  {
   "cell_type": "markdown",
   "id": "8b65dc50-311b-460f-a684-516fd6c6b892",
   "metadata": {},
   "source": [
    "## 4.6. Correlation\n",
    "* Correlation\n",
    "  * How to calculate correlation\n",
    "  $$r=\\frac{1}{n-1}\\sum\\left(\\frac{x-\\bar{x}}{s_x}\\frac{y-\\bar{y}}{s_y}\\right)$$\n",
    "  * Linear algebra methods\n",
    "  * Calculating and plotting on Python"
   ]
  },
  {
   "cell_type": "code",
   "execution_count": 2,
   "id": "0ecf00e3-c0aa-470d-a189-59ed1248b5d9",
   "metadata": {},
   "outputs": [],
   "source": [
    "import numpy as np\n",
    "import matplotlib.pyplot as plt"
   ]
  },
  {
   "cell_type": "code",
   "execution_count": 32,
   "id": "09ddff74-043c-49e1-ab9e-6d8498db31d3",
   "metadata": {},
   "outputs": [],
   "source": [
    "n = 30 # Number of datapoints\n",
    "m = np.random.randint(1,100)/10.0 # Slope off of which data is based.\n",
    "\n",
    "x = np.random.randint(0,20,n)\n",
    "y = m*x + np.random.randint(2,100,n)/10.0"
   ]
  },
  {
   "cell_type": "code",
   "execution_count": 33,
   "id": "80f14bf5-3fb3-4aac-9063-39c0892acf04",
   "metadata": {
    "tags": []
   },
   "outputs": [
    {
     "data": {
      "image/png": "[encoded data removed]",
      "text/plain": [
       "<Figure size 1200x600 with 1 Axes>"
      ]
     },
     "metadata": {},
     "output_type": "display_data"
    }
   ],
   "source": [
    "fig, ax = plt.subplots(figsize=(12, 6))\n",
    "ax = plt.scatter(x,y)\n",
    "plt.xlim([0,20])\n",
    "plt.ylim([0,(max(y)*1.10)])\n",
    "plt.show()"
   ]
  },
  {
   "cell_type": "code",
   "execution_count": 45,
   "id": "4c7b9756-b152-4335-9e19-0d7c6d5df699",
   "metadata": {},
   "outputs": [
    {
     "name": "stdout",
     "output_type": "stream",
     "text": [
      "[  6.33333333  -2.66666667   3.33333333 -10.66666667   7.33333333\n",
      "  -0.66666667  -4.66666667 -11.66666667   2.33333333   6.33333333\n",
      "   4.33333333  -8.66666667  -4.66666667   2.33333333   1.33333333\n",
      "   0.33333333   4.33333333   5.33333333 -10.66666667   5.33333333\n",
      "  -3.66666667  -4.66666667   7.33333333  -0.66666667  -7.66666667\n",
      "  -0.66666667   6.33333333  -2.66666667   4.33333333   7.33333333]\n",
      "[ 33.15666667 -14.74333333  17.35666667 -49.94333333  38.15666667\n",
      "  -3.14333333 -26.94333333 -62.24333333  11.75666667  33.15666667\n",
      "  23.25666667 -40.34333333 -25.64333333  10.25666667   6.35666667\n",
      "  -0.64333333  21.35666667  31.45666667 -51.74333333  25.35666667\n",
      " -19.14333333 -25.04333333  33.65666667  -4.84333333 -34.34333333\n",
      "   0.65666667  34.15666667 -16.54333333  18.35666667  36.85666667]\n"
     ]
    },
    {
     "data": {
      "text/plain": [
       "0.9965898627635601"
      ]
     },
     "execution_count": 45,
     "metadata": {},
     "output_type": "execute_result"
    }
   ],
   "source": [
    "def correlation(x,y):\n",
    "    x_deviation = x - np.mean(x)\n",
    "    print(x_deviation)\n",
    "    y_deviation = y - np.mean(y)\n",
    "    print(y_deviation)\n",
    "    x_std = np.std(x)\n",
    "    y_std = np.std(y)\n",
    "    return np.dot(x_deviation,y_deviation)/x_std/y_std/(len(x))\n",
    "\n",
    "correlation(x,y)"
   ]
  },
  {
   "cell_type": "code",
   "execution_count": 46,
   "id": "17c99987-a333-4b64-844c-d4fa918dc010",
   "metadata": {},
   "outputs": [
    {
     "data": {
      "text/plain": [
       "array([[1.        , 0.99658986],\n",
       "       [0.99658986, 1.        ]])"
      ]
     },
     "execution_count": 46,
     "metadata": {},
     "output_type": "execute_result"
    }
   ],
   "source": [
    "np.corrcoef(x,y)"
   ]
  },
  {
   "cell_type": "markdown",
   "id": "4eae221b-fdb6-43dd-898b-19d3c5e9fe3c",
   "metadata": {},
   "source": [
    "* Correlation of multiple vectors"
   ]
  },
  {
   "cell_type": "code",
   "execution_count": 52,
   "id": "40b163a7-f8c8-41f1-8a35-2ab2cc9e6eb8",
   "metadata": {},
   "outputs": [
    {
     "data": {
      "text/plain": [
       "array([[0.01990922, 0.96227973, 0.51808839],\n",
       "       [0.00803278, 0.20924602, 0.75748742],\n",
       "       [0.49988509, 0.15845277, 0.06477485]])"
      ]
     },
     "execution_count": 52,
     "metadata": {},
     "output_type": "execute_result"
    }
   ],
   "source": [
    "x = np.random.random((3,3))\n",
    "x"
   ]
  },
  {
   "cell_type": "code",
   "execution_count": 53,
   "id": "abd1d5a6-704a-46f7-8e6e-9398f22610d3",
   "metadata": {},
   "outputs": [
    {
     "data": {
      "text/plain": [
       "array([[ 1.        ,  0.29115587, -0.7670816 ],\n",
       "       [ 0.29115587,  1.        , -0.83709512],\n",
       "       [-0.7670816 , -0.83709512,  1.        ]])"
      ]
     },
     "execution_count": 53,
     "metadata": {},
     "output_type": "execute_result"
    }
   ],
   "source": [
    "np.corrcoef(x)"
   ]
  },
  {
   "cell_type": "markdown",
   "id": "89c14f76-dd70-49d2-b4a7-f6487c893373",
   "metadata": {},
   "source": [
    "* Correlation vs. Causation"
   ]
  },
  {
   "cell_type": "markdown",
   "id": "b034ac6b-2ae5-4ee1-b9b7-69d6cd62fde8",
   "metadata": {},
   "source": [
    "## 4.7. Linear Regression\n",
    "* Linear Regression\n",
    "* Error analysis"
   ]
  },
  {
   "cell_type": "markdown",
   "id": "4a9e00d8",
   "metadata": {},
   "source": []
  },
  {
   "cell_type": "markdown",
   "id": "371256a3",
   "metadata": {},
   "source": []
  },
  {
   "cell_type": "markdown",
   "id": "75596eaa",
   "metadata": {},
   "source": []
  },
  {
   "cell_type": "markdown",
   "id": "c74b004b",
   "metadata": {},
   "source": []
  }
 ],
 "metadata": {
  "kernelspec": {
   "display_name": "Python 3 (ipykernel)",
   "language": "python",
   "name": "python3"
  },
  "language_info": {
   "codemirror_mode": {
    "name": "ipython",
    "version": 3
   },
   "file_extension": ".py",
   "mimetype": "text/x-python",
   "name": "python",
   "nbconvert_exporter": "python",
   "pygments_lexer": "ipython3",
   "version": "3.9.14"
  }
 },
 "nbformat": 4,
 "nbformat_minor": 5
}
