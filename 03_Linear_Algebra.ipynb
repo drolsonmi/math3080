{
 "cells": [
  {
   "cell_type": "markdown",
   "id": "62805c13",
   "metadata": {},
   "source": [
    "# 04 Linear Algebra - Vectors\n",
    "__Math 3080: Fundamentals of Data Science__\n",
    "\n",
    "Reading: \n",
    "* Phillips, Chapter 3\n",
    "* [3 Blue 1 Brown YouTube Series on Linear Algebra](https://www.youtube.com/playlist?list=PL0-GT3co4r2y2YErbmuJw2L5tW4Ew2O5B)\n",
    "* Grus, Chapter 4"
   ]
  },
  {
   "cell_type": "markdown",
   "id": "8dd1568d",
   "metadata": {},
   "source": [
    "-----\n",
    "__Things to work on in this lecture__\n",
    "* Display all vectors and matrices properly, according to math notation, not Python notation\n",
    "* After they are shown properly, then we can show them in Python\n",
    "\n",
    "__Outline__\n",
    "* What is a vector\n",
    "* Vector addition\n",
    "* The (L2) Norm\n",
    "* Vector scaling\n",
    "* Dot Product\n",
    "* Basis vectors\n",
    "* The Matrix\n",
    "* Matrix Multiplication\n",
    "\n",
    "I have created a couple graphs on Desmos.\n",
    "* Vector addition and vector scaling: https://www.desmos.com/calculator/femuk0totw\n",
    "* Linear Transformations: https://www.desmos.com/calculator/bduv8uhfec\n",
    "-----"
   ]
  },
  {
   "cell_type": "markdown",
   "id": "7c0145b2",
   "metadata": {},
   "source": [
    "## Vectors\n",
    "A vector is a series of numbers that combined describe the property of something. The most common example of a vector is a point on a graph. This is used a lot in physics to describe position, velocity, forces, electric and magnetic fields, and so on.\n",
    "\n",
    "It is simply a collection of two or more points. For example, $\\begin{bmatrix}3\\\\2\\end{bmatrix}$ represents a vector that points from the origin to a point 3 units to the right and 2 units up.\n",
    "\n",
    "In the physical world, we generally deal with points in 3 dimensions. Our minds cannot intuitively comprehend more dimensions than that. For example, if we consider an airport to be the origin, then the vector $\\begin{bmatrix}75\\\\-10\\\\6\\end{bmatrix}$ would indicate an airplane that is 75 miles to the East, 10 miles to the South, and 6 miles up vertically.\n"
   ]
  },
  {
   "cell_type": "code",
   "execution_count": 1,
   "id": "891e15b9",
   "metadata": {},
   "outputs": [],
   "source": [
    "import numpy as np\n",
    "x = np.array([75, -10, 6])"
   ]
  },
  {
   "cell_type": "markdown",
   "id": "c7747fb0",
   "metadata": {},
   "source": [
    "\n",
    "However, in the data world, a vector could contain 12 pieces of information to describe a particular object. This would then be depicted as a 12-dimensional vector. The following could be a list of items that describe the background of a student:\n",
    "```python\n",
    "# [height, weight, eye color, hair color, Grade in school, GPA, Housing, Pay Wage, Gender, Ethnicity, Marriage status, Religion]\n",
    "person_1 = [71, 220, 'brown', 'black', 'Sophomore', 3.78, 'Off-campus', 12.70, 'M', 'Hispanic', 'Married', 'Catholic']\n",
    "```\n",
    "\n",
    "* *Note*: In a Python list or array, not all elements have to be the same type."
   ]
  },
  {
   "cell_type": "markdown",
   "id": "1e793501",
   "metadata": {},
   "source": [
    "### Vector Addition\n",
    "We can easily add two vectors together. Adding $A=\\begin{bmatrix}3\\\\2\\end{bmatrix}$ and $B=\\begin{bmatrix}1\\\\6\\end{bmatrix}$ would go 3 to the right plus an additional 1, the 2 up plus an additional 6. That is,\n",
    "$$A+B=\\begin{bmatrix}A_x\\\\A_y\\end{bmatrix}+\\begin{bmatrix}B_x\\\\B_y\\end{bmatrix} = \\begin{bmatrix}A_x+B_x\\\\A_y+B_y\\end{bmatrix}$$\n",
    "$$\\begin{bmatrix}3\\\\2\\end{bmatrix}+\\begin{bmatrix}1\\\\6\\end{bmatrix} = \\begin{bmatrix}3+1\\\\2+6\\end{bmatrix} = \\begin{bmatrix}4\\\\8\\end{bmatrix}$$\n",
    "\n",
    "* Show Graphically on https://www.desmos.com/calculator/femuk0totw"
   ]
  },
  {
   "cell_type": "code",
   "execution_count": 2,
   "id": "8b3666f7",
   "metadata": {},
   "outputs": [
    {
     "data": {
      "text/plain": [
       "array([4, 8])"
      ]
     },
     "execution_count": 2,
     "metadata": {},
     "output_type": "execute_result"
    }
   ],
   "source": [
    "A = np.array([3,2])\n",
    "B = np.array([1,6])\n",
    "A+B"
   ]
  },
  {
   "cell_type": "code",
   "execution_count": 3,
   "id": "388d86f6",
   "metadata": {},
   "outputs": [
    {
     "data": {
      "text/plain": [
       "3"
      ]
     },
     "execution_count": 3,
     "metadata": {},
     "output_type": "execute_result"
    }
   ],
   "source": [
    "# recall an indiviaul element of a vector\n",
    "A[0]"
   ]
  },
  {
   "cell_type": "code",
   "execution_count": 4,
   "id": "c8fdfbca",
   "metadata": {},
   "outputs": [
    {
     "data": {
      "text/plain": [
       "2"
      ]
     },
     "execution_count": 4,
     "metadata": {},
     "output_type": "execute_result"
    }
   ],
   "source": [
    "A[1]"
   ]
  },
  {
   "cell_type": "markdown",
   "id": "e1297929",
   "metadata": {},
   "source": [
    "Note that this operation is commutative:\n",
    "* Show Graphically"
   ]
  },
  {
   "cell_type": "code",
   "execution_count": 5,
   "id": "a1bf70c1",
   "metadata": {},
   "outputs": [
    {
     "data": {
      "text/plain": [
       "array([4, 8])"
      ]
     },
     "execution_count": 5,
     "metadata": {},
     "output_type": "execute_result"
    }
   ],
   "source": [
    "B+A"
   ]
  },
  {
   "cell_type": "markdown",
   "id": "51dd434e-238d-4792-a430-97bb1e087a1e",
   "metadata": {},
   "source": [
    "Subtraction also works:\n",
    "$$\\begin{bmatrix}3\\\\2\\end{bmatrix} - \\begin{bmatrix}1\\\\6\\end{bmatrix} = \\begin{bmatrix}3\\\\2\\end{bmatrix} + \\begin{bmatrix}-1\\\\-6\\end{bmatrix} = \\begin{bmatrix}3-1\\\\2-6\\end{bmatrix} = \\begin{bmatrix}2\\\\-4\\end{bmatrix}$$"
   ]
  },
  {
   "cell_type": "code",
   "execution_count": 6,
   "id": "0c097c28",
   "metadata": {},
   "outputs": [
    {
     "data": {
      "text/plain": [
       "array([ 2, -4])"
      ]
     },
     "execution_count": 6,
     "metadata": {},
     "output_type": "execute_result"
    }
   ],
   "source": [
    "A-B"
   ]
  },
  {
   "cell_type": "markdown",
   "id": "5afd0812",
   "metadata": {},
   "source": [
    "### The L2 Norm\n",
    "A __Norm__ is a method of measuring the length of a vector. There are many ways to measure the length of a vector:\n",
    "* L0 Norm (not really a norm, but some people use it that way)\n",
    "* L1 Norm\n",
    "* L2 Norm\n",
    "* Infinity Norm\n",
    "\n",
    "Since the L2 Norm is the one we will deal with the most in this class, we will only define this one.\n",
    "\n",
    "The __L2 Norm__ is simply the length of the vector from tail to tip. Note how any vector can be written as a combination of vectors in $\\vec{\\mathbf{x}}$ and $\\vec{\\mathbf{y}}$:\n",
    "$$\\begin{bmatrix}3\\\\2\\end{bmatrix} = \\begin{bmatrix}3\\\\0\\end{bmatrix} + \\begin{bmatrix}0\\\\2\\end{bmatrix}$$\n",
    "This is a right triangle. So, the length of the vector can be found using the Pythagorean Theorem:\n",
    "$$||\\vec{\\mathbf{x}}||_2 = \\begin{vmatrix}A_x\\\\A_y\\end{vmatrix} = \\sqrt{A_x^2 + A_y^2}$$\n",
    "$$||\\vec{\\mathbf{x}}||_2 = \\begin{vmatrix}3\\\\2\\end{vmatrix} = \\sqrt{3^2 + 2^2} = \\sqrt{9+4} = \\sqrt{13} \\approx 3.606$$\n",
    "In 3 dimensions, we just add another term:\n",
    "$$||\\vec{\\mathbf{x}}||_2 = \\begin{vmatrix}A_x\\\\A_y\\\\A_z\\end{vmatrix} = \\sqrt{A_x^2 + A_y^2 + A_z^2}$$\n",
    "$$||\\vec{\\mathbf{x}}||_2 = \\begin{vmatrix}75\\\\-10\\\\6\\end{vmatrix} = \\sqrt{75^2 + (-10)^2 + 6^2} = \\sqrt{5625+100+36} = \\sqrt{5761} \\approx 75.90$$\n",
    "The result of the Pythagorean Theorem is known as the Euclidean distance, so this is also known as the __Euclidean Norm__."
   ]
  },
  {
   "cell_type": "code",
   "execution_count": 7,
   "id": "d70afe30",
   "metadata": {},
   "outputs": [
    {
     "data": {
      "text/plain": [
       "3.605551275463989"
      ]
     },
     "execution_count": 7,
     "metadata": {},
     "output_type": "execute_result"
    }
   ],
   "source": [
    "x = np.array([3,2])\n",
    "#x = np.array([75, -10, 6])\n",
    "\n",
    "def twonorm(a):\n",
    "    s = np.zeros(len(a))\n",
    "    for i in range(len(a)):\n",
    "        s[i] = a[i]**2\n",
    "    return np.sqrt(sum(s))\n",
    "\n",
    "twonorm(x)"
   ]
  },
  {
   "cell_type": "markdown",
   "id": "c21c5f15",
   "metadata": {},
   "source": [
    "* Take some time to describe\n",
    "  * Functions\n",
    "  * For loops\n",
    "  * Range"
   ]
  },
  {
   "cell_type": "code",
   "execution_count": 8,
   "id": "a99698cf",
   "metadata": {},
   "outputs": [
    {
     "data": {
      "text/plain": [
       "3.605551275463989"
      ]
     },
     "execution_count": 8,
     "metadata": {},
     "output_type": "execute_result"
    }
   ],
   "source": [
    "from numpy.linalg import norm\n",
    "norm(x)"
   ]
  },
  {
   "cell_type": "code",
   "execution_count": 9,
   "id": "18ed0d1d",
   "metadata": {},
   "outputs": [
    {
     "data": {
      "text/plain": [
       "3.605551275463989"
      ]
     },
     "execution_count": 9,
     "metadata": {},
     "output_type": "execute_result"
    }
   ],
   "source": [
    "# Can specify the L2 norm using ord=2\n",
    "# Could do any norm we want: L(n) norm --> ord=n\n",
    "norm(x, ord=2)"
   ]
  },
  {
   "cell_type": "markdown",
   "id": "e3ee6c03",
   "metadata": {},
   "source": [
    "### Vector Multiplication\n",
    "There are many ways to multiply vectors: Scalar multiplication, Dot product, Cross product, ...\n",
    "\n",
    "#### Scalar Multiplication\n",
    "A scalar is a value that increases or decreases the size of a vector but doesn't change the direction. It is simply a number multiplied by the vector:\n",
    "$$10\\begin{bmatrix}3\\\\2\\end{bmatrix} = \\begin{bmatrix}10*3\\\\10*2\\end{bmatrix} = \\begin{bmatrix}30\\\\20\\end{bmatrix}$$\n",
    "\n",
    "* Show Graphically on https://www.desmos.com/calculator/femuk0totw"
   ]
  },
  {
   "cell_type": "code",
   "execution_count": 10,
   "id": "8b13d0a0",
   "metadata": {},
   "outputs": [
    {
     "data": {
      "text/plain": [
       "array([30, 20])"
      ]
     },
     "execution_count": 10,
     "metadata": {},
     "output_type": "execute_result"
    }
   ],
   "source": [
    "x = np.array([3, 2])\n",
    "10*x"
   ]
  },
  {
   "cell_type": "markdown",
   "id": "73eb51c2",
   "metadata": {},
   "source": [
    "#### Dot Product\n",
    "The dot product is a multiplication method for vectors\n",
    "$$\\vec{x}=\\begin{bmatrix}x_1\\\\x_2\\end{bmatrix} \\qquad \\vec{y}=\\begin{bmatrix}y_1\\\\y_2\\end{bmatrix}$$\n",
    "$$\\vec{x} \\cdot \\vec{y} = \\begin{bmatrix} x_1 \\\\ x_2 \\end{bmatrix} \\cdot \\begin{bmatrix} y_1 \\\\ y_2 \\end{bmatrix} = x_1y_1+x_2y_2$$\n",
    "Another way to write this is using a transpose: $\\vec{x}^T=\\begin{bmatrix}x_1 & x_2\\end{bmatrix}$\n",
    "$$\\vec{x} \\cdot \\vec{y} = \\vec{x}^T\\vec{y} = \\begin{bmatrix} x_1 & x_2 \\end{bmatrix} \\begin{bmatrix} y_1 \\\\ y_2 \\end{bmatrix} = x_1y_1+x_2y_2$$\n",
    "\n",
    "* Multiply first elements\n",
    "* Go to the next elements (right in $\\vec{x}$ and down in $\\vec{y}$) and find their product\n",
    "* Continue through all elements\n",
    "* Add all products together\n",
    "\n",
    "$$x_1 = \\begin{bmatrix}1\\\\3\\\\4\\end{bmatrix} \\qquad x_2 = \\begin{bmatrix}2\\\\4\\\\1\\end{bmatrix}$$\n",
    "$$x_1\\cdot x_2 = x_1^T x_2 = \\begin{bmatrix}1&3&4\\end{bmatrix}\\begin{bmatrix}2\\\\4\\\\1\\end{bmatrix} = (1\\cdot 2) + (3\\cdot 4) + (4\\cdot 1) = 2 + 12 + 4 = 18$$"
   ]
  },
  {
   "cell_type": "code",
   "execution_count": 11,
   "id": "e7a15e53",
   "metadata": {},
   "outputs": [
    {
     "data": {
      "text/plain": [
       "18"
      ]
     },
     "execution_count": 11,
     "metadata": {},
     "output_type": "execute_result"
    }
   ],
   "source": [
    "x1 = np.array([1, 3, 4])\n",
    "x2 = np.array([2, 4, 1])\n",
    "\n",
    "# Could create our own function for this\n",
    "# This is left as an exercise on the homework\n",
    "\n",
    "# NumPy built-in function for the dot-product\n",
    "np.dot(x1, x2)"
   ]
  },
  {
   "cell_type": "markdown",
   "id": "a1f38c73",
   "metadata": {},
   "source": [
    "### Basis Vectors\n",
    "A set of $k$ vectors is given: $X=\\{x_1,x_2,...,x_k\\}\\in\\mathbb{R}^d$. For example:\n",
    "$$X=\\{x_1,x_2\\}\\in\\mathbb{R}^3 \\qquad x_1=\\begin{bmatrix}1\\\\3\\\\4\\end{bmatrix} \\qquad x_2=\\begin{bmatrix}2\\\\4\\\\1\\end{bmatrix}$$\n",
    "\n",
    "A vector is __linearly dependent__ to $X$ if it can be written as a linear combination of the vectors in $X$.\n",
    "$$z=\\begin{bmatrix}-3\\\\-5\\\\2\\end{bmatrix} = \\begin{bmatrix}1\\\\3\\\\4\\end{bmatrix} -\\begin{bmatrix}4\\\\8\\\\2\\end{bmatrix} = \\begin{bmatrix}1\\\\3\\\\4\\end{bmatrix} - 2\\begin{bmatrix}2\\\\4\\\\1\\end{bmatrix} = x_1-2x_2$$"
   ]
  },
  {
   "cell_type": "code",
   "execution_count": 12,
   "id": "4d6edf8a",
   "metadata": {},
   "outputs": [
    {
     "data": {
      "text/plain": [
       "array([-3, -5,  2])"
      ]
     },
     "execution_count": 12,
     "metadata": {},
     "output_type": "execute_result"
    }
   ],
   "source": [
    "x1 = np.array([1,3,4])\n",
    "x2 = np.array([2,4,1])\n",
    "\n",
    "x1 - 2*x2"
   ]
  },
  {
   "cell_type": "markdown",
   "id": "c5f94eb8",
   "metadata": {},
   "source": [
    "On the other hand, a vector is __linearly independent__ if it __cannot__ be written as a linear combination of the vectors in $X$.\n",
    "$$z=\\begin{bmatrix}3\\\\7\\\\1\\end{bmatrix} = \\begin{bmatrix}1\\\\3\\\\4\\end{bmatrix} -\\begin{bmatrix}-2\\\\-4\\\\3\\end{bmatrix} \\ne c_1 x_1 + c_2 x_2$$"
   ]
  },
  {
   "cell_type": "markdown",
   "id": "bb5bff73",
   "metadata": {},
   "source": [
    "#### Span\n",
    "The __span__ of a set of vectors is the set of __all__ vectors that can be written as a linear combination of vectors in $X$.\n",
    "\n",
    "For example, there are two (linearly independent) vectors:\n",
    "$$\\hat{i}=\\hat{x}=\\begin{bmatrix}1\\\\0\\end{bmatrix} \\qquad \\hat{j}=\\hat{y}=\\begin{bmatrix}0\\\\1\\end{bmatrix}$$\n",
    "\n",
    "Any 2D vector can be written as a linear combination of $\\hat{i},\\hat{j}$. Likewise, if we have three (linearly independent) vectors:\n",
    "$$\\hat{i}=\\hat{x}=\\begin{bmatrix}1\\\\0\\\\0\\end{bmatrix} \\qquad \\hat{j}=\\hat{y}=\\begin{bmatrix}0\\\\1\\\\0\\end{bmatrix} \\qquad \\hat{k}=\\hat{z}=\\begin{bmatrix}0\\\\0\\\\1\\end{bmatrix}$$\n",
    "\n",
    "Any 3D vector can be written as a linear combination of $\\hat{i},\\hat{j},\\hat{k}$. Consider $x_1=\\begin{bmatrix}1\\\\3\\\\4\\end{bmatrix}$:\n",
    "$$x_1 = 1\\cdot \\begin{bmatrix}1\\\\0\\\\0\\end{bmatrix} + 3\\cdot\\begin{bmatrix}0\\\\1\\\\0\\end{bmatrix} + 4\\cdot\\begin{bmatrix}0\\\\0\\\\1\\end{bmatrix} = \\begin{bmatrix}1\\\\3\\\\4\\end{bmatrix}$$"
   ]
  },
  {
   "cell_type": "code",
   "execution_count": 13,
   "id": "cf4e15ae",
   "metadata": {},
   "outputs": [
    {
     "data": {
      "text/plain": [
       "array([1, 3, 4])"
      ]
     },
     "execution_count": 13,
     "metadata": {},
     "output_type": "execute_result"
    }
   ],
   "source": [
    "i_hat = np.array([1,0,0])\n",
    "j_hat = np.array([0,1,0])\n",
    "k_hat = np.array([0,0,1])\n",
    "\n",
    "1*i_hat + 3*j_hat + 4*k_hat"
   ]
  },
  {
   "cell_type": "markdown",
   "id": "75ca0574",
   "metadata": {},
   "source": [
    "Thus, $span(X) = \\left\\{z | z = c_x \\hat{i} + c_y \\hat{j} + c_z \\hat{k}\\right\\}$ where $X = \\begin{Bmatrix}\\begin{bmatrix}1\\\\0\\\\0\\end{bmatrix}, \\begin{bmatrix}0\\\\1\\\\0\\end{bmatrix}, \\begin{bmatrix}0\\\\0\\\\1\\end{bmatrix}\\end{Bmatrix}$\n",
    "\n",
    "The vectors of $X$ are known as __basis vectors__ and can be used to depict any two-dimensional vector in the x-y coordinate system."
   ]
  },
  {
   "cell_type": "markdown",
   "id": "8220b5f8",
   "metadata": {},
   "source": [
    "### The Matrix\n",
    "Let's go back to our 2-D system with basis vectors:\n",
    "$$\\hat{i}=\\begin{bmatrix}1\\\\0\\end{bmatrix} \\qquad \\hat{j} = \\begin{bmatrix}0\\\\1\\end{bmatrix}$$\n",
    "\n",
    "If we put our two basis vectors together, we get a 2-dimensional vector, also known as a matrix:\n",
    "$$\\begin{bmatrix}\\hat{i} & \\hat{j}\\end{bmatrix} = \\begin{bmatrix}1 & 0 \\\\ 0 & 1 \\end{bmatrix}$$\n",
    "\n",
    "The left two numbers indicate the direction of one basis vector ($\\hat{i}$) and the right two numbers indicate the direction of the other basis vector ($\\hat{j}$). We can multiply this matrix with any vector and we get the original vector:\n",
    "$$\\begin{bmatrix}1 & 0 \\\\ 0 & 1 \\end{bmatrix}\\begin{bmatrix}3 \\\\ 2 \\end{bmatrix}=5\\begin{bmatrix}1 \\\\ 0 \\end{bmatrix} + 2\\begin{bmatrix}0 \\\\ 1 \\end{bmatrix} = \\begin{bmatrix}3+0\\\\0+2\\end{bmatrix}=\\begin{bmatrix}3\\\\2\\end{bmatrix}$$\n",
    "\n",
    "If instead we multiply our vector by a matrix with different basis vectors, then we pass our vector through a __linear transformation__ onto the new basis vector system.\n",
    "$$\\begin{bmatrix}2 & -1 \\\\ 1 & 3 \\end{bmatrix}\\begin{bmatrix}3 \\\\ 2 \\end{bmatrix}=3\\begin{bmatrix}2 \\\\ 1 \\end{bmatrix} + 2\\begin{bmatrix}-1 \\\\ 3 \\end{bmatrix} = \\begin{bmatrix}3(2) + 2(-1)\\\\3(1)+2(3)\\end{bmatrix} = \\begin{bmatrix}4 \\\\ 9 \\end{bmatrix}$$\n",
    "\n",
    "* Look at the vector with basis vectors on [Desmos: Linear Transformations](https://www.desmos.com/calculator/bduv8uhfec) before and after the transformation"
   ]
  },
  {
   "cell_type": "code",
   "execution_count": 14,
   "id": "f9dea6b2",
   "metadata": {},
   "outputs": [],
   "source": [
    "L = np.array([[2,-1],\n",
    "              [1,3]])\n",
    "\n",
    "x = np.array([3,2])"
   ]
  },
  {
   "cell_type": "code",
   "execution_count": 15,
   "id": "7199bd73",
   "metadata": {},
   "outputs": [
    {
     "data": {
      "text/plain": [
       "-1"
      ]
     },
     "execution_count": 15,
     "metadata": {},
     "output_type": "execute_result"
    }
   ],
   "source": [
    "# recall an element of a matrix\n",
    "L[0,1]"
   ]
  },
  {
   "cell_type": "code",
   "execution_count": 16,
   "id": "9f0a2aad",
   "metadata": {},
   "outputs": [
    {
     "data": {
      "text/plain": [
       "-1"
      ]
     },
     "execution_count": 16,
     "metadata": {},
     "output_type": "execute_result"
    }
   ],
   "source": [
    "L[0][1]"
   ]
  },
  {
   "cell_type": "code",
   "execution_count": 17,
   "id": "be2d9a28",
   "metadata": {},
   "outputs": [
    {
     "data": {
      "text/plain": [
       "array([4., 9.])"
      ]
     },
     "execution_count": 17,
     "metadata": {},
     "output_type": "execute_result"
    }
   ],
   "source": [
    "def multiplymatrix(A,x):\n",
    "    s = np.zeros(len(x))\n",
    "    for i in range(len(A[:,0])):\n",
    "        for j in range(len(A[0])):\n",
    "            s[i] += A[i,j]*x[j]\n",
    "    return s\n",
    "\n",
    "multiplymatrix(L,x)"
   ]
  },
  {
   "cell_type": "code",
   "execution_count": 18,
   "id": "0d693d94",
   "metadata": {},
   "outputs": [
    {
     "data": {
      "text/plain": [
       "array([4, 9])"
      ]
     },
     "execution_count": 18,
     "metadata": {},
     "output_type": "execute_result"
    }
   ],
   "source": [
    "# NumPy built-in function for matrix multiplication\n",
    "np.matmul(L,x)"
   ]
  },
  {
   "cell_type": "markdown",
   "id": "eaf47c75",
   "metadata": {},
   "source": [
    "__Some other common transformations:__\n",
    "* Rotate to the left:\n",
    "$$\\begin{bmatrix}0 & -1 \\\\ 1 & 0\\end{bmatrix}$$"
   ]
  },
  {
   "cell_type": "code",
   "execution_count": 19,
   "id": "7fe660f1",
   "metadata": {},
   "outputs": [
    {
     "data": {
      "text/plain": [
       "array([-2.,  3.])"
      ]
     },
     "execution_count": 19,
     "metadata": {},
     "output_type": "execute_result"
    }
   ],
   "source": [
    "# Rotate Left\n",
    "A = np.array([[0,-1],\n",
    "              [1, 0]])\n",
    "\n",
    "multiplymatrix(A,x)"
   ]
  },
  {
   "cell_type": "markdown",
   "id": "014f2d3e",
   "metadata": {},
   "source": [
    "* Rotate to the right:\n",
    "$$\\begin{bmatrix}0 & 1 \\\\ -1 & 0\\end{bmatrix}$$"
   ]
  },
  {
   "cell_type": "code",
   "execution_count": 20,
   "id": "1a7db1ae",
   "metadata": {},
   "outputs": [
    {
     "data": {
      "text/plain": [
       "array([ 2., -3.])"
      ]
     },
     "execution_count": 20,
     "metadata": {},
     "output_type": "execute_result"
    }
   ],
   "source": [
    "# Rotate Right\n",
    "A = np.array([[0, 1],\n",
    "              [-1,0]])\n",
    "\n",
    "multiplymatrix(A,x)"
   ]
  },
  {
   "cell_type": "markdown",
   "id": "5bc0229f",
   "metadata": {},
   "source": [
    "* Shear to the right:\n",
    "$$\\begin{bmatrix}1 & 1 \\\\ 0 & 1\\end{bmatrix}$$"
   ]
  },
  {
   "cell_type": "code",
   "execution_count": 21,
   "id": "ecf3d00f",
   "metadata": {},
   "outputs": [
    {
     "data": {
      "text/plain": [
       "array([5., 2.])"
      ]
     },
     "execution_count": 21,
     "metadata": {},
     "output_type": "execute_result"
    }
   ],
   "source": [
    "# Shear Right\n",
    "A = np.array([[1, 1],\n",
    "              [0, 1]])\n",
    "\n",
    "multiplymatrix(A,x)"
   ]
  },
  {
   "cell_type": "markdown",
   "id": "d54cfae2",
   "metadata": {},
   "source": [
    "* Shear to the left:\n",
    "$$\\begin{bmatrix}1 & -1 \\\\ 0 & 1\\end{bmatrix}$$"
   ]
  },
  {
   "cell_type": "code",
   "execution_count": 22,
   "id": "db3347ec",
   "metadata": {},
   "outputs": [
    {
     "data": {
      "text/plain": [
       "array([1., 2.])"
      ]
     },
     "execution_count": 22,
     "metadata": {},
     "output_type": "execute_result"
    }
   ],
   "source": [
    "# Shear Left\n",
    "A = np.array([[1,-1],\n",
    "              [0, 1]])\n",
    "\n",
    "multiplymatrix(A,x)"
   ]
  },
  {
   "cell_type": "markdown",
   "id": "9f57b77b",
   "metadata": {},
   "source": [
    "### Matrix Multiplication"
   ]
  },
  {
   "cell_type": "code",
   "execution_count": 23,
   "id": "e8ca922e",
   "metadata": {},
   "outputs": [
    {
     "ename": "SyntaxError",
     "evalue": "invalid syntax (2921139833.py, line 5)",
     "output_type": "error",
     "traceback": [
      "\u001b[0;36m  Input \u001b[0;32mIn [23]\u001b[0;36m\u001b[0m\n\u001b[0;31m    s[i][j] +=\u001b[0m\n\u001b[0m               ^\u001b[0m\n\u001b[0;31mSyntaxError\u001b[0m\u001b[0;31m:\u001b[0m invalid syntax\n"
     ]
    }
   ],
   "source": [
    "# Still working on this function\n",
    "\n",
    "# def multiply2matrices(A,B):\n",
    "#     s = np.zeros_like(B)\n",
    "#     for i in range(len(A[:,0])):\n",
    "#         for j in range(len(A[0,:])):\n",
    "#             s[i][j] += \n",
    "#     return s"
   ]
  },
  {
   "cell_type": "code",
   "execution_count": 30,
   "id": "1004a44a",
   "metadata": {},
   "outputs": [],
   "source": [
    "L = np.array([[2,-1],\n",
    "              [1,3]])\n",
    "\n",
    "M = np.array([[1,2],\n",
    "              [3,4]])"
   ]
  },
  {
   "cell_type": "code",
   "execution_count": null,
   "id": "c6eccd26",
   "metadata": {},
   "outputs": [],
   "source": [
    "# Using our function:\n",
    "multiply2matrices(L,M)"
   ]
  },
  {
   "cell_type": "code",
   "execution_count": 31,
   "id": "3989659a",
   "metadata": {},
   "outputs": [
    {
     "data": {
      "text/plain": [
       "array([[-1,  0],\n",
       "       [10, 14]])"
      ]
     },
     "execution_count": 31,
     "metadata": {},
     "output_type": "execute_result"
    }
   ],
   "source": [
    "# NumPy built-in function for matrix multiplication\n",
    "np.matmul(L,B)"
   ]
  }
 ],
 "metadata": {
  "kernelspec": {
   "display_name": "Python 3 (ipykernel)",
   "language": "python",
   "name": "python3"
  },
  "language_info": {
   "codemirror_mode": {
    "name": "ipython",
    "version": 3
   },
   "file_extension": ".py",
   "mimetype": "text/x-python",
   "name": "python",
   "nbconvert_exporter": "python",
   "pygments_lexer": "ipython3",
   "version": "3.9.14"
  },
  "vscode": {
   "interpreter": {
    "hash": "1c3b4ec50ccf284dd362e349fb7b4805a9e338df2b2ffaff49cb8c015a0bd926"
   }
  }
 },
 "nbformat": 4,
 "nbformat_minor": 5
}
