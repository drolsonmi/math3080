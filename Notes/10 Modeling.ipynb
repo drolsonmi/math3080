{
 "cells": [
  {
   "cell_type": "markdown",
   "id": "4e32575f-74a6-4227-b05a-3ae6c237f18c",
   "metadata": {
    "id": "4e32575f-74a6-4227-b05a-3ae6c237f18c"
   },
   "source": [
    "# 10 Modeling and Machine Learning\n",
    "__Math 3080: Fundamentals of Data Science__\n",
    "\n",
    "Reading:\n",
    "* Grus, Chapter 11 Machine Learning\n",
    "\n",
    "Outline:\n",
    "* What is a Model?\n",
    "* What is Machine Learning?\n",
    "  * Supervised/Unsupervised Learning\n",
    "  * Batch/Online Learning\n",
    "  * Instance-/Model-based Learning\n",
    "* Overfitting and Underfitting\n",
    "  * Bias-Variance Tradeoff\n",
    "  * Correctness\n",
    "* Feature Extraction / Dimensionality Reduction"
   ]
  },
  {
   "cell_type": "markdown",
   "id": "e4351c91-d8d9-4d6f-ba96-84eaf5f9e707",
   "metadata": {
    "id": "e4351c91-d8d9-4d6f-ba96-84eaf5f9e707"
   },
   "source": [
    "-----\n",
    "# What is a Model?\n",
    "* \"A mathematical (or probabilistic) relationship that exists between variables\"\n",
    "* A mathematical formula that describes patterns in data\n",
    "* Used to predict the outcome of specific inputs"
   ]
  },
  {
   "cell_type": "markdown",
   "id": "a2d21dc6-2ad5-4ca8-b2cd-f737fdd29860",
   "metadata": {
    "id": "a2d21dc6-2ad5-4ca8-b2cd-f737fdd29860"
   },
   "source": [
    "# What is Machine Learning?\n",
    "* \"Creating and using models that are *learned from data*\"\n",
    "* \"Use existing data to develop models that we can use to *predict* various outcomes\"\n",
    "\n",
    "Machine Learning needs to be:\n",
    "* useful for future\n",
    "* accurate\n",
    "* fast\n",
    "* __generalizable__\n",
    "* __interpretable__\n",
    "  * People want to know how you got your results, but they don't want details\n",
    "* __certifiable/guaranteed__\n",
    "\n",
    "Three different categories of ML Algorithms\n",
    "1. Supervision (does the data have labels or not?)\n",
    "2. Online vs. Batch Learning (can it learn on the fly?)\n",
    "3. Instance-based vs. Model-based Learning (how does it use new data?)\n",
    "\n",
    "The criteria are not exclusive - all models can be described by each of these categories."
   ]
  },
  {
   "cell_type": "markdown",
   "id": "6a306fcf-2e7c-429d-8831-cd4e4c9b77ad",
   "metadata": {
    "id": "6a306fcf-2e7c-429d-8831-cd4e4c9b77ad"
   },
   "source": [
    "## Supervised/Unsupervised Learning\n",
    "* Supervised learning (Labelled Data)\n",
    "  * Classification (Discrete Data)\n",
    "  * Regression (Continuous Data)\n",
    "* Unsupervised learning (Unlabelled Data)\n",
    "  * Clustering (Discrete Data)\n",
    "  * Visualization and Dimensionality Reduction (Continuous Data)\n",
    "  * Anomaly Detection and Novelty Detection\n",
    "  * Association Rule Learning\n",
    "* Semisupervised learning (Partly automated, with some labels inserted at some point)\n",
    "\n",
    "Flow Chart of [Types of Machine Learning 2 by Steve Brunton](https://youtu.be/0_lKUPYEYyY?t=209)\n",
    "* System (Training Data)\n",
    "  * Labeled?\n",
    "    * Yes: Supervised\n",
    "      * Discrete or Continuous?\n",
    "        * Discrete: Classification\n",
    "        * Continuous: Regression\n",
    "    * No: Unsupervised\n",
    "      * Often is what is referred to as \"data mining\"\n",
    "      * Discrete or Continuous?\n",
    "        * Discrete: Clustering\n",
    "        * Continuous: Embedding (a.k.a. Feature Extraction, Dimensionality Reduction, Dimension Extraction, Pattern Extraction)\n",
    "    * Partial: Semi-supervised\n",
    "      * Model or Modify?\n",
    "        * Model: Generative Models\n",
    "        * Modify\n",
    "          * --> Loops back to System\n",
    "          \n"
   ]
  },
  {
   "cell_type": "markdown",
   "id": "6c9610ce-a9fd-482b-ae8a-661402be5d41",
   "metadata": {
    "id": "6c9610ce-a9fd-482b-ae8a-661402be5d41"
   },
   "source": [
    "## Batch/Online Learning\n",
    "__Batch Learning__ or __Offline Learning__\n",
    "\n",
    "All data is provided which you use to train a model. The model is the rolled out and runs without further learning. Also known as *offline learning*. If you get more data, then you re-train your model (with old data + new data), and roll out the upgraded model.\n",
    "\n",
    "* Advantages\n",
    "  * Automated - just run the program with each new dataset\n",
    "* Disadvantages\n",
    "  * Time-intensive - Each training often takes many hours\n",
    "  * Resource-intensive - Often requires a lot of CPU, memore, disk space, etc.\n",
    "  * If automated, it needs to carry the data with it (think of a rover on Mars or on the Moon, or of your smartphone)\n",
    "  \n",
    "__Incremental Learning__ or __Online Learning__\n",
    "\n",
    "Train the system incrementally by feeding it data instances\n",
    "* Individual data instances\n",
    "* Mini-batches (small groups of data instances)\n",
    "Run the data with a few small groups, then it can continue to process new data as a new mini-batch.\n",
    "* Great for systems that receive data as a continuous flow (stock, weather, etc.) that need to adapt rapidly and autonomously\n",
    "* Great if you are limited on resources\n",
    "  * Even if you are offline, you can use online learning algorithms on huge datasets\n",
    "  \n",
    "The speed at which the system adapts: __Learning Rate__\n",
    "* High rates adapt quickly, but tend to also forget old data quickly\n",
    "* Slow rates will cause the model to learn more slowly, but will have less noise\n",
    "\n",
    "Disadvantage to Online Learning:\n",
    "* Any bad data will quickly cause model's performance to decline\n",
    "  * Watch data to switch learning off whenever bad data starts coming in"
   ]
  },
  {
   "cell_type": "markdown",
   "id": "a6b0f3ae-9a42-40bc-a545-208ca1eb484b",
   "metadata": {
    "id": "a6b0f3ae-9a42-40bc-a545-208ca1eb484b"
   },
   "source": [
    "## Instance-based vs Model-based Learning\n",
    "Having a good performance measure on the training data is good, but insufficient; the true goal is to perform well on new instances.\n",
    "\n",
    "### Instance-based Learning\n",
    "The system learns the examples by heart, then generalizes to new cases by comparing them to the learned examples.\n",
    "* Results of a model are based on the similarity to other data\n",
    "* Most of the pictures are cats, so this must be a cat, too.\n",
    "\n",
    "### Model-based Learning\n",
    "Build a model from a set of examples, then use that model to make *predictions*.\n",
    "\n",
    "Steps for model-based learning:\n",
    "1. Study the data\n",
    "2. Model Selection - What type of model do you want? Linear Regression? \n",
    "   1. Define Parameters\n",
    "      * By convention, $\\theta$ is used to represent model parameters\n",
    "      * Which variables serve as inputs and which will be the output?\n",
    "   2. Specify a performance measure\n",
    "      * A *utility function* (or *fitness function*) measures how good the model is\n",
    "      * A *cost function* measures how bad the model is\n",
    "3. Train your model\n",
    "   * Train the model based on some data\n",
    "   * Test the model on some unused data\n",
    "4. Run the model to make predictions"
   ]
  },
  {
   "cell_type": "markdown",
   "id": "2b7ade83-9689-4507-9006-aa43a56d90e7",
   "metadata": {
    "id": "2b7ade83-9689-4507-9006-aa43a56d90e7"
   },
   "source": [
    "# Overfitting and Underfitting\n",
    "![Figure 11-1 from Grus' Data Science from Scratch textbook](https://learning.oreilly.com/api/v2/epubs/urn:orm:book:9781492041122/files/assets/dsf2_1101.png)\n",
    "\n",
    "How do we know whether our model is overfitting, underfitting, or is a good balance? We will look at this in two ways:\n",
    "* Bias-Variance Tradeoff\n",
    "* Correctness"
   ]
  },
  {
   "cell_type": "markdown",
   "id": "d185b18c-b1ed-4d9b-aa14-29ca3374eb40",
   "metadata": {
    "id": "d185b18c-b1ed-4d9b-aa14-29ca3374eb40"
   },
   "source": [
    "## Bias-Variance Tradeoff\n",
    "* High bias and low variance correspond to underfitting\n",
    "* Low bias but very high variance corresponds to overfitting"
   ]
  },
  {
   "cell_type": "markdown",
   "id": "45f8f38c-4c6f-438f-baa6-04d321e56e9d",
   "metadata": {
    "id": "45f8f38c-4c6f-438f-baa6-04d321e56e9d"
   },
   "source": [
    "## Correctness\n",
    "* Confusion Matrix\n",
    "\n",
    "|                     | Positive Value | Negative Value |\n",
    "| ------------------- | -------------- | -------------- |\n",
    "| Positive Prediction | True positive  | False positive<br>Type I Error |\n",
    "| Negative Prediction | False negative<br>Type II Error | True negative  |\n",
    "\n",
    "A new test to see if someone has leukemia: their name is \"Luke\" since it sounds similar. Here's some data:\n",
    "\n",
    "|          | Has leukemia | No leukemia | Total           |\n",
    "| -------- | :----------: | :---------: | :-------------: |\n",
    "| Luke     | 70           | 4,930       | __5,000__       |\n",
    "| Not Luke | 13,930       | 981,070     | __995,000__     |\n",
    "| *Total*  | *14,000*     | *986,000*   | __*1,000,000*__ |\n",
    "\n",
    "* Accuracy\n",
    "\n",
    "|                     | Positive Value           | Negative Value               |\n",
    "| ------------------- | ------------------------ | ---------------------------- |\n",
    "| Positive Prediction | __*True positive*__ (70) | *False positive* (4930)      |\n",
    "| Negative Prediction | *False negative* (13930) | __*True negative*__ (981070) |\n",
    "\n",
    "$$Accuracy = \\frac{Correct~Predictions}{All~Values} = \\frac{tp+tn}{tp+fp+fn+tn}$$\n"
   ]
  },
  {
   "cell_type": "code",
   "execution_count": null,
   "id": "3838513c",
   "metadata": {
    "id": "3838513c",
    "outputId": "7bf4cdbf-b01f-4d18-f4ff-2cf14090e19c"
   },
   "outputs": [
    {
     "data": {
      "text/plain": [
       "0.98114"
      ]
     },
     "execution_count": 37,
     "metadata": {},
     "output_type": "execute_result"
    }
   ],
   "source": [
    "def accuracy(tp,fp,fn,tn):\n",
    "    return (tp+tn)/(tp+fp+fn+tn)\n",
    "\n",
    "accuracy(70,4930,13930,981070)"
   ]
  },
  {
   "cell_type": "markdown",
   "id": "098aec97",
   "metadata": {
    "id": "098aec97"
   },
   "source": [
    "There are better measures of how good the results are:\n",
    "* Precision\n",
    "\n",
    "|                     | Positive Value           | Negative Value          |\n",
    "| ------------------- | ------------------------ | ----------------------- |\n",
    "| Positive Prediction | __*True positive*__ (70) | *False positive* (4930) |\n",
    "| Negative Prediction | False negative           | True negative           |\n",
    "\n",
    "$$Precision = \\frac{True~Positives}{Positive~Predictions} = \\frac{tp}{tp+fp}$$"
   ]
  },
  {
   "cell_type": "code",
   "execution_count": null,
   "id": "7699047e",
   "metadata": {
    "id": "7699047e",
    "outputId": "f95e967b-3ceb-4695-88bf-5199c2f065a5"
   },
   "outputs": [
    {
     "data": {
      "text/plain": [
       "0.014"
      ]
     },
     "execution_count": 38,
     "metadata": {},
     "output_type": "execute_result"
    }
   ],
   "source": [
    "def precision(tp,fp):\n",
    "    return tp/(tp+fp)\n",
    "\n",
    "precision(70,4930)"
   ]
  },
  {
   "cell_type": "markdown",
   "id": "7105ac6a",
   "metadata": {
    "id": "7105ac6a"
   },
   "source": [
    "\n",
    "* Recall\n",
    "\n",
    "|                     | Positive Value           | Negative Value |\n",
    "| ------------------- | ------------------------ | -------------- |\n",
    "| Positive Prediction | __*True positive*__ (70) | False positive |\n",
    "| Negative Prediction | *False negative* (13930) | True negative  |\n",
    "\n",
    "$$Recall = \\frac{True~Positives}{Positive~Values}$$\n"
   ]
  },
  {
   "cell_type": "code",
   "execution_count": null,
   "id": "9e9b4499",
   "metadata": {
    "id": "9e9b4499",
    "outputId": "c3e05e3b-0974-4814-af6d-5b62eb3e5796"
   },
   "outputs": [
    {
     "data": {
      "text/plain": [
       "0.005"
      ]
     },
     "execution_count": 39,
     "metadata": {},
     "output_type": "execute_result"
    }
   ],
   "source": [
    "def recall(tp,fn):\n",
    "    return tp/(tp+fn)\n",
    "\n",
    "recall(70,13930)"
   ]
  },
  {
   "cell_type": "markdown",
   "id": "ff925dd5",
   "metadata": {
    "id": "ff925dd5"
   },
   "source": [
    "\n",
    "* Harmonic Mean (a.k.a. *F1* score)\n",
    "$$F1 = \\frac{2*precision*recall}{precision+recall}$$"
   ]
  },
  {
   "cell_type": "code",
   "execution_count": null,
   "id": "2fe1ec99",
   "metadata": {
    "id": "2fe1ec99",
    "outputId": "4be7744b-3ac7-4b3a-b401-8c448586e209"
   },
   "outputs": [
    {
     "name": "stdout",
     "output_type": "stream",
     "text": [
      "Accuracy:  0.98114\n",
      "Precision: 0.014\n",
      "Recall:    0.005\n",
      "F1 score:  0.00736842105263158\n"
     ]
    }
   ],
   "source": [
    "def scores(tp,fp,fn,tn):\n",
    "    pre = precision(tp,fp)\n",
    "    rec = recall(tp,fn)\n",
    "    print(\"Accuracy:  {0}\".format(accuracy(tp,fp,fn,tn)))\n",
    "    print(\"Precision: {0}\".format(pre))\n",
    "    print(\"Recall:    {0}\".format(rec))\n",
    "    print(\"F1 score:  {0}\".format(2*pre*rec/(pre+rec)))\n",
    "\n",
    "scores(70,4930,13930,981070)"
   ]
  },
  {
   "cell_type": "markdown",
   "id": "ba99ba69",
   "metadata": {
    "id": "ba99ba69"
   },
   "source": [
    "The choice of your model is usually based on the tradeoff of these measures. Some models will tend to say \"yes\" more, so has a tendency to give false positives. Other models may say \"no\" more, so has a tendency to give false negatives. The choice of model will involve a balance of precision and recall. In other words, we choose the model that will maximize the *F1* score."
   ]
  },
  {
   "cell_type": "markdown",
   "id": "U8XzaQUU3OrE",
   "metadata": {
    "id": "U8XzaQUU3OrE"
   },
   "source": [
    "#### Example of calculating Correctness\n",
    "You want to see if doughnut shops increase sales during finals week. You create a model to predict whether a particular store will see an increase in sales, then afterwards obtain data from them. Here are the results:\n",
    "\n",
    "|                       | Sales increased | Sales didn't increase |\n",
    "| --------------------- | --------------- | --------------------- |\n",
    "| Increase Predicted    | 42              | 21                    |\n",
    "| No increase Predicted | 7               | 30                    |\n",
    "\n",
    "Calculate the accuracy, precision, recall, and F1 score of your model predictions."
   ]
  },
  {
   "cell_type": "markdown",
   "id": "ed8c1f2f-482d-4ed7-a3c8-c33a16cd14c3",
   "metadata": {
    "id": "ed8c1f2f-482d-4ed7-a3c8-c33a16cd14c3"
   },
   "source": [
    "# Feature Extraction\n",
    "Sometimes, the data isn't very clear, and it is hard to tell what influences the data. This is where we start looking for features. A __feature__ is an input we provide to our model. Some features/inputs will have a large effect on the model, others will not. For example, \n",
    "* the number of hours worked is a large feature in an employee's salary\n",
    "* the exact task the employee is doing may not be as large a feature in the salary\n",
    "\n",
    "Here is another example. We can detect whether an email is Spam or not.\n",
    "* Does the email contain the word *prince*?\n",
    "* Does the email contain the word *Mongolia*?\n",
    "* Does the email contain the phrase *Prince of Mongolia*?\n",
    "* How many times does the letter *d* appear?\n",
    "* What was the domain of the sender?\n",
    "\n",
    "The answers to these questions could be Yes or No (1 or 0), a number, or a choice from a set of options. This is typical of feature extraction.\n"
   ]
  },
  {
   "cell_type": "markdown",
   "id": "9845becd-5396-4f14-8470-54675973f8c3",
   "metadata": {
    "id": "9845becd-5396-4f14-8470-54675973f8c3"
   },
   "source": [
    "# Machine Learning Models we will look at\n",
    "* Linear Regression (Grus, Chapters 14-15)\n",
    "* Logistic Regression (Grus, Chapter 16)\n",
    "* Decision Trees (Grus, Chapter 17)\n",
    "* If we have time:\n",
    "  * k-Nearest Neighbors (Grus, Chapter 12)\n",
    "  * Naive-Bayes (Grus, Chapter 13)"
   ]
  }
 ],
 "metadata": {
  "colab": {
   "provenance": []
  },
  "kernelspec": {
   "display_name": "Python 3 (ipykernel)",
   "language": "python",
   "name": "python3"
  },
  "language_info": {
   "codemirror_mode": {
    "name": "ipython",
    "version": 3
   },
   "file_extension": ".py",
   "mimetype": "text/x-python",
   "name": "python",
   "nbconvert_exporter": "python",
   "pygments_lexer": "ipython3",
   "version": "3.9.14"
  }
 },
 "nbformat": 4,
 "nbformat_minor": 5
}
