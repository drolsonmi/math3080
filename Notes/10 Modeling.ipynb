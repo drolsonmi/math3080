{
 "cells": [
  {
   "cell_type": "markdown",
   "id": "4e32575f-74a6-4227-b05a-3ae6c237f18c",
   "metadata": {},
   "source": [
    "# 10 Modeling and Machine Learning\n",
    "__Math 3080: Fundamentals of Data Science__\n",
    "\n",
    "Reading:\n",
    "* Grus, Chapter 11 Machine Learning\n",
    "\n",
    "Outline:\n",
    "* What is a Model?\n",
    "* What is Machine Learning?\n",
    "  * Supervised/Unsupervised Learning\n",
    "  * Batch/Online Learning\n",
    "  * Instance-/Model-based Learning\n",
    "* Overfitting and Underfitting\n",
    "  * Bias-Variance Tradeoff\n",
    "  * Correctness\n",
    "* Feature Extraction / Dimensionality Reduction"
   ]
  },
  {
   "cell_type": "markdown",
   "id": "e4351c91-d8d9-4d6f-ba96-84eaf5f9e707",
   "metadata": {},
   "source": [
    "-----\n",
    "# What is a Model?\n",
    "* \"A mathematical (or probabilistic) relationship that exists between variables\"\n",
    "* A mathematical formula that describes patterns in data\n",
    "* Used to predict the outcome of specific inputs"
   ]
  },
  {
   "cell_type": "markdown",
   "id": "a2d21dc6-2ad5-4ca8-b2cd-f737fdd29860",
   "metadata": {},
   "source": [
    "# What is Machine Learning?\n",
    "* \"Creating and using models that are *learned from data*\"\n",
    "* \"Use existing data to develop models that we can use to *predict* various outcomes\"\n",
    "\n",
    "Machine Learning needs to be:\n",
    "* useful for future\n",
    "* accurate\n",
    "* fast\n",
    "* __generalizable__\n",
    "* __interpretable__\n",
    "  * People want to know how you got your results, but they don't want details\n",
    "* __certifiable/guaranteed__\n",
    "\n",
    "Three different categories of ML Algorithms\n",
    "1. Supervision (does the data have labels or not?)\n",
    "2. Online vs. Batch Learning (can it learn on the fly?)\n",
    "3. Instance-based vs. Model-based Learning (how does it use new data?)\n",
    "\n",
    "The criteria are not exclusive - all models can be described by each of these categories."
   ]
  },
  {
   "cell_type": "markdown",
   "id": "6a306fcf-2e7c-429d-8831-cd4e4c9b77ad",
   "metadata": {},
   "source": [
    "## Supervised/Unsupervised Learning\n",
    "* Supervised learning (Labelled Data)\n",
    "  * Classification (Discrete Data)\n",
    "  * Regression (Continuous Data)\n",
    "* Unsupervised learning (Unlabelled Data)\n",
    "  * Clustering (Discrete Data)\n",
    "  * Visualization and Dimensionality Reduction (Continuous Data)\n",
    "  * Anomaly Detection and Novelty Detection\n",
    "  * Association Rule Learning\n",
    "* Semisupervised learning (Partly automated, with some labels inserted at some point)\n",
    "\n",
    "Flow Chart of [Types of Machine Learning 2 by Steve Brunton](https://youtu.be/0_lKUPYEYyY?t=209)\n",
    "* System (Training Data)\n",
    "  * Labeled?\n",
    "    * Yes: Supervised\n",
    "      * Discrete or Continuous?\n",
    "        * Discrete: Classification\n",
    "        * Continuous: Regression\n",
    "    * No: Unsupervised\n",
    "      * Often is what is referred to as \"data mining\"\n",
    "      * Discrete or Continuous?\n",
    "        * Discrete: Clustering\n",
    "        * Continuous: Embedding (a.k.a. Feature Extraction, Dimensionality Reduction, Dimension Extraction, Pattern Extraction)\n",
    "    * Partial: Semi-supervised\n",
    "      * Model or Modify?\n",
    "        * Model: Generative Models\n",
    "        * Modify\n",
    "          * --> Loops back to System\n",
    "          \n"
   ]
  },
  {
   "cell_type": "markdown",
   "id": "6c9610ce-a9fd-482b-ae8a-661402be5d41",
   "metadata": {},
   "source": [
    "## Batch/Online Learning\n",
    "__Batch Learning__ or __Offline Learning__\n",
    "\n",
    "All data is provided which you use to train a model. The model is the rolled out and runs without further learning. Also known as *offline learning*. If you get more data, then you re-train your model (with old data + new data), and roll out the upgraded model.\n",
    "\n",
    "* Advantages\n",
    "  * Automated - just run the program with each new dataset\n",
    "* Disadvantages\n",
    "  * Time-intensive - Each training often takes many hours\n",
    "  * Resource-intensive - Often requires a lot of CPU, memore, disk space, etc.\n",
    "  * If automated, it needs to carry the data with it (think of a rover on Mars or on the Moon, or of your smartphone)\n",
    "  \n",
    "__Incremental Learning__ or __Online Learning__\n",
    "\n",
    "Train the system incrementally by feeding it data instances\n",
    "* Individual data instances\n",
    "* Mini-batches (small groups of data instances)\n",
    "Run the data with a few small groups, then it can continue to process new data as a new mini-batch.\n",
    "* Great for systems that receive data as a continuous flow (stock, weather, etc.) that need to adapt rapidly and autonomously\n",
    "* Great if you are limited on resources\n",
    "  * Even if you are offline, you can use online learning algorithms on huge datasets\n",
    "  \n",
    "The speed at which the system adapts: __Learning Rate__\n",
    "* High rates adapt quickly, but tend to also forget old data quickly\n",
    "* Slow rates will cause the model to learn more slowly, but will have less noise\n",
    "\n",
    "Disadvantage to Online Learning:\n",
    "* Any bad data will quickly cause model's performance to decline\n",
    "  * Watch data to switch learning off whenever bad data starts coming in"
   ]
  },
  {
   "cell_type": "markdown",
   "id": "a6b0f3ae-9a42-40bc-a545-208ca1eb484b",
   "metadata": {},
   "source": [
    "## Instance-based vs Model-based Learning\n",
    "Having a good performance measure on the training data is good, but insufficient; the true goal is to perform well on new instances.\n",
    "\n",
    "### Instance-based Learning\n",
    "The system learns the examples by heart, then generalizes to new cases by comparing them to the learned examples.\n",
    "* Results of a model are based on the similarity to other data\n",
    "* Most of the pictures are cats, so this must be a cat, too.\n",
    "\n",
    "### Model-based Learning\n",
    "Build a model from a set of examples, then use that model to make *predictions*.\n",
    "\n",
    "Steps for model-based learning:\n",
    "1. Study the data\n",
    "2. Model Selection - What type of model do you want? Linear Regression? \n",
    "   1. Define Parameters\n",
    "      * By convention, $\\theta$ is used to represent model parameters\n",
    "      * Which variables serve as inputs and which will be the output?\n",
    "   2. Specify a performance measure\n",
    "      * A *utility function* (or *fitness function*) measures how good the model is\n",
    "      * A *cost function* measures how bad the model is\n",
    "3. Train your model\n",
    "   * Train the model based on some data\n",
    "   * Test the model on some unused data\n",
    "4. Run the model to make predictions"
   ]
  },
  {
   "cell_type": "markdown",
   "id": "2b7ade83-9689-4507-9006-aa43a56d90e7",
   "metadata": {},
   "source": [
    "# Overfitting and Underfitting\n",
    "![Figure 11-1 from Grus' Data Science from Scratch textbook](https://learning.oreilly.com/api/v2/epubs/urn:orm:book:9781492041122/files/assets/dsf2_1101.png)"
   ]
  },
  {
   "cell_type": "markdown",
   "id": "d185b18c-b1ed-4d9b-aa14-29ca3374eb40",
   "metadata": {},
   "source": [
    "## Bias-Variance Tradeoff\n",
    "* High bias and low variance correspond to underfitting\n",
    "* Low bias but very high variance corresponds to overfitting"
   ]
  },
  {
   "cell_type": "markdown",
   "id": "45f8f38c-4c6f-438f-baa6-04d321e56e9d",
   "metadata": {},
   "source": [
    "## Correctness\n",
    "* Confusion Matrix\n",
    "* Accuracy\n",
    "* Precision\n",
    "* Recall\n",
    "* Harmonic Mean"
   ]
  },
  {
   "cell_type": "markdown",
   "id": "ed8c1f2f-482d-4ed7-a3c8-c33a16cd14c3",
   "metadata": {},
   "source": [
    "# Feature Extraction"
   ]
  },
  {
   "cell_type": "markdown",
   "id": "9845becd-5396-4f14-8470-54675973f8c3",
   "metadata": {},
   "source": [
    "# Machine Learning Models we will look at\n",
    "* Linear Regression\n",
    "* Logistic Regression\n",
    "* Decision Trees\n",
    "* If we have time:\n",
    "  * k-Nearest Neighbors\n",
    "  * Naive-Bayes "
   ]
  },
  {
   "cell_type": "markdown",
   "id": "4229ff31-487f-4962-9eb0-f6e6fb5d4b29",
   "metadata": {},
   "source": []
  },
  {
   "cell_type": "code",
   "execution_count": null,
   "id": "b82d7c8d-cc01-4ddc-9755-fc6b47284ceb",
   "metadata": {},
   "outputs": [],
   "source": []
  },
  {
   "cell_type": "markdown",
   "id": "73d8ce7a-4680-45e1-8122-dc84cd2b239f",
   "metadata": {},
   "source": []
  }
 ],
 "metadata": {
  "kernelspec": {
   "display_name": "Python 3 (ipykernel)",
   "language": "python",
   "name": "python3"
  },
  "language_info": {
   "codemirror_mode": {
    "name": "ipython",
    "version": 3
   },
   "file_extension": ".py",
   "mimetype": "text/x-python",
   "name": "python",
   "nbconvert_exporter": "python",
   "pygments_lexer": "ipython3",
   "version": "3.9.14"
  }
 },
 "nbformat": 4,
 "nbformat_minor": 5
}
