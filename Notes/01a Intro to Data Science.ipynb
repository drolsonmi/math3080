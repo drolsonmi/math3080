{
 "cells": [
  {
   "cell_type": "markdown",
   "id": "a64d8ebd-06bd-4155-9657-115cd5f9948a",
   "metadata": {},
   "source": [
    "# 01 Introduction to Data Science\n",
    "__Math 3080: Fundamentals of Data Science__\n",
    "\n",
    "Reading: Grus, *Data Science from Scratch*, Chapter 1"
   ]
  },
  {
   "cell_type": "markdown",
   "id": "61f94845-9d86-4d77-b13b-16f24c502518",
   "metadata": {},
   "source": [
    "## What is Data Science?\n",
    "* What is Statistics?\n",
    "  * Answering a question by infering information from Data\n",
    "    * It is important to ask the \"right\" questions\n",
    "    * Determine what data is needed to answer the question\n",
    "  * Who won the election?\n",
    "  * Confidence Interval and Hypothesis Test\n",
    "* What is Data Science?\n",
    "  * The Science of how to best handle data\n",
    "    * *Brunton*: How to collect, clean, store, visualize, and model data\n",
    "    * *Leskovec*: How to use the most powerful hardware, the most powerful programming systems, and the most efficient algorithms to solve problems in science, commerce, healthcare, government, the humanities, and many other fields of human endeavor.\n",
    "  * Field is changing quickly\n",
    "  * Have been doing this for 1,000's of years\n",
    "    * Tico Bray saw a need for better data on the motion of planets.\n",
    "    * Kepler used the data to show the elliptical orbits\n",
    "    * Newton used Bray's data and Kepler's model to explain why the planets move the way they do.\n",
    "      * Preponderance of the evidence\n",
    "  * Stages of Data Science\n",
    "    1. Gathering of Data (Collecting, curating, cleaning)\n",
    "    2. Analysis of Data (visualization, analysis, modeling (machine learning))\n",
    "    3. Explanation of Data (Cleaning and Presenting the visuals with explanations)\n",
    "  * Most machine learning takes up Kepler's role - come up with a general model to explain how things work\n",
    "  * Most of our work as data scientists is in the first stage - collecting and cleaning the data\n",
    "* What is a Data Scientist?\n",
    "  * This can be difficult to answer, and the answer depends on what the person is trying to do\n",
    "      * Someone who extracts insights from messy data\n",
    "  * Most experts follow a T-shape (general knowledge of many fields, but a depth of knowledge in one field)\n",
    "  * Data scientists need to follow pi-model (depth in main field, but a second depth in data science as well)\n",
    "  * Important aspects of Data Science\n",
    "    * Reproducibility "
   ]
  },
  {
   "cell_type": "markdown",
   "id": "7579d44f-595d-4fc1-b494-cc57e62d272d",
   "metadata": {},
   "source": [
    "## Setup of courses\n",
    "We are going to learn Data Science in 3 courses\n",
    "\n",
    "* __Math 2080 Applied Data Science / Math 3080 Foundations of Data Science__\n",
    "  * How to obtain data\n",
    "  * How to clean/edit data\n",
    "  * How to graph data\n",
    "  * Some work on models and Machine Learning\n",
    "* __Math 3280 Data Mining__\n",
    "  * How to manage large datasets and files\n",
    "  * Server management\n",
    "* __Math 3480 Machine Learning__\n",
    "  * How to train computers to make predictions based on previously obtained data\n",
    "\n",
    "\n",
    "For Math 2080/3080, we have two things we have to learn, but not enough time to learn it all:\n",
    "\n",
    "1. Fundamentals of Data Science\n",
    "2. Python programming\n",
    "    * The point of this course is to learn the fundamentals of data science\n",
    "    * Python is just a tool that we are going to use\n",
    "    * Homework assignments will be courses within DataCamp to help learn the language so that we can focus on the fundamentals in the classroom\n",
    "    * In addition to DataCamp, we also have Chapter 2 of the Grus textbook, as well as nearly the entire *Python for Data Analysis* textbook.\n",
    "    \n",
    "__How much Python experience does the class have?__"
   ]
  },
  {
   "cell_type": "markdown",
   "id": "bb8ff1a3-d762-4be0-a8a7-6970b9b1f1fc",
   "metadata": {},
   "source": [
    "## Textbooks\n",
    "I will be pulling from 3 textbooks, all of which are free:\n",
    "* [Grus, Joel, *Data Science from Scratch*, 2nd Edition, 2019.](https://learning.oreilly.com/library/view/data-science-from/9781492041122/)\n",
    "* [Phillips, Jeff, *Mathematical Foundations for Data Analysis*, v0.6, 2019.](https://mathfordata.github.io/)\n",
    "* [McKinney, Wes, *Python for Data Science*, 3rd Edition, 2022.](https://wesmckinney.com/book/)\n",
    "\n",
    "The third book focuses more on Python, so this is more of a reference for you. We will spend most of our time in the first two books."
   ]
  },
  {
   "cell_type": "markdown",
   "id": "201ee56a-a774-49bb-a748-53521c61f7c4",
   "metadata": {},
   "source": [
    "## DataCamp\n",
    "* Everyone will be sent an email with an invitation to our classroom on DataCamp\n",
    "* Homework assignments will be administered on DataCamp\n",
    "  * Projects will be administered every 2-3 weeks to apply what you are learning\n",
    "* In addition to homework, you will have access to other courses, certification training (and certification exams), competitions, etc.\n",
    "  * Only good for 6 months\n",
    "  * Those continuing on to Math 3280 will receive another invitation to that course to retain access to DataCamp materials"
   ]
  },
  {
   "attachments": {},
   "cell_type": "markdown",
   "id": "fa34cc3f",
   "metadata": {},
   "source": [
    "-----\n",
    "### After Class\n",
    "* Admit all students to *DataCamp* classroom"
   ]
  },
  {
   "cell_type": "markdown",
   "id": "41339582",
   "metadata": {},
   "source": []
  }
 ],
 "metadata": {
  "kernelspec": {
   "display_name": "R",
   "language": "R",
   "name": "ir"
  },
  "language_info": {
   "codemirror_mode": {
    "name": "ipython",
    "version": 3
   },
   "file_extension": ".py",
   "mimetype": "text/x-python",
   "name": "R",
   "nbconvert_exporter": "python",
   "pygments_lexer": "ipython3",
   "version": "3.9.12"
  }
 },
 "nbformat": 4,
 "nbformat_minor": 5
}
