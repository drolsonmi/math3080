{
 "cells": [
  {
   "attachments": {},
   "cell_type": "markdown",
   "metadata": {},
   "source": [
    "# 06 Matrix Modeling\n",
    "__Math 3080: Fundamentals of Data Science__\n",
    "\n",
    "Reading: \n",
    "* Phillips, Chapter 3\n",
    "* [3 Blue 1 Brown YouTube Series on Linear Algebra](https://www.youtube.com/playlist?list=PL0-GT3co4r2y2YErbmuJw2L5tW4Ew2O5B)\n",
    "* Grus, Chapter 4"
   ]
  },
  {
   "attachments": {},
   "cell_type": "markdown",
   "metadata": {},
   "source": [
    "-----\n",
    "__Outline__\n",
    "* Matrix Multiplication\n",
    "* Systems of Equations\n",
    "* Using a Matrix to describe Data\n",
    "* Solving for $\\vec{\\mathbf{x}}$\n",
    "* Creating a Model\n",
    "  * Weather info based on 3 observations of 3 variables: Temperature, Humidity, Pressure\n",
    "  * Weather info based on 5 observations of 3 variables: Temperature, Humidity, Pressure\n",
    "-----"
   ]
  },
  {
   "cell_type": "code",
   "execution_count": null,
   "metadata": {},
   "outputs": [],
   "source": []
  }
 ],
 "metadata": {
  "language_info": {
   "name": "python"
  },
  "orig_nbformat": 4
 },
 "nbformat": 4,
 "nbformat_minor": 2
}
