{
 "cells": [
  {
   "cell_type": "markdown",
   "id": "37a74a53-487d-4225-8b9e-48185a755c2f",
   "metadata": {},
   "source": [
    "# Lecture 13 Intro to Graphing\n",
    "__Math 3080: Fundamentals of Data Science__\n",
    "\n",
    "Reading:\n",
    "* [Irizzary: Chapter 9](https://rafalab.dfci.harvard.edu/dsbook/dataviz-distributions.html)\n",
    "\n",
    "Outline:\n",
    "* Types of Graphs\n",
    "  * Categorical\n",
    "    * Bar graph\n",
    "  * Numerical\n",
    "    * Histogram\n",
    "    * KDE\n",
    "    * Boxplot\n",
    "    * Violinplot\n",
    "    * Scatterplot (Could be Categorical, but...)\n",
    "    * Timeseries\n",
    "    * Regplot\n",
    "    * 2D KDE\n",
    "    * Heatmap\n",
    "* Types of Scales"
   ]
  },
  {
   "cell_type": "code",
   "execution_count": null,
   "id": "e33810d3-366e-4326-abcc-bc33cd0881b5",
   "metadata": {},
   "outputs": [],
   "source": []
  }
 ],
 "metadata": {
  "kernelspec": {
   "display_name": "Python (DS)",
   "language": "python",
   "name": "datascience"
  },
  "language_info": {
   "codemirror_mode": {
    "name": "ipython",
    "version": 3
   },
   "file_extension": ".py",
   "mimetype": "text/x-python",
   "name": "python",
   "nbconvert_exporter": "python",
   "pygments_lexer": "ipython3",
   "version": "3.9.14"
  }
 },
 "nbformat": 4,
 "nbformat_minor": 5
}
