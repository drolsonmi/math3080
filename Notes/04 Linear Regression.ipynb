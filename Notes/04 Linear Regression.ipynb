{
 "cells": [
  {
   "cell_type": "markdown",
   "metadata": {},
   "source": [
    "# 04 Correlation and Linear Regression\n",
    "__Math 3080: Fundamentals of Data Science__\n",
    "\n",
    "Reading:\n",
    "* Grus, Chapter 5 - Statistics\n",
    "* Phillips, Chapter 5 - Linear Regression\n",
    "* Geron, Chapter 4 - Training Models, pp. 111-117\n",
    "\n",
    "Outline:\n",
    "1. Correlation\n",
    "2. Linear Regression\n",
    "3. Multiple Linear Regression\n",
    "4. Error Analysis"
   ]
  },
  {
   "cell_type": "markdown",
   "metadata": {},
   "source": [
    "-----\n",
    "## 4.1 Correlation\n",
    "* Correlation\n",
    "  * How to calculate correlation\n",
    "  $$r=\\frac{1}{n-1}\\sum\\left(\\frac{x-\\bar{x}}{s_x}\\frac{y-\\bar{y}}{s_y}\\right) \\qquad r=\\frac{Cov[X,Y]}{s_xs_y}$$\n",
    "  * Linear algebra methods\n",
    "  $$\\bar{X} = \\vec{x}-\\bar{x} \\qquad \\bar{Y} = \\vec{y}-\\bar{y} \\qquad r = \\frac{1}{n-1}\\frac{\\bar{X}\\cdot\\bar{Y}}{s_xs_y}$$\n",
    "  * Calculating and plotting on Python"
   ]
  },
  {
   "cell_type": "code",
   "execution_count": 1,
   "metadata": {},
   "outputs": [],
   "source": [
    "import numpy as np\n",
    "import matplotlib.pyplot as plt"
   ]
  },
  {
   "cell_type": "code",
   "execution_count": 2,
   "metadata": {},
   "outputs": [],
   "source": [
    "n = 30                               # Number of datapoints\n",
    "m = np.random.randint(1,100)/10.0    # Slope off of which data is based.\n",
    "\n",
    "x = np.random.randint(0,20,n)\n",
    "y = m*x + np.random.randint(2,100,n)/10.0"
   ]
  },
  {
   "cell_type": "code",
   "execution_count": 3,
   "metadata": {},
   "outputs": [
    {
     "data": {
      "image/png": "[encoded data removed]",
      "text/plain": [
       "<Figure size 1200x600 with 1 Axes>"
      ]
     },
     "metadata": {},
     "output_type": "display_data"
    }
   ],
   "source": [
    "fig, ax = plt.subplots(figsize=(12, 6))\n",
    "ax = plt.scatter(x,y)\n",
    "plt.xlim([0,20])\n",
    "plt.ylim([0,(max(y)*1.10)])\n",
    "plt.show()"
   ]
  },
  {
   "cell_type": "code",
   "execution_count": 4,
   "metadata": {},
   "outputs": [
    {
     "data": {
      "text/plain": [
       "0.9988103784539462"
      ]
     },
     "execution_count": 4,
     "metadata": {},
     "output_type": "execute_result"
    }
   ],
   "source": [
    "def correlation(x,y):\n",
    "    x_deviation = x - np.mean(x)\n",
    "    y_deviation = y - np.mean(y)\n",
    "    x_std = np.std(x, ddof=1)      # the ddof indicated degrees of freedom, basically means\n",
    "    y_std = np.std(y, ddof=1)      # we are dividing by n-1. If ddof=0, then we divide by n.\n",
    "    return np.dot(x_deviation,y_deviation)/x_std/y_std/(len(x)-1)\n",
    "\n",
    "correlation(x,y)"
   ]
  },
  {
   "cell_type": "code",
   "execution_count": 5,
   "metadata": {},
   "outputs": [
    {
     "data": {
      "text/plain": [
       "array([[1.        , 0.99881038],\n",
       "       [0.99881038, 1.        ]])"
      ]
     },
     "execution_count": 5,
     "metadata": {},
     "output_type": "execute_result"
    }
   ],
   "source": [
    "np.corrcoef(x,y)"
   ]
  },
  {
   "cell_type": "markdown",
   "metadata": {},
   "source": [
    "We can also find the correlation between vectors within the same dataset (vectors are depicted as rows in this matrix):"
   ]
  },
  {
   "cell_type": "code",
   "execution_count": 6,
   "metadata": {},
   "outputs": [
    {
     "data": {
      "text/plain": [
       "array([[0.993361  , 0.457991  , 0.57786621],\n",
       "       [0.45339194, 0.91514253, 0.59874541],\n",
       "       [0.81693735, 0.60382279, 0.8124561 ],\n",
       "       [0.42687615, 0.89550701, 0.90471317],\n",
       "       [0.19396307, 0.2791255 , 0.25700756]])"
      ]
     },
     "execution_count": 6,
     "metadata": {},
     "output_type": "execute_result"
    }
   ],
   "source": [
    "A = np.random.random((5,3))\n",
    "A"
   ]
  },
  {
   "cell_type": "code",
   "execution_count": 7,
   "metadata": {},
   "outputs": [
    {
     "data": {
      "text/plain": [
       "array([[ 1.        , -0.86816438,  0.68673297, -0.97324747, -0.99927943],\n",
       "       [-0.86816438,  1.        , -0.95694553,  0.73091457,  0.8863753 ],\n",
       "       [ 0.68673297, -0.95694553,  1.        , -0.50134682, -0.71382845],\n",
       "       [-0.97324747,  0.73091457, -0.50134682,  1.        ,  0.96382552],\n",
       "       [-0.99927943,  0.8863753 , -0.71382845,  0.96382552,  1.        ]])"
      ]
     },
     "execution_count": 7,
     "metadata": {},
     "output_type": "execute_result"
    }
   ],
   "source": [
    "np.corrcoef(A)"
   ]
  },
  {
   "cell_type": "markdown",
   "metadata": {},
   "source": [
    "A quick note on causation. If a high correlation is found, the it is tempting to say that the variable A is the reason (or cause) for variable B. This is rarely the case and should never be assumed. For example:\n",
    "* El Nino\n",
    "  * Many are told that El Nino weather events cause weird weather around the world\n",
    "  * El Nino is localized to a relatively small area along the equator in the East Pacific Ocean\n",
    "  * In truth, the global weather patterns that allow an El Nino to form also allow the different weather patterns around the world\n",
    "  * There is a correlation between El Nino and weird weather around the world, but it is *not* a causal relationship\n",
    "\n",
    "Here are a couple of images to help demonstrate this. Ask yourself, \"Is there a correlation? Is that relationship causal?\":\n",
    "\n",
    "<img src=\"https://pbs.twimg.com/media/E3RrIPUXwAUcFGy.jpg:large\" width=230>\n",
    "<img src=\"https://pbs.twimg.com/media/E3hc8WsWUAAsn5Z.jpg\" width=270>"
   ]
  },
  {
   "cell_type": "markdown",
   "metadata": {},
   "source": [
    "## 4.2 Linear Regression\n",
    "If the data form along a line, we could find a line that \"best fits\" the data. By this we mean that the errors (differences between the predicted and true values) are minimized. We will discuss errors next.\n",
    "\n",
    "Note that regression lines aren't always linear. They can often be exponential, logarithmic, quadratic, cubic, or the regression line may follow another n-degree polynomial.\n",
    "\n",
    "To create a line that best fits the data, we need it to follow the form,\n",
    "$$y=ax+b$$\n",
    "where $a$ is the slope and $b$ is the y-intercept. The slope $a$ can be found by looking at how the $x$- and $y$- values compare to the average, and then to each other. We can utilize the dot-product for this, since two values that act similarly will create a large positive product, two values that act in opposite directions will create a large negative product, and two values that aren't dependent of each other give a result close to 0. Once we have the dot product, then we just normalize the result.\n",
    "$$a=\\frac{\\bar{X}\\cdot \\bar{Y}}{||\\bar{X}||^2} \\qquad \\bar{X} = \\left\\{x_i - \\bar{x}\\right\\}, \\bar{Y} = \\left\\{y_i - \\bar{y}\\right\\}$$"
   ]
  },
  {
   "cell_type": "code",
   "execution_count": 8,
   "metadata": {},
   "outputs": [
    {
     "data": {
      "text/plain": [
       "9.6"
      ]
     },
     "execution_count": 8,
     "metadata": {},
     "output_type": "execute_result"
    }
   ],
   "source": [
    "m     # The original slope"
   ]
  },
  {
   "cell_type": "code",
   "execution_count": 9,
   "metadata": {},
   "outputs": [
    {
     "data": {
      "text/plain": [
       "9.632012228811375"
      ]
     },
     "execution_count": 9,
     "metadata": {},
     "output_type": "execute_result"
    }
   ],
   "source": [
    "X_bar = x - np.mean(x)\n",
    "Y_bar = y - np.mean(y)\n",
    "\n",
    "a = X_bar.dot(Y_bar) / X_bar.dot(X_bar)\n",
    "a          # Slope of line-of-best-fit"
   ]
  },
  {
   "cell_type": "markdown",
   "metadata": {},
   "source": [
    "Then, the y-intercept is found by applying the means to our linear equation:\n",
    "$$\\bar{y} = a\\bar{x} + b \\qquad\\to\\qquad b = \\bar{y} - a\\bar{x}$$"
   ]
  },
  {
   "cell_type": "code",
   "execution_count": 10,
   "metadata": {},
   "outputs": [
    {
     "name": "stdout",
     "output_type": "stream",
     "text": [
      "Linear Regression Model:  y = 9.63x + 6.02\n"
     ]
    }
   ],
   "source": [
    "b = np.mean(y) - a*np.mean(x)\n",
    "\n",
    "if np.sign(b) == 1.0:\n",
    "    print(\"Linear Regression Model:  y = {0:.2f}x + {1:.2f}\".format(a,b))\n",
    "elif np.sign(b) == -1.0:\n",
    "    print(\"Linear Regression Model:  y = {0:.2f}x - {1:.2f}\".format(a,abs(b)))"
   ]
  },
  {
   "cell_type": "markdown",
   "metadata": {},
   "source": [
    "Now, we can use this model to predict new values!"
   ]
  },
  {
   "cell_type": "code",
   "execution_count": 15,
   "metadata": {},
   "outputs": [
    {
     "name": "stdout",
     "output_type": "stream",
     "text": [
      "If x = 8.00, then according to our model, y_hat = 83.08\n"
     ]
    }
   ],
   "source": [
    "x_new = np.random.randint(0,20)\n",
    "y_new = a*x_new + b\n",
    "print(\"If x = {0:.2f}, then according to our model, y_hat = {1:.2f}\".format(x_new,y_new))"
   ]
  },
  {
   "cell_type": "code",
   "execution_count": 16,
   "metadata": {},
   "outputs": [
    {
     "data": {
      "image/png": "[encoded data removed]",
      "text/plain": [
       "<Figure size 1200x600 with 1 Axes>"
      ]
     },
     "metadata": {},
     "output_type": "display_data"
    }
   ],
   "source": [
    "fig, ax = plt.subplots(figsize=(12, 6))\n",
    "\n",
    "ax = plt.scatter(x,y)                              # Original Data\n",
    "ax = plt.plot(x,a*x + b,\n",
    "              linestyle=\"--\", color='darkgreen')   # Line of Best Fit\n",
    "ax = plt.scatter(x_new,y_new,color='r', s=75)      # Prediction Point\n",
    "\n",
    "plt.xlim([0,20])\n",
    "plt.ylim([0,(max(y)*1.10)])\n",
    "\n",
    "plt.show()"
   ]
  },
  {
   "attachments": {},
   "cell_type": "markdown",
   "metadata": {},
   "source": [
    "## 4.3 Multi-Dimensional Linear Regression\n",
    "The linear regression method works for one variable $x$. But what if we are working with a vector of data $\\vec{x}$ (for example, height, weight, blood pressure, etc.)? Then we can expand our linear regression model to be:\n",
    "$$\\hat{y} = \\theta_0 + \\theta_1x_1 + \\theta_2x_2 + \\theta_3x_3 + \\dots + \\theta_nx_n$$\n",
    "where $\\hat{y}$ is the predicted value from the model and $n$ is the number of features. The coefficients $\\theta_i$ are known as the __parameters__ for the linear regression equation. $\\theta_0$ is known as the __bias term__, and the parameters $\\left\\{\\theta_1,\\theta_2,\\dots,\\theta_n\\right\\}$ are the __weights__ given to each $x_i$. Using linear algebra, we can simplify this equation down to:\n",
    "$$\\hat{y} = \\vec{\\theta}\\cdot\\vec{x}$$\n",
    "Note: In order to match the dimensions of $\\vec{\\theta} = \\{\\theta_0,\\theta_1,...\\}$, we include an extra term in $\\vec{x} = \\{x_0,x_1,...\\}$, where $x_0=1$.\n",
    "\n",
    "We already looked at creating a multi-dimensional linear regression model when we reviewed linear algebra:\n",
    "$$A\\vec{x} = b \\qquad\\to\\qquad \\vec{x} = A^{-1}b$$\n",
    "However, there is a problem:\n",
    "* $A^{-1}$ must be a square matrix to be invertible\n",
    "* If you have 3 variables, then you limited to 3 datapoints, which is not enough to create a reliable model\n",
    "\n",
    "There are complex ways to calculate this, but when dealing with large amounts of data, it would take months to do by hand. Fortunately, we have an algorithm to simplify this process on the computer. To do this, we use the __normal equation__:\n",
    "$$\\hat{\\theta} = (X^TX)^{-1}X^T\\vec{y}$$\n",
    "$\\hat{\\theta}$ is the set of parameters that minimizes the errors, so becomes our model.\n",
    "\n",
    "__Example__: (Need to create a good example)"
   ]
  },
  {
   "cell_type": "markdown",
   "metadata": {},
   "source": [
    "## 4.4 Error Analysis\n",
    "In order to evaluate how good a model is, we need to measure the errors it produces. No model is perfect, so measuring the amount of error is important to determine how robust the model is.\n",
    "\n",
    "There are three basic error analysis methods we will consider here: \n",
    "1. Mean Absolute Error (MAE)\n",
    "2. Sum of the Squared Errors (SSE)\n",
    "3. Mean Squared Error (MSE) / Root Mean Squared Error (RMSE)\n",
    "\n",
    "But before we do, we have to consider a common problem with errors: testing model on the same data used to train the model. If we use dataset $X$ to train model $M$, then running the data through the model again will give us really good results, since the model was built on that data. We need to create the model on one set of data, then check how good the model is using a second set. So, it is common practice to do the following:\n",
    "* Separate dataset into two groups (70% in training set, 30% in testing set - numbers can easily vary: 75/25, 60/40, ... it depends on how much data you start with)\n",
    "* Use the training set to create the model (testing set isn't even looked at)\n",
    "* Once the model is created, use the testing set to see if the model gives the correct results.\n",
    "\n",
    "For our linear regression model, we have created a model using one training set. Let's consider another set of data to test the model:"
   ]
  },
  {
   "cell_type": "code",
   "execution_count": 18,
   "metadata": {},
   "outputs": [],
   "source": [
    "# Test Set\n",
    "n_test = 5\n",
    "x_test = np.random.randint(0,20,n_test)\n",
    "y_true = m*x_test + np.random.randint(2,100,n_test)/10.0     # True Values\n",
    "\n",
    "# Run your model\n",
    "y_hat = a*x_test + b        # Tested Values"
   ]
  },
  {
   "cell_type": "code",
   "execution_count": 22,
   "metadata": {},
   "outputs": [
    {
     "data": {
      "image/png": "[encoded data removed]",
      "text/plain": [
       "<Figure size 1200x600 with 1 Axes>"
      ]
     },
     "metadata": {},
     "output_type": "display_data"
    }
   ],
   "source": [
    "fig, ax = plt.subplots(figsize=(12, 6))\n",
    "\n",
    "ax = plt.scatter(x_test,y_true)                              # Original Data\n",
    "ax = plt.plot(x,a*x + b,\n",
    "              linestyle=\"--\", color='darkgreen')   # Line of Best Fit\n",
    "ax = plt.scatter(x_test,y_hat,color='r', s=75)      # Prediction Point\n",
    "\n",
    "plt.xlim([0,30])\n",
    "plt.ylim([0,225])#(max(y)*2.10)])\n",
    "\n",
    "plt.show()"
   ]
  },
  {
   "cell_type": "code",
   "execution_count": 23,
   "metadata": {},
   "outputs": [
    {
     "name": "stdout",
     "output_type": "stream",
     "text": [
      "[ 2  8 18 16 16]\n",
      "[ 27.9  77.5 180.1 163.  155.2]\n",
      "[ 25.28295701  83.07503039 179.39515268 160.13112822 160.13112822]\n"
     ]
    }
   ],
   "source": [
    "print(x_test)\n",
    "print(y_true)\n",
    "print(y_hat)"
   ]
  },
  {
   "cell_type": "markdown",
   "metadata": {},
   "source": [
    "### Mean Absolute Error (MAE)\n",
    "The mean absolute error is found by doing the following:\n",
    "* Run the testing set through the model to get results ($y$)\n",
    "* Take the difference from the true value ($\\hat{y}$) to see the deviation\n",
    "* Take the average difference from all datapoints\n",
    "$$MAE = \\frac{1}{n}\\sum_i \\left|y_i-\\hat{y}_i\\right|$$"
   ]
  },
  {
   "cell_type": "code",
   "execution_count": 24,
   "metadata": {},
   "outputs": [
    {
     "data": {
      "text/plain": [
       "array([2.61704299, 5.57503039, 0.70484732, 2.86887178, 4.93112822])"
      ]
     },
     "execution_count": 24,
     "metadata": {},
     "output_type": "execute_result"
    }
   ],
   "source": [
    "np.abs(y_true-y_hat)"
   ]
  },
  {
   "cell_type": "code",
   "execution_count": 25,
   "metadata": {},
   "outputs": [
    {
     "data": {
      "text/plain": [
       "3.3393841393789807"
      ]
     },
     "execution_count": 25,
     "metadata": {},
     "output_type": "execute_result"
    }
   ],
   "source": [
    "def ma_error(real_results, test_results):\n",
    "    return sum(abs(test_results - real_results)) / len(test_results)\n",
    "\n",
    "ma_error(y_true, y_hat)"
   ]
  },
  {
   "cell_type": "code",
   "execution_count": null,
   "metadata": {},
   "outputs": [],
   "source": [
    "from sklearn.metrics import mean_absolute_error as mae\n",
    "mae(y_hat, y_test)"
   ]
  },
  {
   "cell_type": "markdown",
   "metadata": {},
   "source": [
    "### Sum of the Squares Error (SSE)\n",
    "The problem with the MAE is that all points have the same weight: a point that is really close to the true value has the same impact on the mean as another point that is extremely off. Sometimes, we like to \"reward\" close values and \"penalize\" values with large errors. We can do this by squaring the difference.\n",
    "* If a point $y_i$ is close to the true value $\\hat{y}_i$, then the difference is small. If the difference is less than one, then squaring the error will decrease its value.\n",
    "* If a point $y_i$ is far from the true value $\\hat{y}_i$, then the difference is large, and squaring the error will decrease its value.\n",
    "* The further a point $y_i$ is from the true value, the more it will be penalized\n",
    "\n",
    "So, a more popular choice is the MSE. To understand the MSE, we start with the SSE:\n",
    "$$SSE = \\sum_i (y_i - \\hat{y}_i)^2$$"
   ]
  },
  {
   "cell_type": "markdown",
   "metadata": {},
   "source": [
    "### Mean Squared Error (MSE) / Root Mean Squared Error (RMSE)\n",
    "The SSE takes the squared error (which penalizes large errors), then finds the total squared error. The MSE is the same, but instead of finding the total squared error, we find the mean.\n",
    "$$MSE = \\frac{SSE}{n} = \\frac{1}{n} \\sum_i (y_i - \\hat{y}_i)^2$$\n",
    "\n",
    "The only issue with the MSE is that the difference is in squared units. If we want to get rid of the squared units, we just take the square root.\n",
    "$$RMSE = \\sqrt{MSE} = \\sqrt{\\frac{1}{n}\\sum_i (y_i - \\hat{y}_i)^2}$$"
   ]
  },
  {
   "cell_type": "code",
   "execution_count": 26,
   "metadata": {},
   "outputs": [
    {
     "data": {
      "text/plain": [
       "14.194627673297301"
      ]
     },
     "execution_count": 26,
     "metadata": {},
     "output_type": "execute_result"
    }
   ],
   "source": [
    "def ms_error(real_results, test_results):\n",
    "    return sum((test_results - real_results)**2) / len(test_results)\n",
    "\n",
    "ms_error(y_true, y_hat)"
   ]
  },
  {
   "cell_type": "code",
   "execution_count": 27,
   "metadata": {},
   "outputs": [
    {
     "data": {
      "text/plain": [
       "14.194627673297301"
      ]
     },
     "execution_count": 27,
     "metadata": {},
     "output_type": "execute_result"
    }
   ],
   "source": [
    "from sklearn.metrics import mean_squared_error as mse\n",
    "\n",
    "mse(y_true, y_hat)"
   ]
  },
  {
   "cell_type": "markdown",
   "metadata": {},
   "source": []
  },
  {
   "cell_type": "code",
   "execution_count": 28,
   "metadata": {},
   "outputs": [
    {
     "data": {
      "text/plain": [
       "3.767575835109003"
      ]
     },
     "execution_count": 28,
     "metadata": {},
     "output_type": "execute_result"
    }
   ],
   "source": [
    "np.sqrt(ms_error(y_true,y_hat))"
   ]
  },
  {
   "cell_type": "code",
   "execution_count": 29,
   "metadata": {},
   "outputs": [
    {
     "data": {
      "text/plain": [
       "120.74000000000001"
      ]
     },
     "execution_count": 29,
     "metadata": {},
     "output_type": "execute_result"
    }
   ],
   "source": [
    "np.mean(y_true)"
   ]
  },
  {
   "cell_type": "code",
   "execution_count": 30,
   "metadata": {},
   "outputs": [
    {
     "data": {
      "text/plain": [
       "0.031224117939373863"
      ]
     },
     "execution_count": 30,
     "metadata": {},
     "output_type": "execute_result"
    }
   ],
   "source": [
    "3.77/120.74"
   ]
  },
  {
   "cell_type": "code",
   "execution_count": null,
   "metadata": {},
   "outputs": [],
   "source": []
  }
 ],
 "metadata": {
  "kernelspec": {
   "display_name": "Python 3 (ipykernel)",
   "language": "python",
   "name": "python3"
  },
  "language_info": {
   "codemirror_mode": {
    "name": "ipython",
    "version": 3
   },
   "file_extension": ".py",
   "mimetype": "text/x-python",
   "name": "python",
   "nbconvert_exporter": "python",
   "pygments_lexer": "ipython3",
   "version": "3.9.14"
  },
  "vscode": {
   "interpreter": {
    "hash": "b8a940844f7f8998522eedb112310c0958420b6c917d0853ef275f15829120cc"
   }
  }
 },
 "nbformat": 4,
 "nbformat_minor": 4
}
