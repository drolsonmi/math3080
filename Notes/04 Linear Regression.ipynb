{
 "cells": [
  {
   "cell_type": "markdown",
   "metadata": {},
   "source": [
    "# 04 Correlation and Linear Regression\n",
    "__Math 3080: Fundamentals of Data Science__\n",
    "\n",
    "Reading:\n",
    "* Grus, Chapter 5 - Statistics\n",
    "* Phillips, Chapter 5 - Linear Regression\n",
    "\n",
    "Outline:\n",
    "1. Correlation\n",
    "2. Linear Regression\n",
    "3. Error Analysis"
   ]
  },
  {
   "cell_type": "markdown",
   "metadata": {},
   "source": [
    "-----\n",
    "## 4.1 Correlation\n",
    "* Correlation\n",
    "  * How to calculate correlation\n",
    "  $$r=\\frac{1}{n-1}\\sum\\left(\\frac{x-\\bar{x}}{s_x}\\frac{y-\\bar{y}}{s_y}\\right)$$\n",
    "  * Linear algebra methods\n",
    "  * Calculating and plotting on Python"
   ]
  },
  {
   "cell_type": "code",
   "execution_count": 1,
   "metadata": {},
   "outputs": [],
   "source": [
    "import numpy as np\n",
    "import matplotlib.pyplot as plt"
   ]
  },
  {
   "cell_type": "code",
   "execution_count": 10,
   "metadata": {},
   "outputs": [],
   "source": [
    "n = 30 # Number of datapoints\n",
    "m = np.random.randint(1,100)/10.0 # Slope off of which data is based.\n",
    "\n",
    "x = np.random.randint(0,20,n)\n",
    "y = m*x + np.random.randint(2,100,n)/10.0"
   ]
  },
  {
   "cell_type": "code",
   "execution_count": 11,
   "metadata": {},
   "outputs": [
    {
     "data": {
      "image/png": "[encoded data removed]",
      "text/plain": [
       "<Figure size 864x432 with 1 Axes>"
      ]
     },
     "metadata": {
      "needs_background": "light"
     },
     "output_type": "display_data"
    }
   ],
   "source": [
    "fig, ax = plt.subplots(figsize=(12, 6))\n",
    "ax = plt.scatter(x,y)\n",
    "plt.xlim([0,20])\n",
    "plt.ylim([0,(max(y)*1.10)])\n",
    "plt.show()"
   ]
  },
  {
   "cell_type": "code",
   "execution_count": 12,
   "metadata": {},
   "outputs": [
    {
     "data": {
      "text/plain": [
       "0.9958734386958268"
      ]
     },
     "execution_count": 12,
     "metadata": {},
     "output_type": "execute_result"
    }
   ],
   "source": [
    "def correlation(x,y):\n",
    "    x_deviation = x - np.mean(x)\n",
    "    y_deviation = y - np.mean(y)\n",
    "    x_std = np.std(x, ddof=1) # the ddof indicated degrees of freedom, basically means\n",
    "    y_std = np.std(y, ddof=1) # we are dividing by n-1. If ddof=0, then we divide by n.\n",
    "    return np.dot(x_deviation,y_deviation)/x_std/y_std/(len(x)-1)\n",
    "\n",
    "correlation(x,y)"
   ]
  },
  {
   "cell_type": "code",
   "execution_count": 13,
   "metadata": {},
   "outputs": [
    {
     "data": {
      "text/plain": [
       "array([[1.        , 0.99587344],\n",
       "       [0.99587344, 1.        ]])"
      ]
     },
     "execution_count": 13,
     "metadata": {},
     "output_type": "execute_result"
    }
   ],
   "source": [
    "np.corrcoef(x,y)"
   ]
  },
  {
   "cell_type": "markdown",
   "metadata": {},
   "source": [
    "We can also find the correlation between vectors within the same dataset:"
   ]
  },
  {
   "cell_type": "code",
   "execution_count": 14,
   "metadata": {},
   "outputs": [
    {
     "data": {
      "text/plain": [
       "array([[0.29387069, 0.54306597, 0.8879605 ],\n",
       "       [0.29392125, 0.0639426 , 0.53608625],\n",
       "       [0.30448851, 0.99762591, 0.56555822]])"
      ]
     },
     "execution_count": 14,
     "metadata": {},
     "output_type": "execute_result"
    }
   ],
   "source": [
    "x = np.random.random((3,3))\n",
    "x"
   ]
  },
  {
   "cell_type": "code",
   "execution_count": 17,
   "metadata": {},
   "outputs": [
    {
     "data": {
      "text/plain": [
       "array([[ 1.        ,  0.5901426 ,  0.28535929],\n",
       "       [ 0.5901426 ,  1.        , -0.60532935],\n",
       "       [ 0.28535929, -0.60532935,  1.        ]])"
      ]
     },
     "execution_count": 17,
     "metadata": {},
     "output_type": "execute_result"
    }
   ],
   "source": [
    "np.corrcoef(x)"
   ]
  },
  {
   "cell_type": "markdown",
   "metadata": {},
   "source": [
    "* Correlation vs. Causation"
   ]
  },
  {
   "cell_type": "markdown",
   "metadata": {},
   "source": [
    "## 4.2 Linear Regression"
   ]
  },
  {
   "cell_type": "code",
   "execution_count": null,
   "metadata": {},
   "outputs": [],
   "source": []
  },
  {
   "cell_type": "markdown",
   "metadata": {},
   "source": [
    "## 4.3 Error Analysis"
   ]
  },
  {
   "cell_type": "code",
   "execution_count": null,
   "metadata": {},
   "outputs": [],
   "source": []
  }
 ],
 "metadata": {
  "kernelspec": {
   "display_name": "Python 3 (ipykernel)",
   "language": "python",
   "name": "python3"
  },
  "language_info": {
   "codemirror_mode": {
    "name": "ipython",
    "version": 3
   },
   "file_extension": ".py",
   "mimetype": "text/x-python",
   "name": "python",
   "nbconvert_exporter": "python",
   "pygments_lexer": "ipython3",
   "version": "3.9.16"
  },
  "vscode": {
   "interpreter": {
    "hash": "1c3b4ec50ccf284dd362e349fb7b4805a9e338df2b2ffaff49cb8c015a0bd926"
   }
  }
 },
 "nbformat": 4,
 "nbformat_minor": 2
}
