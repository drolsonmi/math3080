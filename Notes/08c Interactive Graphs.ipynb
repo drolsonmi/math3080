{
 "cells": [
  {
   "cell_type": "markdown",
   "id": "5edf9881",
   "metadata": {},
   "source": [
    "# 08 Graphs\n",
    "__Math 3080: Fundamentals of Data Science__\n",
    "\n",
    "Reading:\n",
    "* McKinney, Chapter 9 Plotting and Visualization\n",
    "\n",
    "Outline:\n",
    "1. Summary of the different plots we can use\n",
    "2. Overview of MatplotLib\n",
    "3. Overview of Seaborn\n",
    "4. Interactive plots\n",
    "    * Plotly"
   ]
  },
  {
   "cell_type": "markdown",
   "id": "029ca273",
   "metadata": {},
   "source": [
    "-----\n",
    "## Interactive Plots\n",
    "Plotting information onto graphs has always been helpful in passing a lot of information by simple means. After all, a picture is worth a thousand words! The better the picture, the more it says.\n",
    "\n",
    "But what if we can add another dimension to these graphs? What if we can get users to interact with the graphs? For example, users can look at a graph and compare a number of variables to each other, then look closer at one particular variable and get exact numbers and more details about each variable. \n",
    "\n",
    "There are a number of libraries that have included interactions. Plots made with these libraries are called __interactive plots__. These are some of the libraries that include interactive abilities:\n",
    "* Bokeh\n",
    "* Plotly\n",
    "* Altair\n",
    "* mpld3\n",
    "* matplotlib + ipywidgets\n",
    "* Streamlit\n",
    "* pygal\n",
    "* bqplot\n",
    "\n",
    "We will not be going through all of these. Many have done reviews on these libraries (e.g. [Northwester University - Research Computing Services](https://sites.northwestern.edu/researchcomputing/2022/02/03/what-is-the-best-interactive-plotting-package-in-python/)), and they all tend to agree that Bokeh, Plotly, and Altair are the top three libraries. So, we are going to use the Plotly package\n",
    "* [Plotly Website](https://plotly.com/python/)"
   ]
  },
  {
   "cell_type": "code",
   "execution_count": 7,
   "id": "67c8fee2",
   "metadata": {},
   "outputs": [],
   "source": [
    "import plotly.express as px\n",
    "import seaborn as sns"
   ]
  },
  {
   "cell_type": "code",
   "execution_count": 8,
   "id": "6424e410",
   "metadata": {},
   "outputs": [
    {
     "data": {
      "text/html": [
       "<div>\n",
       "<style scoped>\n",
       "    .dataframe tbody tr th:only-of-type {\n",
       "        vertical-align: middle;\n",
       "    }\n",
       "\n",
       "    .dataframe tbody tr th {\n",
       "        vertical-align: top;\n",
       "    }\n",
       "\n",
       "    .dataframe thead th {\n",
       "        text-align: right;\n",
       "    }\n",
       "</style>\n",
       "<table border=\"1\" class=\"dataframe\">\n",
       "  <thead>\n",
       "    <tr style=\"text-align: right;\">\n",
       "      <th></th>\n",
       "      <th>total_bill</th>\n",
       "      <th>tip</th>\n",
       "      <th>sex</th>\n",
       "      <th>smoker</th>\n",
       "      <th>day</th>\n",
       "      <th>time</th>\n",
       "      <th>size</th>\n",
       "    </tr>\n",
       "  </thead>\n",
       "  <tbody>\n",
       "    <tr>\n",
       "      <th>0</th>\n",
       "      <td>16.99</td>\n",
       "      <td>1.01</td>\n",
       "      <td>Female</td>\n",
       "      <td>No</td>\n",
       "      <td>Sun</td>\n",
       "      <td>Dinner</td>\n",
       "      <td>2</td>\n",
       "    </tr>\n",
       "    <tr>\n",
       "      <th>1</th>\n",
       "      <td>10.34</td>\n",
       "      <td>1.66</td>\n",
       "      <td>Male</td>\n",
       "      <td>No</td>\n",
       "      <td>Sun</td>\n",
       "      <td>Dinner</td>\n",
       "      <td>3</td>\n",
       "    </tr>\n",
       "    <tr>\n",
       "      <th>2</th>\n",
       "      <td>21.01</td>\n",
       "      <td>3.50</td>\n",
       "      <td>Male</td>\n",
       "      <td>No</td>\n",
       "      <td>Sun</td>\n",
       "      <td>Dinner</td>\n",
       "      <td>3</td>\n",
       "    </tr>\n",
       "    <tr>\n",
       "      <th>3</th>\n",
       "      <td>23.68</td>\n",
       "      <td>3.31</td>\n",
       "      <td>Male</td>\n",
       "      <td>No</td>\n",
       "      <td>Sun</td>\n",
       "      <td>Dinner</td>\n",
       "      <td>2</td>\n",
       "    </tr>\n",
       "    <tr>\n",
       "      <th>4</th>\n",
       "      <td>24.59</td>\n",
       "      <td>3.61</td>\n",
       "      <td>Female</td>\n",
       "      <td>No</td>\n",
       "      <td>Sun</td>\n",
       "      <td>Dinner</td>\n",
       "      <td>4</td>\n",
       "    </tr>\n",
       "  </tbody>\n",
       "</table>\n",
       "</div>"
      ],
      "text/plain": [
       "   total_bill   tip     sex smoker  day    time  size\n",
       "0       16.99  1.01  Female     No  Sun  Dinner     2\n",
       "1       10.34  1.66    Male     No  Sun  Dinner     3\n",
       "2       21.01  3.50    Male     No  Sun  Dinner     3\n",
       "3       23.68  3.31    Male     No  Sun  Dinner     2\n",
       "4       24.59  3.61  Female     No  Sun  Dinner     4"
      ]
     },
     "execution_count": 8,
     "metadata": {},
     "output_type": "execute_result"
    }
   ],
   "source": [
    "tips = sns.load_dataset('tips')\n",
    "tips.head()"
   ]
  },
  {
   "cell_type": "code",
   "execution_count": 9,
   "id": "ac4a2f48",
   "metadata": {},
   "outputs": [
    {
     "data": {
      "application/vnd.plotly.v1+json": {
       "config": {
        "plotlyServerURL": "https://plot.ly"
       },
       "data": [
        {
         "hovertemplate": "total_bill=%{x}<br>tip=%{y}<extra></extra>",
         "legendgroup": "",
         "marker": {
          "color": "#636efa",
          "symbol": "circle"
         },
         "mode": "markers",
         "name": "",
         "orientation": "v",
         "showlegend": false,
         "type": "scatter",
         "x": [
          16.99,
          10.34,
          21.01,
          23.68,
          24.59,
          25.29,
          8.77,
          26.88,
          15.04,
          14.78,
          10.27,
          35.26,
          15.42,
          18.43,
          14.83,
          21.58,
          10.33,
          16.29,
          16.97,
          20.65,
          17.92,
          20.29,
          15.77,
          39.42,
          19.82,
          17.81,
          13.37,
          12.69,
          21.7,
          19.65,
          9.55,
          18.35,
          15.06,
          20.69,
          17.78,
          24.06,
          16.31,
          16.93,
          18.69,
          31.27,
          16.04,
          17.46,
          13.94,
          9.68,
          30.4,
          18.29,
          22.23,
          32.4,
          28.55,
          18.04,
          12.54,
          10.29,
          34.81,
          9.94,
          25.56,
          19.49,
          38.01,
          26.41,
          11.24,
          48.27,
          20.29,
          13.81,
          11.02,
          18.29,
          17.59,
          20.08,
          16.45,
          3.07,
          20.23,
          15.01,
          12.02,
          17.07,
          26.86,
          25.28,
          14.73,
          10.51,
          17.92,
          27.2,
          22.76,
          17.29,
          19.44,
          16.66,
          10.07,
          32.68,
          15.98,
          34.83,
          13.03,
          18.28,
          24.71,
          21.16,
          28.97,
          22.49,
          5.75,
          16.32,
          22.75,
          40.17,
          27.28,
          12.03,
          21.01,
          12.46,
          11.35,
          15.38,
          44.3,
          22.42,
          20.92,
          15.36,
          20.49,
          25.21,
          18.24,
          14.31,
          14,
          7.25,
          38.07,
          23.95,
          25.71,
          17.31,
          29.93,
          10.65,
          12.43,
          24.08,
          11.69,
          13.42,
          14.26,
          15.95,
          12.48,
          29.8,
          8.52,
          14.52,
          11.38,
          22.82,
          19.08,
          20.27,
          11.17,
          12.26,
          18.26,
          8.51,
          10.33,
          14.15,
          16,
          13.16,
          17.47,
          34.3,
          41.19,
          27.05,
          16.43,
          8.35,
          18.64,
          11.87,
          9.78,
          7.51,
          14.07,
          13.13,
          17.26,
          24.55,
          19.77,
          29.85,
          48.17,
          25,
          13.39,
          16.49,
          21.5,
          12.66,
          16.21,
          13.81,
          17.51,
          24.52,
          20.76,
          31.71,
          10.59,
          10.63,
          50.81,
          15.81,
          7.25,
          31.85,
          16.82,
          32.9,
          17.89,
          14.48,
          9.6,
          34.63,
          34.65,
          23.33,
          45.35,
          23.17,
          40.55,
          20.69,
          20.9,
          30.46,
          18.15,
          23.1,
          15.69,
          19.81,
          28.44,
          15.48,
          16.58,
          7.56,
          10.34,
          43.11,
          13,
          13.51,
          18.71,
          12.74,
          13,
          16.4,
          20.53,
          16.47,
          26.59,
          38.73,
          24.27,
          12.76,
          30.06,
          25.89,
          48.33,
          13.27,
          28.17,
          12.9,
          28.15,
          11.59,
          7.74,
          30.14,
          12.16,
          13.42,
          8.58,
          15.98,
          13.42,
          16.27,
          10.09,
          20.45,
          13.28,
          22.12,
          24.01,
          15.69,
          11.61,
          10.77,
          15.53,
          10.07,
          12.6,
          32.83,
          35.83,
          29.03,
          27.18,
          22.67,
          17.82,
          18.78
         ],
         "xaxis": "x",
         "y": [
          1.01,
          1.66,
          3.5,
          3.31,
          3.61,
          4.71,
          2,
          3.12,
          1.96,
          3.23,
          1.71,
          5,
          1.57,
          3,
          3.02,
          3.92,
          1.67,
          3.71,
          3.5,
          3.35,
          4.08,
          2.75,
          2.23,
          7.58,
          3.18,
          2.34,
          2,
          2,
          4.3,
          3,
          1.45,
          2.5,
          3,
          2.45,
          3.27,
          3.6,
          2,
          3.07,
          2.31,
          5,
          2.24,
          2.54,
          3.06,
          1.32,
          5.6,
          3,
          5,
          6,
          2.05,
          3,
          2.5,
          2.6,
          5.2,
          1.56,
          4.34,
          3.51,
          3,
          1.5,
          1.76,
          6.73,
          3.21,
          2,
          1.98,
          3.76,
          2.64,
          3.15,
          2.47,
          1,
          2.01,
          2.09,
          1.97,
          3,
          3.14,
          5,
          2.2,
          1.25,
          3.08,
          4,
          3,
          2.71,
          3,
          3.4,
          1.83,
          5,
          2.03,
          5.17,
          2,
          4,
          5.85,
          3,
          3,
          3.5,
          1,
          4.3,
          3.25,
          4.73,
          4,
          1.5,
          3,
          1.5,
          2.5,
          3,
          2.5,
          3.48,
          4.08,
          1.64,
          4.06,
          4.29,
          3.76,
          4,
          3,
          1,
          4,
          2.55,
          4,
          3.5,
          5.07,
          1.5,
          1.8,
          2.92,
          2.31,
          1.68,
          2.5,
          2,
          2.52,
          4.2,
          1.48,
          2,
          2,
          2.18,
          1.5,
          2.83,
          1.5,
          2,
          3.25,
          1.25,
          2,
          2,
          2,
          2.75,
          3.5,
          6.7,
          5,
          5,
          2.3,
          1.5,
          1.36,
          1.63,
          1.73,
          2,
          2.5,
          2,
          2.74,
          2,
          2,
          5.14,
          5,
          3.75,
          2.61,
          2,
          3.5,
          2.5,
          2,
          2,
          3,
          3.48,
          2.24,
          4.5,
          1.61,
          2,
          10,
          3.16,
          5.15,
          3.18,
          4,
          3.11,
          2,
          2,
          4,
          3.55,
          3.68,
          5.65,
          3.5,
          6.5,
          3,
          5,
          3.5,
          2,
          3.5,
          4,
          1.5,
          4.19,
          2.56,
          2.02,
          4,
          1.44,
          2,
          5,
          2,
          2,
          4,
          2.01,
          2,
          2.5,
          4,
          3.23,
          3.41,
          3,
          2.03,
          2.23,
          2,
          5.16,
          9,
          2.5,
          6.5,
          1.1,
          3,
          1.5,
          1.44,
          3.09,
          2.2,
          3.48,
          1.92,
          3,
          1.58,
          2.5,
          2,
          3,
          2.72,
          2.88,
          2,
          3,
          3.39,
          1.47,
          3,
          1.25,
          1,
          1.17,
          4.67,
          5.92,
          2,
          2,
          1.75,
          3
         ],
         "yaxis": "y"
        }
       ],
       "layout": {
        "legend": {
         "tracegroupgap": 0
        },
        "margin": {
         "t": 60
        },
        "template": {
         "data": {
          "bar": [
           {
            "error_x": {
             "color": "#2a3f5f"
            },
            "error_y": {
             "color": "#2a3f5f"
            },
            "marker": {
             "line": {
              "color": "#E5ECF6",
              "width": 0.5
             },
             "pattern": {
              "fillmode": "overlay",
              "size": 10,
              "solidity": 0.2
             }
            },
            "type": "bar"
           }
          ],
          "barpolar": [
           {
            "marker": {
             "line": {
              "color": "#E5ECF6",
              "width": 0.5
             },
             "pattern": {
              "fillmode": "overlay",
              "size": 10,
              "solidity": 0.2
             }
            },
            "type": "barpolar"
           }
          ],
          "carpet": [
           {
            "aaxis": {
             "endlinecolor": "#2a3f5f",
             "gridcolor": "white",
             "linecolor": "white",
             "minorgridcolor": "white",
             "startlinecolor": "#2a3f5f"
            },
            "baxis": {
             "endlinecolor": "#2a3f5f",
             "gridcolor": "white",
             "linecolor": "white",
             "minorgridcolor": "white",
             "startlinecolor": "#2a3f5f"
            },
            "type": "carpet"
           }
          ],
          "choropleth": [
           {
            "colorbar": {
             "outlinewidth": 0,
             "ticks": ""
            },
            "type": "choropleth"
           }
          ],
          "contour": [
           {
            "colorbar": {
             "outlinewidth": 0,
             "ticks": ""
            },
            "colorscale": [
             [
              0,
              "#0d0887"
             ],
             [
              0.1111111111111111,
              "#46039f"
             ],
             [
              0.2222222222222222,
              "#7201a8"
             ],
             [
              0.3333333333333333,
              "#9c179e"
             ],
             [
              0.4444444444444444,
              "#bd3786"
             ],
             [
              0.5555555555555556,
              "#d8576b"
             ],
             [
              0.6666666666666666,
              "#ed7953"
             ],
             [
              0.7777777777777778,
              "#fb9f3a"
             ],
             [
              0.8888888888888888,
              "#fdca26"
             ],
             [
              1,
              "#f0f921"
             ]
            ],
            "type": "contour"
           }
          ],
          "contourcarpet": [
           {
            "colorbar": {
             "outlinewidth": 0,
             "ticks": ""
            },
            "type": "contourcarpet"
           }
          ],
          "heatmap": [
           {
            "colorbar": {
             "outlinewidth": 0,
             "ticks": ""
            },
            "colorscale": [
             [
              0,
              "#0d0887"
             ],
             [
              0.1111111111111111,
              "#46039f"
             ],
             [
              0.2222222222222222,
              "#7201a8"
             ],
             [
              0.3333333333333333,
              "#9c179e"
             ],
             [
              0.4444444444444444,
              "#bd3786"
             ],
             [
              0.5555555555555556,
              "#d8576b"
             ],
             [
              0.6666666666666666,
              "#ed7953"
             ],
             [
              0.7777777777777778,
              "#fb9f3a"
             ],
             [
              0.8888888888888888,
              "#fdca26"
             ],
             [
              1,
              "#f0f921"
             ]
            ],
            "type": "heatmap"
           }
          ],
          "heatmapgl": [
           {
            "colorbar": {
             "outlinewidth": 0,
             "ticks": ""
            },
            "colorscale": [
             [
              0,
              "#0d0887"
             ],
             [
              0.1111111111111111,
              "#46039f"
             ],
             [
              0.2222222222222222,
              "#7201a8"
             ],
             [
              0.3333333333333333,
              "#9c179e"
             ],
             [
              0.4444444444444444,
              "#bd3786"
             ],
             [
              0.5555555555555556,
              "#d8576b"
             ],
             [
              0.6666666666666666,
              "#ed7953"
             ],
             [
              0.7777777777777778,
              "#fb9f3a"
             ],
             [
              0.8888888888888888,
              "#fdca26"
             ],
             [
              1,
              "#f0f921"
             ]
            ],
            "type": "heatmapgl"
           }
          ],
          "histogram": [
           {
            "marker": {
             "pattern": {
              "fillmode": "overlay",
              "size": 10,
              "solidity": 0.2
             }
            },
            "type": "histogram"
           }
          ],
          "histogram2d": [
           {
            "colorbar": {
             "outlinewidth": 0,
             "ticks": ""
            },
            "colorscale": [
             [
              0,
              "#0d0887"
             ],
             [
              0.1111111111111111,
              "#46039f"
             ],
             [
              0.2222222222222222,
              "#7201a8"
             ],
             [
              0.3333333333333333,
              "#9c179e"
             ],
             [
              0.4444444444444444,
              "#bd3786"
             ],
             [
              0.5555555555555556,
              "#d8576b"
             ],
             [
              0.6666666666666666,
              "#ed7953"
             ],
             [
              0.7777777777777778,
              "#fb9f3a"
             ],
             [
              0.8888888888888888,
              "#fdca26"
             ],
             [
              1,
              "#f0f921"
             ]
            ],
            "type": "histogram2d"
           }
          ],
          "histogram2dcontour": [
           {
            "colorbar": {
             "outlinewidth": 0,
             "ticks": ""
            },
            "colorscale": [
             [
              0,
              "#0d0887"
             ],
             [
              0.1111111111111111,
              "#46039f"
             ],
             [
              0.2222222222222222,
              "#7201a8"
             ],
             [
              0.3333333333333333,
              "#9c179e"
             ],
             [
              0.4444444444444444,
              "#bd3786"
             ],
             [
              0.5555555555555556,
              "#d8576b"
             ],
             [
              0.6666666666666666,
              "#ed7953"
             ],
             [
              0.7777777777777778,
              "#fb9f3a"
             ],
             [
              0.8888888888888888,
              "#fdca26"
             ],
             [
              1,
              "#f0f921"
             ]
            ],
            "type": "histogram2dcontour"
           }
          ],
          "mesh3d": [
           {
            "colorbar": {
             "outlinewidth": 0,
             "ticks": ""
            },
            "type": "mesh3d"
           }
          ],
          "parcoords": [
           {
            "line": {
             "colorbar": {
              "outlinewidth": 0,
              "ticks": ""
             }
            },
            "type": "parcoords"
           }
          ],
          "pie": [
           {
            "automargin": true,
            "type": "pie"
           }
          ],
          "scatter": [
           {
            "fillpattern": {
             "fillmode": "overlay",
             "size": 10,
             "solidity": 0.2
            },
            "type": "scatter"
           }
          ],
          "scatter3d": [
           {
            "line": {
             "colorbar": {
              "outlinewidth": 0,
              "ticks": ""
             }
            },
            "marker": {
             "colorbar": {
              "outlinewidth": 0,
              "ticks": ""
             }
            },
            "type": "scatter3d"
           }
          ],
          "scattercarpet": [
           {
            "marker": {
             "colorbar": {
              "outlinewidth": 0,
              "ticks": ""
             }
            },
            "type": "scattercarpet"
           }
          ],
          "scattergeo": [
           {
            "marker": {
             "colorbar": {
              "outlinewidth": 0,
              "ticks": ""
             }
            },
            "type": "scattergeo"
           }
          ],
          "scattergl": [
           {
            "marker": {
             "colorbar": {
              "outlinewidth": 0,
              "ticks": ""
             }
            },
            "type": "scattergl"
           }
          ],
          "scattermapbox": [
           {
            "marker": {
             "colorbar": {
              "outlinewidth": 0,
              "ticks": ""
             }
            },
            "type": "scattermapbox"
           }
          ],
          "scatterpolar": [
           {
            "marker": {
             "colorbar": {
              "outlinewidth": 0,
              "ticks": ""
             }
            },
            "type": "scatterpolar"
           }
          ],
          "scatterpolargl": [
           {
            "marker": {
             "colorbar": {
              "outlinewidth": 0,
              "ticks": ""
             }
            },
            "type": "scatterpolargl"
           }
          ],
          "scatterternary": [
           {
            "marker": {
             "colorbar": {
              "outlinewidth": 0,
              "ticks": ""
             }
            },
            "type": "scatterternary"
           }
          ],
          "surface": [
           {
            "colorbar": {
             "outlinewidth": 0,
             "ticks": ""
            },
            "colorscale": [
             [
              0,
              "#0d0887"
             ],
             [
              0.1111111111111111,
              "#46039f"
             ],
             [
              0.2222222222222222,
              "#7201a8"
             ],
             [
              0.3333333333333333,
              "#9c179e"
             ],
             [
              0.4444444444444444,
              "#bd3786"
             ],
             [
              0.5555555555555556,
              "#d8576b"
             ],
             [
              0.6666666666666666,
              "#ed7953"
             ],
             [
              0.7777777777777778,
              "#fb9f3a"
             ],
             [
              0.8888888888888888,
              "#fdca26"
             ],
             [
              1,
              "#f0f921"
             ]
            ],
            "type": "surface"
           }
          ],
          "table": [
           {
            "cells": {
             "fill": {
              "color": "#EBF0F8"
             },
             "line": {
              "color": "white"
             }
            },
            "header": {
             "fill": {
              "color": "#C8D4E3"
             },
             "line": {
              "color": "white"
             }
            },
            "type": "table"
           }
          ]
         },
         "layout": {
          "annotationdefaults": {
           "arrowcolor": "#2a3f5f",
           "arrowhead": 0,
           "arrowwidth": 1
          },
          "autotypenumbers": "strict",
          "coloraxis": {
           "colorbar": {
            "outlinewidth": 0,
            "ticks": ""
           }
          },
          "colorscale": {
           "diverging": [
            [
             0,
             "#8e0152"
            ],
            [
             0.1,
             "#c51b7d"
            ],
            [
             0.2,
             "#de77ae"
            ],
            [
             0.3,
             "#f1b6da"
            ],
            [
             0.4,
             "#fde0ef"
            ],
            [
             0.5,
             "#f7f7f7"
            ],
            [
             0.6,
             "#e6f5d0"
            ],
            [
             0.7,
             "#b8e186"
            ],
            [
             0.8,
             "#7fbc41"
            ],
            [
             0.9,
             "#4d9221"
            ],
            [
             1,
             "#276419"
            ]
           ],
           "sequential": [
            [
             0,
             "#0d0887"
            ],
            [
             0.1111111111111111,
             "#46039f"
            ],
            [
             0.2222222222222222,
             "#7201a8"
            ],
            [
             0.3333333333333333,
             "#9c179e"
            ],
            [
             0.4444444444444444,
             "#bd3786"
            ],
            [
             0.5555555555555556,
             "#d8576b"
            ],
            [
             0.6666666666666666,
             "#ed7953"
            ],
            [
             0.7777777777777778,
             "#fb9f3a"
            ],
            [
             0.8888888888888888,
             "#fdca26"
            ],
            [
             1,
             "#f0f921"
            ]
           ],
           "sequentialminus": [
            [
             0,
             "#0d0887"
            ],
            [
             0.1111111111111111,
             "#46039f"
            ],
            [
             0.2222222222222222,
             "#7201a8"
            ],
            [
             0.3333333333333333,
             "#9c179e"
            ],
            [
             0.4444444444444444,
             "#bd3786"
            ],
            [
             0.5555555555555556,
             "#d8576b"
            ],
            [
             0.6666666666666666,
             "#ed7953"
            ],
            [
             0.7777777777777778,
             "#fb9f3a"
            ],
            [
             0.8888888888888888,
             "#fdca26"
            ],
            [
             1,
             "#f0f921"
            ]
           ]
          },
          "colorway": [
           "#636efa",
           "#EF553B",
           "#00cc96",
           "#ab63fa",
           "#FFA15A",
           "#19d3f3",
           "#FF6692",
           "#B6E880",
           "#FF97FF",
           "#FECB52"
          ],
          "font": {
           "color": "#2a3f5f"
          },
          "geo": {
           "bgcolor": "white",
           "lakecolor": "white",
           "landcolor": "#E5ECF6",
           "showlakes": true,
           "showland": true,
           "subunitcolor": "white"
          },
          "hoverlabel": {
           "align": "left"
          },
          "hovermode": "closest",
          "mapbox": {
           "style": "light"
          },
          "paper_bgcolor": "white",
          "plot_bgcolor": "#E5ECF6",
          "polar": {
           "angularaxis": {
            "gridcolor": "white",
            "linecolor": "white",
            "ticks": ""
           },
           "bgcolor": "#E5ECF6",
           "radialaxis": {
            "gridcolor": "white",
            "linecolor": "white",
            "ticks": ""
           }
          },
          "scene": {
           "xaxis": {
            "backgroundcolor": "#E5ECF6",
            "gridcolor": "white",
            "gridwidth": 2,
            "linecolor": "white",
            "showbackground": true,
            "ticks": "",
            "zerolinecolor": "white"
           },
           "yaxis": {
            "backgroundcolor": "#E5ECF6",
            "gridcolor": "white",
            "gridwidth": 2,
            "linecolor": "white",
            "showbackground": true,
            "ticks": "",
            "zerolinecolor": "white"
           },
           "zaxis": {
            "backgroundcolor": "#E5ECF6",
            "gridcolor": "white",
            "gridwidth": 2,
            "linecolor": "white",
            "showbackground": true,
            "ticks": "",
            "zerolinecolor": "white"
           }
          },
          "shapedefaults": {
           "line": {
            "color": "#2a3f5f"
           }
          },
          "ternary": {
           "aaxis": {
            "gridcolor": "white",
            "linecolor": "white",
            "ticks": ""
           },
           "baxis": {
            "gridcolor": "white",
            "linecolor": "white",
            "ticks": ""
           },
           "bgcolor": "#E5ECF6",
           "caxis": {
            "gridcolor": "white",
            "linecolor": "white",
            "ticks": ""
           }
          },
          "title": {
           "x": 0.05
          },
          "xaxis": {
           "automargin": true,
           "gridcolor": "white",
           "linecolor": "white",
           "ticks": "",
           "title": {
            "standoff": 15
           },
           "zerolinecolor": "white",
           "zerolinewidth": 2
          },
          "yaxis": {
           "automargin": true,
           "gridcolor": "white",
           "linecolor": "white",
           "ticks": "",
           "title": {
            "standoff": 15
           },
           "zerolinecolor": "white",
           "zerolinewidth": 2
          }
         }
        },
        "xaxis": {
         "anchor": "y",
         "domain": [
          0,
          1
         ],
         "title": {
          "text": "total_bill"
         }
        },
        "yaxis": {
         "anchor": "x",
         "domain": [
          0,
          1
         ],
         "title": {
          "text": "tip"
         }
        }
       }
      },
      "text/html": [
       "<div>                            <div id=\"17cdc3a3-57ce-4827-8eb1-2df1c7b05ce5\" class=\"plotly-graph-div\" style=\"height:525px; width:100%;\"></div>            <script type=\"text/javascript\">                require([\"plotly\"], function(Plotly) {                    window.PLOTLYENV=window.PLOTLYENV || {};                                    if (document.getElementById(\"17cdc3a3-57ce-4827-8eb1-2df1c7b05ce5\")) {                    Plotly.newPlot(                        \"17cdc3a3-57ce-4827-8eb1-2df1c7b05ce5\",                        [{\"hovertemplate\":\"total_bill=%{x}<br>tip=%{y}<extra></extra>\",\"legendgroup\":\"\",\"marker\":{\"color\":\"#636efa\",\"symbol\":\"circle\"},\"mode\":\"markers\",\"name\":\"\",\"orientation\":\"v\",\"showlegend\":false,\"x\":[16.99,10.34,21.01,23.68,24.59,25.29,8.77,26.88,15.04,14.78,10.27,35.26,15.42,18.43,14.83,21.58,10.33,16.29,16.97,20.65,17.92,20.29,15.77,39.42,19.82,17.81,13.37,12.69,21.7,19.65,9.55,18.35,15.06,20.69,17.78,24.06,16.31,16.93,18.69,31.27,16.04,17.46,13.94,9.68,30.4,18.29,22.23,32.4,28.55,18.04,12.54,10.29,34.81,9.94,25.56,19.49,38.01,26.41,11.24,48.27,20.29,13.81,11.02,18.29,17.59,20.08,16.45,3.07,20.23,15.01,12.02,17.07,26.86,25.28,14.73,10.51,17.92,27.2,22.76,17.29,19.44,16.66,10.07,32.68,15.98,34.83,13.03,18.28,24.71,21.16,28.97,22.49,5.75,16.32,22.75,40.17,27.28,12.03,21.01,12.46,11.35,15.38,44.3,22.42,20.92,15.36,20.49,25.21,18.24,14.31,14.0,7.25,38.07,23.95,25.71,17.31,29.93,10.65,12.43,24.08,11.69,13.42,14.26,15.95,12.48,29.8,8.52,14.52,11.38,22.82,19.08,20.27,11.17,12.26,18.26,8.51,10.33,14.15,16.0,13.16,17.47,34.3,41.19,27.05,16.43,8.35,18.64,11.87,9.78,7.51,14.07,13.13,17.26,24.55,19.77,29.85,48.17,25.0,13.39,16.49,21.5,12.66,16.21,13.81,17.51,24.52,20.76,31.71,10.59,10.63,50.81,15.81,7.25,31.85,16.82,32.9,17.89,14.48,9.6,34.63,34.65,23.33,45.35,23.17,40.55,20.69,20.9,30.46,18.15,23.1,15.69,19.81,28.44,15.48,16.58,7.56,10.34,43.11,13.0,13.51,18.71,12.74,13.0,16.4,20.53,16.47,26.59,38.73,24.27,12.76,30.06,25.89,48.33,13.27,28.17,12.9,28.15,11.59,7.74,30.14,12.16,13.42,8.58,15.98,13.42,16.27,10.09,20.45,13.28,22.12,24.01,15.69,11.61,10.77,15.53,10.07,12.6,32.83,35.83,29.03,27.18,22.67,17.82,18.78],\"xaxis\":\"x\",\"y\":[1.01,1.66,3.5,3.31,3.61,4.71,2.0,3.12,1.96,3.23,1.71,5.0,1.57,3.0,3.02,3.92,1.67,3.71,3.5,3.35,4.08,2.75,2.23,7.58,3.18,2.34,2.0,2.0,4.3,3.0,1.45,2.5,3.0,2.45,3.27,3.6,2.0,3.07,2.31,5.0,2.24,2.54,3.06,1.32,5.6,3.0,5.0,6.0,2.05,3.0,2.5,2.6,5.2,1.56,4.34,3.51,3.0,1.5,1.76,6.73,3.21,2.0,1.98,3.76,2.64,3.15,2.47,1.0,2.01,2.09,1.97,3.0,3.14,5.0,2.2,1.25,3.08,4.0,3.0,2.71,3.0,3.4,1.83,5.0,2.03,5.17,2.0,4.0,5.85,3.0,3.0,3.5,1.0,4.3,3.25,4.73,4.0,1.5,3.0,1.5,2.5,3.0,2.5,3.48,4.08,1.64,4.06,4.29,3.76,4.0,3.0,1.0,4.0,2.55,4.0,3.5,5.07,1.5,1.8,2.92,2.31,1.68,2.5,2.0,2.52,4.2,1.48,2.0,2.0,2.18,1.5,2.83,1.5,2.0,3.25,1.25,2.0,2.0,2.0,2.75,3.5,6.7,5.0,5.0,2.3,1.5,1.36,1.63,1.73,2.0,2.5,2.0,2.74,2.0,2.0,5.14,5.0,3.75,2.61,2.0,3.5,2.5,2.0,2.0,3.0,3.48,2.24,4.5,1.61,2.0,10.0,3.16,5.15,3.18,4.0,3.11,2.0,2.0,4.0,3.55,3.68,5.65,3.5,6.5,3.0,5.0,3.5,2.0,3.5,4.0,1.5,4.19,2.56,2.02,4.0,1.44,2.0,5.0,2.0,2.0,4.0,2.01,2.0,2.5,4.0,3.23,3.41,3.0,2.03,2.23,2.0,5.16,9.0,2.5,6.5,1.1,3.0,1.5,1.44,3.09,2.2,3.48,1.92,3.0,1.58,2.5,2.0,3.0,2.72,2.88,2.0,3.0,3.39,1.47,3.0,1.25,1.0,1.17,4.67,5.92,2.0,2.0,1.75,3.0],\"yaxis\":\"y\",\"type\":\"scatter\"}],                        {\"template\":{\"data\":{\"histogram2dcontour\":[{\"type\":\"histogram2dcontour\",\"colorbar\":{\"outlinewidth\":0,\"ticks\":\"\"},\"colorscale\":[[0.0,\"#0d0887\"],[0.1111111111111111,\"#46039f\"],[0.2222222222222222,\"#7201a8\"],[0.3333333333333333,\"#9c179e\"],[0.4444444444444444,\"#bd3786\"],[0.5555555555555556,\"#d8576b\"],[0.6666666666666666,\"#ed7953\"],[0.7777777777777778,\"#fb9f3a\"],[0.8888888888888888,\"#fdca26\"],[1.0,\"#f0f921\"]]}],\"choropleth\":[{\"type\":\"choropleth\",\"colorbar\":{\"outlinewidth\":0,\"ticks\":\"\"}}],\"histogram2d\":[{\"type\":\"histogram2d\",\"colorbar\":{\"outlinewidth\":0,\"ticks\":\"\"},\"colorscale\":[[0.0,\"#0d0887\"],[0.1111111111111111,\"#46039f\"],[0.2222222222222222,\"#7201a8\"],[0.3333333333333333,\"#9c179e\"],[0.4444444444444444,\"#bd3786\"],[0.5555555555555556,\"#d8576b\"],[0.6666666666666666,\"#ed7953\"],[0.7777777777777778,\"#fb9f3a\"],[0.8888888888888888,\"#fdca26\"],[1.0,\"#f0f921\"]]}],\"heatmap\":[{\"type\":\"heatmap\",\"colorbar\":{\"outlinewidth\":0,\"ticks\":\"\"},\"colorscale\":[[0.0,\"#0d0887\"],[0.1111111111111111,\"#46039f\"],[0.2222222222222222,\"#7201a8\"],[0.3333333333333333,\"#9c179e\"],[0.4444444444444444,\"#bd3786\"],[0.5555555555555556,\"#d8576b\"],[0.6666666666666666,\"#ed7953\"],[0.7777777777777778,\"#fb9f3a\"],[0.8888888888888888,\"#fdca26\"],[1.0,\"#f0f921\"]]}],\"heatmapgl\":[{\"type\":\"heatmapgl\",\"colorbar\":{\"outlinewidth\":0,\"ticks\":\"\"},\"colorscale\":[[0.0,\"#0d0887\"],[0.1111111111111111,\"#46039f\"],[0.2222222222222222,\"#7201a8\"],[0.3333333333333333,\"#9c179e\"],[0.4444444444444444,\"#bd3786\"],[0.5555555555555556,\"#d8576b\"],[0.6666666666666666,\"#ed7953\"],[0.7777777777777778,\"#fb9f3a\"],[0.8888888888888888,\"#fdca26\"],[1.0,\"#f0f921\"]]}],\"contourcarpet\":[{\"type\":\"contourcarpet\",\"colorbar\":{\"outlinewidth\":0,\"ticks\":\"\"}}],\"contour\":[{\"type\":\"contour\",\"colorbar\":{\"outlinewidth\":0,\"ticks\":\"\"},\"colorscale\":[[0.0,\"#0d0887\"],[0.1111111111111111,\"#46039f\"],[0.2222222222222222,\"#7201a8\"],[0.3333333333333333,\"#9c179e\"],[0.4444444444444444,\"#bd3786\"],[0.5555555555555556,\"#d8576b\"],[0.6666666666666666,\"#ed7953\"],[0.7777777777777778,\"#fb9f3a\"],[0.8888888888888888,\"#fdca26\"],[1.0,\"#f0f921\"]]}],\"surface\":[{\"type\":\"surface\",\"colorbar\":{\"outlinewidth\":0,\"ticks\":\"\"},\"colorscale\":[[0.0,\"#0d0887\"],[0.1111111111111111,\"#46039f\"],[0.2222222222222222,\"#7201a8\"],[0.3333333333333333,\"#9c179e\"],[0.4444444444444444,\"#bd3786\"],[0.5555555555555556,\"#d8576b\"],[0.6666666666666666,\"#ed7953\"],[0.7777777777777778,\"#fb9f3a\"],[0.8888888888888888,\"#fdca26\"],[1.0,\"#f0f921\"]]}],\"mesh3d\":[{\"type\":\"mesh3d\",\"colorbar\":{\"outlinewidth\":0,\"ticks\":\"\"}}],\"scatter\":[{\"fillpattern\":{\"fillmode\":\"overlay\",\"size\":10,\"solidity\":0.2},\"type\":\"scatter\"}],\"parcoords\":[{\"type\":\"parcoords\",\"line\":{\"colorbar\":{\"outlinewidth\":0,\"ticks\":\"\"}}}],\"scatterpolargl\":[{\"type\":\"scatterpolargl\",\"marker\":{\"colorbar\":{\"outlinewidth\":0,\"ticks\":\"\"}}}],\"bar\":[{\"error_x\":{\"color\":\"#2a3f5f\"},\"error_y\":{\"color\":\"#2a3f5f\"},\"marker\":{\"line\":{\"color\":\"#E5ECF6\",\"width\":0.5},\"pattern\":{\"fillmode\":\"overlay\",\"size\":10,\"solidity\":0.2}},\"type\":\"bar\"}],\"scattergeo\":[{\"type\":\"scattergeo\",\"marker\":{\"colorbar\":{\"outlinewidth\":0,\"ticks\":\"\"}}}],\"scatterpolar\":[{\"type\":\"scatterpolar\",\"marker\":{\"colorbar\":{\"outlinewidth\":0,\"ticks\":\"\"}}}],\"histogram\":[{\"marker\":{\"pattern\":{\"fillmode\":\"overlay\",\"size\":10,\"solidity\":0.2}},\"type\":\"histogram\"}],\"scattergl\":[{\"type\":\"scattergl\",\"marker\":{\"colorbar\":{\"outlinewidth\":0,\"ticks\":\"\"}}}],\"scatter3d\":[{\"type\":\"scatter3d\",\"line\":{\"colorbar\":{\"outlinewidth\":0,\"ticks\":\"\"}},\"marker\":{\"colorbar\":{\"outlinewidth\":0,\"ticks\":\"\"}}}],\"scattermapbox\":[{\"type\":\"scattermapbox\",\"marker\":{\"colorbar\":{\"outlinewidth\":0,\"ticks\":\"\"}}}],\"scatterternary\":[{\"type\":\"scatterternary\",\"marker\":{\"colorbar\":{\"outlinewidth\":0,\"ticks\":\"\"}}}],\"scattercarpet\":[{\"type\":\"scattercarpet\",\"marker\":{\"colorbar\":{\"outlinewidth\":0,\"ticks\":\"\"}}}],\"carpet\":[{\"aaxis\":{\"endlinecolor\":\"#2a3f5f\",\"gridcolor\":\"white\",\"linecolor\":\"white\",\"minorgridcolor\":\"white\",\"startlinecolor\":\"#2a3f5f\"},\"baxis\":{\"endlinecolor\":\"#2a3f5f\",\"gridcolor\":\"white\",\"linecolor\":\"white\",\"minorgridcolor\":\"white\",\"startlinecolor\":\"#2a3f5f\"},\"type\":\"carpet\"}],\"table\":[{\"cells\":{\"fill\":{\"color\":\"#EBF0F8\"},\"line\":{\"color\":\"white\"}},\"header\":{\"fill\":{\"color\":\"#C8D4E3\"},\"line\":{\"color\":\"white\"}},\"type\":\"table\"}],\"barpolar\":[{\"marker\":{\"line\":{\"color\":\"#E5ECF6\",\"width\":0.5},\"pattern\":{\"fillmode\":\"overlay\",\"size\":10,\"solidity\":0.2}},\"type\":\"barpolar\"}],\"pie\":[{\"automargin\":true,\"type\":\"pie\"}]},\"layout\":{\"autotypenumbers\":\"strict\",\"colorway\":[\"#636efa\",\"#EF553B\",\"#00cc96\",\"#ab63fa\",\"#FFA15A\",\"#19d3f3\",\"#FF6692\",\"#B6E880\",\"#FF97FF\",\"#FECB52\"],\"font\":{\"color\":\"#2a3f5f\"},\"hovermode\":\"closest\",\"hoverlabel\":{\"align\":\"left\"},\"paper_bgcolor\":\"white\",\"plot_bgcolor\":\"#E5ECF6\",\"polar\":{\"bgcolor\":\"#E5ECF6\",\"angularaxis\":{\"gridcolor\":\"white\",\"linecolor\":\"white\",\"ticks\":\"\"},\"radialaxis\":{\"gridcolor\":\"white\",\"linecolor\":\"white\",\"ticks\":\"\"}},\"ternary\":{\"bgcolor\":\"#E5ECF6\",\"aaxis\":{\"gridcolor\":\"white\",\"linecolor\":\"white\",\"ticks\":\"\"},\"baxis\":{\"gridcolor\":\"white\",\"linecolor\":\"white\",\"ticks\":\"\"},\"caxis\":{\"gridcolor\":\"white\",\"linecolor\":\"white\",\"ticks\":\"\"}},\"coloraxis\":{\"colorbar\":{\"outlinewidth\":0,\"ticks\":\"\"}},\"colorscale\":{\"sequential\":[[0.0,\"#0d0887\"],[0.1111111111111111,\"#46039f\"],[0.2222222222222222,\"#7201a8\"],[0.3333333333333333,\"#9c179e\"],[0.4444444444444444,\"#bd3786\"],[0.5555555555555556,\"#d8576b\"],[0.6666666666666666,\"#ed7953\"],[0.7777777777777778,\"#fb9f3a\"],[0.8888888888888888,\"#fdca26\"],[1.0,\"#f0f921\"]],\"sequentialminus\":[[0.0,\"#0d0887\"],[0.1111111111111111,\"#46039f\"],[0.2222222222222222,\"#7201a8\"],[0.3333333333333333,\"#9c179e\"],[0.4444444444444444,\"#bd3786\"],[0.5555555555555556,\"#d8576b\"],[0.6666666666666666,\"#ed7953\"],[0.7777777777777778,\"#fb9f3a\"],[0.8888888888888888,\"#fdca26\"],[1.0,\"#f0f921\"]],\"diverging\":[[0,\"#8e0152\"],[0.1,\"#c51b7d\"],[0.2,\"#de77ae\"],[0.3,\"#f1b6da\"],[0.4,\"#fde0ef\"],[0.5,\"#f7f7f7\"],[0.6,\"#e6f5d0\"],[0.7,\"#b8e186\"],[0.8,\"#7fbc41\"],[0.9,\"#4d9221\"],[1,\"#276419\"]]},\"xaxis\":{\"gridcolor\":\"white\",\"linecolor\":\"white\",\"ticks\":\"\",\"title\":{\"standoff\":15},\"zerolinecolor\":\"white\",\"automargin\":true,\"zerolinewidth\":2},\"yaxis\":{\"gridcolor\":\"white\",\"linecolor\":\"white\",\"ticks\":\"\",\"title\":{\"standoff\":15},\"zerolinecolor\":\"white\",\"automargin\":true,\"zerolinewidth\":2},\"scene\":{\"xaxis\":{\"backgroundcolor\":\"#E5ECF6\",\"gridcolor\":\"white\",\"linecolor\":\"white\",\"showbackground\":true,\"ticks\":\"\",\"zerolinecolor\":\"white\",\"gridwidth\":2},\"yaxis\":{\"backgroundcolor\":\"#E5ECF6\",\"gridcolor\":\"white\",\"linecolor\":\"white\",\"showbackground\":true,\"ticks\":\"\",\"zerolinecolor\":\"white\",\"gridwidth\":2},\"zaxis\":{\"backgroundcolor\":\"#E5ECF6\",\"gridcolor\":\"white\",\"linecolor\":\"white\",\"showbackground\":true,\"ticks\":\"\",\"zerolinecolor\":\"white\",\"gridwidth\":2}},\"shapedefaults\":{\"line\":{\"color\":\"#2a3f5f\"}},\"annotationdefaults\":{\"arrowcolor\":\"#2a3f5f\",\"arrowhead\":0,\"arrowwidth\":1},\"geo\":{\"bgcolor\":\"white\",\"landcolor\":\"#E5ECF6\",\"subunitcolor\":\"white\",\"showland\":true,\"showlakes\":true,\"lakecolor\":\"white\"},\"title\":{\"x\":0.05},\"mapbox\":{\"style\":\"light\"}}},\"xaxis\":{\"anchor\":\"y\",\"domain\":[0.0,1.0],\"title\":{\"text\":\"total_bill\"}},\"yaxis\":{\"anchor\":\"x\",\"domain\":[0.0,1.0],\"title\":{\"text\":\"tip\"}},\"legend\":{\"tracegroupgap\":0},\"margin\":{\"t\":60}},                        {\"responsive\": true}                    ).then(function(){\n",
       "                            \n",
       "var gd = document.getElementById('17cdc3a3-57ce-4827-8eb1-2df1c7b05ce5');\n",
       "var x = new MutationObserver(function (mutations, observer) {{\n",
       "        var display = window.getComputedStyle(gd).display;\n",
       "        if (!display || display === 'none') {{\n",
       "            console.log([gd, 'removed!']);\n",
       "            Plotly.purge(gd);\n",
       "            observer.disconnect();\n",
       "        }}\n",
       "}});\n",
       "\n",
       "// Listen for the removal of the full notebook cells\n",
       "var notebookContainer = gd.closest('#notebook-container');\n",
       "if (notebookContainer) {{\n",
       "    x.observe(notebookContainer, {childList: true});\n",
       "}}\n",
       "\n",
       "// Listen for the clearing of the current output cell\n",
       "var outputEl = gd.closest('.output');\n",
       "if (outputEl) {{\n",
       "    x.observe(outputEl, {childList: true});\n",
       "}}\n",
       "\n",
       "                        })                };                });            </script>        </div>"
      ]
     },
     "metadata": {},
     "output_type": "display_data"
    }
   ],
   "source": [
    "fig = px.scatter(tips, x='total_bill', y='tip')\n",
    "fig.show()"
   ]
  },
  {
   "cell_type": "code",
   "execution_count": 10,
   "id": "207656d4",
   "metadata": {},
   "outputs": [
    {
     "data": {
      "application/vnd.plotly.v1+json": {
       "config": {
        "plotlyServerURL": "https://plot.ly"
       },
       "data": [
        {
         "customdata": [
          [
           "Sun",
           "Female"
          ],
          [
           "Sun",
           "Male"
          ],
          [
           "Sun",
           "Male"
          ],
          [
           "Sun",
           "Male"
          ],
          [
           "Sun",
           "Female"
          ],
          [
           "Sun",
           "Male"
          ],
          [
           "Sun",
           "Male"
          ],
          [
           "Sun",
           "Male"
          ],
          [
           "Sun",
           "Male"
          ],
          [
           "Sun",
           "Male"
          ],
          [
           "Sun",
           "Male"
          ],
          [
           "Sun",
           "Female"
          ],
          [
           "Sun",
           "Male"
          ],
          [
           "Sun",
           "Male"
          ],
          [
           "Sun",
           "Female"
          ],
          [
           "Sun",
           "Male"
          ],
          [
           "Sun",
           "Female"
          ],
          [
           "Sun",
           "Male"
          ],
          [
           "Sun",
           "Female"
          ],
          [
           "Sat",
           "Male"
          ],
          [
           "Sat",
           "Male"
          ],
          [
           "Sat",
           "Female"
          ],
          [
           "Sat",
           "Female"
          ],
          [
           "Sat",
           "Male"
          ],
          [
           "Sat",
           "Male"
          ],
          [
           "Sat",
           "Male"
          ],
          [
           "Sat",
           "Male"
          ],
          [
           "Sat",
           "Male"
          ],
          [
           "Sat",
           "Male"
          ],
          [
           "Sat",
           "Female"
          ],
          [
           "Sat",
           "Male"
          ],
          [
           "Sat",
           "Male"
          ],
          [
           "Sat",
           "Female"
          ],
          [
           "Sat",
           "Female"
          ],
          [
           "Sat",
           "Male"
          ],
          [
           "Sat",
           "Male"
          ],
          [
           "Sat",
           "Male"
          ],
          [
           "Sat",
           "Female"
          ],
          [
           "Sat",
           "Male"
          ],
          [
           "Sat",
           "Male"
          ],
          [
           "Sat",
           "Male"
          ],
          [
           "Sun",
           "Male"
          ],
          [
           "Sun",
           "Male"
          ],
          [
           "Sun",
           "Male"
          ],
          [
           "Sun",
           "Male"
          ],
          [
           "Sun",
           "Male"
          ],
          [
           "Sun",
           "Male"
          ],
          [
           "Sun",
           "Male"
          ],
          [
           "Sun",
           "Male"
          ],
          [
           "Sun",
           "Male"
          ],
          [
           "Sun",
           "Male"
          ],
          [
           "Sun",
           "Female"
          ],
          [
           "Sun",
           "Female"
          ],
          [
           "Sun",
           "Male"
          ],
          [
           "Sun",
           "Male"
          ],
          [
           "Sun",
           "Male"
          ],
          [
           "Sat",
           "Female"
          ],
          [
           "Sat",
           "Male"
          ],
          [
           "Sat",
           "Male"
          ],
          [
           "Sat",
           "Male"
          ],
          [
           "Sat",
           "Female"
          ],
          [
           "Sat",
           "Male"
          ],
          [
           "Sat",
           "Male"
          ],
          [
           "Sat",
           "Female"
          ],
          [
           "Sat",
           "Female"
          ],
          [
           "Sat",
           "Male"
          ],
          [
           "Fri",
           "Male"
          ],
          [
           "Fri",
           "Female"
          ],
          [
           "Fri",
           "Male"
          ],
          [
           "Sat",
           "Female"
          ],
          [
           "Sat",
           "Male"
          ],
          [
           "Sat",
           "Male"
          ],
          [
           "Sat",
           "Female"
          ],
          [
           "Sun",
           "Male"
          ],
          [
           "Sun",
           "Male"
          ],
          [
           "Sun",
           "Female"
          ],
          [
           "Sun",
           "Female"
          ],
          [
           "Sun",
           "Male"
          ],
          [
           "Sun",
           "Male"
          ],
          [
           "Sun",
           "Male"
          ],
          [
           "Sun",
           "Male"
          ],
          [
           "Sun",
           "Male"
          ],
          [
           "Sun",
           "Male"
          ],
          [
           "Sun",
           "Female"
          ],
          [
           "Sun",
           "Male"
          ],
          [
           "Sun",
           "Female"
          ],
          [
           "Sun",
           "Female"
          ],
          [
           "Sun",
           "Male"
          ],
          [
           "Sun",
           "Male"
          ],
          [
           "Sun",
           "Male"
          ],
          [
           "Sun",
           "Female"
          ],
          [
           "Sun",
           "Male"
          ],
          [
           "Sun",
           "Male"
          ],
          [
           "Sun",
           "Male"
          ],
          [
           "Sun",
           "Male"
          ],
          [
           "Sun",
           "Male"
          ],
          [
           "Sat",
           "Male"
          ],
          [
           "Sat",
           "Male"
          ],
          [
           "Sat",
           "Male"
          ],
          [
           "Sat",
           "Male"
          ],
          [
           "Sat",
           "Male"
          ],
          [
           "Sat",
           "Male"
          ],
          [
           "Sat",
           "Female"
          ],
          [
           "Sat",
           "Male"
          ],
          [
           "Sat",
           "Male"
          ],
          [
           "Thur",
           "Female"
          ]
         ],
         "hovertemplate": "smoker=No<br>time=Dinner<br>total_bill=%{x}<br>tip=%{y}<br>size=%{marker.size}<br>day=%{customdata[0]}<br>sex=%{customdata[1]}<extra></extra>",
         "legendgroup": "No, Dinner",
         "marker": {
          "color": "#636efa",
          "size": [
           2,
           3,
           3,
           2,
           4,
           4,
           2,
           4,
           2,
           2,
           2,
           4,
           2,
           4,
           2,
           2,
           3,
           3,
           3,
           3,
           2,
           2,
           2,
           4,
           2,
           4,
           2,
           2,
           2,
           2,
           2,
           4,
           2,
           4,
           2,
           3,
           3,
           3,
           3,
           3,
           3,
           2,
           2,
           2,
           4,
           2,
           2,
           4,
           3,
           2,
           2,
           2,
           4,
           2,
           4,
           2,
           2,
           4,
           3,
           3,
           2,
           2,
           2,
           3,
           2,
           2,
           2,
           2,
           2,
           2,
           2,
           2,
           1,
           3,
           2,
           3,
           2,
           4,
           2,
           2,
           3,
           4,
           4,
           5,
           6,
           4,
           2,
           4,
           4,
           2,
           3,
           2,
           3,
           2,
           4,
           5,
           4,
           4,
           2,
           2,
           2,
           2,
           3,
           3,
           2,
           2
          ],
          "sizemode": "area",
          "sizeref": 0.015,
          "symbol": "circle"
         },
         "mode": "markers",
         "name": "No, Dinner",
         "orientation": "v",
         "showlegend": true,
         "type": "scatter",
         "x": [
          16.99,
          10.34,
          21.01,
          23.68,
          24.59,
          25.29,
          8.77,
          26.88,
          15.04,
          14.78,
          10.27,
          35.26,
          15.42,
          18.43,
          14.83,
          21.58,
          10.33,
          16.29,
          16.97,
          20.65,
          17.92,
          20.29,
          15.77,
          39.42,
          19.82,
          17.81,
          13.37,
          12.69,
          21.7,
          19.65,
          9.55,
          18.35,
          15.06,
          20.69,
          17.78,
          24.06,
          16.31,
          16.93,
          18.69,
          31.27,
          16.04,
          17.46,
          13.94,
          9.68,
          30.4,
          18.29,
          22.23,
          32.4,
          28.55,
          18.04,
          12.54,
          10.29,
          34.81,
          9.94,
          25.56,
          19.49,
          26.41,
          48.27,
          17.59,
          20.08,
          16.45,
          20.23,
          12.02,
          17.07,
          14.73,
          10.51,
          22.49,
          22.75,
          12.46,
          20.92,
          18.24,
          14,
          7.25,
          38.07,
          23.95,
          25.71,
          17.31,
          29.93,
          14.07,
          13.13,
          17.26,
          24.55,
          19.77,
          29.85,
          48.17,
          25,
          13.39,
          16.49,
          21.5,
          12.66,
          16.21,
          13.81,
          24.52,
          20.76,
          31.71,
          20.69,
          48.33,
          20.45,
          13.28,
          11.61,
          10.77,
          10.07,
          35.83,
          29.03,
          17.82,
          18.78
         ],
         "xaxis": "x",
         "y": [
          1.01,
          1.66,
          3.5,
          3.31,
          3.61,
          4.71,
          2,
          3.12,
          1.96,
          3.23,
          1.71,
          5,
          1.57,
          3,
          3.02,
          3.92,
          1.67,
          3.71,
          3.5,
          3.35,
          4.08,
          2.75,
          2.23,
          7.58,
          3.18,
          2.34,
          2,
          2,
          4.3,
          3,
          1.45,
          2.5,
          3,
          2.45,
          3.27,
          3.6,
          2,
          3.07,
          2.31,
          5,
          2.24,
          2.54,
          3.06,
          1.32,
          5.6,
          3,
          5,
          6,
          2.05,
          3,
          2.5,
          2.6,
          5.2,
          1.56,
          4.34,
          3.51,
          1.5,
          6.73,
          2.64,
          3.15,
          2.47,
          2.01,
          1.97,
          3,
          2.2,
          1.25,
          3.5,
          3.25,
          1.5,
          4.08,
          3.76,
          3,
          1,
          4,
          2.55,
          4,
          3.5,
          5.07,
          2.5,
          2,
          2.74,
          2,
          2,
          5.14,
          5,
          3.75,
          2.61,
          2,
          3.5,
          2.5,
          2,
          2,
          3.48,
          2.24,
          4.5,
          5,
          9,
          3,
          2.72,
          3.39,
          1.47,
          1.25,
          4.67,
          5.92,
          1.75,
          3
         ],
         "yaxis": "y"
        },
        {
         "alignmentgroup": "True",
         "bingroup": "x",
         "hovertemplate": "smoker=No<br>time=Dinner<br>total_bill=%{x}<br>count=%{y}<extra></extra>",
         "legendgroup": "No, Dinner",
         "marker": {
          "color": "#636efa"
         },
         "name": "No, Dinner",
         "offsetgroup": "No, Dinner",
         "opacity": 0.5,
         "showlegend": false,
         "type": "histogram",
         "x": [
          16.99,
          10.34,
          21.01,
          23.68,
          24.59,
          25.29,
          8.77,
          26.88,
          15.04,
          14.78,
          10.27,
          35.26,
          15.42,
          18.43,
          14.83,
          21.58,
          10.33,
          16.29,
          16.97,
          20.65,
          17.92,
          20.29,
          15.77,
          39.42,
          19.82,
          17.81,
          13.37,
          12.69,
          21.7,
          19.65,
          9.55,
          18.35,
          15.06,
          20.69,
          17.78,
          24.06,
          16.31,
          16.93,
          18.69,
          31.27,
          16.04,
          17.46,
          13.94,
          9.68,
          30.4,
          18.29,
          22.23,
          32.4,
          28.55,
          18.04,
          12.54,
          10.29,
          34.81,
          9.94,
          25.56,
          19.49,
          26.41,
          48.27,
          17.59,
          20.08,
          16.45,
          20.23,
          12.02,
          17.07,
          14.73,
          10.51,
          22.49,
          22.75,
          12.46,
          20.92,
          18.24,
          14,
          7.25,
          38.07,
          23.95,
          25.71,
          17.31,
          29.93,
          14.07,
          13.13,
          17.26,
          24.55,
          19.77,
          29.85,
          48.17,
          25,
          13.39,
          16.49,
          21.5,
          12.66,
          16.21,
          13.81,
          24.52,
          20.76,
          31.71,
          20.69,
          48.33,
          20.45,
          13.28,
          11.61,
          10.77,
          10.07,
          35.83,
          29.03,
          17.82,
          18.78
         ],
         "xaxis": "x3",
         "yaxis": "y3"
        },
        {
         "alignmentgroup": "True",
         "boxpoints": "all",
         "customdata": [
          [
           "Sun",
           "Female"
          ],
          [
           "Sun",
           "Male"
          ],
          [
           "Sun",
           "Male"
          ],
          [
           "Sun",
           "Male"
          ],
          [
           "Sun",
           "Female"
          ],
          [
           "Sun",
           "Male"
          ],
          [
           "Sun",
           "Male"
          ],
          [
           "Sun",
           "Male"
          ],
          [
           "Sun",
           "Male"
          ],
          [
           "Sun",
           "Male"
          ],
          [
           "Sun",
           "Male"
          ],
          [
           "Sun",
           "Female"
          ],
          [
           "Sun",
           "Male"
          ],
          [
           "Sun",
           "Male"
          ],
          [
           "Sun",
           "Female"
          ],
          [
           "Sun",
           "Male"
          ],
          [
           "Sun",
           "Female"
          ],
          [
           "Sun",
           "Male"
          ],
          [
           "Sun",
           "Female"
          ],
          [
           "Sat",
           "Male"
          ],
          [
           "Sat",
           "Male"
          ],
          [
           "Sat",
           "Female"
          ],
          [
           "Sat",
           "Female"
          ],
          [
           "Sat",
           "Male"
          ],
          [
           "Sat",
           "Male"
          ],
          [
           "Sat",
           "Male"
          ],
          [
           "Sat",
           "Male"
          ],
          [
           "Sat",
           "Male"
          ],
          [
           "Sat",
           "Male"
          ],
          [
           "Sat",
           "Female"
          ],
          [
           "Sat",
           "Male"
          ],
          [
           "Sat",
           "Male"
          ],
          [
           "Sat",
           "Female"
          ],
          [
           "Sat",
           "Female"
          ],
          [
           "Sat",
           "Male"
          ],
          [
           "Sat",
           "Male"
          ],
          [
           "Sat",
           "Male"
          ],
          [
           "Sat",
           "Female"
          ],
          [
           "Sat",
           "Male"
          ],
          [
           "Sat",
           "Male"
          ],
          [
           "Sat",
           "Male"
          ],
          [
           "Sun",
           "Male"
          ],
          [
           "Sun",
           "Male"
          ],
          [
           "Sun",
           "Male"
          ],
          [
           "Sun",
           "Male"
          ],
          [
           "Sun",
           "Male"
          ],
          [
           "Sun",
           "Male"
          ],
          [
           "Sun",
           "Male"
          ],
          [
           "Sun",
           "Male"
          ],
          [
           "Sun",
           "Male"
          ],
          [
           "Sun",
           "Male"
          ],
          [
           "Sun",
           "Female"
          ],
          [
           "Sun",
           "Female"
          ],
          [
           "Sun",
           "Male"
          ],
          [
           "Sun",
           "Male"
          ],
          [
           "Sun",
           "Male"
          ],
          [
           "Sat",
           "Female"
          ],
          [
           "Sat",
           "Male"
          ],
          [
           "Sat",
           "Male"
          ],
          [
           "Sat",
           "Male"
          ],
          [
           "Sat",
           "Female"
          ],
          [
           "Sat",
           "Male"
          ],
          [
           "Sat",
           "Male"
          ],
          [
           "Sat",
           "Female"
          ],
          [
           "Sat",
           "Female"
          ],
          [
           "Sat",
           "Male"
          ],
          [
           "Fri",
           "Male"
          ],
          [
           "Fri",
           "Female"
          ],
          [
           "Fri",
           "Male"
          ],
          [
           "Sat",
           "Female"
          ],
          [
           "Sat",
           "Male"
          ],
          [
           "Sat",
           "Male"
          ],
          [
           "Sat",
           "Female"
          ],
          [
           "Sun",
           "Male"
          ],
          [
           "Sun",
           "Male"
          ],
          [
           "Sun",
           "Female"
          ],
          [
           "Sun",
           "Female"
          ],
          [
           "Sun",
           "Male"
          ],
          [
           "Sun",
           "Male"
          ],
          [
           "Sun",
           "Male"
          ],
          [
           "Sun",
           "Male"
          ],
          [
           "Sun",
           "Male"
          ],
          [
           "Sun",
           "Male"
          ],
          [
           "Sun",
           "Female"
          ],
          [
           "Sun",
           "Male"
          ],
          [
           "Sun",
           "Female"
          ],
          [
           "Sun",
           "Female"
          ],
          [
           "Sun",
           "Male"
          ],
          [
           "Sun",
           "Male"
          ],
          [
           "Sun",
           "Male"
          ],
          [
           "Sun",
           "Female"
          ],
          [
           "Sun",
           "Male"
          ],
          [
           "Sun",
           "Male"
          ],
          [
           "Sun",
           "Male"
          ],
          [
           "Sun",
           "Male"
          ],
          [
           "Sun",
           "Male"
          ],
          [
           "Sat",
           "Male"
          ],
          [
           "Sat",
           "Male"
          ],
          [
           "Sat",
           "Male"
          ],
          [
           "Sat",
           "Male"
          ],
          [
           "Sat",
           "Male"
          ],
          [
           "Sat",
           "Male"
          ],
          [
           "Sat",
           "Female"
          ],
          [
           "Sat",
           "Male"
          ],
          [
           "Sat",
           "Male"
          ],
          [
           "Thur",
           "Female"
          ]
         ],
         "fillcolor": "rgba(255,255,255,0)",
         "hoveron": "points",
         "hovertemplate": "smoker=No<br>time=Dinner<br>tip=%{y}<br>day=%{customdata[0]}<br>sex=%{customdata[1]}<extra></extra>",
         "jitter": 0,
         "legendgroup": "No, Dinner",
         "line": {
          "color": "rgba(255,255,255,0)"
         },
         "marker": {
          "color": "#636efa",
          "symbol": "line-ew-open"
         },
         "name": "No, Dinner",
         "offsetgroup": "No, Dinner",
         "showlegend": false,
         "type": "box",
         "xaxis": "x2",
         "y": [
          1.01,
          1.66,
          3.5,
          3.31,
          3.61,
          4.71,
          2,
          3.12,
          1.96,
          3.23,
          1.71,
          5,
          1.57,
          3,
          3.02,
          3.92,
          1.67,
          3.71,
          3.5,
          3.35,
          4.08,
          2.75,
          2.23,
          7.58,
          3.18,
          2.34,
          2,
          2,
          4.3,
          3,
          1.45,
          2.5,
          3,
          2.45,
          3.27,
          3.6,
          2,
          3.07,
          2.31,
          5,
          2.24,
          2.54,
          3.06,
          1.32,
          5.6,
          3,
          5,
          6,
          2.05,
          3,
          2.5,
          2.6,
          5.2,
          1.56,
          4.34,
          3.51,
          1.5,
          6.73,
          2.64,
          3.15,
          2.47,
          2.01,
          1.97,
          3,
          2.2,
          1.25,
          3.5,
          3.25,
          1.5,
          4.08,
          3.76,
          3,
          1,
          4,
          2.55,
          4,
          3.5,
          5.07,
          2.5,
          2,
          2.74,
          2,
          2,
          5.14,
          5,
          3.75,
          2.61,
          2,
          3.5,
          2.5,
          2,
          2,
          3.48,
          2.24,
          4.5,
          5,
          9,
          3,
          2.72,
          3.39,
          1.47,
          1.25,
          4.67,
          5.92,
          1.75,
          3
         ],
         "yaxis": "y2"
        },
        {
         "customdata": [
          [
           "Thur",
           "Male"
          ],
          [
           "Thur",
           "Male"
          ],
          [
           "Thur",
           "Male"
          ],
          [
           "Thur",
           "Male"
          ],
          [
           "Thur",
           "Female"
          ],
          [
           "Thur",
           "Male"
          ],
          [
           "Thur",
           "Female"
          ],
          [
           "Thur",
           "Male"
          ],
          [
           "Thur",
           "Male"
          ],
          [
           "Thur",
           "Male"
          ],
          [
           "Thur",
           "Male"
          ],
          [
           "Thur",
           "Female"
          ],
          [
           "Thur",
           "Female"
          ],
          [
           "Thur",
           "Female"
          ],
          [
           "Thur",
           "Male"
          ],
          [
           "Thur",
           "Female"
          ],
          [
           "Thur",
           "Male"
          ],
          [
           "Thur",
           "Male"
          ],
          [
           "Thur",
           "Female"
          ],
          [
           "Thur",
           "Female"
          ],
          [
           "Thur",
           "Male"
          ],
          [
           "Thur",
           "Female"
          ],
          [
           "Thur",
           "Female"
          ],
          [
           "Thur",
           "Male"
          ],
          [
           "Thur",
           "Male"
          ],
          [
           "Thur",
           "Female"
          ],
          [
           "Thur",
           "Female"
          ],
          [
           "Thur",
           "Female"
          ],
          [
           "Thur",
           "Female"
          ],
          [
           "Thur",
           "Female"
          ],
          [
           "Thur",
           "Female"
          ],
          [
           "Thur",
           "Female"
          ],
          [
           "Thur",
           "Female"
          ],
          [
           "Thur",
           "Female"
          ],
          [
           "Thur",
           "Male"
          ],
          [
           "Thur",
           "Male"
          ],
          [
           "Thur",
           "Female"
          ],
          [
           "Thur",
           "Female"
          ],
          [
           "Thur",
           "Female"
          ],
          [
           "Thur",
           "Female"
          ],
          [
           "Thur",
           "Female"
          ],
          [
           "Thur",
           "Male"
          ],
          [
           "Thur",
           "Male"
          ],
          [
           "Thur",
           "Male"
          ],
          [
           "Fri",
           "Female"
          ]
         ],
         "hovertemplate": "smoker=No<br>time=Lunch<br>total_bill=%{x}<br>tip=%{y}<br>size=%{marker.size}<br>day=%{customdata[0]}<br>sex=%{customdata[1]}<extra></extra>",
         "legendgroup": "No, Lunch",
         "marker": {
          "color": "#636efa",
          "size": [
           4,
           2,
           2,
           2,
           1,
           2,
           4,
           2,
           2,
           2,
           2,
           2,
           2,
           4,
           2,
           2,
           2,
           2,
           2,
           6,
           2,
           2,
           2,
           3,
           2,
           2,
           2,
           2,
           2,
           2,
           2,
           2,
           2,
           2,
           6,
           5,
           6,
           2,
           2,
           3,
           2,
           2,
           2,
           2,
           3
          ],
          "sizemode": "area",
          "sizeref": 0.015,
          "symbol": "diamond"
         },
         "mode": "markers",
         "name": "No, Lunch",
         "orientation": "v",
         "showlegend": true,
         "type": "scatter",
         "x": [
          27.2,
          22.76,
          17.29,
          16.66,
          10.07,
          15.98,
          34.83,
          13.03,
          18.28,
          24.71,
          21.16,
          10.65,
          12.43,
          24.08,
          11.69,
          13.42,
          14.26,
          15.95,
          12.48,
          29.8,
          8.52,
          14.52,
          11.38,
          22.82,
          19.08,
          20.27,
          11.17,
          12.26,
          18.26,
          8.51,
          10.33,
          14.15,
          13.16,
          17.47,
          34.3,
          41.19,
          27.05,
          16.43,
          8.35,
          18.64,
          11.87,
          9.78,
          7.51,
          7.56,
          15.98
         ],
         "xaxis": "x",
         "y": [
          4,
          3,
          2.71,
          3.4,
          1.83,
          2.03,
          5.17,
          2,
          4,
          5.85,
          3,
          1.5,
          1.8,
          2.92,
          2.31,
          1.68,
          2.5,
          2,
          2.52,
          4.2,
          1.48,
          2,
          2,
          2.18,
          1.5,
          2.83,
          1.5,
          2,
          3.25,
          1.25,
          2,
          2,
          2.75,
          3.5,
          6.7,
          5,
          5,
          2.3,
          1.5,
          1.36,
          1.63,
          1.73,
          2,
          1.44,
          3
         ],
         "yaxis": "y"
        },
        {
         "alignmentgroup": "True",
         "bingroup": "x",
         "hovertemplate": "smoker=No<br>time=Lunch<br>total_bill=%{x}<br>count=%{y}<extra></extra>",
         "legendgroup": "No, Lunch",
         "marker": {
          "color": "#636efa"
         },
         "name": "No, Lunch",
         "offsetgroup": "No, Lunch",
         "opacity": 0.5,
         "showlegend": false,
         "type": "histogram",
         "x": [
          27.2,
          22.76,
          17.29,
          16.66,
          10.07,
          15.98,
          34.83,
          13.03,
          18.28,
          24.71,
          21.16,
          10.65,
          12.43,
          24.08,
          11.69,
          13.42,
          14.26,
          15.95,
          12.48,
          29.8,
          8.52,
          14.52,
          11.38,
          22.82,
          19.08,
          20.27,
          11.17,
          12.26,
          18.26,
          8.51,
          10.33,
          14.15,
          13.16,
          17.47,
          34.3,
          41.19,
          27.05,
          16.43,
          8.35,
          18.64,
          11.87,
          9.78,
          7.51,
          7.56,
          15.98
         ],
         "xaxis": "x3",
         "yaxis": "y3"
        },
        {
         "alignmentgroup": "True",
         "boxpoints": "all",
         "customdata": [
          [
           "Thur",
           "Male"
          ],
          [
           "Thur",
           "Male"
          ],
          [
           "Thur",
           "Male"
          ],
          [
           "Thur",
           "Male"
          ],
          [
           "Thur",
           "Female"
          ],
          [
           "Thur",
           "Male"
          ],
          [
           "Thur",
           "Female"
          ],
          [
           "Thur",
           "Male"
          ],
          [
           "Thur",
           "Male"
          ],
          [
           "Thur",
           "Male"
          ],
          [
           "Thur",
           "Male"
          ],
          [
           "Thur",
           "Female"
          ],
          [
           "Thur",
           "Female"
          ],
          [
           "Thur",
           "Female"
          ],
          [
           "Thur",
           "Male"
          ],
          [
           "Thur",
           "Female"
          ],
          [
           "Thur",
           "Male"
          ],
          [
           "Thur",
           "Male"
          ],
          [
           "Thur",
           "Female"
          ],
          [
           "Thur",
           "Female"
          ],
          [
           "Thur",
           "Male"
          ],
          [
           "Thur",
           "Female"
          ],
          [
           "Thur",
           "Female"
          ],
          [
           "Thur",
           "Male"
          ],
          [
           "Thur",
           "Male"
          ],
          [
           "Thur",
           "Female"
          ],
          [
           "Thur",
           "Female"
          ],
          [
           "Thur",
           "Female"
          ],
          [
           "Thur",
           "Female"
          ],
          [
           "Thur",
           "Female"
          ],
          [
           "Thur",
           "Female"
          ],
          [
           "Thur",
           "Female"
          ],
          [
           "Thur",
           "Female"
          ],
          [
           "Thur",
           "Female"
          ],
          [
           "Thur",
           "Male"
          ],
          [
           "Thur",
           "Male"
          ],
          [
           "Thur",
           "Female"
          ],
          [
           "Thur",
           "Female"
          ],
          [
           "Thur",
           "Female"
          ],
          [
           "Thur",
           "Female"
          ],
          [
           "Thur",
           "Female"
          ],
          [
           "Thur",
           "Male"
          ],
          [
           "Thur",
           "Male"
          ],
          [
           "Thur",
           "Male"
          ],
          [
           "Fri",
           "Female"
          ]
         ],
         "fillcolor": "rgba(255,255,255,0)",
         "hoveron": "points",
         "hovertemplate": "smoker=No<br>time=Lunch<br>tip=%{y}<br>day=%{customdata[0]}<br>sex=%{customdata[1]}<extra></extra>",
         "jitter": 0,
         "legendgroup": "No, Lunch",
         "line": {
          "color": "rgba(255,255,255,0)"
         },
         "marker": {
          "color": "#636efa",
          "symbol": "line-ew-open"
         },
         "name": "No, Lunch",
         "offsetgroup": "No, Lunch",
         "showlegend": false,
         "type": "box",
         "xaxis": "x2",
         "y": [
          4,
          3,
          2.71,
          3.4,
          1.83,
          2.03,
          5.17,
          2,
          4,
          5.85,
          3,
          1.5,
          1.8,
          2.92,
          2.31,
          1.68,
          2.5,
          2,
          2.52,
          4.2,
          1.48,
          2,
          2,
          2.18,
          1.5,
          2.83,
          1.5,
          2,
          3.25,
          1.25,
          2,
          2,
          2.75,
          3.5,
          6.7,
          5,
          5,
          2.3,
          1.5,
          1.36,
          1.63,
          1.73,
          2,
          1.44,
          3
         ],
         "yaxis": "y2"
        },
        {
         "customdata": [
          [
           "Sat",
           "Male"
          ],
          [
           "Sat",
           "Male"
          ],
          [
           "Sat",
           "Male"
          ],
          [
           "Sat",
           "Male"
          ],
          [
           "Sat",
           "Male"
          ],
          [
           "Sat",
           "Male"
          ],
          [
           "Sat",
           "Female"
          ],
          [
           "Sat",
           "Male"
          ],
          [
           "Sat",
           "Female"
          ],
          [
           "Sat",
           "Female"
          ],
          [
           "Sat",
           "Male"
          ],
          [
           "Fri",
           "Male"
          ],
          [
           "Fri",
           "Female"
          ],
          [
           "Fri",
           "Female"
          ],
          [
           "Fri",
           "Male"
          ],
          [
           "Fri",
           "Male"
          ],
          [
           "Fri",
           "Male"
          ],
          [
           "Fri",
           "Male"
          ],
          [
           "Fri",
           "Female"
          ],
          [
           "Fri",
           "Female"
          ],
          [
           "Sat",
           "Female"
          ],
          [
           "Sat",
           "Female"
          ],
          [
           "Sat",
           "Male"
          ],
          [
           "Sat",
           "Male"
          ],
          [
           "Sat",
           "Male"
          ],
          [
           "Sat",
           "Female"
          ],
          [
           "Sun",
           "Female"
          ],
          [
           "Sat",
           "Female"
          ],
          [
           "Sat",
           "Female"
          ],
          [
           "Sat",
           "Male"
          ],
          [
           "Sat",
           "Male"
          ],
          [
           "Sun",
           "Male"
          ],
          [
           "Sun",
           "Male"
          ],
          [
           "Sun",
           "Male"
          ],
          [
           "Sun",
           "Male"
          ],
          [
           "Sun",
           "Male"
          ],
          [
           "Sun",
           "Male"
          ],
          [
           "Sun",
           "Female"
          ],
          [
           "Sun",
           "Male"
          ],
          [
           "Sun",
           "Male"
          ],
          [
           "Sun",
           "Male"
          ],
          [
           "Sun",
           "Male"
          ],
          [
           "Sun",
           "Male"
          ],
          [
           "Sun",
           "Male"
          ],
          [
           "Sun",
           "Female"
          ],
          [
           "Sun",
           "Male"
          ],
          [
           "Sun",
           "Female"
          ],
          [
           "Sun",
           "Male"
          ],
          [
           "Sun",
           "Male"
          ],
          [
           "Sat",
           "Male"
          ],
          [
           "Sat",
           "Male"
          ],
          [
           "Sat",
           "Male"
          ],
          [
           "Sat",
           "Female"
          ],
          [
           "Sat",
           "Male"
          ],
          [
           "Sat",
           "Male"
          ],
          [
           "Sat",
           "Female"
          ],
          [
           "Sat",
           "Female"
          ],
          [
           "Sat",
           "Female"
          ],
          [
           "Sat",
           "Male"
          ],
          [
           "Sat",
           "Male"
          ],
          [
           "Sat",
           "Male"
          ],
          [
           "Sat",
           "Female"
          ],
          [
           "Sat",
           "Female"
          ],
          [
           "Sat",
           "Male"
          ],
          [
           "Sat",
           "Male"
          ],
          [
           "Sat",
           "Male"
          ],
          [
           "Sat",
           "Male"
          ],
          [
           "Sat",
           "Male"
          ],
          [
           "Sat",
           "Female"
          ],
          [
           "Sat",
           "Male"
          ]
         ],
         "hovertemplate": "smoker=Yes<br>time=Dinner<br>total_bill=%{x}<br>tip=%{y}<br>size=%{marker.size}<br>day=%{customdata[0]}<br>sex=%{customdata[1]}<extra></extra>",
         "legendgroup": "Yes, Dinner",
         "marker": {
          "color": "#EF553B",
          "size": [
           4,
           2,
           2,
           2,
           2,
           4,
           1,
           2,
           2,
           2,
           2,
           2,
           2,
           2,
           4,
           2,
           2,
           2,
           2,
           2,
           3,
           2,
           2,
           2,
           2,
           2,
           2,
           2,
           2,
           3,
           2,
           2,
           2,
           2,
           2,
           2,
           2,
           2,
           2,
           4,
           2,
           3,
           4,
           2,
           3,
           5,
           3,
           3,
           2,
           3,
           4,
           2,
           2,
           3,
           4,
           2,
           3,
           2,
           5,
           2,
           2,
           4,
           2,
           4,
           3,
           2,
           2,
           2,
           2,
           2
          ],
          "sizemode": "area",
          "sizeref": 0.015,
          "symbol": "circle"
         },
         "mode": "markers",
         "name": "Yes, Dinner",
         "orientation": "v",
         "showlegend": true,
         "type": "scatter",
         "x": [
          38.01,
          11.24,
          20.29,
          13.81,
          11.02,
          18.29,
          3.07,
          15.01,
          26.86,
          25.28,
          17.92,
          28.97,
          5.75,
          16.32,
          40.17,
          27.28,
          12.03,
          21.01,
          11.35,
          15.38,
          44.3,
          22.42,
          15.36,
          20.49,
          25.21,
          14.31,
          17.51,
          10.59,
          10.63,
          50.81,
          15.81,
          7.25,
          31.85,
          16.82,
          32.9,
          17.89,
          14.48,
          9.6,
          34.63,
          34.65,
          23.33,
          45.35,
          23.17,
          40.55,
          20.9,
          30.46,
          18.15,
          23.1,
          15.69,
          26.59,
          38.73,
          24.27,
          12.76,
          30.06,
          25.89,
          13.27,
          28.17,
          12.9,
          28.15,
          11.59,
          7.74,
          30.14,
          22.12,
          24.01,
          15.69,
          15.53,
          12.6,
          32.83,
          27.18,
          22.67
         ],
         "xaxis": "x",
         "y": [
          3,
          1.76,
          3.21,
          2,
          1.98,
          3.76,
          1,
          2.09,
          3.14,
          5,
          3.08,
          3,
          1,
          4.3,
          4.73,
          4,
          1.5,
          3,
          2.5,
          3,
          2.5,
          3.48,
          1.64,
          4.06,
          4.29,
          4,
          3,
          1.61,
          2,
          10,
          3.16,
          5.15,
          3.18,
          4,
          3.11,
          2,
          2,
          4,
          3.55,
          3.68,
          5.65,
          3.5,
          6.5,
          3,
          3.5,
          2,
          3.5,
          4,
          1.5,
          3.41,
          3,
          2.03,
          2.23,
          2,
          5.16,
          2.5,
          6.5,
          1.1,
          3,
          1.5,
          1.44,
          3.09,
          2.88,
          2,
          3,
          3,
          1,
          1.17,
          2,
          2
         ],
         "yaxis": "y"
        },
        {
         "alignmentgroup": "True",
         "bingroup": "x",
         "hovertemplate": "smoker=Yes<br>time=Dinner<br>total_bill=%{x}<br>count=%{y}<extra></extra>",
         "legendgroup": "Yes, Dinner",
         "marker": {
          "color": "#EF553B"
         },
         "name": "Yes, Dinner",
         "offsetgroup": "Yes, Dinner",
         "opacity": 0.5,
         "showlegend": false,
         "type": "histogram",
         "x": [
          38.01,
          11.24,
          20.29,
          13.81,
          11.02,
          18.29,
          3.07,
          15.01,
          26.86,
          25.28,
          17.92,
          28.97,
          5.75,
          16.32,
          40.17,
          27.28,
          12.03,
          21.01,
          11.35,
          15.38,
          44.3,
          22.42,
          15.36,
          20.49,
          25.21,
          14.31,
          17.51,
          10.59,
          10.63,
          50.81,
          15.81,
          7.25,
          31.85,
          16.82,
          32.9,
          17.89,
          14.48,
          9.6,
          34.63,
          34.65,
          23.33,
          45.35,
          23.17,
          40.55,
          20.9,
          30.46,
          18.15,
          23.1,
          15.69,
          26.59,
          38.73,
          24.27,
          12.76,
          30.06,
          25.89,
          13.27,
          28.17,
          12.9,
          28.15,
          11.59,
          7.74,
          30.14,
          22.12,
          24.01,
          15.69,
          15.53,
          12.6,
          32.83,
          27.18,
          22.67
         ],
         "xaxis": "x3",
         "yaxis": "y3"
        },
        {
         "alignmentgroup": "True",
         "boxpoints": "all",
         "customdata": [
          [
           "Sat",
           "Male"
          ],
          [
           "Sat",
           "Male"
          ],
          [
           "Sat",
           "Male"
          ],
          [
           "Sat",
           "Male"
          ],
          [
           "Sat",
           "Male"
          ],
          [
           "Sat",
           "Male"
          ],
          [
           "Sat",
           "Female"
          ],
          [
           "Sat",
           "Male"
          ],
          [
           "Sat",
           "Female"
          ],
          [
           "Sat",
           "Female"
          ],
          [
           "Sat",
           "Male"
          ],
          [
           "Fri",
           "Male"
          ],
          [
           "Fri",
           "Female"
          ],
          [
           "Fri",
           "Female"
          ],
          [
           "Fri",
           "Male"
          ],
          [
           "Fri",
           "Male"
          ],
          [
           "Fri",
           "Male"
          ],
          [
           "Fri",
           "Male"
          ],
          [
           "Fri",
           "Female"
          ],
          [
           "Fri",
           "Female"
          ],
          [
           "Sat",
           "Female"
          ],
          [
           "Sat",
           "Female"
          ],
          [
           "Sat",
           "Male"
          ],
          [
           "Sat",
           "Male"
          ],
          [
           "Sat",
           "Male"
          ],
          [
           "Sat",
           "Female"
          ],
          [
           "Sun",
           "Female"
          ],
          [
           "Sat",
           "Female"
          ],
          [
           "Sat",
           "Female"
          ],
          [
           "Sat",
           "Male"
          ],
          [
           "Sat",
           "Male"
          ],
          [
           "Sun",
           "Male"
          ],
          [
           "Sun",
           "Male"
          ],
          [
           "Sun",
           "Male"
          ],
          [
           "Sun",
           "Male"
          ],
          [
           "Sun",
           "Male"
          ],
          [
           "Sun",
           "Male"
          ],
          [
           "Sun",
           "Female"
          ],
          [
           "Sun",
           "Male"
          ],
          [
           "Sun",
           "Male"
          ],
          [
           "Sun",
           "Male"
          ],
          [
           "Sun",
           "Male"
          ],
          [
           "Sun",
           "Male"
          ],
          [
           "Sun",
           "Male"
          ],
          [
           "Sun",
           "Female"
          ],
          [
           "Sun",
           "Male"
          ],
          [
           "Sun",
           "Female"
          ],
          [
           "Sun",
           "Male"
          ],
          [
           "Sun",
           "Male"
          ],
          [
           "Sat",
           "Male"
          ],
          [
           "Sat",
           "Male"
          ],
          [
           "Sat",
           "Male"
          ],
          [
           "Sat",
           "Female"
          ],
          [
           "Sat",
           "Male"
          ],
          [
           "Sat",
           "Male"
          ],
          [
           "Sat",
           "Female"
          ],
          [
           "Sat",
           "Female"
          ],
          [
           "Sat",
           "Female"
          ],
          [
           "Sat",
           "Male"
          ],
          [
           "Sat",
           "Male"
          ],
          [
           "Sat",
           "Male"
          ],
          [
           "Sat",
           "Female"
          ],
          [
           "Sat",
           "Female"
          ],
          [
           "Sat",
           "Male"
          ],
          [
           "Sat",
           "Male"
          ],
          [
           "Sat",
           "Male"
          ],
          [
           "Sat",
           "Male"
          ],
          [
           "Sat",
           "Male"
          ],
          [
           "Sat",
           "Female"
          ],
          [
           "Sat",
           "Male"
          ]
         ],
         "fillcolor": "rgba(255,255,255,0)",
         "hoveron": "points",
         "hovertemplate": "smoker=Yes<br>time=Dinner<br>tip=%{y}<br>day=%{customdata[0]}<br>sex=%{customdata[1]}<extra></extra>",
         "jitter": 0,
         "legendgroup": "Yes, Dinner",
         "line": {
          "color": "rgba(255,255,255,0)"
         },
         "marker": {
          "color": "#EF553B",
          "symbol": "line-ew-open"
         },
         "name": "Yes, Dinner",
         "offsetgroup": "Yes, Dinner",
         "showlegend": false,
         "type": "box",
         "xaxis": "x2",
         "y": [
          3,
          1.76,
          3.21,
          2,
          1.98,
          3.76,
          1,
          2.09,
          3.14,
          5,
          3.08,
          3,
          1,
          4.3,
          4.73,
          4,
          1.5,
          3,
          2.5,
          3,
          2.5,
          3.48,
          1.64,
          4.06,
          4.29,
          4,
          3,
          1.61,
          2,
          10,
          3.16,
          5.15,
          3.18,
          4,
          3.11,
          2,
          2,
          4,
          3.55,
          3.68,
          5.65,
          3.5,
          6.5,
          3,
          3.5,
          2,
          3.5,
          4,
          1.5,
          3.41,
          3,
          2.03,
          2.23,
          2,
          5.16,
          2.5,
          6.5,
          1.1,
          3,
          1.5,
          1.44,
          3.09,
          2.88,
          2,
          3,
          3,
          1,
          1.17,
          2,
          2
         ],
         "yaxis": "y2"
        },
        {
         "customdata": [
          [
           "Thur",
           "Male"
          ],
          [
           "Thur",
           "Male"
          ],
          [
           "Thur",
           "Male"
          ],
          [
           "Thur",
           "Female"
          ],
          [
           "Thur",
           "Male"
          ],
          [
           "Thur",
           "Male"
          ],
          [
           "Thur",
           "Male"
          ],
          [
           "Thur",
           "Male"
          ],
          [
           "Thur",
           "Female"
          ],
          [
           "Thur",
           "Female"
          ],
          [
           "Thur",
           "Male"
          ],
          [
           "Thur",
           "Male"
          ],
          [
           "Thur",
           "Female"
          ],
          [
           "Thur",
           "Female"
          ],
          [
           "Thur",
           "Female"
          ],
          [
           "Thur",
           "Male"
          ],
          [
           "Thur",
           "Female"
          ],
          [
           "Fri",
           "Male"
          ],
          [
           "Fri",
           "Female"
          ],
          [
           "Fri",
           "Male"
          ],
          [
           "Fri",
           "Male"
          ],
          [
           "Fri",
           "Female"
          ],
          [
           "Fri",
           "Female"
          ]
         ],
         "hovertemplate": "smoker=Yes<br>time=Lunch<br>total_bill=%{x}<br>tip=%{y}<br>size=%{marker.size}<br>day=%{customdata[0]}<br>sex=%{customdata[1]}<extra></extra>",
         "legendgroup": "Yes, Lunch",
         "marker": {
          "color": "#EF553B",
          "size": [
           2,
           2,
           2,
           2,
           2,
           2,
           2,
           2,
           4,
           2,
           2,
           3,
           2,
           2,
           2,
           4,
           3,
           2,
           2,
           1,
           2,
           2,
           2
          ],
          "sizemode": "area",
          "sizeref": 0.015,
          "symbol": "diamond"
         },
         "mode": "markers",
         "name": "Yes, Lunch",
         "orientation": "v",
         "showlegend": true,
         "type": "scatter",
         "x": [
          19.44,
          32.68,
          16,
          19.81,
          28.44,
          15.48,
          16.58,
          10.34,
          43.11,
          13,
          13.51,
          18.71,
          12.74,
          13,
          16.4,
          20.53,
          16.47,
          12.16,
          13.42,
          8.58,
          13.42,
          16.27,
          10.09
         ],
         "xaxis": "x",
         "y": [
          3,
          5,
          2,
          4.19,
          2.56,
          2.02,
          4,
          2,
          5,
          2,
          2,
          4,
          2.01,
          2,
          2.5,
          4,
          3.23,
          2.2,
          3.48,
          1.92,
          1.58,
          2.5,
          2
         ],
         "yaxis": "y"
        },
        {
         "alignmentgroup": "True",
         "bingroup": "x",
         "hovertemplate": "smoker=Yes<br>time=Lunch<br>total_bill=%{x}<br>count=%{y}<extra></extra>",
         "legendgroup": "Yes, Lunch",
         "marker": {
          "color": "#EF553B"
         },
         "name": "Yes, Lunch",
         "offsetgroup": "Yes, Lunch",
         "opacity": 0.5,
         "showlegend": false,
         "type": "histogram",
         "x": [
          19.44,
          32.68,
          16,
          19.81,
          28.44,
          15.48,
          16.58,
          10.34,
          43.11,
          13,
          13.51,
          18.71,
          12.74,
          13,
          16.4,
          20.53,
          16.47,
          12.16,
          13.42,
          8.58,
          13.42,
          16.27,
          10.09
         ],
         "xaxis": "x3",
         "yaxis": "y3"
        },
        {
         "alignmentgroup": "True",
         "boxpoints": "all",
         "customdata": [
          [
           "Thur",
           "Male"
          ],
          [
           "Thur",
           "Male"
          ],
          [
           "Thur",
           "Male"
          ],
          [
           "Thur",
           "Female"
          ],
          [
           "Thur",
           "Male"
          ],
          [
           "Thur",
           "Male"
          ],
          [
           "Thur",
           "Male"
          ],
          [
           "Thur",
           "Male"
          ],
          [
           "Thur",
           "Female"
          ],
          [
           "Thur",
           "Female"
          ],
          [
           "Thur",
           "Male"
          ],
          [
           "Thur",
           "Male"
          ],
          [
           "Thur",
           "Female"
          ],
          [
           "Thur",
           "Female"
          ],
          [
           "Thur",
           "Female"
          ],
          [
           "Thur",
           "Male"
          ],
          [
           "Thur",
           "Female"
          ],
          [
           "Fri",
           "Male"
          ],
          [
           "Fri",
           "Female"
          ],
          [
           "Fri",
           "Male"
          ],
          [
           "Fri",
           "Male"
          ],
          [
           "Fri",
           "Female"
          ],
          [
           "Fri",
           "Female"
          ]
         ],
         "fillcolor": "rgba(255,255,255,0)",
         "hoveron": "points",
         "hovertemplate": "smoker=Yes<br>time=Lunch<br>tip=%{y}<br>day=%{customdata[0]}<br>sex=%{customdata[1]}<extra></extra>",
         "jitter": 0,
         "legendgroup": "Yes, Lunch",
         "line": {
          "color": "rgba(255,255,255,0)"
         },
         "marker": {
          "color": "#EF553B",
          "symbol": "line-ew-open"
         },
         "name": "Yes, Lunch",
         "offsetgroup": "Yes, Lunch",
         "showlegend": false,
         "type": "box",
         "xaxis": "x2",
         "y": [
          3,
          5,
          2,
          4.19,
          2.56,
          2.02,
          4,
          2,
          5,
          2,
          2,
          4,
          2.01,
          2,
          2.5,
          4,
          3.23,
          2.2,
          3.48,
          1.92,
          1.58,
          2.5,
          2
         ],
         "yaxis": "y2"
        }
       ],
       "layout": {
        "barmode": "overlay",
        "legend": {
         "itemsizing": "constant",
         "title": {
          "text": "smoker, time"
         },
         "tracegroupgap": 0
        },
        "margin": {
         "t": 60
        },
        "template": {
         "data": {
          "bar": [
           {
            "error_x": {
             "color": "#2a3f5f"
            },
            "error_y": {
             "color": "#2a3f5f"
            },
            "marker": {
             "line": {
              "color": "#E5ECF6",
              "width": 0.5
             },
             "pattern": {
              "fillmode": "overlay",
              "size": 10,
              "solidity": 0.2
             }
            },
            "type": "bar"
           }
          ],
          "barpolar": [
           {
            "marker": {
             "line": {
              "color": "#E5ECF6",
              "width": 0.5
             },
             "pattern": {
              "fillmode": "overlay",
              "size": 10,
              "solidity": 0.2
             }
            },
            "type": "barpolar"
           }
          ],
          "carpet": [
           {
            "aaxis": {
             "endlinecolor": "#2a3f5f",
             "gridcolor": "white",
             "linecolor": "white",
             "minorgridcolor": "white",
             "startlinecolor": "#2a3f5f"
            },
            "baxis": {
             "endlinecolor": "#2a3f5f",
             "gridcolor": "white",
             "linecolor": "white",
             "minorgridcolor": "white",
             "startlinecolor": "#2a3f5f"
            },
            "type": "carpet"
           }
          ],
          "choropleth": [
           {
            "colorbar": {
             "outlinewidth": 0,
             "ticks": ""
            },
            "type": "choropleth"
           }
          ],
          "contour": [
           {
            "colorbar": {
             "outlinewidth": 0,
             "ticks": ""
            },
            "colorscale": [
             [
              0,
              "#0d0887"
             ],
             [
              0.1111111111111111,
              "#46039f"
             ],
             [
              0.2222222222222222,
              "#7201a8"
             ],
             [
              0.3333333333333333,
              "#9c179e"
             ],
             [
              0.4444444444444444,
              "#bd3786"
             ],
             [
              0.5555555555555556,
              "#d8576b"
             ],
             [
              0.6666666666666666,
              "#ed7953"
             ],
             [
              0.7777777777777778,
              "#fb9f3a"
             ],
             [
              0.8888888888888888,
              "#fdca26"
             ],
             [
              1,
              "#f0f921"
             ]
            ],
            "type": "contour"
           }
          ],
          "contourcarpet": [
           {
            "colorbar": {
             "outlinewidth": 0,
             "ticks": ""
            },
            "type": "contourcarpet"
           }
          ],
          "heatmap": [
           {
            "colorbar": {
             "outlinewidth": 0,
             "ticks": ""
            },
            "colorscale": [
             [
              0,
              "#0d0887"
             ],
             [
              0.1111111111111111,
              "#46039f"
             ],
             [
              0.2222222222222222,
              "#7201a8"
             ],
             [
              0.3333333333333333,
              "#9c179e"
             ],
             [
              0.4444444444444444,
              "#bd3786"
             ],
             [
              0.5555555555555556,
              "#d8576b"
             ],
             [
              0.6666666666666666,
              "#ed7953"
             ],
             [
              0.7777777777777778,
              "#fb9f3a"
             ],
             [
              0.8888888888888888,
              "#fdca26"
             ],
             [
              1,
              "#f0f921"
             ]
            ],
            "type": "heatmap"
           }
          ],
          "heatmapgl": [
           {
            "colorbar": {
             "outlinewidth": 0,
             "ticks": ""
            },
            "colorscale": [
             [
              0,
              "#0d0887"
             ],
             [
              0.1111111111111111,
              "#46039f"
             ],
             [
              0.2222222222222222,
              "#7201a8"
             ],
             [
              0.3333333333333333,
              "#9c179e"
             ],
             [
              0.4444444444444444,
              "#bd3786"
             ],
             [
              0.5555555555555556,
              "#d8576b"
             ],
             [
              0.6666666666666666,
              "#ed7953"
             ],
             [
              0.7777777777777778,
              "#fb9f3a"
             ],
             [
              0.8888888888888888,
              "#fdca26"
             ],
             [
              1,
              "#f0f921"
             ]
            ],
            "type": "heatmapgl"
           }
          ],
          "histogram": [
           {
            "marker": {
             "pattern": {
              "fillmode": "overlay",
              "size": 10,
              "solidity": 0.2
             }
            },
            "type": "histogram"
           }
          ],
          "histogram2d": [
           {
            "colorbar": {
             "outlinewidth": 0,
             "ticks": ""
            },
            "colorscale": [
             [
              0,
              "#0d0887"
             ],
             [
              0.1111111111111111,
              "#46039f"
             ],
             [
              0.2222222222222222,
              "#7201a8"
             ],
             [
              0.3333333333333333,
              "#9c179e"
             ],
             [
              0.4444444444444444,
              "#bd3786"
             ],
             [
              0.5555555555555556,
              "#d8576b"
             ],
             [
              0.6666666666666666,
              "#ed7953"
             ],
             [
              0.7777777777777778,
              "#fb9f3a"
             ],
             [
              0.8888888888888888,
              "#fdca26"
             ],
             [
              1,
              "#f0f921"
             ]
            ],
            "type": "histogram2d"
           }
          ],
          "histogram2dcontour": [
           {
            "colorbar": {
             "outlinewidth": 0,
             "ticks": ""
            },
            "colorscale": [
             [
              0,
              "#0d0887"
             ],
             [
              0.1111111111111111,
              "#46039f"
             ],
             [
              0.2222222222222222,
              "#7201a8"
             ],
             [
              0.3333333333333333,
              "#9c179e"
             ],
             [
              0.4444444444444444,
              "#bd3786"
             ],
             [
              0.5555555555555556,
              "#d8576b"
             ],
             [
              0.6666666666666666,
              "#ed7953"
             ],
             [
              0.7777777777777778,
              "#fb9f3a"
             ],
             [
              0.8888888888888888,
              "#fdca26"
             ],
             [
              1,
              "#f0f921"
             ]
            ],
            "type": "histogram2dcontour"
           }
          ],
          "mesh3d": [
           {
            "colorbar": {
             "outlinewidth": 0,
             "ticks": ""
            },
            "type": "mesh3d"
           }
          ],
          "parcoords": [
           {
            "line": {
             "colorbar": {
              "outlinewidth": 0,
              "ticks": ""
             }
            },
            "type": "parcoords"
           }
          ],
          "pie": [
           {
            "automargin": true,
            "type": "pie"
           }
          ],
          "scatter": [
           {
            "fillpattern": {
             "fillmode": "overlay",
             "size": 10,
             "solidity": 0.2
            },
            "type": "scatter"
           }
          ],
          "scatter3d": [
           {
            "line": {
             "colorbar": {
              "outlinewidth": 0,
              "ticks": ""
             }
            },
            "marker": {
             "colorbar": {
              "outlinewidth": 0,
              "ticks": ""
             }
            },
            "type": "scatter3d"
           }
          ],
          "scattercarpet": [
           {
            "marker": {
             "colorbar": {
              "outlinewidth": 0,
              "ticks": ""
             }
            },
            "type": "scattercarpet"
           }
          ],
          "scattergeo": [
           {
            "marker": {
             "colorbar": {
              "outlinewidth": 0,
              "ticks": ""
             }
            },
            "type": "scattergeo"
           }
          ],
          "scattergl": [
           {
            "marker": {
             "colorbar": {
              "outlinewidth": 0,
              "ticks": ""
             }
            },
            "type": "scattergl"
           }
          ],
          "scattermapbox": [
           {
            "marker": {
             "colorbar": {
              "outlinewidth": 0,
              "ticks": ""
             }
            },
            "type": "scattermapbox"
           }
          ],
          "scatterpolar": [
           {
            "marker": {
             "colorbar": {
              "outlinewidth": 0,
              "ticks": ""
             }
            },
            "type": "scatterpolar"
           }
          ],
          "scatterpolargl": [
           {
            "marker": {
             "colorbar": {
              "outlinewidth": 0,
              "ticks": ""
             }
            },
            "type": "scatterpolargl"
           }
          ],
          "scatterternary": [
           {
            "marker": {
             "colorbar": {
              "outlinewidth": 0,
              "ticks": ""
             }
            },
            "type": "scatterternary"
           }
          ],
          "surface": [
           {
            "colorbar": {
             "outlinewidth": 0,
             "ticks": ""
            },
            "colorscale": [
             [
              0,
              "#0d0887"
             ],
             [
              0.1111111111111111,
              "#46039f"
             ],
             [
              0.2222222222222222,
              "#7201a8"
             ],
             [
              0.3333333333333333,
              "#9c179e"
             ],
             [
              0.4444444444444444,
              "#bd3786"
             ],
             [
              0.5555555555555556,
              "#d8576b"
             ],
             [
              0.6666666666666666,
              "#ed7953"
             ],
             [
              0.7777777777777778,
              "#fb9f3a"
             ],
             [
              0.8888888888888888,
              "#fdca26"
             ],
             [
              1,
              "#f0f921"
             ]
            ],
            "type": "surface"
           }
          ],
          "table": [
           {
            "cells": {
             "fill": {
              "color": "#EBF0F8"
             },
             "line": {
              "color": "white"
             }
            },
            "header": {
             "fill": {
              "color": "#C8D4E3"
             },
             "line": {
              "color": "white"
             }
            },
            "type": "table"
           }
          ]
         },
         "layout": {
          "annotationdefaults": {
           "arrowcolor": "#2a3f5f",
           "arrowhead": 0,
           "arrowwidth": 1
          },
          "autotypenumbers": "strict",
          "coloraxis": {
           "colorbar": {
            "outlinewidth": 0,
            "ticks": ""
           }
          },
          "colorscale": {
           "diverging": [
            [
             0,
             "#8e0152"
            ],
            [
             0.1,
             "#c51b7d"
            ],
            [
             0.2,
             "#de77ae"
            ],
            [
             0.3,
             "#f1b6da"
            ],
            [
             0.4,
             "#fde0ef"
            ],
            [
             0.5,
             "#f7f7f7"
            ],
            [
             0.6,
             "#e6f5d0"
            ],
            [
             0.7,
             "#b8e186"
            ],
            [
             0.8,
             "#7fbc41"
            ],
            [
             0.9,
             "#4d9221"
            ],
            [
             1,
             "#276419"
            ]
           ],
           "sequential": [
            [
             0,
             "#0d0887"
            ],
            [
             0.1111111111111111,
             "#46039f"
            ],
            [
             0.2222222222222222,
             "#7201a8"
            ],
            [
             0.3333333333333333,
             "#9c179e"
            ],
            [
             0.4444444444444444,
             "#bd3786"
            ],
            [
             0.5555555555555556,
             "#d8576b"
            ],
            [
             0.6666666666666666,
             "#ed7953"
            ],
            [
             0.7777777777777778,
             "#fb9f3a"
            ],
            [
             0.8888888888888888,
             "#fdca26"
            ],
            [
             1,
             "#f0f921"
            ]
           ],
           "sequentialminus": [
            [
             0,
             "#0d0887"
            ],
            [
             0.1111111111111111,
             "#46039f"
            ],
            [
             0.2222222222222222,
             "#7201a8"
            ],
            [
             0.3333333333333333,
             "#9c179e"
            ],
            [
             0.4444444444444444,
             "#bd3786"
            ],
            [
             0.5555555555555556,
             "#d8576b"
            ],
            [
             0.6666666666666666,
             "#ed7953"
            ],
            [
             0.7777777777777778,
             "#fb9f3a"
            ],
            [
             0.8888888888888888,
             "#fdca26"
            ],
            [
             1,
             "#f0f921"
            ]
           ]
          },
          "colorway": [
           "#636efa",
           "#EF553B",
           "#00cc96",
           "#ab63fa",
           "#FFA15A",
           "#19d3f3",
           "#FF6692",
           "#B6E880",
           "#FF97FF",
           "#FECB52"
          ],
          "font": {
           "color": "#2a3f5f"
          },
          "geo": {
           "bgcolor": "white",
           "lakecolor": "white",
           "landcolor": "#E5ECF6",
           "showlakes": true,
           "showland": true,
           "subunitcolor": "white"
          },
          "hoverlabel": {
           "align": "left"
          },
          "hovermode": "closest",
          "mapbox": {
           "style": "light"
          },
          "paper_bgcolor": "white",
          "plot_bgcolor": "#E5ECF6",
          "polar": {
           "angularaxis": {
            "gridcolor": "white",
            "linecolor": "white",
            "ticks": ""
           },
           "bgcolor": "#E5ECF6",
           "radialaxis": {
            "gridcolor": "white",
            "linecolor": "white",
            "ticks": ""
           }
          },
          "scene": {
           "xaxis": {
            "backgroundcolor": "#E5ECF6",
            "gridcolor": "white",
            "gridwidth": 2,
            "linecolor": "white",
            "showbackground": true,
            "ticks": "",
            "zerolinecolor": "white"
           },
           "yaxis": {
            "backgroundcolor": "#E5ECF6",
            "gridcolor": "white",
            "gridwidth": 2,
            "linecolor": "white",
            "showbackground": true,
            "ticks": "",
            "zerolinecolor": "white"
           },
           "zaxis": {
            "backgroundcolor": "#E5ECF6",
            "gridcolor": "white",
            "gridwidth": 2,
            "linecolor": "white",
            "showbackground": true,
            "ticks": "",
            "zerolinecolor": "white"
           }
          },
          "shapedefaults": {
           "line": {
            "color": "#2a3f5f"
           }
          },
          "ternary": {
           "aaxis": {
            "gridcolor": "white",
            "linecolor": "white",
            "ticks": ""
           },
           "baxis": {
            "gridcolor": "white",
            "linecolor": "white",
            "ticks": ""
           },
           "bgcolor": "#E5ECF6",
           "caxis": {
            "gridcolor": "white",
            "linecolor": "white",
            "ticks": ""
           }
          },
          "title": {
           "x": 0.05
          },
          "xaxis": {
           "automargin": true,
           "gridcolor": "white",
           "linecolor": "white",
           "ticks": "",
           "title": {
            "standoff": 15
           },
           "zerolinecolor": "white",
           "zerolinewidth": 2
          },
          "yaxis": {
           "automargin": true,
           "gridcolor": "white",
           "linecolor": "white",
           "ticks": "",
           "title": {
            "standoff": 15
           },
           "zerolinecolor": "white",
           "zerolinewidth": 2
          }
         }
        },
        "xaxis": {
         "anchor": "y",
         "domain": [
          0,
          0.7363
         ],
         "title": {
          "text": "total_bill"
         }
        },
        "xaxis2": {
         "anchor": "y2",
         "domain": [
          0.7413,
          1
         ],
         "matches": "x2",
         "showgrid": false,
         "showline": false,
         "showticklabels": false,
         "ticks": ""
        },
        "xaxis3": {
         "anchor": "y3",
         "domain": [
          0,
          0.7363
         ],
         "matches": "x",
         "showgrid": true,
         "showticklabels": false
        },
        "xaxis4": {
         "anchor": "y4",
         "domain": [
          0.7413,
          1
         ],
         "matches": "x2",
         "showgrid": false,
         "showline": false,
         "showticklabels": false,
         "ticks": ""
        },
        "yaxis": {
         "anchor": "x",
         "domain": [
          0,
          0.7326
         ],
         "title": {
          "text": "tip"
         }
        },
        "yaxis2": {
         "anchor": "x2",
         "domain": [
          0,
          0.7326
         ],
         "matches": "y",
         "showgrid": true,
         "showticklabels": false
        },
        "yaxis3": {
         "anchor": "x3",
         "domain": [
          0.7426,
          1
         ],
         "matches": "y3",
         "showgrid": true,
         "showline": false,
         "showticklabels": false,
         "ticks": ""
        },
        "yaxis4": {
         "anchor": "x4",
         "domain": [
          0.7426,
          1
         ],
         "matches": "y3",
         "showgrid": true,
         "showline": false,
         "showticklabels": false,
         "ticks": ""
        }
       }
      },
      "text/html": [
       "<div>                            <div id=\"89ab7a25-2db3-4ded-8ee7-7f9eefc92d8f\" class=\"plotly-graph-div\" style=\"height:525px; width:100%;\"></div>            <script type=\"text/javascript\">                require([\"plotly\"], function(Plotly) {                    window.PLOTLYENV=window.PLOTLYENV || {};                                    if (document.getElementById(\"89ab7a25-2db3-4ded-8ee7-7f9eefc92d8f\")) {                    Plotly.newPlot(                        \"89ab7a25-2db3-4ded-8ee7-7f9eefc92d8f\",                        [{\"customdata\":[[\"Sun\",\"Female\"],[\"Sun\",\"Male\"],[\"Sun\",\"Male\"],[\"Sun\",\"Male\"],[\"Sun\",\"Female\"],[\"Sun\",\"Male\"],[\"Sun\",\"Male\"],[\"Sun\",\"Male\"],[\"Sun\",\"Male\"],[\"Sun\",\"Male\"],[\"Sun\",\"Male\"],[\"Sun\",\"Female\"],[\"Sun\",\"Male\"],[\"Sun\",\"Male\"],[\"Sun\",\"Female\"],[\"Sun\",\"Male\"],[\"Sun\",\"Female\"],[\"Sun\",\"Male\"],[\"Sun\",\"Female\"],[\"Sat\",\"Male\"],[\"Sat\",\"Male\"],[\"Sat\",\"Female\"],[\"Sat\",\"Female\"],[\"Sat\",\"Male\"],[\"Sat\",\"Male\"],[\"Sat\",\"Male\"],[\"Sat\",\"Male\"],[\"Sat\",\"Male\"],[\"Sat\",\"Male\"],[\"Sat\",\"Female\"],[\"Sat\",\"Male\"],[\"Sat\",\"Male\"],[\"Sat\",\"Female\"],[\"Sat\",\"Female\"],[\"Sat\",\"Male\"],[\"Sat\",\"Male\"],[\"Sat\",\"Male\"],[\"Sat\",\"Female\"],[\"Sat\",\"Male\"],[\"Sat\",\"Male\"],[\"Sat\",\"Male\"],[\"Sun\",\"Male\"],[\"Sun\",\"Male\"],[\"Sun\",\"Male\"],[\"Sun\",\"Male\"],[\"Sun\",\"Male\"],[\"Sun\",\"Male\"],[\"Sun\",\"Male\"],[\"Sun\",\"Male\"],[\"Sun\",\"Male\"],[\"Sun\",\"Male\"],[\"Sun\",\"Female\"],[\"Sun\",\"Female\"],[\"Sun\",\"Male\"],[\"Sun\",\"Male\"],[\"Sun\",\"Male\"],[\"Sat\",\"Female\"],[\"Sat\",\"Male\"],[\"Sat\",\"Male\"],[\"Sat\",\"Male\"],[\"Sat\",\"Female\"],[\"Sat\",\"Male\"],[\"Sat\",\"Male\"],[\"Sat\",\"Female\"],[\"Sat\",\"Female\"],[\"Sat\",\"Male\"],[\"Fri\",\"Male\"],[\"Fri\",\"Female\"],[\"Fri\",\"Male\"],[\"Sat\",\"Female\"],[\"Sat\",\"Male\"],[\"Sat\",\"Male\"],[\"Sat\",\"Female\"],[\"Sun\",\"Male\"],[\"Sun\",\"Male\"],[\"Sun\",\"Female\"],[\"Sun\",\"Female\"],[\"Sun\",\"Male\"],[\"Sun\",\"Male\"],[\"Sun\",\"Male\"],[\"Sun\",\"Male\"],[\"Sun\",\"Male\"],[\"Sun\",\"Male\"],[\"Sun\",\"Female\"],[\"Sun\",\"Male\"],[\"Sun\",\"Female\"],[\"Sun\",\"Female\"],[\"Sun\",\"Male\"],[\"Sun\",\"Male\"],[\"Sun\",\"Male\"],[\"Sun\",\"Female\"],[\"Sun\",\"Male\"],[\"Sun\",\"Male\"],[\"Sun\",\"Male\"],[\"Sun\",\"Male\"],[\"Sun\",\"Male\"],[\"Sat\",\"Male\"],[\"Sat\",\"Male\"],[\"Sat\",\"Male\"],[\"Sat\",\"Male\"],[\"Sat\",\"Male\"],[\"Sat\",\"Male\"],[\"Sat\",\"Female\"],[\"Sat\",\"Male\"],[\"Sat\",\"Male\"],[\"Thur\",\"Female\"]],\"hovertemplate\":\"smoker=No<br>time=Dinner<br>total_bill=%{x}<br>tip=%{y}<br>size=%{marker.size}<br>day=%{customdata[0]}<br>sex=%{customdata[1]}<extra></extra>\",\"legendgroup\":\"No, Dinner\",\"marker\":{\"color\":\"#636efa\",\"size\":[2,3,3,2,4,4,2,4,2,2,2,4,2,4,2,2,3,3,3,3,2,2,2,4,2,4,2,2,2,2,2,4,2,4,2,3,3,3,3,3,3,2,2,2,4,2,2,4,3,2,2,2,4,2,4,2,2,4,3,3,2,2,2,3,2,2,2,2,2,2,2,2,1,3,2,3,2,4,2,2,3,4,4,5,6,4,2,4,4,2,3,2,3,2,4,5,4,4,2,2,2,2,3,3,2,2],\"sizemode\":\"area\",\"sizeref\":0.015,\"symbol\":\"circle\"},\"mode\":\"markers\",\"name\":\"No, Dinner\",\"orientation\":\"v\",\"showlegend\":true,\"x\":[16.99,10.34,21.01,23.68,24.59,25.29,8.77,26.88,15.04,14.78,10.27,35.26,15.42,18.43,14.83,21.58,10.33,16.29,16.97,20.65,17.92,20.29,15.77,39.42,19.82,17.81,13.37,12.69,21.7,19.65,9.55,18.35,15.06,20.69,17.78,24.06,16.31,16.93,18.69,31.27,16.04,17.46,13.94,9.68,30.4,18.29,22.23,32.4,28.55,18.04,12.54,10.29,34.81,9.94,25.56,19.49,26.41,48.27,17.59,20.08,16.45,20.23,12.02,17.07,14.73,10.51,22.49,22.75,12.46,20.92,18.24,14.0,7.25,38.07,23.95,25.71,17.31,29.93,14.07,13.13,17.26,24.55,19.77,29.85,48.17,25.0,13.39,16.49,21.5,12.66,16.21,13.81,24.52,20.76,31.71,20.69,48.33,20.45,13.28,11.61,10.77,10.07,35.83,29.03,17.82,18.78],\"xaxis\":\"x\",\"y\":[1.01,1.66,3.5,3.31,3.61,4.71,2.0,3.12,1.96,3.23,1.71,5.0,1.57,3.0,3.02,3.92,1.67,3.71,3.5,3.35,4.08,2.75,2.23,7.58,3.18,2.34,2.0,2.0,4.3,3.0,1.45,2.5,3.0,2.45,3.27,3.6,2.0,3.07,2.31,5.0,2.24,2.54,3.06,1.32,5.6,3.0,5.0,6.0,2.05,3.0,2.5,2.6,5.2,1.56,4.34,3.51,1.5,6.73,2.64,3.15,2.47,2.01,1.97,3.0,2.2,1.25,3.5,3.25,1.5,4.08,3.76,3.0,1.0,4.0,2.55,4.0,3.5,5.07,2.5,2.0,2.74,2.0,2.0,5.14,5.0,3.75,2.61,2.0,3.5,2.5,2.0,2.0,3.48,2.24,4.5,5.0,9.0,3.0,2.72,3.39,1.47,1.25,4.67,5.92,1.75,3.0],\"yaxis\":\"y\",\"type\":\"scatter\"},{\"alignmentgroup\":\"True\",\"bingroup\":\"x\",\"hovertemplate\":\"smoker=No<br>time=Dinner<br>total_bill=%{x}<br>count=%{y}<extra></extra>\",\"legendgroup\":\"No, Dinner\",\"marker\":{\"color\":\"#636efa\"},\"name\":\"No, Dinner\",\"offsetgroup\":\"No, Dinner\",\"opacity\":0.5,\"showlegend\":false,\"x\":[16.99,10.34,21.01,23.68,24.59,25.29,8.77,26.88,15.04,14.78,10.27,35.26,15.42,18.43,14.83,21.58,10.33,16.29,16.97,20.65,17.92,20.29,15.77,39.42,19.82,17.81,13.37,12.69,21.7,19.65,9.55,18.35,15.06,20.69,17.78,24.06,16.31,16.93,18.69,31.27,16.04,17.46,13.94,9.68,30.4,18.29,22.23,32.4,28.55,18.04,12.54,10.29,34.81,9.94,25.56,19.49,26.41,48.27,17.59,20.08,16.45,20.23,12.02,17.07,14.73,10.51,22.49,22.75,12.46,20.92,18.24,14.0,7.25,38.07,23.95,25.71,17.31,29.93,14.07,13.13,17.26,24.55,19.77,29.85,48.17,25.0,13.39,16.49,21.5,12.66,16.21,13.81,24.52,20.76,31.71,20.69,48.33,20.45,13.28,11.61,10.77,10.07,35.83,29.03,17.82,18.78],\"xaxis\":\"x3\",\"yaxis\":\"y3\",\"type\":\"histogram\"},{\"alignmentgroup\":\"True\",\"boxpoints\":\"all\",\"customdata\":[[\"Sun\",\"Female\"],[\"Sun\",\"Male\"],[\"Sun\",\"Male\"],[\"Sun\",\"Male\"],[\"Sun\",\"Female\"],[\"Sun\",\"Male\"],[\"Sun\",\"Male\"],[\"Sun\",\"Male\"],[\"Sun\",\"Male\"],[\"Sun\",\"Male\"],[\"Sun\",\"Male\"],[\"Sun\",\"Female\"],[\"Sun\",\"Male\"],[\"Sun\",\"Male\"],[\"Sun\",\"Female\"],[\"Sun\",\"Male\"],[\"Sun\",\"Female\"],[\"Sun\",\"Male\"],[\"Sun\",\"Female\"],[\"Sat\",\"Male\"],[\"Sat\",\"Male\"],[\"Sat\",\"Female\"],[\"Sat\",\"Female\"],[\"Sat\",\"Male\"],[\"Sat\",\"Male\"],[\"Sat\",\"Male\"],[\"Sat\",\"Male\"],[\"Sat\",\"Male\"],[\"Sat\",\"Male\"],[\"Sat\",\"Female\"],[\"Sat\",\"Male\"],[\"Sat\",\"Male\"],[\"Sat\",\"Female\"],[\"Sat\",\"Female\"],[\"Sat\",\"Male\"],[\"Sat\",\"Male\"],[\"Sat\",\"Male\"],[\"Sat\",\"Female\"],[\"Sat\",\"Male\"],[\"Sat\",\"Male\"],[\"Sat\",\"Male\"],[\"Sun\",\"Male\"],[\"Sun\",\"Male\"],[\"Sun\",\"Male\"],[\"Sun\",\"Male\"],[\"Sun\",\"Male\"],[\"Sun\",\"Male\"],[\"Sun\",\"Male\"],[\"Sun\",\"Male\"],[\"Sun\",\"Male\"],[\"Sun\",\"Male\"],[\"Sun\",\"Female\"],[\"Sun\",\"Female\"],[\"Sun\",\"Male\"],[\"Sun\",\"Male\"],[\"Sun\",\"Male\"],[\"Sat\",\"Female\"],[\"Sat\",\"Male\"],[\"Sat\",\"Male\"],[\"Sat\",\"Male\"],[\"Sat\",\"Female\"],[\"Sat\",\"Male\"],[\"Sat\",\"Male\"],[\"Sat\",\"Female\"],[\"Sat\",\"Female\"],[\"Sat\",\"Male\"],[\"Fri\",\"Male\"],[\"Fri\",\"Female\"],[\"Fri\",\"Male\"],[\"Sat\",\"Female\"],[\"Sat\",\"Male\"],[\"Sat\",\"Male\"],[\"Sat\",\"Female\"],[\"Sun\",\"Male\"],[\"Sun\",\"Male\"],[\"Sun\",\"Female\"],[\"Sun\",\"Female\"],[\"Sun\",\"Male\"],[\"Sun\",\"Male\"],[\"Sun\",\"Male\"],[\"Sun\",\"Male\"],[\"Sun\",\"Male\"],[\"Sun\",\"Male\"],[\"Sun\",\"Female\"],[\"Sun\",\"Male\"],[\"Sun\",\"Female\"],[\"Sun\",\"Female\"],[\"Sun\",\"Male\"],[\"Sun\",\"Male\"],[\"Sun\",\"Male\"],[\"Sun\",\"Female\"],[\"Sun\",\"Male\"],[\"Sun\",\"Male\"],[\"Sun\",\"Male\"],[\"Sun\",\"Male\"],[\"Sun\",\"Male\"],[\"Sat\",\"Male\"],[\"Sat\",\"Male\"],[\"Sat\",\"Male\"],[\"Sat\",\"Male\"],[\"Sat\",\"Male\"],[\"Sat\",\"Male\"],[\"Sat\",\"Female\"],[\"Sat\",\"Male\"],[\"Sat\",\"Male\"],[\"Thur\",\"Female\"]],\"fillcolor\":\"rgba(255,255,255,0)\",\"hoveron\":\"points\",\"hovertemplate\":\"smoker=No<br>time=Dinner<br>tip=%{y}<br>day=%{customdata[0]}<br>sex=%{customdata[1]}<extra></extra>\",\"jitter\":0,\"legendgroup\":\"No, Dinner\",\"line\":{\"color\":\"rgba(255,255,255,0)\"},\"marker\":{\"color\":\"#636efa\",\"symbol\":\"line-ew-open\"},\"name\":\"No, Dinner\",\"offsetgroup\":\"No, Dinner\",\"showlegend\":false,\"xaxis\":\"x2\",\"y\":[1.01,1.66,3.5,3.31,3.61,4.71,2.0,3.12,1.96,3.23,1.71,5.0,1.57,3.0,3.02,3.92,1.67,3.71,3.5,3.35,4.08,2.75,2.23,7.58,3.18,2.34,2.0,2.0,4.3,3.0,1.45,2.5,3.0,2.45,3.27,3.6,2.0,3.07,2.31,5.0,2.24,2.54,3.06,1.32,5.6,3.0,5.0,6.0,2.05,3.0,2.5,2.6,5.2,1.56,4.34,3.51,1.5,6.73,2.64,3.15,2.47,2.01,1.97,3.0,2.2,1.25,3.5,3.25,1.5,4.08,3.76,3.0,1.0,4.0,2.55,4.0,3.5,5.07,2.5,2.0,2.74,2.0,2.0,5.14,5.0,3.75,2.61,2.0,3.5,2.5,2.0,2.0,3.48,2.24,4.5,5.0,9.0,3.0,2.72,3.39,1.47,1.25,4.67,5.92,1.75,3.0],\"yaxis\":\"y2\",\"type\":\"box\"},{\"customdata\":[[\"Thur\",\"Male\"],[\"Thur\",\"Male\"],[\"Thur\",\"Male\"],[\"Thur\",\"Male\"],[\"Thur\",\"Female\"],[\"Thur\",\"Male\"],[\"Thur\",\"Female\"],[\"Thur\",\"Male\"],[\"Thur\",\"Male\"],[\"Thur\",\"Male\"],[\"Thur\",\"Male\"],[\"Thur\",\"Female\"],[\"Thur\",\"Female\"],[\"Thur\",\"Female\"],[\"Thur\",\"Male\"],[\"Thur\",\"Female\"],[\"Thur\",\"Male\"],[\"Thur\",\"Male\"],[\"Thur\",\"Female\"],[\"Thur\",\"Female\"],[\"Thur\",\"Male\"],[\"Thur\",\"Female\"],[\"Thur\",\"Female\"],[\"Thur\",\"Male\"],[\"Thur\",\"Male\"],[\"Thur\",\"Female\"],[\"Thur\",\"Female\"],[\"Thur\",\"Female\"],[\"Thur\",\"Female\"],[\"Thur\",\"Female\"],[\"Thur\",\"Female\"],[\"Thur\",\"Female\"],[\"Thur\",\"Female\"],[\"Thur\",\"Female\"],[\"Thur\",\"Male\"],[\"Thur\",\"Male\"],[\"Thur\",\"Female\"],[\"Thur\",\"Female\"],[\"Thur\",\"Female\"],[\"Thur\",\"Female\"],[\"Thur\",\"Female\"],[\"Thur\",\"Male\"],[\"Thur\",\"Male\"],[\"Thur\",\"Male\"],[\"Fri\",\"Female\"]],\"hovertemplate\":\"smoker=No<br>time=Lunch<br>total_bill=%{x}<br>tip=%{y}<br>size=%{marker.size}<br>day=%{customdata[0]}<br>sex=%{customdata[1]}<extra></extra>\",\"legendgroup\":\"No, Lunch\",\"marker\":{\"color\":\"#636efa\",\"size\":[4,2,2,2,1,2,4,2,2,2,2,2,2,4,2,2,2,2,2,6,2,2,2,3,2,2,2,2,2,2,2,2,2,2,6,5,6,2,2,3,2,2,2,2,3],\"sizemode\":\"area\",\"sizeref\":0.015,\"symbol\":\"diamond\"},\"mode\":\"markers\",\"name\":\"No, Lunch\",\"orientation\":\"v\",\"showlegend\":true,\"x\":[27.2,22.76,17.29,16.66,10.07,15.98,34.83,13.03,18.28,24.71,21.16,10.65,12.43,24.08,11.69,13.42,14.26,15.95,12.48,29.8,8.52,14.52,11.38,22.82,19.08,20.27,11.17,12.26,18.26,8.51,10.33,14.15,13.16,17.47,34.3,41.19,27.05,16.43,8.35,18.64,11.87,9.78,7.51,7.56,15.98],\"xaxis\":\"x\",\"y\":[4.0,3.0,2.71,3.4,1.83,2.03,5.17,2.0,4.0,5.85,3.0,1.5,1.8,2.92,2.31,1.68,2.5,2.0,2.52,4.2,1.48,2.0,2.0,2.18,1.5,2.83,1.5,2.0,3.25,1.25,2.0,2.0,2.75,3.5,6.7,5.0,5.0,2.3,1.5,1.36,1.63,1.73,2.0,1.44,3.0],\"yaxis\":\"y\",\"type\":\"scatter\"},{\"alignmentgroup\":\"True\",\"bingroup\":\"x\",\"hovertemplate\":\"smoker=No<br>time=Lunch<br>total_bill=%{x}<br>count=%{y}<extra></extra>\",\"legendgroup\":\"No, Lunch\",\"marker\":{\"color\":\"#636efa\"},\"name\":\"No, Lunch\",\"offsetgroup\":\"No, Lunch\",\"opacity\":0.5,\"showlegend\":false,\"x\":[27.2,22.76,17.29,16.66,10.07,15.98,34.83,13.03,18.28,24.71,21.16,10.65,12.43,24.08,11.69,13.42,14.26,15.95,12.48,29.8,8.52,14.52,11.38,22.82,19.08,20.27,11.17,12.26,18.26,8.51,10.33,14.15,13.16,17.47,34.3,41.19,27.05,16.43,8.35,18.64,11.87,9.78,7.51,7.56,15.98],\"xaxis\":\"x3\",\"yaxis\":\"y3\",\"type\":\"histogram\"},{\"alignmentgroup\":\"True\",\"boxpoints\":\"all\",\"customdata\":[[\"Thur\",\"Male\"],[\"Thur\",\"Male\"],[\"Thur\",\"Male\"],[\"Thur\",\"Male\"],[\"Thur\",\"Female\"],[\"Thur\",\"Male\"],[\"Thur\",\"Female\"],[\"Thur\",\"Male\"],[\"Thur\",\"Male\"],[\"Thur\",\"Male\"],[\"Thur\",\"Male\"],[\"Thur\",\"Female\"],[\"Thur\",\"Female\"],[\"Thur\",\"Female\"],[\"Thur\",\"Male\"],[\"Thur\",\"Female\"],[\"Thur\",\"Male\"],[\"Thur\",\"Male\"],[\"Thur\",\"Female\"],[\"Thur\",\"Female\"],[\"Thur\",\"Male\"],[\"Thur\",\"Female\"],[\"Thur\",\"Female\"],[\"Thur\",\"Male\"],[\"Thur\",\"Male\"],[\"Thur\",\"Female\"],[\"Thur\",\"Female\"],[\"Thur\",\"Female\"],[\"Thur\",\"Female\"],[\"Thur\",\"Female\"],[\"Thur\",\"Female\"],[\"Thur\",\"Female\"],[\"Thur\",\"Female\"],[\"Thur\",\"Female\"],[\"Thur\",\"Male\"],[\"Thur\",\"Male\"],[\"Thur\",\"Female\"],[\"Thur\",\"Female\"],[\"Thur\",\"Female\"],[\"Thur\",\"Female\"],[\"Thur\",\"Female\"],[\"Thur\",\"Male\"],[\"Thur\",\"Male\"],[\"Thur\",\"Male\"],[\"Fri\",\"Female\"]],\"fillcolor\":\"rgba(255,255,255,0)\",\"hoveron\":\"points\",\"hovertemplate\":\"smoker=No<br>time=Lunch<br>tip=%{y}<br>day=%{customdata[0]}<br>sex=%{customdata[1]}<extra></extra>\",\"jitter\":0,\"legendgroup\":\"No, Lunch\",\"line\":{\"color\":\"rgba(255,255,255,0)\"},\"marker\":{\"color\":\"#636efa\",\"symbol\":\"line-ew-open\"},\"name\":\"No, Lunch\",\"offsetgroup\":\"No, Lunch\",\"showlegend\":false,\"xaxis\":\"x2\",\"y\":[4.0,3.0,2.71,3.4,1.83,2.03,5.17,2.0,4.0,5.85,3.0,1.5,1.8,2.92,2.31,1.68,2.5,2.0,2.52,4.2,1.48,2.0,2.0,2.18,1.5,2.83,1.5,2.0,3.25,1.25,2.0,2.0,2.75,3.5,6.7,5.0,5.0,2.3,1.5,1.36,1.63,1.73,2.0,1.44,3.0],\"yaxis\":\"y2\",\"type\":\"box\"},{\"customdata\":[[\"Sat\",\"Male\"],[\"Sat\",\"Male\"],[\"Sat\",\"Male\"],[\"Sat\",\"Male\"],[\"Sat\",\"Male\"],[\"Sat\",\"Male\"],[\"Sat\",\"Female\"],[\"Sat\",\"Male\"],[\"Sat\",\"Female\"],[\"Sat\",\"Female\"],[\"Sat\",\"Male\"],[\"Fri\",\"Male\"],[\"Fri\",\"Female\"],[\"Fri\",\"Female\"],[\"Fri\",\"Male\"],[\"Fri\",\"Male\"],[\"Fri\",\"Male\"],[\"Fri\",\"Male\"],[\"Fri\",\"Female\"],[\"Fri\",\"Female\"],[\"Sat\",\"Female\"],[\"Sat\",\"Female\"],[\"Sat\",\"Male\"],[\"Sat\",\"Male\"],[\"Sat\",\"Male\"],[\"Sat\",\"Female\"],[\"Sun\",\"Female\"],[\"Sat\",\"Female\"],[\"Sat\",\"Female\"],[\"Sat\",\"Male\"],[\"Sat\",\"Male\"],[\"Sun\",\"Male\"],[\"Sun\",\"Male\"],[\"Sun\",\"Male\"],[\"Sun\",\"Male\"],[\"Sun\",\"Male\"],[\"Sun\",\"Male\"],[\"Sun\",\"Female\"],[\"Sun\",\"Male\"],[\"Sun\",\"Male\"],[\"Sun\",\"Male\"],[\"Sun\",\"Male\"],[\"Sun\",\"Male\"],[\"Sun\",\"Male\"],[\"Sun\",\"Female\"],[\"Sun\",\"Male\"],[\"Sun\",\"Female\"],[\"Sun\",\"Male\"],[\"Sun\",\"Male\"],[\"Sat\",\"Male\"],[\"Sat\",\"Male\"],[\"Sat\",\"Male\"],[\"Sat\",\"Female\"],[\"Sat\",\"Male\"],[\"Sat\",\"Male\"],[\"Sat\",\"Female\"],[\"Sat\",\"Female\"],[\"Sat\",\"Female\"],[\"Sat\",\"Male\"],[\"Sat\",\"Male\"],[\"Sat\",\"Male\"],[\"Sat\",\"Female\"],[\"Sat\",\"Female\"],[\"Sat\",\"Male\"],[\"Sat\",\"Male\"],[\"Sat\",\"Male\"],[\"Sat\",\"Male\"],[\"Sat\",\"Male\"],[\"Sat\",\"Female\"],[\"Sat\",\"Male\"]],\"hovertemplate\":\"smoker=Yes<br>time=Dinner<br>total_bill=%{x}<br>tip=%{y}<br>size=%{marker.size}<br>day=%{customdata[0]}<br>sex=%{customdata[1]}<extra></extra>\",\"legendgroup\":\"Yes, Dinner\",\"marker\":{\"color\":\"#EF553B\",\"size\":[4,2,2,2,2,4,1,2,2,2,2,2,2,2,4,2,2,2,2,2,3,2,2,2,2,2,2,2,2,3,2,2,2,2,2,2,2,2,2,4,2,3,4,2,3,5,3,3,2,3,4,2,2,3,4,2,3,2,5,2,2,4,2,4,3,2,2,2,2,2],\"sizemode\":\"area\",\"sizeref\":0.015,\"symbol\":\"circle\"},\"mode\":\"markers\",\"name\":\"Yes, Dinner\",\"orientation\":\"v\",\"showlegend\":true,\"x\":[38.01,11.24,20.29,13.81,11.02,18.29,3.07,15.01,26.86,25.28,17.92,28.97,5.75,16.32,40.17,27.28,12.03,21.01,11.35,15.38,44.3,22.42,15.36,20.49,25.21,14.31,17.51,10.59,10.63,50.81,15.81,7.25,31.85,16.82,32.9,17.89,14.48,9.6,34.63,34.65,23.33,45.35,23.17,40.55,20.9,30.46,18.15,23.1,15.69,26.59,38.73,24.27,12.76,30.06,25.89,13.27,28.17,12.9,28.15,11.59,7.74,30.14,22.12,24.01,15.69,15.53,12.6,32.83,27.18,22.67],\"xaxis\":\"x\",\"y\":[3.0,1.76,3.21,2.0,1.98,3.76,1.0,2.09,3.14,5.0,3.08,3.0,1.0,4.3,4.73,4.0,1.5,3.0,2.5,3.0,2.5,3.48,1.64,4.06,4.29,4.0,3.0,1.61,2.0,10.0,3.16,5.15,3.18,4.0,3.11,2.0,2.0,4.0,3.55,3.68,5.65,3.5,6.5,3.0,3.5,2.0,3.5,4.0,1.5,3.41,3.0,2.03,2.23,2.0,5.16,2.5,6.5,1.1,3.0,1.5,1.44,3.09,2.88,2.0,3.0,3.0,1.0,1.17,2.0,2.0],\"yaxis\":\"y\",\"type\":\"scatter\"},{\"alignmentgroup\":\"True\",\"bingroup\":\"x\",\"hovertemplate\":\"smoker=Yes<br>time=Dinner<br>total_bill=%{x}<br>count=%{y}<extra></extra>\",\"legendgroup\":\"Yes, Dinner\",\"marker\":{\"color\":\"#EF553B\"},\"name\":\"Yes, Dinner\",\"offsetgroup\":\"Yes, Dinner\",\"opacity\":0.5,\"showlegend\":false,\"x\":[38.01,11.24,20.29,13.81,11.02,18.29,3.07,15.01,26.86,25.28,17.92,28.97,5.75,16.32,40.17,27.28,12.03,21.01,11.35,15.38,44.3,22.42,15.36,20.49,25.21,14.31,17.51,10.59,10.63,50.81,15.81,7.25,31.85,16.82,32.9,17.89,14.48,9.6,34.63,34.65,23.33,45.35,23.17,40.55,20.9,30.46,18.15,23.1,15.69,26.59,38.73,24.27,12.76,30.06,25.89,13.27,28.17,12.9,28.15,11.59,7.74,30.14,22.12,24.01,15.69,15.53,12.6,32.83,27.18,22.67],\"xaxis\":\"x3\",\"yaxis\":\"y3\",\"type\":\"histogram\"},{\"alignmentgroup\":\"True\",\"boxpoints\":\"all\",\"customdata\":[[\"Sat\",\"Male\"],[\"Sat\",\"Male\"],[\"Sat\",\"Male\"],[\"Sat\",\"Male\"],[\"Sat\",\"Male\"],[\"Sat\",\"Male\"],[\"Sat\",\"Female\"],[\"Sat\",\"Male\"],[\"Sat\",\"Female\"],[\"Sat\",\"Female\"],[\"Sat\",\"Male\"],[\"Fri\",\"Male\"],[\"Fri\",\"Female\"],[\"Fri\",\"Female\"],[\"Fri\",\"Male\"],[\"Fri\",\"Male\"],[\"Fri\",\"Male\"],[\"Fri\",\"Male\"],[\"Fri\",\"Female\"],[\"Fri\",\"Female\"],[\"Sat\",\"Female\"],[\"Sat\",\"Female\"],[\"Sat\",\"Male\"],[\"Sat\",\"Male\"],[\"Sat\",\"Male\"],[\"Sat\",\"Female\"],[\"Sun\",\"Female\"],[\"Sat\",\"Female\"],[\"Sat\",\"Female\"],[\"Sat\",\"Male\"],[\"Sat\",\"Male\"],[\"Sun\",\"Male\"],[\"Sun\",\"Male\"],[\"Sun\",\"Male\"],[\"Sun\",\"Male\"],[\"Sun\",\"Male\"],[\"Sun\",\"Male\"],[\"Sun\",\"Female\"],[\"Sun\",\"Male\"],[\"Sun\",\"Male\"],[\"Sun\",\"Male\"],[\"Sun\",\"Male\"],[\"Sun\",\"Male\"],[\"Sun\",\"Male\"],[\"Sun\",\"Female\"],[\"Sun\",\"Male\"],[\"Sun\",\"Female\"],[\"Sun\",\"Male\"],[\"Sun\",\"Male\"],[\"Sat\",\"Male\"],[\"Sat\",\"Male\"],[\"Sat\",\"Male\"],[\"Sat\",\"Female\"],[\"Sat\",\"Male\"],[\"Sat\",\"Male\"],[\"Sat\",\"Female\"],[\"Sat\",\"Female\"],[\"Sat\",\"Female\"],[\"Sat\",\"Male\"],[\"Sat\",\"Male\"],[\"Sat\",\"Male\"],[\"Sat\",\"Female\"],[\"Sat\",\"Female\"],[\"Sat\",\"Male\"],[\"Sat\",\"Male\"],[\"Sat\",\"Male\"],[\"Sat\",\"Male\"],[\"Sat\",\"Male\"],[\"Sat\",\"Female\"],[\"Sat\",\"Male\"]],\"fillcolor\":\"rgba(255,255,255,0)\",\"hoveron\":\"points\",\"hovertemplate\":\"smoker=Yes<br>time=Dinner<br>tip=%{y}<br>day=%{customdata[0]}<br>sex=%{customdata[1]}<extra></extra>\",\"jitter\":0,\"legendgroup\":\"Yes, Dinner\",\"line\":{\"color\":\"rgba(255,255,255,0)\"},\"marker\":{\"color\":\"#EF553B\",\"symbol\":\"line-ew-open\"},\"name\":\"Yes, Dinner\",\"offsetgroup\":\"Yes, Dinner\",\"showlegend\":false,\"xaxis\":\"x2\",\"y\":[3.0,1.76,3.21,2.0,1.98,3.76,1.0,2.09,3.14,5.0,3.08,3.0,1.0,4.3,4.73,4.0,1.5,3.0,2.5,3.0,2.5,3.48,1.64,4.06,4.29,4.0,3.0,1.61,2.0,10.0,3.16,5.15,3.18,4.0,3.11,2.0,2.0,4.0,3.55,3.68,5.65,3.5,6.5,3.0,3.5,2.0,3.5,4.0,1.5,3.41,3.0,2.03,2.23,2.0,5.16,2.5,6.5,1.1,3.0,1.5,1.44,3.09,2.88,2.0,3.0,3.0,1.0,1.17,2.0,2.0],\"yaxis\":\"y2\",\"type\":\"box\"},{\"customdata\":[[\"Thur\",\"Male\"],[\"Thur\",\"Male\"],[\"Thur\",\"Male\"],[\"Thur\",\"Female\"],[\"Thur\",\"Male\"],[\"Thur\",\"Male\"],[\"Thur\",\"Male\"],[\"Thur\",\"Male\"],[\"Thur\",\"Female\"],[\"Thur\",\"Female\"],[\"Thur\",\"Male\"],[\"Thur\",\"Male\"],[\"Thur\",\"Female\"],[\"Thur\",\"Female\"],[\"Thur\",\"Female\"],[\"Thur\",\"Male\"],[\"Thur\",\"Female\"],[\"Fri\",\"Male\"],[\"Fri\",\"Female\"],[\"Fri\",\"Male\"],[\"Fri\",\"Male\"],[\"Fri\",\"Female\"],[\"Fri\",\"Female\"]],\"hovertemplate\":\"smoker=Yes<br>time=Lunch<br>total_bill=%{x}<br>tip=%{y}<br>size=%{marker.size}<br>day=%{customdata[0]}<br>sex=%{customdata[1]}<extra></extra>\",\"legendgroup\":\"Yes, Lunch\",\"marker\":{\"color\":\"#EF553B\",\"size\":[2,2,2,2,2,2,2,2,4,2,2,3,2,2,2,4,3,2,2,1,2,2,2],\"sizemode\":\"area\",\"sizeref\":0.015,\"symbol\":\"diamond\"},\"mode\":\"markers\",\"name\":\"Yes, Lunch\",\"orientation\":\"v\",\"showlegend\":true,\"x\":[19.44,32.68,16.0,19.81,28.44,15.48,16.58,10.34,43.11,13.0,13.51,18.71,12.74,13.0,16.4,20.53,16.47,12.16,13.42,8.58,13.42,16.27,10.09],\"xaxis\":\"x\",\"y\":[3.0,5.0,2.0,4.19,2.56,2.02,4.0,2.0,5.0,2.0,2.0,4.0,2.01,2.0,2.5,4.0,3.23,2.2,3.48,1.92,1.58,2.5,2.0],\"yaxis\":\"y\",\"type\":\"scatter\"},{\"alignmentgroup\":\"True\",\"bingroup\":\"x\",\"hovertemplate\":\"smoker=Yes<br>time=Lunch<br>total_bill=%{x}<br>count=%{y}<extra></extra>\",\"legendgroup\":\"Yes, Lunch\",\"marker\":{\"color\":\"#EF553B\"},\"name\":\"Yes, Lunch\",\"offsetgroup\":\"Yes, Lunch\",\"opacity\":0.5,\"showlegend\":false,\"x\":[19.44,32.68,16.0,19.81,28.44,15.48,16.58,10.34,43.11,13.0,13.51,18.71,12.74,13.0,16.4,20.53,16.47,12.16,13.42,8.58,13.42,16.27,10.09],\"xaxis\":\"x3\",\"yaxis\":\"y3\",\"type\":\"histogram\"},{\"alignmentgroup\":\"True\",\"boxpoints\":\"all\",\"customdata\":[[\"Thur\",\"Male\"],[\"Thur\",\"Male\"],[\"Thur\",\"Male\"],[\"Thur\",\"Female\"],[\"Thur\",\"Male\"],[\"Thur\",\"Male\"],[\"Thur\",\"Male\"],[\"Thur\",\"Male\"],[\"Thur\",\"Female\"],[\"Thur\",\"Female\"],[\"Thur\",\"Male\"],[\"Thur\",\"Male\"],[\"Thur\",\"Female\"],[\"Thur\",\"Female\"],[\"Thur\",\"Female\"],[\"Thur\",\"Male\"],[\"Thur\",\"Female\"],[\"Fri\",\"Male\"],[\"Fri\",\"Female\"],[\"Fri\",\"Male\"],[\"Fri\",\"Male\"],[\"Fri\",\"Female\"],[\"Fri\",\"Female\"]],\"fillcolor\":\"rgba(255,255,255,0)\",\"hoveron\":\"points\",\"hovertemplate\":\"smoker=Yes<br>time=Lunch<br>tip=%{y}<br>day=%{customdata[0]}<br>sex=%{customdata[1]}<extra></extra>\",\"jitter\":0,\"legendgroup\":\"Yes, Lunch\",\"line\":{\"color\":\"rgba(255,255,255,0)\"},\"marker\":{\"color\":\"#EF553B\",\"symbol\":\"line-ew-open\"},\"name\":\"Yes, Lunch\",\"offsetgroup\":\"Yes, Lunch\",\"showlegend\":false,\"xaxis\":\"x2\",\"y\":[3.0,5.0,2.0,4.19,2.56,2.02,4.0,2.0,5.0,2.0,2.0,4.0,2.01,2.0,2.5,4.0,3.23,2.2,3.48,1.92,1.58,2.5,2.0],\"yaxis\":\"y2\",\"type\":\"box\"}],                        {\"template\":{\"data\":{\"histogram2dcontour\":[{\"type\":\"histogram2dcontour\",\"colorbar\":{\"outlinewidth\":0,\"ticks\":\"\"},\"colorscale\":[[0.0,\"#0d0887\"],[0.1111111111111111,\"#46039f\"],[0.2222222222222222,\"#7201a8\"],[0.3333333333333333,\"#9c179e\"],[0.4444444444444444,\"#bd3786\"],[0.5555555555555556,\"#d8576b\"],[0.6666666666666666,\"#ed7953\"],[0.7777777777777778,\"#fb9f3a\"],[0.8888888888888888,\"#fdca26\"],[1.0,\"#f0f921\"]]}],\"choropleth\":[{\"type\":\"choropleth\",\"colorbar\":{\"outlinewidth\":0,\"ticks\":\"\"}}],\"histogram2d\":[{\"type\":\"histogram2d\",\"colorbar\":{\"outlinewidth\":0,\"ticks\":\"\"},\"colorscale\":[[0.0,\"#0d0887\"],[0.1111111111111111,\"#46039f\"],[0.2222222222222222,\"#7201a8\"],[0.3333333333333333,\"#9c179e\"],[0.4444444444444444,\"#bd3786\"],[0.5555555555555556,\"#d8576b\"],[0.6666666666666666,\"#ed7953\"],[0.7777777777777778,\"#fb9f3a\"],[0.8888888888888888,\"#fdca26\"],[1.0,\"#f0f921\"]]}],\"heatmap\":[{\"type\":\"heatmap\",\"colorbar\":{\"outlinewidth\":0,\"ticks\":\"\"},\"colorscale\":[[0.0,\"#0d0887\"],[0.1111111111111111,\"#46039f\"],[0.2222222222222222,\"#7201a8\"],[0.3333333333333333,\"#9c179e\"],[0.4444444444444444,\"#bd3786\"],[0.5555555555555556,\"#d8576b\"],[0.6666666666666666,\"#ed7953\"],[0.7777777777777778,\"#fb9f3a\"],[0.8888888888888888,\"#fdca26\"],[1.0,\"#f0f921\"]]}],\"heatmapgl\":[{\"type\":\"heatmapgl\",\"colorbar\":{\"outlinewidth\":0,\"ticks\":\"\"},\"colorscale\":[[0.0,\"#0d0887\"],[0.1111111111111111,\"#46039f\"],[0.2222222222222222,\"#7201a8\"],[0.3333333333333333,\"#9c179e\"],[0.4444444444444444,\"#bd3786\"],[0.5555555555555556,\"#d8576b\"],[0.6666666666666666,\"#ed7953\"],[0.7777777777777778,\"#fb9f3a\"],[0.8888888888888888,\"#fdca26\"],[1.0,\"#f0f921\"]]}],\"contourcarpet\":[{\"type\":\"contourcarpet\",\"colorbar\":{\"outlinewidth\":0,\"ticks\":\"\"}}],\"contour\":[{\"type\":\"contour\",\"colorbar\":{\"outlinewidth\":0,\"ticks\":\"\"},\"colorscale\":[[0.0,\"#0d0887\"],[0.1111111111111111,\"#46039f\"],[0.2222222222222222,\"#7201a8\"],[0.3333333333333333,\"#9c179e\"],[0.4444444444444444,\"#bd3786\"],[0.5555555555555556,\"#d8576b\"],[0.6666666666666666,\"#ed7953\"],[0.7777777777777778,\"#fb9f3a\"],[0.8888888888888888,\"#fdca26\"],[1.0,\"#f0f921\"]]}],\"surface\":[{\"type\":\"surface\",\"colorbar\":{\"outlinewidth\":0,\"ticks\":\"\"},\"colorscale\":[[0.0,\"#0d0887\"],[0.1111111111111111,\"#46039f\"],[0.2222222222222222,\"#7201a8\"],[0.3333333333333333,\"#9c179e\"],[0.4444444444444444,\"#bd3786\"],[0.5555555555555556,\"#d8576b\"],[0.6666666666666666,\"#ed7953\"],[0.7777777777777778,\"#fb9f3a\"],[0.8888888888888888,\"#fdca26\"],[1.0,\"#f0f921\"]]}],\"mesh3d\":[{\"type\":\"mesh3d\",\"colorbar\":{\"outlinewidth\":0,\"ticks\":\"\"}}],\"scatter\":[{\"fillpattern\":{\"fillmode\":\"overlay\",\"size\":10,\"solidity\":0.2},\"type\":\"scatter\"}],\"parcoords\":[{\"type\":\"parcoords\",\"line\":{\"colorbar\":{\"outlinewidth\":0,\"ticks\":\"\"}}}],\"scatterpolargl\":[{\"type\":\"scatterpolargl\",\"marker\":{\"colorbar\":{\"outlinewidth\":0,\"ticks\":\"\"}}}],\"bar\":[{\"error_x\":{\"color\":\"#2a3f5f\"},\"error_y\":{\"color\":\"#2a3f5f\"},\"marker\":{\"line\":{\"color\":\"#E5ECF6\",\"width\":0.5},\"pattern\":{\"fillmode\":\"overlay\",\"size\":10,\"solidity\":0.2}},\"type\":\"bar\"}],\"scattergeo\":[{\"type\":\"scattergeo\",\"marker\":{\"colorbar\":{\"outlinewidth\":0,\"ticks\":\"\"}}}],\"scatterpolar\":[{\"type\":\"scatterpolar\",\"marker\":{\"colorbar\":{\"outlinewidth\":0,\"ticks\":\"\"}}}],\"histogram\":[{\"marker\":{\"pattern\":{\"fillmode\":\"overlay\",\"size\":10,\"solidity\":0.2}},\"type\":\"histogram\"}],\"scattergl\":[{\"type\":\"scattergl\",\"marker\":{\"colorbar\":{\"outlinewidth\":0,\"ticks\":\"\"}}}],\"scatter3d\":[{\"type\":\"scatter3d\",\"line\":{\"colorbar\":{\"outlinewidth\":0,\"ticks\":\"\"}},\"marker\":{\"colorbar\":{\"outlinewidth\":0,\"ticks\":\"\"}}}],\"scattermapbox\":[{\"type\":\"scattermapbox\",\"marker\":{\"colorbar\":{\"outlinewidth\":0,\"ticks\":\"\"}}}],\"scatterternary\":[{\"type\":\"scatterternary\",\"marker\":{\"colorbar\":{\"outlinewidth\":0,\"ticks\":\"\"}}}],\"scattercarpet\":[{\"type\":\"scattercarpet\",\"marker\":{\"colorbar\":{\"outlinewidth\":0,\"ticks\":\"\"}}}],\"carpet\":[{\"aaxis\":{\"endlinecolor\":\"#2a3f5f\",\"gridcolor\":\"white\",\"linecolor\":\"white\",\"minorgridcolor\":\"white\",\"startlinecolor\":\"#2a3f5f\"},\"baxis\":{\"endlinecolor\":\"#2a3f5f\",\"gridcolor\":\"white\",\"linecolor\":\"white\",\"minorgridcolor\":\"white\",\"startlinecolor\":\"#2a3f5f\"},\"type\":\"carpet\"}],\"table\":[{\"cells\":{\"fill\":{\"color\":\"#EBF0F8\"},\"line\":{\"color\":\"white\"}},\"header\":{\"fill\":{\"color\":\"#C8D4E3\"},\"line\":{\"color\":\"white\"}},\"type\":\"table\"}],\"barpolar\":[{\"marker\":{\"line\":{\"color\":\"#E5ECF6\",\"width\":0.5},\"pattern\":{\"fillmode\":\"overlay\",\"size\":10,\"solidity\":0.2}},\"type\":\"barpolar\"}],\"pie\":[{\"automargin\":true,\"type\":\"pie\"}]},\"layout\":{\"autotypenumbers\":\"strict\",\"colorway\":[\"#636efa\",\"#EF553B\",\"#00cc96\",\"#ab63fa\",\"#FFA15A\",\"#19d3f3\",\"#FF6692\",\"#B6E880\",\"#FF97FF\",\"#FECB52\"],\"font\":{\"color\":\"#2a3f5f\"},\"hovermode\":\"closest\",\"hoverlabel\":{\"align\":\"left\"},\"paper_bgcolor\":\"white\",\"plot_bgcolor\":\"#E5ECF6\",\"polar\":{\"bgcolor\":\"#E5ECF6\",\"angularaxis\":{\"gridcolor\":\"white\",\"linecolor\":\"white\",\"ticks\":\"\"},\"radialaxis\":{\"gridcolor\":\"white\",\"linecolor\":\"white\",\"ticks\":\"\"}},\"ternary\":{\"bgcolor\":\"#E5ECF6\",\"aaxis\":{\"gridcolor\":\"white\",\"linecolor\":\"white\",\"ticks\":\"\"},\"baxis\":{\"gridcolor\":\"white\",\"linecolor\":\"white\",\"ticks\":\"\"},\"caxis\":{\"gridcolor\":\"white\",\"linecolor\":\"white\",\"ticks\":\"\"}},\"coloraxis\":{\"colorbar\":{\"outlinewidth\":0,\"ticks\":\"\"}},\"colorscale\":{\"sequential\":[[0.0,\"#0d0887\"],[0.1111111111111111,\"#46039f\"],[0.2222222222222222,\"#7201a8\"],[0.3333333333333333,\"#9c179e\"],[0.4444444444444444,\"#bd3786\"],[0.5555555555555556,\"#d8576b\"],[0.6666666666666666,\"#ed7953\"],[0.7777777777777778,\"#fb9f3a\"],[0.8888888888888888,\"#fdca26\"],[1.0,\"#f0f921\"]],\"sequentialminus\":[[0.0,\"#0d0887\"],[0.1111111111111111,\"#46039f\"],[0.2222222222222222,\"#7201a8\"],[0.3333333333333333,\"#9c179e\"],[0.4444444444444444,\"#bd3786\"],[0.5555555555555556,\"#d8576b\"],[0.6666666666666666,\"#ed7953\"],[0.7777777777777778,\"#fb9f3a\"],[0.8888888888888888,\"#fdca26\"],[1.0,\"#f0f921\"]],\"diverging\":[[0,\"#8e0152\"],[0.1,\"#c51b7d\"],[0.2,\"#de77ae\"],[0.3,\"#f1b6da\"],[0.4,\"#fde0ef\"],[0.5,\"#f7f7f7\"],[0.6,\"#e6f5d0\"],[0.7,\"#b8e186\"],[0.8,\"#7fbc41\"],[0.9,\"#4d9221\"],[1,\"#276419\"]]},\"xaxis\":{\"gridcolor\":\"white\",\"linecolor\":\"white\",\"ticks\":\"\",\"title\":{\"standoff\":15},\"zerolinecolor\":\"white\",\"automargin\":true,\"zerolinewidth\":2},\"yaxis\":{\"gridcolor\":\"white\",\"linecolor\":\"white\",\"ticks\":\"\",\"title\":{\"standoff\":15},\"zerolinecolor\":\"white\",\"automargin\":true,\"zerolinewidth\":2},\"scene\":{\"xaxis\":{\"backgroundcolor\":\"#E5ECF6\",\"gridcolor\":\"white\",\"linecolor\":\"white\",\"showbackground\":true,\"ticks\":\"\",\"zerolinecolor\":\"white\",\"gridwidth\":2},\"yaxis\":{\"backgroundcolor\":\"#E5ECF6\",\"gridcolor\":\"white\",\"linecolor\":\"white\",\"showbackground\":true,\"ticks\":\"\",\"zerolinecolor\":\"white\",\"gridwidth\":2},\"zaxis\":{\"backgroundcolor\":\"#E5ECF6\",\"gridcolor\":\"white\",\"linecolor\":\"white\",\"showbackground\":true,\"ticks\":\"\",\"zerolinecolor\":\"white\",\"gridwidth\":2}},\"shapedefaults\":{\"line\":{\"color\":\"#2a3f5f\"}},\"annotationdefaults\":{\"arrowcolor\":\"#2a3f5f\",\"arrowhead\":0,\"arrowwidth\":1},\"geo\":{\"bgcolor\":\"white\",\"landcolor\":\"#E5ECF6\",\"subunitcolor\":\"white\",\"showland\":true,\"showlakes\":true,\"lakecolor\":\"white\"},\"title\":{\"x\":0.05},\"mapbox\":{\"style\":\"light\"}}},\"xaxis\":{\"anchor\":\"y\",\"domain\":[0.0,0.7363],\"title\":{\"text\":\"total_bill\"}},\"yaxis\":{\"anchor\":\"x\",\"domain\":[0.0,0.7326],\"title\":{\"text\":\"tip\"}},\"xaxis2\":{\"anchor\":\"y2\",\"domain\":[0.7413,1.0],\"matches\":\"x2\",\"showticklabels\":false,\"showline\":false,\"ticks\":\"\",\"showgrid\":false},\"yaxis2\":{\"anchor\":\"x2\",\"domain\":[0.0,0.7326],\"matches\":\"y\",\"showticklabels\":false,\"showgrid\":true},\"xaxis3\":{\"anchor\":\"y3\",\"domain\":[0.0,0.7363],\"matches\":\"x\",\"showticklabels\":false,\"showgrid\":true},\"yaxis3\":{\"anchor\":\"x3\",\"domain\":[0.7426,1.0],\"matches\":\"y3\",\"showticklabels\":false,\"showline\":false,\"ticks\":\"\",\"showgrid\":true},\"xaxis4\":{\"anchor\":\"y4\",\"domain\":[0.7413,1.0],\"matches\":\"x2\",\"showticklabels\":false,\"showgrid\":false,\"showline\":false,\"ticks\":\"\"},\"yaxis4\":{\"anchor\":\"x4\",\"domain\":[0.7426,1.0],\"matches\":\"y3\",\"showticklabels\":false,\"showline\":false,\"ticks\":\"\",\"showgrid\":true},\"legend\":{\"title\":{\"text\":\"smoker, time\"},\"tracegroupgap\":0,\"itemsizing\":\"constant\"},\"margin\":{\"t\":60},\"barmode\":\"overlay\"},                        {\"responsive\": true}                    ).then(function(){\n",
       "                            \n",
       "var gd = document.getElementById('89ab7a25-2db3-4ded-8ee7-7f9eefc92d8f');\n",
       "var x = new MutationObserver(function (mutations, observer) {{\n",
       "        var display = window.getComputedStyle(gd).display;\n",
       "        if (!display || display === 'none') {{\n",
       "            console.log([gd, 'removed!']);\n",
       "            Plotly.purge(gd);\n",
       "            observer.disconnect();\n",
       "        }}\n",
       "}});\n",
       "\n",
       "// Listen for the removal of the full notebook cells\n",
       "var notebookContainer = gd.closest('#notebook-container');\n",
       "if (notebookContainer) {{\n",
       "    x.observe(notebookContainer, {childList: true});\n",
       "}}\n",
       "\n",
       "// Listen for the clearing of the current output cell\n",
       "var outputEl = gd.closest('.output');\n",
       "if (outputEl) {{\n",
       "    x.observe(outputEl, {childList: true});\n",
       "}}\n",
       "\n",
       "                        })                };                });            </script>        </div>"
      ]
     },
     "metadata": {},
     "output_type": "display_data"
    }
   ],
   "source": [
    "fig = px.scatter(tips, x='total_bill', y='tip',\n",
    "                 color='smoker', \n",
    "                 size='size',\n",
    "                 symbol='time',\n",
    "                 marginal_x='histogram', marginal_y='rug',\n",
    "                 hover_data=['day','sex'])\n",
    "fig.show()"
   ]
  },
  {
   "cell_type": "code",
   "execution_count": 11,
   "id": "c6414c29",
   "metadata": {},
   "outputs": [
    {
     "data": {
      "application/vnd.plotly.v1+json": {
       "config": {
        "plotlyServerURL": "https://plot.ly"
       },
       "data": [
        {
         "coloraxis": "coloraxis",
         "hovertemplate": "total_bill=%{x}<br>tip=%{y}<br>count=%{z}<extra></extra>",
         "name": "",
         "type": "histogram2d",
         "x": [
          16.99,
          10.34,
          21.01,
          23.68,
          24.59,
          25.29,
          8.77,
          26.88,
          15.04,
          14.78,
          10.27,
          35.26,
          15.42,
          18.43,
          14.83,
          21.58,
          10.33,
          16.29,
          16.97,
          20.65,
          17.92,
          20.29,
          15.77,
          39.42,
          19.82,
          17.81,
          13.37,
          12.69,
          21.7,
          19.65,
          9.55,
          18.35,
          15.06,
          20.69,
          17.78,
          24.06,
          16.31,
          16.93,
          18.69,
          31.27,
          16.04,
          17.46,
          13.94,
          9.68,
          30.4,
          18.29,
          22.23,
          32.4,
          28.55,
          18.04,
          12.54,
          10.29,
          34.81,
          9.94,
          25.56,
          19.49,
          38.01,
          26.41,
          11.24,
          48.27,
          20.29,
          13.81,
          11.02,
          18.29,
          17.59,
          20.08,
          16.45,
          3.07,
          20.23,
          15.01,
          12.02,
          17.07,
          26.86,
          25.28,
          14.73,
          10.51,
          17.92,
          27.2,
          22.76,
          17.29,
          19.44,
          16.66,
          10.07,
          32.68,
          15.98,
          34.83,
          13.03,
          18.28,
          24.71,
          21.16,
          28.97,
          22.49,
          5.75,
          16.32,
          22.75,
          40.17,
          27.28,
          12.03,
          21.01,
          12.46,
          11.35,
          15.38,
          44.3,
          22.42,
          20.92,
          15.36,
          20.49,
          25.21,
          18.24,
          14.31,
          14,
          7.25,
          38.07,
          23.95,
          25.71,
          17.31,
          29.93,
          10.65,
          12.43,
          24.08,
          11.69,
          13.42,
          14.26,
          15.95,
          12.48,
          29.8,
          8.52,
          14.52,
          11.38,
          22.82,
          19.08,
          20.27,
          11.17,
          12.26,
          18.26,
          8.51,
          10.33,
          14.15,
          16,
          13.16,
          17.47,
          34.3,
          41.19,
          27.05,
          16.43,
          8.35,
          18.64,
          11.87,
          9.78,
          7.51,
          14.07,
          13.13,
          17.26,
          24.55,
          19.77,
          29.85,
          48.17,
          25,
          13.39,
          16.49,
          21.5,
          12.66,
          16.21,
          13.81,
          17.51,
          24.52,
          20.76,
          31.71,
          10.59,
          10.63,
          50.81,
          15.81,
          7.25,
          31.85,
          16.82,
          32.9,
          17.89,
          14.48,
          9.6,
          34.63,
          34.65,
          23.33,
          45.35,
          23.17,
          40.55,
          20.69,
          20.9,
          30.46,
          18.15,
          23.1,
          15.69,
          19.81,
          28.44,
          15.48,
          16.58,
          7.56,
          10.34,
          43.11,
          13,
          13.51,
          18.71,
          12.74,
          13,
          16.4,
          20.53,
          16.47,
          26.59,
          38.73,
          24.27,
          12.76,
          30.06,
          25.89,
          48.33,
          13.27,
          28.17,
          12.9,
          28.15,
          11.59,
          7.74,
          30.14,
          12.16,
          13.42,
          8.58,
          15.98,
          13.42,
          16.27,
          10.09,
          20.45,
          13.28,
          22.12,
          24.01,
          15.69,
          11.61,
          10.77,
          15.53,
          10.07,
          12.6,
          32.83,
          35.83,
          29.03,
          27.18,
          22.67,
          17.82,
          18.78
         ],
         "xaxis": "x",
         "xbingroup": "x",
         "y": [
          1.01,
          1.66,
          3.5,
          3.31,
          3.61,
          4.71,
          2,
          3.12,
          1.96,
          3.23,
          1.71,
          5,
          1.57,
          3,
          3.02,
          3.92,
          1.67,
          3.71,
          3.5,
          3.35,
          4.08,
          2.75,
          2.23,
          7.58,
          3.18,
          2.34,
          2,
          2,
          4.3,
          3,
          1.45,
          2.5,
          3,
          2.45,
          3.27,
          3.6,
          2,
          3.07,
          2.31,
          5,
          2.24,
          2.54,
          3.06,
          1.32,
          5.6,
          3,
          5,
          6,
          2.05,
          3,
          2.5,
          2.6,
          5.2,
          1.56,
          4.34,
          3.51,
          3,
          1.5,
          1.76,
          6.73,
          3.21,
          2,
          1.98,
          3.76,
          2.64,
          3.15,
          2.47,
          1,
          2.01,
          2.09,
          1.97,
          3,
          3.14,
          5,
          2.2,
          1.25,
          3.08,
          4,
          3,
          2.71,
          3,
          3.4,
          1.83,
          5,
          2.03,
          5.17,
          2,
          4,
          5.85,
          3,
          3,
          3.5,
          1,
          4.3,
          3.25,
          4.73,
          4,
          1.5,
          3,
          1.5,
          2.5,
          3,
          2.5,
          3.48,
          4.08,
          1.64,
          4.06,
          4.29,
          3.76,
          4,
          3,
          1,
          4,
          2.55,
          4,
          3.5,
          5.07,
          1.5,
          1.8,
          2.92,
          2.31,
          1.68,
          2.5,
          2,
          2.52,
          4.2,
          1.48,
          2,
          2,
          2.18,
          1.5,
          2.83,
          1.5,
          2,
          3.25,
          1.25,
          2,
          2,
          2,
          2.75,
          3.5,
          6.7,
          5,
          5,
          2.3,
          1.5,
          1.36,
          1.63,
          1.73,
          2,
          2.5,
          2,
          2.74,
          2,
          2,
          5.14,
          5,
          3.75,
          2.61,
          2,
          3.5,
          2.5,
          2,
          2,
          3,
          3.48,
          2.24,
          4.5,
          1.61,
          2,
          10,
          3.16,
          5.15,
          3.18,
          4,
          3.11,
          2,
          2,
          4,
          3.55,
          3.68,
          5.65,
          3.5,
          6.5,
          3,
          5,
          3.5,
          2,
          3.5,
          4,
          1.5,
          4.19,
          2.56,
          2.02,
          4,
          1.44,
          2,
          5,
          2,
          2,
          4,
          2.01,
          2,
          2.5,
          4,
          3.23,
          3.41,
          3,
          2.03,
          2.23,
          2,
          5.16,
          9,
          2.5,
          6.5,
          1.1,
          3,
          1.5,
          1.44,
          3.09,
          2.2,
          3.48,
          1.92,
          3,
          1.58,
          2.5,
          2,
          3,
          2.72,
          2.88,
          2,
          3,
          3.39,
          1.47,
          3,
          1.25,
          1,
          1.17,
          4.67,
          5.92,
          2,
          2,
          1.75,
          3
         ],
         "yaxis": "y",
         "ybingroup": "y"
        },
        {
         "alignmentgroup": "True",
         "customdata": [
          [
           "Sun",
           "Female"
          ],
          [
           "Sun",
           "Male"
          ],
          [
           "Sun",
           "Male"
          ],
          [
           "Sun",
           "Male"
          ],
          [
           "Sun",
           "Female"
          ],
          [
           "Sun",
           "Male"
          ],
          [
           "Sun",
           "Male"
          ],
          [
           "Sun",
           "Male"
          ],
          [
           "Sun",
           "Male"
          ],
          [
           "Sun",
           "Male"
          ],
          [
           "Sun",
           "Male"
          ],
          [
           "Sun",
           "Female"
          ],
          [
           "Sun",
           "Male"
          ],
          [
           "Sun",
           "Male"
          ],
          [
           "Sun",
           "Female"
          ],
          [
           "Sun",
           "Male"
          ],
          [
           "Sun",
           "Female"
          ],
          [
           "Sun",
           "Male"
          ],
          [
           "Sun",
           "Female"
          ],
          [
           "Sat",
           "Male"
          ],
          [
           "Sat",
           "Male"
          ],
          [
           "Sat",
           "Female"
          ],
          [
           "Sat",
           "Female"
          ],
          [
           "Sat",
           "Male"
          ],
          [
           "Sat",
           "Male"
          ],
          [
           "Sat",
           "Male"
          ],
          [
           "Sat",
           "Male"
          ],
          [
           "Sat",
           "Male"
          ],
          [
           "Sat",
           "Male"
          ],
          [
           "Sat",
           "Female"
          ],
          [
           "Sat",
           "Male"
          ],
          [
           "Sat",
           "Male"
          ],
          [
           "Sat",
           "Female"
          ],
          [
           "Sat",
           "Female"
          ],
          [
           "Sat",
           "Male"
          ],
          [
           "Sat",
           "Male"
          ],
          [
           "Sat",
           "Male"
          ],
          [
           "Sat",
           "Female"
          ],
          [
           "Sat",
           "Male"
          ],
          [
           "Sat",
           "Male"
          ],
          [
           "Sat",
           "Male"
          ],
          [
           "Sun",
           "Male"
          ],
          [
           "Sun",
           "Male"
          ],
          [
           "Sun",
           "Male"
          ],
          [
           "Sun",
           "Male"
          ],
          [
           "Sun",
           "Male"
          ],
          [
           "Sun",
           "Male"
          ],
          [
           "Sun",
           "Male"
          ],
          [
           "Sun",
           "Male"
          ],
          [
           "Sun",
           "Male"
          ],
          [
           "Sun",
           "Male"
          ],
          [
           "Sun",
           "Female"
          ],
          [
           "Sun",
           "Female"
          ],
          [
           "Sun",
           "Male"
          ],
          [
           "Sun",
           "Male"
          ],
          [
           "Sun",
           "Male"
          ],
          [
           "Sat",
           "Male"
          ],
          [
           "Sat",
           "Female"
          ],
          [
           "Sat",
           "Male"
          ],
          [
           "Sat",
           "Male"
          ],
          [
           "Sat",
           "Male"
          ],
          [
           "Sat",
           "Male"
          ],
          [
           "Sat",
           "Male"
          ],
          [
           "Sat",
           "Male"
          ],
          [
           "Sat",
           "Male"
          ],
          [
           "Sat",
           "Male"
          ],
          [
           "Sat",
           "Female"
          ],
          [
           "Sat",
           "Female"
          ],
          [
           "Sat",
           "Male"
          ],
          [
           "Sat",
           "Male"
          ],
          [
           "Sat",
           "Male"
          ],
          [
           "Sat",
           "Female"
          ],
          [
           "Sat",
           "Female"
          ],
          [
           "Sat",
           "Female"
          ],
          [
           "Sat",
           "Female"
          ],
          [
           "Sat",
           "Male"
          ],
          [
           "Sat",
           "Male"
          ],
          [
           "Thur",
           "Male"
          ],
          [
           "Thur",
           "Male"
          ],
          [
           "Thur",
           "Male"
          ],
          [
           "Thur",
           "Male"
          ],
          [
           "Thur",
           "Male"
          ],
          [
           "Thur",
           "Female"
          ],
          [
           "Thur",
           "Male"
          ],
          [
           "Thur",
           "Male"
          ],
          [
           "Thur",
           "Female"
          ],
          [
           "Thur",
           "Male"
          ],
          [
           "Thur",
           "Male"
          ],
          [
           "Thur",
           "Male"
          ],
          [
           "Thur",
           "Male"
          ],
          [
           "Fri",
           "Male"
          ],
          [
           "Fri",
           "Male"
          ],
          [
           "Fri",
           "Female"
          ],
          [
           "Fri",
           "Female"
          ],
          [
           "Fri",
           "Female"
          ],
          [
           "Fri",
           "Male"
          ],
          [
           "Fri",
           "Male"
          ],
          [
           "Fri",
           "Male"
          ],
          [
           "Fri",
           "Male"
          ],
          [
           "Fri",
           "Male"
          ],
          [
           "Fri",
           "Female"
          ],
          [
           "Fri",
           "Female"
          ],
          [
           "Sat",
           "Female"
          ],
          [
           "Sat",
           "Female"
          ],
          [
           "Sat",
           "Female"
          ],
          [
           "Sat",
           "Male"
          ],
          [
           "Sat",
           "Male"
          ],
          [
           "Sat",
           "Male"
          ],
          [
           "Sat",
           "Male"
          ],
          [
           "Sat",
           "Female"
          ],
          [
           "Sat",
           "Male"
          ],
          [
           "Sat",
           "Female"
          ],
          [
           "Sun",
           "Male"
          ],
          [
           "Sun",
           "Male"
          ],
          [
           "Sun",
           "Female"
          ],
          [
           "Sun",
           "Female"
          ],
          [
           "Sun",
           "Male"
          ],
          [
           "Thur",
           "Female"
          ],
          [
           "Thur",
           "Female"
          ],
          [
           "Thur",
           "Female"
          ],
          [
           "Thur",
           "Male"
          ],
          [
           "Thur",
           "Female"
          ],
          [
           "Thur",
           "Male"
          ],
          [
           "Thur",
           "Male"
          ],
          [
           "Thur",
           "Female"
          ],
          [
           "Thur",
           "Female"
          ],
          [
           "Thur",
           "Male"
          ],
          [
           "Thur",
           "Female"
          ],
          [
           "Thur",
           "Female"
          ],
          [
           "Thur",
           "Male"
          ],
          [
           "Thur",
           "Male"
          ],
          [
           "Thur",
           "Female"
          ],
          [
           "Thur",
           "Female"
          ],
          [
           "Thur",
           "Female"
          ],
          [
           "Thur",
           "Female"
          ],
          [
           "Thur",
           "Female"
          ],
          [
           "Thur",
           "Female"
          ],
          [
           "Thur",
           "Female"
          ],
          [
           "Thur",
           "Male"
          ],
          [
           "Thur",
           "Female"
          ],
          [
           "Thur",
           "Female"
          ],
          [
           "Thur",
           "Male"
          ],
          [
           "Thur",
           "Male"
          ],
          [
           "Thur",
           "Female"
          ],
          [
           "Thur",
           "Female"
          ],
          [
           "Thur",
           "Female"
          ],
          [
           "Thur",
           "Female"
          ],
          [
           "Thur",
           "Female"
          ],
          [
           "Thur",
           "Male"
          ],
          [
           "Thur",
           "Male"
          ],
          [
           "Sun",
           "Male"
          ],
          [
           "Sun",
           "Male"
          ],
          [
           "Sun",
           "Male"
          ],
          [
           "Sun",
           "Male"
          ],
          [
           "Sun",
           "Male"
          ],
          [
           "Sun",
           "Female"
          ],
          [
           "Sun",
           "Male"
          ],
          [
           "Sun",
           "Female"
          ],
          [
           "Sun",
           "Female"
          ],
          [
           "Sun",
           "Male"
          ],
          [
           "Sun",
           "Male"
          ],
          [
           "Sun",
           "Male"
          ],
          [
           "Sun",
           "Female"
          ],
          [
           "Sun",
           "Male"
          ],
          [
           "Sun",
           "Female"
          ],
          [
           "Sun",
           "Male"
          ],
          [
           "Sun",
           "Male"
          ],
          [
           "Sun",
           "Male"
          ],
          [
           "Sat",
           "Female"
          ],
          [
           "Sat",
           "Female"
          ],
          [
           "Sat",
           "Male"
          ],
          [
           "Sat",
           "Male"
          ],
          [
           "Sun",
           "Male"
          ],
          [
           "Sun",
           "Male"
          ],
          [
           "Sun",
           "Male"
          ],
          [
           "Sun",
           "Male"
          ],
          [
           "Sun",
           "Male"
          ],
          [
           "Sun",
           "Male"
          ],
          [
           "Sun",
           "Female"
          ],
          [
           "Sun",
           "Male"
          ],
          [
           "Sun",
           "Male"
          ],
          [
           "Sun",
           "Male"
          ],
          [
           "Sun",
           "Male"
          ],
          [
           "Sun",
           "Male"
          ],
          [
           "Sun",
           "Male"
          ],
          [
           "Sun",
           "Male"
          ],
          [
           "Sun",
           "Female"
          ],
          [
           "Sun",
           "Male"
          ],
          [
           "Sun",
           "Female"
          ],
          [
           "Sun",
           "Male"
          ],
          [
           "Sun",
           "Male"
          ],
          [
           "Thur",
           "Female"
          ],
          [
           "Thur",
           "Male"
          ],
          [
           "Thur",
           "Male"
          ],
          [
           "Thur",
           "Male"
          ],
          [
           "Thur",
           "Male"
          ],
          [
           "Thur",
           "Male"
          ],
          [
           "Thur",
           "Female"
          ],
          [
           "Thur",
           "Female"
          ],
          [
           "Thur",
           "Male"
          ],
          [
           "Thur",
           "Male"
          ],
          [
           "Thur",
           "Female"
          ],
          [
           "Thur",
           "Female"
          ],
          [
           "Thur",
           "Female"
          ],
          [
           "Thur",
           "Male"
          ],
          [
           "Thur",
           "Female"
          ],
          [
           "Sat",
           "Male"
          ],
          [
           "Sat",
           "Male"
          ],
          [
           "Sat",
           "Male"
          ],
          [
           "Sat",
           "Female"
          ],
          [
           "Sat",
           "Male"
          ],
          [
           "Sat",
           "Male"
          ],
          [
           "Sat",
           "Male"
          ],
          [
           "Sat",
           "Female"
          ],
          [
           "Sat",
           "Female"
          ],
          [
           "Sat",
           "Female"
          ],
          [
           "Sat",
           "Male"
          ],
          [
           "Sat",
           "Male"
          ],
          [
           "Sat",
           "Male"
          ],
          [
           "Sat",
           "Female"
          ],
          [
           "Fri",
           "Male"
          ],
          [
           "Fri",
           "Female"
          ],
          [
           "Fri",
           "Male"
          ],
          [
           "Fri",
           "Female"
          ],
          [
           "Fri",
           "Male"
          ],
          [
           "Fri",
           "Female"
          ],
          [
           "Fri",
           "Female"
          ],
          [
           "Sat",
           "Male"
          ],
          [
           "Sat",
           "Male"
          ],
          [
           "Sat",
           "Female"
          ],
          [
           "Sat",
           "Male"
          ],
          [
           "Sat",
           "Male"
          ],
          [
           "Sat",
           "Male"
          ],
          [
           "Sat",
           "Male"
          ],
          [
           "Sat",
           "Male"
          ],
          [
           "Sat",
           "Male"
          ],
          [
           "Sat",
           "Male"
          ],
          [
           "Sat",
           "Male"
          ],
          [
           "Sat",
           "Female"
          ],
          [
           "Sat",
           "Male"
          ],
          [
           "Sat",
           "Female"
          ],
          [
           "Sat",
           "Male"
          ],
          [
           "Sat",
           "Male"
          ],
          [
           "Thur",
           "Female"
          ]
         ],
         "hovertemplate": "total_bill=%{x}<br>day=%{customdata[0]}<br>sex=%{customdata[1]}<extra></extra>",
         "legendgroup": "",
         "marker": {
          "color": "#0d0887"
         },
         "name": "",
         "notched": true,
         "offsetgroup": "",
         "showlegend": false,
         "type": "box",
         "x": [
          16.99,
          10.34,
          21.01,
          23.68,
          24.59,
          25.29,
          8.77,
          26.88,
          15.04,
          14.78,
          10.27,
          35.26,
          15.42,
          18.43,
          14.83,
          21.58,
          10.33,
          16.29,
          16.97,
          20.65,
          17.92,
          20.29,
          15.77,
          39.42,
          19.82,
          17.81,
          13.37,
          12.69,
          21.7,
          19.65,
          9.55,
          18.35,
          15.06,
          20.69,
          17.78,
          24.06,
          16.31,
          16.93,
          18.69,
          31.27,
          16.04,
          17.46,
          13.94,
          9.68,
          30.4,
          18.29,
          22.23,
          32.4,
          28.55,
          18.04,
          12.54,
          10.29,
          34.81,
          9.94,
          25.56,
          19.49,
          38.01,
          26.41,
          11.24,
          48.27,
          20.29,
          13.81,
          11.02,
          18.29,
          17.59,
          20.08,
          16.45,
          3.07,
          20.23,
          15.01,
          12.02,
          17.07,
          26.86,
          25.28,
          14.73,
          10.51,
          17.92,
          27.2,
          22.76,
          17.29,
          19.44,
          16.66,
          10.07,
          32.68,
          15.98,
          34.83,
          13.03,
          18.28,
          24.71,
          21.16,
          28.97,
          22.49,
          5.75,
          16.32,
          22.75,
          40.17,
          27.28,
          12.03,
          21.01,
          12.46,
          11.35,
          15.38,
          44.3,
          22.42,
          20.92,
          15.36,
          20.49,
          25.21,
          18.24,
          14.31,
          14,
          7.25,
          38.07,
          23.95,
          25.71,
          17.31,
          29.93,
          10.65,
          12.43,
          24.08,
          11.69,
          13.42,
          14.26,
          15.95,
          12.48,
          29.8,
          8.52,
          14.52,
          11.38,
          22.82,
          19.08,
          20.27,
          11.17,
          12.26,
          18.26,
          8.51,
          10.33,
          14.15,
          16,
          13.16,
          17.47,
          34.3,
          41.19,
          27.05,
          16.43,
          8.35,
          18.64,
          11.87,
          9.78,
          7.51,
          14.07,
          13.13,
          17.26,
          24.55,
          19.77,
          29.85,
          48.17,
          25,
          13.39,
          16.49,
          21.5,
          12.66,
          16.21,
          13.81,
          17.51,
          24.52,
          20.76,
          31.71,
          10.59,
          10.63,
          50.81,
          15.81,
          7.25,
          31.85,
          16.82,
          32.9,
          17.89,
          14.48,
          9.6,
          34.63,
          34.65,
          23.33,
          45.35,
          23.17,
          40.55,
          20.69,
          20.9,
          30.46,
          18.15,
          23.1,
          15.69,
          19.81,
          28.44,
          15.48,
          16.58,
          7.56,
          10.34,
          43.11,
          13,
          13.51,
          18.71,
          12.74,
          13,
          16.4,
          20.53,
          16.47,
          26.59,
          38.73,
          24.27,
          12.76,
          30.06,
          25.89,
          48.33,
          13.27,
          28.17,
          12.9,
          28.15,
          11.59,
          7.74,
          30.14,
          12.16,
          13.42,
          8.58,
          15.98,
          13.42,
          16.27,
          10.09,
          20.45,
          13.28,
          22.12,
          24.01,
          15.69,
          11.61,
          10.77,
          15.53,
          10.07,
          12.6,
          32.83,
          35.83,
          29.03,
          27.18,
          22.67,
          17.82,
          18.78
         ],
         "xaxis": "x3",
         "yaxis": "y3"
        },
        {
         "alignmentgroup": "True",
         "customdata": [
          [
           "Sun",
           "Female"
          ],
          [
           "Sun",
           "Male"
          ],
          [
           "Sun",
           "Male"
          ],
          [
           "Sun",
           "Male"
          ],
          [
           "Sun",
           "Female"
          ],
          [
           "Sun",
           "Male"
          ],
          [
           "Sun",
           "Male"
          ],
          [
           "Sun",
           "Male"
          ],
          [
           "Sun",
           "Male"
          ],
          [
           "Sun",
           "Male"
          ],
          [
           "Sun",
           "Male"
          ],
          [
           "Sun",
           "Female"
          ],
          [
           "Sun",
           "Male"
          ],
          [
           "Sun",
           "Male"
          ],
          [
           "Sun",
           "Female"
          ],
          [
           "Sun",
           "Male"
          ],
          [
           "Sun",
           "Female"
          ],
          [
           "Sun",
           "Male"
          ],
          [
           "Sun",
           "Female"
          ],
          [
           "Sat",
           "Male"
          ],
          [
           "Sat",
           "Male"
          ],
          [
           "Sat",
           "Female"
          ],
          [
           "Sat",
           "Female"
          ],
          [
           "Sat",
           "Male"
          ],
          [
           "Sat",
           "Male"
          ],
          [
           "Sat",
           "Male"
          ],
          [
           "Sat",
           "Male"
          ],
          [
           "Sat",
           "Male"
          ],
          [
           "Sat",
           "Male"
          ],
          [
           "Sat",
           "Female"
          ],
          [
           "Sat",
           "Male"
          ],
          [
           "Sat",
           "Male"
          ],
          [
           "Sat",
           "Female"
          ],
          [
           "Sat",
           "Female"
          ],
          [
           "Sat",
           "Male"
          ],
          [
           "Sat",
           "Male"
          ],
          [
           "Sat",
           "Male"
          ],
          [
           "Sat",
           "Female"
          ],
          [
           "Sat",
           "Male"
          ],
          [
           "Sat",
           "Male"
          ],
          [
           "Sat",
           "Male"
          ],
          [
           "Sun",
           "Male"
          ],
          [
           "Sun",
           "Male"
          ],
          [
           "Sun",
           "Male"
          ],
          [
           "Sun",
           "Male"
          ],
          [
           "Sun",
           "Male"
          ],
          [
           "Sun",
           "Male"
          ],
          [
           "Sun",
           "Male"
          ],
          [
           "Sun",
           "Male"
          ],
          [
           "Sun",
           "Male"
          ],
          [
           "Sun",
           "Male"
          ],
          [
           "Sun",
           "Female"
          ],
          [
           "Sun",
           "Female"
          ],
          [
           "Sun",
           "Male"
          ],
          [
           "Sun",
           "Male"
          ],
          [
           "Sun",
           "Male"
          ],
          [
           "Sat",
           "Male"
          ],
          [
           "Sat",
           "Female"
          ],
          [
           "Sat",
           "Male"
          ],
          [
           "Sat",
           "Male"
          ],
          [
           "Sat",
           "Male"
          ],
          [
           "Sat",
           "Male"
          ],
          [
           "Sat",
           "Male"
          ],
          [
           "Sat",
           "Male"
          ],
          [
           "Sat",
           "Male"
          ],
          [
           "Sat",
           "Male"
          ],
          [
           "Sat",
           "Female"
          ],
          [
           "Sat",
           "Female"
          ],
          [
           "Sat",
           "Male"
          ],
          [
           "Sat",
           "Male"
          ],
          [
           "Sat",
           "Male"
          ],
          [
           "Sat",
           "Female"
          ],
          [
           "Sat",
           "Female"
          ],
          [
           "Sat",
           "Female"
          ],
          [
           "Sat",
           "Female"
          ],
          [
           "Sat",
           "Male"
          ],
          [
           "Sat",
           "Male"
          ],
          [
           "Thur",
           "Male"
          ],
          [
           "Thur",
           "Male"
          ],
          [
           "Thur",
           "Male"
          ],
          [
           "Thur",
           "Male"
          ],
          [
           "Thur",
           "Male"
          ],
          [
           "Thur",
           "Female"
          ],
          [
           "Thur",
           "Male"
          ],
          [
           "Thur",
           "Male"
          ],
          [
           "Thur",
           "Female"
          ],
          [
           "Thur",
           "Male"
          ],
          [
           "Thur",
           "Male"
          ],
          [
           "Thur",
           "Male"
          ],
          [
           "Thur",
           "Male"
          ],
          [
           "Fri",
           "Male"
          ],
          [
           "Fri",
           "Male"
          ],
          [
           "Fri",
           "Female"
          ],
          [
           "Fri",
           "Female"
          ],
          [
           "Fri",
           "Female"
          ],
          [
           "Fri",
           "Male"
          ],
          [
           "Fri",
           "Male"
          ],
          [
           "Fri",
           "Male"
          ],
          [
           "Fri",
           "Male"
          ],
          [
           "Fri",
           "Male"
          ],
          [
           "Fri",
           "Female"
          ],
          [
           "Fri",
           "Female"
          ],
          [
           "Sat",
           "Female"
          ],
          [
           "Sat",
           "Female"
          ],
          [
           "Sat",
           "Female"
          ],
          [
           "Sat",
           "Male"
          ],
          [
           "Sat",
           "Male"
          ],
          [
           "Sat",
           "Male"
          ],
          [
           "Sat",
           "Male"
          ],
          [
           "Sat",
           "Female"
          ],
          [
           "Sat",
           "Male"
          ],
          [
           "Sat",
           "Female"
          ],
          [
           "Sun",
           "Male"
          ],
          [
           "Sun",
           "Male"
          ],
          [
           "Sun",
           "Female"
          ],
          [
           "Sun",
           "Female"
          ],
          [
           "Sun",
           "Male"
          ],
          [
           "Thur",
           "Female"
          ],
          [
           "Thur",
           "Female"
          ],
          [
           "Thur",
           "Female"
          ],
          [
           "Thur",
           "Male"
          ],
          [
           "Thur",
           "Female"
          ],
          [
           "Thur",
           "Male"
          ],
          [
           "Thur",
           "Male"
          ],
          [
           "Thur",
           "Female"
          ],
          [
           "Thur",
           "Female"
          ],
          [
           "Thur",
           "Male"
          ],
          [
           "Thur",
           "Female"
          ],
          [
           "Thur",
           "Female"
          ],
          [
           "Thur",
           "Male"
          ],
          [
           "Thur",
           "Male"
          ],
          [
           "Thur",
           "Female"
          ],
          [
           "Thur",
           "Female"
          ],
          [
           "Thur",
           "Female"
          ],
          [
           "Thur",
           "Female"
          ],
          [
           "Thur",
           "Female"
          ],
          [
           "Thur",
           "Female"
          ],
          [
           "Thur",
           "Female"
          ],
          [
           "Thur",
           "Male"
          ],
          [
           "Thur",
           "Female"
          ],
          [
           "Thur",
           "Female"
          ],
          [
           "Thur",
           "Male"
          ],
          [
           "Thur",
           "Male"
          ],
          [
           "Thur",
           "Female"
          ],
          [
           "Thur",
           "Female"
          ],
          [
           "Thur",
           "Female"
          ],
          [
           "Thur",
           "Female"
          ],
          [
           "Thur",
           "Female"
          ],
          [
           "Thur",
           "Male"
          ],
          [
           "Thur",
           "Male"
          ],
          [
           "Sun",
           "Male"
          ],
          [
           "Sun",
           "Male"
          ],
          [
           "Sun",
           "Male"
          ],
          [
           "Sun",
           "Male"
          ],
          [
           "Sun",
           "Male"
          ],
          [
           "Sun",
           "Female"
          ],
          [
           "Sun",
           "Male"
          ],
          [
           "Sun",
           "Female"
          ],
          [
           "Sun",
           "Female"
          ],
          [
           "Sun",
           "Male"
          ],
          [
           "Sun",
           "Male"
          ],
          [
           "Sun",
           "Male"
          ],
          [
           "Sun",
           "Female"
          ],
          [
           "Sun",
           "Male"
          ],
          [
           "Sun",
           "Female"
          ],
          [
           "Sun",
           "Male"
          ],
          [
           "Sun",
           "Male"
          ],
          [
           "Sun",
           "Male"
          ],
          [
           "Sat",
           "Female"
          ],
          [
           "Sat",
           "Female"
          ],
          [
           "Sat",
           "Male"
          ],
          [
           "Sat",
           "Male"
          ],
          [
           "Sun",
           "Male"
          ],
          [
           "Sun",
           "Male"
          ],
          [
           "Sun",
           "Male"
          ],
          [
           "Sun",
           "Male"
          ],
          [
           "Sun",
           "Male"
          ],
          [
           "Sun",
           "Male"
          ],
          [
           "Sun",
           "Female"
          ],
          [
           "Sun",
           "Male"
          ],
          [
           "Sun",
           "Male"
          ],
          [
           "Sun",
           "Male"
          ],
          [
           "Sun",
           "Male"
          ],
          [
           "Sun",
           "Male"
          ],
          [
           "Sun",
           "Male"
          ],
          [
           "Sun",
           "Male"
          ],
          [
           "Sun",
           "Female"
          ],
          [
           "Sun",
           "Male"
          ],
          [
           "Sun",
           "Female"
          ],
          [
           "Sun",
           "Male"
          ],
          [
           "Sun",
           "Male"
          ],
          [
           "Thur",
           "Female"
          ],
          [
           "Thur",
           "Male"
          ],
          [
           "Thur",
           "Male"
          ],
          [
           "Thur",
           "Male"
          ],
          [
           "Thur",
           "Male"
          ],
          [
           "Thur",
           "Male"
          ],
          [
           "Thur",
           "Female"
          ],
          [
           "Thur",
           "Female"
          ],
          [
           "Thur",
           "Male"
          ],
          [
           "Thur",
           "Male"
          ],
          [
           "Thur",
           "Female"
          ],
          [
           "Thur",
           "Female"
          ],
          [
           "Thur",
           "Female"
          ],
          [
           "Thur",
           "Male"
          ],
          [
           "Thur",
           "Female"
          ],
          [
           "Sat",
           "Male"
          ],
          [
           "Sat",
           "Male"
          ],
          [
           "Sat",
           "Male"
          ],
          [
           "Sat",
           "Female"
          ],
          [
           "Sat",
           "Male"
          ],
          [
           "Sat",
           "Male"
          ],
          [
           "Sat",
           "Male"
          ],
          [
           "Sat",
           "Female"
          ],
          [
           "Sat",
           "Female"
          ],
          [
           "Sat",
           "Female"
          ],
          [
           "Sat",
           "Male"
          ],
          [
           "Sat",
           "Male"
          ],
          [
           "Sat",
           "Male"
          ],
          [
           "Sat",
           "Female"
          ],
          [
           "Fri",
           "Male"
          ],
          [
           "Fri",
           "Female"
          ],
          [
           "Fri",
           "Male"
          ],
          [
           "Fri",
           "Female"
          ],
          [
           "Fri",
           "Male"
          ],
          [
           "Fri",
           "Female"
          ],
          [
           "Fri",
           "Female"
          ],
          [
           "Sat",
           "Male"
          ],
          [
           "Sat",
           "Male"
          ],
          [
           "Sat",
           "Female"
          ],
          [
           "Sat",
           "Male"
          ],
          [
           "Sat",
           "Male"
          ],
          [
           "Sat",
           "Male"
          ],
          [
           "Sat",
           "Male"
          ],
          [
           "Sat",
           "Male"
          ],
          [
           "Sat",
           "Male"
          ],
          [
           "Sat",
           "Male"
          ],
          [
           "Sat",
           "Male"
          ],
          [
           "Sat",
           "Female"
          ],
          [
           "Sat",
           "Male"
          ],
          [
           "Sat",
           "Female"
          ],
          [
           "Sat",
           "Male"
          ],
          [
           "Sat",
           "Male"
          ],
          [
           "Thur",
           "Female"
          ]
         ],
         "hovertemplate": "tip=%{y}<br>day=%{customdata[0]}<br>sex=%{customdata[1]}<extra></extra>",
         "legendgroup": "",
         "marker": {
          "color": "#0d0887"
         },
         "name": "",
         "offsetgroup": "",
         "scalegroup": "y",
         "showlegend": false,
         "type": "violin",
         "xaxis": "x2",
         "y": [
          1.01,
          1.66,
          3.5,
          3.31,
          3.61,
          4.71,
          2,
          3.12,
          1.96,
          3.23,
          1.71,
          5,
          1.57,
          3,
          3.02,
          3.92,
          1.67,
          3.71,
          3.5,
          3.35,
          4.08,
          2.75,
          2.23,
          7.58,
          3.18,
          2.34,
          2,
          2,
          4.3,
          3,
          1.45,
          2.5,
          3,
          2.45,
          3.27,
          3.6,
          2,
          3.07,
          2.31,
          5,
          2.24,
          2.54,
          3.06,
          1.32,
          5.6,
          3,
          5,
          6,
          2.05,
          3,
          2.5,
          2.6,
          5.2,
          1.56,
          4.34,
          3.51,
          3,
          1.5,
          1.76,
          6.73,
          3.21,
          2,
          1.98,
          3.76,
          2.64,
          3.15,
          2.47,
          1,
          2.01,
          2.09,
          1.97,
          3,
          3.14,
          5,
          2.2,
          1.25,
          3.08,
          4,
          3,
          2.71,
          3,
          3.4,
          1.83,
          5,
          2.03,
          5.17,
          2,
          4,
          5.85,
          3,
          3,
          3.5,
          1,
          4.3,
          3.25,
          4.73,
          4,
          1.5,
          3,
          1.5,
          2.5,
          3,
          2.5,
          3.48,
          4.08,
          1.64,
          4.06,
          4.29,
          3.76,
          4,
          3,
          1,
          4,
          2.55,
          4,
          3.5,
          5.07,
          1.5,
          1.8,
          2.92,
          2.31,
          1.68,
          2.5,
          2,
          2.52,
          4.2,
          1.48,
          2,
          2,
          2.18,
          1.5,
          2.83,
          1.5,
          2,
          3.25,
          1.25,
          2,
          2,
          2,
          2.75,
          3.5,
          6.7,
          5,
          5,
          2.3,
          1.5,
          1.36,
          1.63,
          1.73,
          2,
          2.5,
          2,
          2.74,
          2,
          2,
          5.14,
          5,
          3.75,
          2.61,
          2,
          3.5,
          2.5,
          2,
          2,
          3,
          3.48,
          2.24,
          4.5,
          1.61,
          2,
          10,
          3.16,
          5.15,
          3.18,
          4,
          3.11,
          2,
          2,
          4,
          3.55,
          3.68,
          5.65,
          3.5,
          6.5,
          3,
          5,
          3.5,
          2,
          3.5,
          4,
          1.5,
          4.19,
          2.56,
          2.02,
          4,
          1.44,
          2,
          5,
          2,
          2,
          4,
          2.01,
          2,
          2.5,
          4,
          3.23,
          3.41,
          3,
          2.03,
          2.23,
          2,
          5.16,
          9,
          2.5,
          6.5,
          1.1,
          3,
          1.5,
          1.44,
          3.09,
          2.2,
          3.48,
          1.92,
          3,
          1.58,
          2.5,
          2,
          3,
          2.72,
          2.88,
          2,
          3,
          3.39,
          1.47,
          3,
          1.25,
          1,
          1.17,
          4.67,
          5.92,
          2,
          2,
          1.75,
          3
         ],
         "yaxis": "y2"
        }
       ],
       "layout": {
        "coloraxis": {
         "colorbar": {
          "title": {
           "text": "count"
          }
         },
         "colorscale": [
          [
           0,
           "#0d0887"
          ],
          [
           0.1111111111111111,
           "#46039f"
          ],
          [
           0.2222222222222222,
           "#7201a8"
          ],
          [
           0.3333333333333333,
           "#9c179e"
          ],
          [
           0.4444444444444444,
           "#bd3786"
          ],
          [
           0.5555555555555556,
           "#d8576b"
          ],
          [
           0.6666666666666666,
           "#ed7953"
          ],
          [
           0.7777777777777778,
           "#fb9f3a"
          ],
          [
           0.8888888888888888,
           "#fdca26"
          ],
          [
           1,
           "#f0f921"
          ]
         ]
        },
        "legend": {
         "tracegroupgap": 0
        },
        "margin": {
         "t": 60
        },
        "template": {
         "data": {
          "bar": [
           {
            "error_x": {
             "color": "#2a3f5f"
            },
            "error_y": {
             "color": "#2a3f5f"
            },
            "marker": {
             "line": {
              "color": "#E5ECF6",
              "width": 0.5
             },
             "pattern": {
              "fillmode": "overlay",
              "size": 10,
              "solidity": 0.2
             }
            },
            "type": "bar"
           }
          ],
          "barpolar": [
           {
            "marker": {
             "line": {
              "color": "#E5ECF6",
              "width": 0.5
             },
             "pattern": {
              "fillmode": "overlay",
              "size": 10,
              "solidity": 0.2
             }
            },
            "type": "barpolar"
           }
          ],
          "carpet": [
           {
            "aaxis": {
             "endlinecolor": "#2a3f5f",
             "gridcolor": "white",
             "linecolor": "white",
             "minorgridcolor": "white",
             "startlinecolor": "#2a3f5f"
            },
            "baxis": {
             "endlinecolor": "#2a3f5f",
             "gridcolor": "white",
             "linecolor": "white",
             "minorgridcolor": "white",
             "startlinecolor": "#2a3f5f"
            },
            "type": "carpet"
           }
          ],
          "choropleth": [
           {
            "colorbar": {
             "outlinewidth": 0,
             "ticks": ""
            },
            "type": "choropleth"
           }
          ],
          "contour": [
           {
            "colorbar": {
             "outlinewidth": 0,
             "ticks": ""
            },
            "colorscale": [
             [
              0,
              "#0d0887"
             ],
             [
              0.1111111111111111,
              "#46039f"
             ],
             [
              0.2222222222222222,
              "#7201a8"
             ],
             [
              0.3333333333333333,
              "#9c179e"
             ],
             [
              0.4444444444444444,
              "#bd3786"
             ],
             [
              0.5555555555555556,
              "#d8576b"
             ],
             [
              0.6666666666666666,
              "#ed7953"
             ],
             [
              0.7777777777777778,
              "#fb9f3a"
             ],
             [
              0.8888888888888888,
              "#fdca26"
             ],
             [
              1,
              "#f0f921"
             ]
            ],
            "type": "contour"
           }
          ],
          "contourcarpet": [
           {
            "colorbar": {
             "outlinewidth": 0,
             "ticks": ""
            },
            "type": "contourcarpet"
           }
          ],
          "heatmap": [
           {
            "colorbar": {
             "outlinewidth": 0,
             "ticks": ""
            },
            "colorscale": [
             [
              0,
              "#0d0887"
             ],
             [
              0.1111111111111111,
              "#46039f"
             ],
             [
              0.2222222222222222,
              "#7201a8"
             ],
             [
              0.3333333333333333,
              "#9c179e"
             ],
             [
              0.4444444444444444,
              "#bd3786"
             ],
             [
              0.5555555555555556,
              "#d8576b"
             ],
             [
              0.6666666666666666,
              "#ed7953"
             ],
             [
              0.7777777777777778,
              "#fb9f3a"
             ],
             [
              0.8888888888888888,
              "#fdca26"
             ],
             [
              1,
              "#f0f921"
             ]
            ],
            "type": "heatmap"
           }
          ],
          "heatmapgl": [
           {
            "colorbar": {
             "outlinewidth": 0,
             "ticks": ""
            },
            "colorscale": [
             [
              0,
              "#0d0887"
             ],
             [
              0.1111111111111111,
              "#46039f"
             ],
             [
              0.2222222222222222,
              "#7201a8"
             ],
             [
              0.3333333333333333,
              "#9c179e"
             ],
             [
              0.4444444444444444,
              "#bd3786"
             ],
             [
              0.5555555555555556,
              "#d8576b"
             ],
             [
              0.6666666666666666,
              "#ed7953"
             ],
             [
              0.7777777777777778,
              "#fb9f3a"
             ],
             [
              0.8888888888888888,
              "#fdca26"
             ],
             [
              1,
              "#f0f921"
             ]
            ],
            "type": "heatmapgl"
           }
          ],
          "histogram": [
           {
            "marker": {
             "pattern": {
              "fillmode": "overlay",
              "size": 10,
              "solidity": 0.2
             }
            },
            "type": "histogram"
           }
          ],
          "histogram2d": [
           {
            "colorbar": {
             "outlinewidth": 0,
             "ticks": ""
            },
            "colorscale": [
             [
              0,
              "#0d0887"
             ],
             [
              0.1111111111111111,
              "#46039f"
             ],
             [
              0.2222222222222222,
              "#7201a8"
             ],
             [
              0.3333333333333333,
              "#9c179e"
             ],
             [
              0.4444444444444444,
              "#bd3786"
             ],
             [
              0.5555555555555556,
              "#d8576b"
             ],
             [
              0.6666666666666666,
              "#ed7953"
             ],
             [
              0.7777777777777778,
              "#fb9f3a"
             ],
             [
              0.8888888888888888,
              "#fdca26"
             ],
             [
              1,
              "#f0f921"
             ]
            ],
            "type": "histogram2d"
           }
          ],
          "histogram2dcontour": [
           {
            "colorbar": {
             "outlinewidth": 0,
             "ticks": ""
            },
            "colorscale": [
             [
              0,
              "#0d0887"
             ],
             [
              0.1111111111111111,
              "#46039f"
             ],
             [
              0.2222222222222222,
              "#7201a8"
             ],
             [
              0.3333333333333333,
              "#9c179e"
             ],
             [
              0.4444444444444444,
              "#bd3786"
             ],
             [
              0.5555555555555556,
              "#d8576b"
             ],
             [
              0.6666666666666666,
              "#ed7953"
             ],
             [
              0.7777777777777778,
              "#fb9f3a"
             ],
             [
              0.8888888888888888,
              "#fdca26"
             ],
             [
              1,
              "#f0f921"
             ]
            ],
            "type": "histogram2dcontour"
           }
          ],
          "mesh3d": [
           {
            "colorbar": {
             "outlinewidth": 0,
             "ticks": ""
            },
            "type": "mesh3d"
           }
          ],
          "parcoords": [
           {
            "line": {
             "colorbar": {
              "outlinewidth": 0,
              "ticks": ""
             }
            },
            "type": "parcoords"
           }
          ],
          "pie": [
           {
            "automargin": true,
            "type": "pie"
           }
          ],
          "scatter": [
           {
            "fillpattern": {
             "fillmode": "overlay",
             "size": 10,
             "solidity": 0.2
            },
            "type": "scatter"
           }
          ],
          "scatter3d": [
           {
            "line": {
             "colorbar": {
              "outlinewidth": 0,
              "ticks": ""
             }
            },
            "marker": {
             "colorbar": {
              "outlinewidth": 0,
              "ticks": ""
             }
            },
            "type": "scatter3d"
           }
          ],
          "scattercarpet": [
           {
            "marker": {
             "colorbar": {
              "outlinewidth": 0,
              "ticks": ""
             }
            },
            "type": "scattercarpet"
           }
          ],
          "scattergeo": [
           {
            "marker": {
             "colorbar": {
              "outlinewidth": 0,
              "ticks": ""
             }
            },
            "type": "scattergeo"
           }
          ],
          "scattergl": [
           {
            "marker": {
             "colorbar": {
              "outlinewidth": 0,
              "ticks": ""
             }
            },
            "type": "scattergl"
           }
          ],
          "scattermapbox": [
           {
            "marker": {
             "colorbar": {
              "outlinewidth": 0,
              "ticks": ""
             }
            },
            "type": "scattermapbox"
           }
          ],
          "scatterpolar": [
           {
            "marker": {
             "colorbar": {
              "outlinewidth": 0,
              "ticks": ""
             }
            },
            "type": "scatterpolar"
           }
          ],
          "scatterpolargl": [
           {
            "marker": {
             "colorbar": {
              "outlinewidth": 0,
              "ticks": ""
             }
            },
            "type": "scatterpolargl"
           }
          ],
          "scatterternary": [
           {
            "marker": {
             "colorbar": {
              "outlinewidth": 0,
              "ticks": ""
             }
            },
            "type": "scatterternary"
           }
          ],
          "surface": [
           {
            "colorbar": {
             "outlinewidth": 0,
             "ticks": ""
            },
            "colorscale": [
             [
              0,
              "#0d0887"
             ],
             [
              0.1111111111111111,
              "#46039f"
             ],
             [
              0.2222222222222222,
              "#7201a8"
             ],
             [
              0.3333333333333333,
              "#9c179e"
             ],
             [
              0.4444444444444444,
              "#bd3786"
             ],
             [
              0.5555555555555556,
              "#d8576b"
             ],
             [
              0.6666666666666666,
              "#ed7953"
             ],
             [
              0.7777777777777778,
              "#fb9f3a"
             ],
             [
              0.8888888888888888,
              "#fdca26"
             ],
             [
              1,
              "#f0f921"
             ]
            ],
            "type": "surface"
           }
          ],
          "table": [
           {
            "cells": {
             "fill": {
              "color": "#EBF0F8"
             },
             "line": {
              "color": "white"
             }
            },
            "header": {
             "fill": {
              "color": "#C8D4E3"
             },
             "line": {
              "color": "white"
             }
            },
            "type": "table"
           }
          ]
         },
         "layout": {
          "annotationdefaults": {
           "arrowcolor": "#2a3f5f",
           "arrowhead": 0,
           "arrowwidth": 1
          },
          "autotypenumbers": "strict",
          "coloraxis": {
           "colorbar": {
            "outlinewidth": 0,
            "ticks": ""
           }
          },
          "colorscale": {
           "diverging": [
            [
             0,
             "#8e0152"
            ],
            [
             0.1,
             "#c51b7d"
            ],
            [
             0.2,
             "#de77ae"
            ],
            [
             0.3,
             "#f1b6da"
            ],
            [
             0.4,
             "#fde0ef"
            ],
            [
             0.5,
             "#f7f7f7"
            ],
            [
             0.6,
             "#e6f5d0"
            ],
            [
             0.7,
             "#b8e186"
            ],
            [
             0.8,
             "#7fbc41"
            ],
            [
             0.9,
             "#4d9221"
            ],
            [
             1,
             "#276419"
            ]
           ],
           "sequential": [
            [
             0,
             "#0d0887"
            ],
            [
             0.1111111111111111,
             "#46039f"
            ],
            [
             0.2222222222222222,
             "#7201a8"
            ],
            [
             0.3333333333333333,
             "#9c179e"
            ],
            [
             0.4444444444444444,
             "#bd3786"
            ],
            [
             0.5555555555555556,
             "#d8576b"
            ],
            [
             0.6666666666666666,
             "#ed7953"
            ],
            [
             0.7777777777777778,
             "#fb9f3a"
            ],
            [
             0.8888888888888888,
             "#fdca26"
            ],
            [
             1,
             "#f0f921"
            ]
           ],
           "sequentialminus": [
            [
             0,
             "#0d0887"
            ],
            [
             0.1111111111111111,
             "#46039f"
            ],
            [
             0.2222222222222222,
             "#7201a8"
            ],
            [
             0.3333333333333333,
             "#9c179e"
            ],
            [
             0.4444444444444444,
             "#bd3786"
            ],
            [
             0.5555555555555556,
             "#d8576b"
            ],
            [
             0.6666666666666666,
             "#ed7953"
            ],
            [
             0.7777777777777778,
             "#fb9f3a"
            ],
            [
             0.8888888888888888,
             "#fdca26"
            ],
            [
             1,
             "#f0f921"
            ]
           ]
          },
          "colorway": [
           "#636efa",
           "#EF553B",
           "#00cc96",
           "#ab63fa",
           "#FFA15A",
           "#19d3f3",
           "#FF6692",
           "#B6E880",
           "#FF97FF",
           "#FECB52"
          ],
          "font": {
           "color": "#2a3f5f"
          },
          "geo": {
           "bgcolor": "white",
           "lakecolor": "white",
           "landcolor": "#E5ECF6",
           "showlakes": true,
           "showland": true,
           "subunitcolor": "white"
          },
          "hoverlabel": {
           "align": "left"
          },
          "hovermode": "closest",
          "mapbox": {
           "style": "light"
          },
          "paper_bgcolor": "white",
          "plot_bgcolor": "#E5ECF6",
          "polar": {
           "angularaxis": {
            "gridcolor": "white",
            "linecolor": "white",
            "ticks": ""
           },
           "bgcolor": "#E5ECF6",
           "radialaxis": {
            "gridcolor": "white",
            "linecolor": "white",
            "ticks": ""
           }
          },
          "scene": {
           "xaxis": {
            "backgroundcolor": "#E5ECF6",
            "gridcolor": "white",
            "gridwidth": 2,
            "linecolor": "white",
            "showbackground": true,
            "ticks": "",
            "zerolinecolor": "white"
           },
           "yaxis": {
            "backgroundcolor": "#E5ECF6",
            "gridcolor": "white",
            "gridwidth": 2,
            "linecolor": "white",
            "showbackground": true,
            "ticks": "",
            "zerolinecolor": "white"
           },
           "zaxis": {
            "backgroundcolor": "#E5ECF6",
            "gridcolor": "white",
            "gridwidth": 2,
            "linecolor": "white",
            "showbackground": true,
            "ticks": "",
            "zerolinecolor": "white"
           }
          },
          "shapedefaults": {
           "line": {
            "color": "#2a3f5f"
           }
          },
          "ternary": {
           "aaxis": {
            "gridcolor": "white",
            "linecolor": "white",
            "ticks": ""
           },
           "baxis": {
            "gridcolor": "white",
            "linecolor": "white",
            "ticks": ""
           },
           "bgcolor": "#E5ECF6",
           "caxis": {
            "gridcolor": "white",
            "linecolor": "white",
            "ticks": ""
           }
          },
          "title": {
           "x": 0.05
          },
          "xaxis": {
           "automargin": true,
           "gridcolor": "white",
           "linecolor": "white",
           "ticks": "",
           "title": {
            "standoff": 15
           },
           "zerolinecolor": "white",
           "zerolinewidth": 2
          },
          "yaxis": {
           "automargin": true,
           "gridcolor": "white",
           "linecolor": "white",
           "ticks": "",
           "title": {
            "standoff": 15
           },
           "zerolinecolor": "white",
           "zerolinewidth": 2
          }
         }
        },
        "xaxis": {
         "anchor": "y",
         "domain": [
          0,
          0.8358
         ],
         "title": {
          "text": "total_bill"
         }
        },
        "xaxis2": {
         "anchor": "y2",
         "domain": [
          0.8408,
          1
         ],
         "matches": "x2",
         "showgrid": false,
         "showline": false,
         "showticklabels": false,
         "ticks": ""
        },
        "xaxis3": {
         "anchor": "y3",
         "domain": [
          0,
          0.8358
         ],
         "matches": "x",
         "showgrid": true,
         "showticklabels": false
        },
        "xaxis4": {
         "anchor": "y4",
         "domain": [
          0.8408,
          1
         ],
         "matches": "x2",
         "showgrid": false,
         "showline": false,
         "showticklabels": false,
         "ticks": ""
        },
        "yaxis": {
         "anchor": "x",
         "domain": [
          0,
          0.8316
         ],
         "title": {
          "text": "tip"
         }
        },
        "yaxis2": {
         "anchor": "x2",
         "domain": [
          0,
          0.8316
         ],
         "matches": "y",
         "showgrid": true,
         "showticklabels": false
        },
        "yaxis3": {
         "anchor": "x3",
         "domain": [
          0.8416,
          1
         ],
         "matches": "y3",
         "showgrid": false,
         "showline": false,
         "showticklabels": false,
         "ticks": ""
        },
        "yaxis4": {
         "anchor": "x4",
         "domain": [
          0.8416,
          1
         ],
         "matches": "y3",
         "showgrid": true,
         "showline": false,
         "showticklabels": false,
         "ticks": ""
        }
       }
      },
      "text/html": [
       "<div>                            <div id=\"2b163ecd-b621-4f0d-8fcc-b9128457fa91\" class=\"plotly-graph-div\" style=\"height:525px; width:100%;\"></div>            <script type=\"text/javascript\">                require([\"plotly\"], function(Plotly) {                    window.PLOTLYENV=window.PLOTLYENV || {};                                    if (document.getElementById(\"2b163ecd-b621-4f0d-8fcc-b9128457fa91\")) {                    Plotly.newPlot(                        \"2b163ecd-b621-4f0d-8fcc-b9128457fa91\",                        [{\"coloraxis\":\"coloraxis\",\"hovertemplate\":\"total_bill=%{x}<br>tip=%{y}<br>count=%{z}<extra></extra>\",\"name\":\"\",\"x\":[16.99,10.34,21.01,23.68,24.59,25.29,8.77,26.88,15.04,14.78,10.27,35.26,15.42,18.43,14.83,21.58,10.33,16.29,16.97,20.65,17.92,20.29,15.77,39.42,19.82,17.81,13.37,12.69,21.7,19.65,9.55,18.35,15.06,20.69,17.78,24.06,16.31,16.93,18.69,31.27,16.04,17.46,13.94,9.68,30.4,18.29,22.23,32.4,28.55,18.04,12.54,10.29,34.81,9.94,25.56,19.49,38.01,26.41,11.24,48.27,20.29,13.81,11.02,18.29,17.59,20.08,16.45,3.07,20.23,15.01,12.02,17.07,26.86,25.28,14.73,10.51,17.92,27.2,22.76,17.29,19.44,16.66,10.07,32.68,15.98,34.83,13.03,18.28,24.71,21.16,28.97,22.49,5.75,16.32,22.75,40.17,27.28,12.03,21.01,12.46,11.35,15.38,44.3,22.42,20.92,15.36,20.49,25.21,18.24,14.31,14.0,7.25,38.07,23.95,25.71,17.31,29.93,10.65,12.43,24.08,11.69,13.42,14.26,15.95,12.48,29.8,8.52,14.52,11.38,22.82,19.08,20.27,11.17,12.26,18.26,8.51,10.33,14.15,16.0,13.16,17.47,34.3,41.19,27.05,16.43,8.35,18.64,11.87,9.78,7.51,14.07,13.13,17.26,24.55,19.77,29.85,48.17,25.0,13.39,16.49,21.5,12.66,16.21,13.81,17.51,24.52,20.76,31.71,10.59,10.63,50.81,15.81,7.25,31.85,16.82,32.9,17.89,14.48,9.6,34.63,34.65,23.33,45.35,23.17,40.55,20.69,20.9,30.46,18.15,23.1,15.69,19.81,28.44,15.48,16.58,7.56,10.34,43.11,13.0,13.51,18.71,12.74,13.0,16.4,20.53,16.47,26.59,38.73,24.27,12.76,30.06,25.89,48.33,13.27,28.17,12.9,28.15,11.59,7.74,30.14,12.16,13.42,8.58,15.98,13.42,16.27,10.09,20.45,13.28,22.12,24.01,15.69,11.61,10.77,15.53,10.07,12.6,32.83,35.83,29.03,27.18,22.67,17.82,18.78],\"xaxis\":\"x\",\"xbingroup\":\"x\",\"y\":[1.01,1.66,3.5,3.31,3.61,4.71,2.0,3.12,1.96,3.23,1.71,5.0,1.57,3.0,3.02,3.92,1.67,3.71,3.5,3.35,4.08,2.75,2.23,7.58,3.18,2.34,2.0,2.0,4.3,3.0,1.45,2.5,3.0,2.45,3.27,3.6,2.0,3.07,2.31,5.0,2.24,2.54,3.06,1.32,5.6,3.0,5.0,6.0,2.05,3.0,2.5,2.6,5.2,1.56,4.34,3.51,3.0,1.5,1.76,6.73,3.21,2.0,1.98,3.76,2.64,3.15,2.47,1.0,2.01,2.09,1.97,3.0,3.14,5.0,2.2,1.25,3.08,4.0,3.0,2.71,3.0,3.4,1.83,5.0,2.03,5.17,2.0,4.0,5.85,3.0,3.0,3.5,1.0,4.3,3.25,4.73,4.0,1.5,3.0,1.5,2.5,3.0,2.5,3.48,4.08,1.64,4.06,4.29,3.76,4.0,3.0,1.0,4.0,2.55,4.0,3.5,5.07,1.5,1.8,2.92,2.31,1.68,2.5,2.0,2.52,4.2,1.48,2.0,2.0,2.18,1.5,2.83,1.5,2.0,3.25,1.25,2.0,2.0,2.0,2.75,3.5,6.7,5.0,5.0,2.3,1.5,1.36,1.63,1.73,2.0,2.5,2.0,2.74,2.0,2.0,5.14,5.0,3.75,2.61,2.0,3.5,2.5,2.0,2.0,3.0,3.48,2.24,4.5,1.61,2.0,10.0,3.16,5.15,3.18,4.0,3.11,2.0,2.0,4.0,3.55,3.68,5.65,3.5,6.5,3.0,5.0,3.5,2.0,3.5,4.0,1.5,4.19,2.56,2.02,4.0,1.44,2.0,5.0,2.0,2.0,4.0,2.01,2.0,2.5,4.0,3.23,3.41,3.0,2.03,2.23,2.0,5.16,9.0,2.5,6.5,1.1,3.0,1.5,1.44,3.09,2.2,3.48,1.92,3.0,1.58,2.5,2.0,3.0,2.72,2.88,2.0,3.0,3.39,1.47,3.0,1.25,1.0,1.17,4.67,5.92,2.0,2.0,1.75,3.0],\"yaxis\":\"y\",\"ybingroup\":\"y\",\"type\":\"histogram2d\"},{\"alignmentgroup\":\"True\",\"customdata\":[[\"Sun\",\"Female\"],[\"Sun\",\"Male\"],[\"Sun\",\"Male\"],[\"Sun\",\"Male\"],[\"Sun\",\"Female\"],[\"Sun\",\"Male\"],[\"Sun\",\"Male\"],[\"Sun\",\"Male\"],[\"Sun\",\"Male\"],[\"Sun\",\"Male\"],[\"Sun\",\"Male\"],[\"Sun\",\"Female\"],[\"Sun\",\"Male\"],[\"Sun\",\"Male\"],[\"Sun\",\"Female\"],[\"Sun\",\"Male\"],[\"Sun\",\"Female\"],[\"Sun\",\"Male\"],[\"Sun\",\"Female\"],[\"Sat\",\"Male\"],[\"Sat\",\"Male\"],[\"Sat\",\"Female\"],[\"Sat\",\"Female\"],[\"Sat\",\"Male\"],[\"Sat\",\"Male\"],[\"Sat\",\"Male\"],[\"Sat\",\"Male\"],[\"Sat\",\"Male\"],[\"Sat\",\"Male\"],[\"Sat\",\"Female\"],[\"Sat\",\"Male\"],[\"Sat\",\"Male\"],[\"Sat\",\"Female\"],[\"Sat\",\"Female\"],[\"Sat\",\"Male\"],[\"Sat\",\"Male\"],[\"Sat\",\"Male\"],[\"Sat\",\"Female\"],[\"Sat\",\"Male\"],[\"Sat\",\"Male\"],[\"Sat\",\"Male\"],[\"Sun\",\"Male\"],[\"Sun\",\"Male\"],[\"Sun\",\"Male\"],[\"Sun\",\"Male\"],[\"Sun\",\"Male\"],[\"Sun\",\"Male\"],[\"Sun\",\"Male\"],[\"Sun\",\"Male\"],[\"Sun\",\"Male\"],[\"Sun\",\"Male\"],[\"Sun\",\"Female\"],[\"Sun\",\"Female\"],[\"Sun\",\"Male\"],[\"Sun\",\"Male\"],[\"Sun\",\"Male\"],[\"Sat\",\"Male\"],[\"Sat\",\"Female\"],[\"Sat\",\"Male\"],[\"Sat\",\"Male\"],[\"Sat\",\"Male\"],[\"Sat\",\"Male\"],[\"Sat\",\"Male\"],[\"Sat\",\"Male\"],[\"Sat\",\"Male\"],[\"Sat\",\"Male\"],[\"Sat\",\"Female\"],[\"Sat\",\"Female\"],[\"Sat\",\"Male\"],[\"Sat\",\"Male\"],[\"Sat\",\"Male\"],[\"Sat\",\"Female\"],[\"Sat\",\"Female\"],[\"Sat\",\"Female\"],[\"Sat\",\"Female\"],[\"Sat\",\"Male\"],[\"Sat\",\"Male\"],[\"Thur\",\"Male\"],[\"Thur\",\"Male\"],[\"Thur\",\"Male\"],[\"Thur\",\"Male\"],[\"Thur\",\"Male\"],[\"Thur\",\"Female\"],[\"Thur\",\"Male\"],[\"Thur\",\"Male\"],[\"Thur\",\"Female\"],[\"Thur\",\"Male\"],[\"Thur\",\"Male\"],[\"Thur\",\"Male\"],[\"Thur\",\"Male\"],[\"Fri\",\"Male\"],[\"Fri\",\"Male\"],[\"Fri\",\"Female\"],[\"Fri\",\"Female\"],[\"Fri\",\"Female\"],[\"Fri\",\"Male\"],[\"Fri\",\"Male\"],[\"Fri\",\"Male\"],[\"Fri\",\"Male\"],[\"Fri\",\"Male\"],[\"Fri\",\"Female\"],[\"Fri\",\"Female\"],[\"Sat\",\"Female\"],[\"Sat\",\"Female\"],[\"Sat\",\"Female\"],[\"Sat\",\"Male\"],[\"Sat\",\"Male\"],[\"Sat\",\"Male\"],[\"Sat\",\"Male\"],[\"Sat\",\"Female\"],[\"Sat\",\"Male\"],[\"Sat\",\"Female\"],[\"Sun\",\"Male\"],[\"Sun\",\"Male\"],[\"Sun\",\"Female\"],[\"Sun\",\"Female\"],[\"Sun\",\"Male\"],[\"Thur\",\"Female\"],[\"Thur\",\"Female\"],[\"Thur\",\"Female\"],[\"Thur\",\"Male\"],[\"Thur\",\"Female\"],[\"Thur\",\"Male\"],[\"Thur\",\"Male\"],[\"Thur\",\"Female\"],[\"Thur\",\"Female\"],[\"Thur\",\"Male\"],[\"Thur\",\"Female\"],[\"Thur\",\"Female\"],[\"Thur\",\"Male\"],[\"Thur\",\"Male\"],[\"Thur\",\"Female\"],[\"Thur\",\"Female\"],[\"Thur\",\"Female\"],[\"Thur\",\"Female\"],[\"Thur\",\"Female\"],[\"Thur\",\"Female\"],[\"Thur\",\"Female\"],[\"Thur\",\"Male\"],[\"Thur\",\"Female\"],[\"Thur\",\"Female\"],[\"Thur\",\"Male\"],[\"Thur\",\"Male\"],[\"Thur\",\"Female\"],[\"Thur\",\"Female\"],[\"Thur\",\"Female\"],[\"Thur\",\"Female\"],[\"Thur\",\"Female\"],[\"Thur\",\"Male\"],[\"Thur\",\"Male\"],[\"Sun\",\"Male\"],[\"Sun\",\"Male\"],[\"Sun\",\"Male\"],[\"Sun\",\"Male\"],[\"Sun\",\"Male\"],[\"Sun\",\"Female\"],[\"Sun\",\"Male\"],[\"Sun\",\"Female\"],[\"Sun\",\"Female\"],[\"Sun\",\"Male\"],[\"Sun\",\"Male\"],[\"Sun\",\"Male\"],[\"Sun\",\"Female\"],[\"Sun\",\"Male\"],[\"Sun\",\"Female\"],[\"Sun\",\"Male\"],[\"Sun\",\"Male\"],[\"Sun\",\"Male\"],[\"Sat\",\"Female\"],[\"Sat\",\"Female\"],[\"Sat\",\"Male\"],[\"Sat\",\"Male\"],[\"Sun\",\"Male\"],[\"Sun\",\"Male\"],[\"Sun\",\"Male\"],[\"Sun\",\"Male\"],[\"Sun\",\"Male\"],[\"Sun\",\"Male\"],[\"Sun\",\"Female\"],[\"Sun\",\"Male\"],[\"Sun\",\"Male\"],[\"Sun\",\"Male\"],[\"Sun\",\"Male\"],[\"Sun\",\"Male\"],[\"Sun\",\"Male\"],[\"Sun\",\"Male\"],[\"Sun\",\"Female\"],[\"Sun\",\"Male\"],[\"Sun\",\"Female\"],[\"Sun\",\"Male\"],[\"Sun\",\"Male\"],[\"Thur\",\"Female\"],[\"Thur\",\"Male\"],[\"Thur\",\"Male\"],[\"Thur\",\"Male\"],[\"Thur\",\"Male\"],[\"Thur\",\"Male\"],[\"Thur\",\"Female\"],[\"Thur\",\"Female\"],[\"Thur\",\"Male\"],[\"Thur\",\"Male\"],[\"Thur\",\"Female\"],[\"Thur\",\"Female\"],[\"Thur\",\"Female\"],[\"Thur\",\"Male\"],[\"Thur\",\"Female\"],[\"Sat\",\"Male\"],[\"Sat\",\"Male\"],[\"Sat\",\"Male\"],[\"Sat\",\"Female\"],[\"Sat\",\"Male\"],[\"Sat\",\"Male\"],[\"Sat\",\"Male\"],[\"Sat\",\"Female\"],[\"Sat\",\"Female\"],[\"Sat\",\"Female\"],[\"Sat\",\"Male\"],[\"Sat\",\"Male\"],[\"Sat\",\"Male\"],[\"Sat\",\"Female\"],[\"Fri\",\"Male\"],[\"Fri\",\"Female\"],[\"Fri\",\"Male\"],[\"Fri\",\"Female\"],[\"Fri\",\"Male\"],[\"Fri\",\"Female\"],[\"Fri\",\"Female\"],[\"Sat\",\"Male\"],[\"Sat\",\"Male\"],[\"Sat\",\"Female\"],[\"Sat\",\"Male\"],[\"Sat\",\"Male\"],[\"Sat\",\"Male\"],[\"Sat\",\"Male\"],[\"Sat\",\"Male\"],[\"Sat\",\"Male\"],[\"Sat\",\"Male\"],[\"Sat\",\"Male\"],[\"Sat\",\"Female\"],[\"Sat\",\"Male\"],[\"Sat\",\"Female\"],[\"Sat\",\"Male\"],[\"Sat\",\"Male\"],[\"Thur\",\"Female\"]],\"hovertemplate\":\"total_bill=%{x}<br>day=%{customdata[0]}<br>sex=%{customdata[1]}<extra></extra>\",\"legendgroup\":\"\",\"marker\":{\"color\":\"#0d0887\"},\"name\":\"\",\"notched\":true,\"offsetgroup\":\"\",\"showlegend\":false,\"x\":[16.99,10.34,21.01,23.68,24.59,25.29,8.77,26.88,15.04,14.78,10.27,35.26,15.42,18.43,14.83,21.58,10.33,16.29,16.97,20.65,17.92,20.29,15.77,39.42,19.82,17.81,13.37,12.69,21.7,19.65,9.55,18.35,15.06,20.69,17.78,24.06,16.31,16.93,18.69,31.27,16.04,17.46,13.94,9.68,30.4,18.29,22.23,32.4,28.55,18.04,12.54,10.29,34.81,9.94,25.56,19.49,38.01,26.41,11.24,48.27,20.29,13.81,11.02,18.29,17.59,20.08,16.45,3.07,20.23,15.01,12.02,17.07,26.86,25.28,14.73,10.51,17.92,27.2,22.76,17.29,19.44,16.66,10.07,32.68,15.98,34.83,13.03,18.28,24.71,21.16,28.97,22.49,5.75,16.32,22.75,40.17,27.28,12.03,21.01,12.46,11.35,15.38,44.3,22.42,20.92,15.36,20.49,25.21,18.24,14.31,14.0,7.25,38.07,23.95,25.71,17.31,29.93,10.65,12.43,24.08,11.69,13.42,14.26,15.95,12.48,29.8,8.52,14.52,11.38,22.82,19.08,20.27,11.17,12.26,18.26,8.51,10.33,14.15,16.0,13.16,17.47,34.3,41.19,27.05,16.43,8.35,18.64,11.87,9.78,7.51,14.07,13.13,17.26,24.55,19.77,29.85,48.17,25.0,13.39,16.49,21.5,12.66,16.21,13.81,17.51,24.52,20.76,31.71,10.59,10.63,50.81,15.81,7.25,31.85,16.82,32.9,17.89,14.48,9.6,34.63,34.65,23.33,45.35,23.17,40.55,20.69,20.9,30.46,18.15,23.1,15.69,19.81,28.44,15.48,16.58,7.56,10.34,43.11,13.0,13.51,18.71,12.74,13.0,16.4,20.53,16.47,26.59,38.73,24.27,12.76,30.06,25.89,48.33,13.27,28.17,12.9,28.15,11.59,7.74,30.14,12.16,13.42,8.58,15.98,13.42,16.27,10.09,20.45,13.28,22.12,24.01,15.69,11.61,10.77,15.53,10.07,12.6,32.83,35.83,29.03,27.18,22.67,17.82,18.78],\"xaxis\":\"x3\",\"yaxis\":\"y3\",\"type\":\"box\"},{\"alignmentgroup\":\"True\",\"customdata\":[[\"Sun\",\"Female\"],[\"Sun\",\"Male\"],[\"Sun\",\"Male\"],[\"Sun\",\"Male\"],[\"Sun\",\"Female\"],[\"Sun\",\"Male\"],[\"Sun\",\"Male\"],[\"Sun\",\"Male\"],[\"Sun\",\"Male\"],[\"Sun\",\"Male\"],[\"Sun\",\"Male\"],[\"Sun\",\"Female\"],[\"Sun\",\"Male\"],[\"Sun\",\"Male\"],[\"Sun\",\"Female\"],[\"Sun\",\"Male\"],[\"Sun\",\"Female\"],[\"Sun\",\"Male\"],[\"Sun\",\"Female\"],[\"Sat\",\"Male\"],[\"Sat\",\"Male\"],[\"Sat\",\"Female\"],[\"Sat\",\"Female\"],[\"Sat\",\"Male\"],[\"Sat\",\"Male\"],[\"Sat\",\"Male\"],[\"Sat\",\"Male\"],[\"Sat\",\"Male\"],[\"Sat\",\"Male\"],[\"Sat\",\"Female\"],[\"Sat\",\"Male\"],[\"Sat\",\"Male\"],[\"Sat\",\"Female\"],[\"Sat\",\"Female\"],[\"Sat\",\"Male\"],[\"Sat\",\"Male\"],[\"Sat\",\"Male\"],[\"Sat\",\"Female\"],[\"Sat\",\"Male\"],[\"Sat\",\"Male\"],[\"Sat\",\"Male\"],[\"Sun\",\"Male\"],[\"Sun\",\"Male\"],[\"Sun\",\"Male\"],[\"Sun\",\"Male\"],[\"Sun\",\"Male\"],[\"Sun\",\"Male\"],[\"Sun\",\"Male\"],[\"Sun\",\"Male\"],[\"Sun\",\"Male\"],[\"Sun\",\"Male\"],[\"Sun\",\"Female\"],[\"Sun\",\"Female\"],[\"Sun\",\"Male\"],[\"Sun\",\"Male\"],[\"Sun\",\"Male\"],[\"Sat\",\"Male\"],[\"Sat\",\"Female\"],[\"Sat\",\"Male\"],[\"Sat\",\"Male\"],[\"Sat\",\"Male\"],[\"Sat\",\"Male\"],[\"Sat\",\"Male\"],[\"Sat\",\"Male\"],[\"Sat\",\"Male\"],[\"Sat\",\"Male\"],[\"Sat\",\"Female\"],[\"Sat\",\"Female\"],[\"Sat\",\"Male\"],[\"Sat\",\"Male\"],[\"Sat\",\"Male\"],[\"Sat\",\"Female\"],[\"Sat\",\"Female\"],[\"Sat\",\"Female\"],[\"Sat\",\"Female\"],[\"Sat\",\"Male\"],[\"Sat\",\"Male\"],[\"Thur\",\"Male\"],[\"Thur\",\"Male\"],[\"Thur\",\"Male\"],[\"Thur\",\"Male\"],[\"Thur\",\"Male\"],[\"Thur\",\"Female\"],[\"Thur\",\"Male\"],[\"Thur\",\"Male\"],[\"Thur\",\"Female\"],[\"Thur\",\"Male\"],[\"Thur\",\"Male\"],[\"Thur\",\"Male\"],[\"Thur\",\"Male\"],[\"Fri\",\"Male\"],[\"Fri\",\"Male\"],[\"Fri\",\"Female\"],[\"Fri\",\"Female\"],[\"Fri\",\"Female\"],[\"Fri\",\"Male\"],[\"Fri\",\"Male\"],[\"Fri\",\"Male\"],[\"Fri\",\"Male\"],[\"Fri\",\"Male\"],[\"Fri\",\"Female\"],[\"Fri\",\"Female\"],[\"Sat\",\"Female\"],[\"Sat\",\"Female\"],[\"Sat\",\"Female\"],[\"Sat\",\"Male\"],[\"Sat\",\"Male\"],[\"Sat\",\"Male\"],[\"Sat\",\"Male\"],[\"Sat\",\"Female\"],[\"Sat\",\"Male\"],[\"Sat\",\"Female\"],[\"Sun\",\"Male\"],[\"Sun\",\"Male\"],[\"Sun\",\"Female\"],[\"Sun\",\"Female\"],[\"Sun\",\"Male\"],[\"Thur\",\"Female\"],[\"Thur\",\"Female\"],[\"Thur\",\"Female\"],[\"Thur\",\"Male\"],[\"Thur\",\"Female\"],[\"Thur\",\"Male\"],[\"Thur\",\"Male\"],[\"Thur\",\"Female\"],[\"Thur\",\"Female\"],[\"Thur\",\"Male\"],[\"Thur\",\"Female\"],[\"Thur\",\"Female\"],[\"Thur\",\"Male\"],[\"Thur\",\"Male\"],[\"Thur\",\"Female\"],[\"Thur\",\"Female\"],[\"Thur\",\"Female\"],[\"Thur\",\"Female\"],[\"Thur\",\"Female\"],[\"Thur\",\"Female\"],[\"Thur\",\"Female\"],[\"Thur\",\"Male\"],[\"Thur\",\"Female\"],[\"Thur\",\"Female\"],[\"Thur\",\"Male\"],[\"Thur\",\"Male\"],[\"Thur\",\"Female\"],[\"Thur\",\"Female\"],[\"Thur\",\"Female\"],[\"Thur\",\"Female\"],[\"Thur\",\"Female\"],[\"Thur\",\"Male\"],[\"Thur\",\"Male\"],[\"Sun\",\"Male\"],[\"Sun\",\"Male\"],[\"Sun\",\"Male\"],[\"Sun\",\"Male\"],[\"Sun\",\"Male\"],[\"Sun\",\"Female\"],[\"Sun\",\"Male\"],[\"Sun\",\"Female\"],[\"Sun\",\"Female\"],[\"Sun\",\"Male\"],[\"Sun\",\"Male\"],[\"Sun\",\"Male\"],[\"Sun\",\"Female\"],[\"Sun\",\"Male\"],[\"Sun\",\"Female\"],[\"Sun\",\"Male\"],[\"Sun\",\"Male\"],[\"Sun\",\"Male\"],[\"Sat\",\"Female\"],[\"Sat\",\"Female\"],[\"Sat\",\"Male\"],[\"Sat\",\"Male\"],[\"Sun\",\"Male\"],[\"Sun\",\"Male\"],[\"Sun\",\"Male\"],[\"Sun\",\"Male\"],[\"Sun\",\"Male\"],[\"Sun\",\"Male\"],[\"Sun\",\"Female\"],[\"Sun\",\"Male\"],[\"Sun\",\"Male\"],[\"Sun\",\"Male\"],[\"Sun\",\"Male\"],[\"Sun\",\"Male\"],[\"Sun\",\"Male\"],[\"Sun\",\"Male\"],[\"Sun\",\"Female\"],[\"Sun\",\"Male\"],[\"Sun\",\"Female\"],[\"Sun\",\"Male\"],[\"Sun\",\"Male\"],[\"Thur\",\"Female\"],[\"Thur\",\"Male\"],[\"Thur\",\"Male\"],[\"Thur\",\"Male\"],[\"Thur\",\"Male\"],[\"Thur\",\"Male\"],[\"Thur\",\"Female\"],[\"Thur\",\"Female\"],[\"Thur\",\"Male\"],[\"Thur\",\"Male\"],[\"Thur\",\"Female\"],[\"Thur\",\"Female\"],[\"Thur\",\"Female\"],[\"Thur\",\"Male\"],[\"Thur\",\"Female\"],[\"Sat\",\"Male\"],[\"Sat\",\"Male\"],[\"Sat\",\"Male\"],[\"Sat\",\"Female\"],[\"Sat\",\"Male\"],[\"Sat\",\"Male\"],[\"Sat\",\"Male\"],[\"Sat\",\"Female\"],[\"Sat\",\"Female\"],[\"Sat\",\"Female\"],[\"Sat\",\"Male\"],[\"Sat\",\"Male\"],[\"Sat\",\"Male\"],[\"Sat\",\"Female\"],[\"Fri\",\"Male\"],[\"Fri\",\"Female\"],[\"Fri\",\"Male\"],[\"Fri\",\"Female\"],[\"Fri\",\"Male\"],[\"Fri\",\"Female\"],[\"Fri\",\"Female\"],[\"Sat\",\"Male\"],[\"Sat\",\"Male\"],[\"Sat\",\"Female\"],[\"Sat\",\"Male\"],[\"Sat\",\"Male\"],[\"Sat\",\"Male\"],[\"Sat\",\"Male\"],[\"Sat\",\"Male\"],[\"Sat\",\"Male\"],[\"Sat\",\"Male\"],[\"Sat\",\"Male\"],[\"Sat\",\"Female\"],[\"Sat\",\"Male\"],[\"Sat\",\"Female\"],[\"Sat\",\"Male\"],[\"Sat\",\"Male\"],[\"Thur\",\"Female\"]],\"hovertemplate\":\"tip=%{y}<br>day=%{customdata[0]}<br>sex=%{customdata[1]}<extra></extra>\",\"legendgroup\":\"\",\"marker\":{\"color\":\"#0d0887\"},\"name\":\"\",\"offsetgroup\":\"\",\"scalegroup\":\"y\",\"showlegend\":false,\"xaxis\":\"x2\",\"y\":[1.01,1.66,3.5,3.31,3.61,4.71,2.0,3.12,1.96,3.23,1.71,5.0,1.57,3.0,3.02,3.92,1.67,3.71,3.5,3.35,4.08,2.75,2.23,7.58,3.18,2.34,2.0,2.0,4.3,3.0,1.45,2.5,3.0,2.45,3.27,3.6,2.0,3.07,2.31,5.0,2.24,2.54,3.06,1.32,5.6,3.0,5.0,6.0,2.05,3.0,2.5,2.6,5.2,1.56,4.34,3.51,3.0,1.5,1.76,6.73,3.21,2.0,1.98,3.76,2.64,3.15,2.47,1.0,2.01,2.09,1.97,3.0,3.14,5.0,2.2,1.25,3.08,4.0,3.0,2.71,3.0,3.4,1.83,5.0,2.03,5.17,2.0,4.0,5.85,3.0,3.0,3.5,1.0,4.3,3.25,4.73,4.0,1.5,3.0,1.5,2.5,3.0,2.5,3.48,4.08,1.64,4.06,4.29,3.76,4.0,3.0,1.0,4.0,2.55,4.0,3.5,5.07,1.5,1.8,2.92,2.31,1.68,2.5,2.0,2.52,4.2,1.48,2.0,2.0,2.18,1.5,2.83,1.5,2.0,3.25,1.25,2.0,2.0,2.0,2.75,3.5,6.7,5.0,5.0,2.3,1.5,1.36,1.63,1.73,2.0,2.5,2.0,2.74,2.0,2.0,5.14,5.0,3.75,2.61,2.0,3.5,2.5,2.0,2.0,3.0,3.48,2.24,4.5,1.61,2.0,10.0,3.16,5.15,3.18,4.0,3.11,2.0,2.0,4.0,3.55,3.68,5.65,3.5,6.5,3.0,5.0,3.5,2.0,3.5,4.0,1.5,4.19,2.56,2.02,4.0,1.44,2.0,5.0,2.0,2.0,4.0,2.01,2.0,2.5,4.0,3.23,3.41,3.0,2.03,2.23,2.0,5.16,9.0,2.5,6.5,1.1,3.0,1.5,1.44,3.09,2.2,3.48,1.92,3.0,1.58,2.5,2.0,3.0,2.72,2.88,2.0,3.0,3.39,1.47,3.0,1.25,1.0,1.17,4.67,5.92,2.0,2.0,1.75,3.0],\"yaxis\":\"y2\",\"type\":\"violin\"}],                        {\"template\":{\"data\":{\"histogram2dcontour\":[{\"type\":\"histogram2dcontour\",\"colorbar\":{\"outlinewidth\":0,\"ticks\":\"\"},\"colorscale\":[[0.0,\"#0d0887\"],[0.1111111111111111,\"#46039f\"],[0.2222222222222222,\"#7201a8\"],[0.3333333333333333,\"#9c179e\"],[0.4444444444444444,\"#bd3786\"],[0.5555555555555556,\"#d8576b\"],[0.6666666666666666,\"#ed7953\"],[0.7777777777777778,\"#fb9f3a\"],[0.8888888888888888,\"#fdca26\"],[1.0,\"#f0f921\"]]}],\"choropleth\":[{\"type\":\"choropleth\",\"colorbar\":{\"outlinewidth\":0,\"ticks\":\"\"}}],\"histogram2d\":[{\"type\":\"histogram2d\",\"colorbar\":{\"outlinewidth\":0,\"ticks\":\"\"},\"colorscale\":[[0.0,\"#0d0887\"],[0.1111111111111111,\"#46039f\"],[0.2222222222222222,\"#7201a8\"],[0.3333333333333333,\"#9c179e\"],[0.4444444444444444,\"#bd3786\"],[0.5555555555555556,\"#d8576b\"],[0.6666666666666666,\"#ed7953\"],[0.7777777777777778,\"#fb9f3a\"],[0.8888888888888888,\"#fdca26\"],[1.0,\"#f0f921\"]]}],\"heatmap\":[{\"type\":\"heatmap\",\"colorbar\":{\"outlinewidth\":0,\"ticks\":\"\"},\"colorscale\":[[0.0,\"#0d0887\"],[0.1111111111111111,\"#46039f\"],[0.2222222222222222,\"#7201a8\"],[0.3333333333333333,\"#9c179e\"],[0.4444444444444444,\"#bd3786\"],[0.5555555555555556,\"#d8576b\"],[0.6666666666666666,\"#ed7953\"],[0.7777777777777778,\"#fb9f3a\"],[0.8888888888888888,\"#fdca26\"],[1.0,\"#f0f921\"]]}],\"heatmapgl\":[{\"type\":\"heatmapgl\",\"colorbar\":{\"outlinewidth\":0,\"ticks\":\"\"},\"colorscale\":[[0.0,\"#0d0887\"],[0.1111111111111111,\"#46039f\"],[0.2222222222222222,\"#7201a8\"],[0.3333333333333333,\"#9c179e\"],[0.4444444444444444,\"#bd3786\"],[0.5555555555555556,\"#d8576b\"],[0.6666666666666666,\"#ed7953\"],[0.7777777777777778,\"#fb9f3a\"],[0.8888888888888888,\"#fdca26\"],[1.0,\"#f0f921\"]]}],\"contourcarpet\":[{\"type\":\"contourcarpet\",\"colorbar\":{\"outlinewidth\":0,\"ticks\":\"\"}}],\"contour\":[{\"type\":\"contour\",\"colorbar\":{\"outlinewidth\":0,\"ticks\":\"\"},\"colorscale\":[[0.0,\"#0d0887\"],[0.1111111111111111,\"#46039f\"],[0.2222222222222222,\"#7201a8\"],[0.3333333333333333,\"#9c179e\"],[0.4444444444444444,\"#bd3786\"],[0.5555555555555556,\"#d8576b\"],[0.6666666666666666,\"#ed7953\"],[0.7777777777777778,\"#fb9f3a\"],[0.8888888888888888,\"#fdca26\"],[1.0,\"#f0f921\"]]}],\"surface\":[{\"type\":\"surface\",\"colorbar\":{\"outlinewidth\":0,\"ticks\":\"\"},\"colorscale\":[[0.0,\"#0d0887\"],[0.1111111111111111,\"#46039f\"],[0.2222222222222222,\"#7201a8\"],[0.3333333333333333,\"#9c179e\"],[0.4444444444444444,\"#bd3786\"],[0.5555555555555556,\"#d8576b\"],[0.6666666666666666,\"#ed7953\"],[0.7777777777777778,\"#fb9f3a\"],[0.8888888888888888,\"#fdca26\"],[1.0,\"#f0f921\"]]}],\"mesh3d\":[{\"type\":\"mesh3d\",\"colorbar\":{\"outlinewidth\":0,\"ticks\":\"\"}}],\"scatter\":[{\"fillpattern\":{\"fillmode\":\"overlay\",\"size\":10,\"solidity\":0.2},\"type\":\"scatter\"}],\"parcoords\":[{\"type\":\"parcoords\",\"line\":{\"colorbar\":{\"outlinewidth\":0,\"ticks\":\"\"}}}],\"scatterpolargl\":[{\"type\":\"scatterpolargl\",\"marker\":{\"colorbar\":{\"outlinewidth\":0,\"ticks\":\"\"}}}],\"bar\":[{\"error_x\":{\"color\":\"#2a3f5f\"},\"error_y\":{\"color\":\"#2a3f5f\"},\"marker\":{\"line\":{\"color\":\"#E5ECF6\",\"width\":0.5},\"pattern\":{\"fillmode\":\"overlay\",\"size\":10,\"solidity\":0.2}},\"type\":\"bar\"}],\"scattergeo\":[{\"type\":\"scattergeo\",\"marker\":{\"colorbar\":{\"outlinewidth\":0,\"ticks\":\"\"}}}],\"scatterpolar\":[{\"type\":\"scatterpolar\",\"marker\":{\"colorbar\":{\"outlinewidth\":0,\"ticks\":\"\"}}}],\"histogram\":[{\"marker\":{\"pattern\":{\"fillmode\":\"overlay\",\"size\":10,\"solidity\":0.2}},\"type\":\"histogram\"}],\"scattergl\":[{\"type\":\"scattergl\",\"marker\":{\"colorbar\":{\"outlinewidth\":0,\"ticks\":\"\"}}}],\"scatter3d\":[{\"type\":\"scatter3d\",\"line\":{\"colorbar\":{\"outlinewidth\":0,\"ticks\":\"\"}},\"marker\":{\"colorbar\":{\"outlinewidth\":0,\"ticks\":\"\"}}}],\"scattermapbox\":[{\"type\":\"scattermapbox\",\"marker\":{\"colorbar\":{\"outlinewidth\":0,\"ticks\":\"\"}}}],\"scatterternary\":[{\"type\":\"scatterternary\",\"marker\":{\"colorbar\":{\"outlinewidth\":0,\"ticks\":\"\"}}}],\"scattercarpet\":[{\"type\":\"scattercarpet\",\"marker\":{\"colorbar\":{\"outlinewidth\":0,\"ticks\":\"\"}}}],\"carpet\":[{\"aaxis\":{\"endlinecolor\":\"#2a3f5f\",\"gridcolor\":\"white\",\"linecolor\":\"white\",\"minorgridcolor\":\"white\",\"startlinecolor\":\"#2a3f5f\"},\"baxis\":{\"endlinecolor\":\"#2a3f5f\",\"gridcolor\":\"white\",\"linecolor\":\"white\",\"minorgridcolor\":\"white\",\"startlinecolor\":\"#2a3f5f\"},\"type\":\"carpet\"}],\"table\":[{\"cells\":{\"fill\":{\"color\":\"#EBF0F8\"},\"line\":{\"color\":\"white\"}},\"header\":{\"fill\":{\"color\":\"#C8D4E3\"},\"line\":{\"color\":\"white\"}},\"type\":\"table\"}],\"barpolar\":[{\"marker\":{\"line\":{\"color\":\"#E5ECF6\",\"width\":0.5},\"pattern\":{\"fillmode\":\"overlay\",\"size\":10,\"solidity\":0.2}},\"type\":\"barpolar\"}],\"pie\":[{\"automargin\":true,\"type\":\"pie\"}]},\"layout\":{\"autotypenumbers\":\"strict\",\"colorway\":[\"#636efa\",\"#EF553B\",\"#00cc96\",\"#ab63fa\",\"#FFA15A\",\"#19d3f3\",\"#FF6692\",\"#B6E880\",\"#FF97FF\",\"#FECB52\"],\"font\":{\"color\":\"#2a3f5f\"},\"hovermode\":\"closest\",\"hoverlabel\":{\"align\":\"left\"},\"paper_bgcolor\":\"white\",\"plot_bgcolor\":\"#E5ECF6\",\"polar\":{\"bgcolor\":\"#E5ECF6\",\"angularaxis\":{\"gridcolor\":\"white\",\"linecolor\":\"white\",\"ticks\":\"\"},\"radialaxis\":{\"gridcolor\":\"white\",\"linecolor\":\"white\",\"ticks\":\"\"}},\"ternary\":{\"bgcolor\":\"#E5ECF6\",\"aaxis\":{\"gridcolor\":\"white\",\"linecolor\":\"white\",\"ticks\":\"\"},\"baxis\":{\"gridcolor\":\"white\",\"linecolor\":\"white\",\"ticks\":\"\"},\"caxis\":{\"gridcolor\":\"white\",\"linecolor\":\"white\",\"ticks\":\"\"}},\"coloraxis\":{\"colorbar\":{\"outlinewidth\":0,\"ticks\":\"\"}},\"colorscale\":{\"sequential\":[[0.0,\"#0d0887\"],[0.1111111111111111,\"#46039f\"],[0.2222222222222222,\"#7201a8\"],[0.3333333333333333,\"#9c179e\"],[0.4444444444444444,\"#bd3786\"],[0.5555555555555556,\"#d8576b\"],[0.6666666666666666,\"#ed7953\"],[0.7777777777777778,\"#fb9f3a\"],[0.8888888888888888,\"#fdca26\"],[1.0,\"#f0f921\"]],\"sequentialminus\":[[0.0,\"#0d0887\"],[0.1111111111111111,\"#46039f\"],[0.2222222222222222,\"#7201a8\"],[0.3333333333333333,\"#9c179e\"],[0.4444444444444444,\"#bd3786\"],[0.5555555555555556,\"#d8576b\"],[0.6666666666666666,\"#ed7953\"],[0.7777777777777778,\"#fb9f3a\"],[0.8888888888888888,\"#fdca26\"],[1.0,\"#f0f921\"]],\"diverging\":[[0,\"#8e0152\"],[0.1,\"#c51b7d\"],[0.2,\"#de77ae\"],[0.3,\"#f1b6da\"],[0.4,\"#fde0ef\"],[0.5,\"#f7f7f7\"],[0.6,\"#e6f5d0\"],[0.7,\"#b8e186\"],[0.8,\"#7fbc41\"],[0.9,\"#4d9221\"],[1,\"#276419\"]]},\"xaxis\":{\"gridcolor\":\"white\",\"linecolor\":\"white\",\"ticks\":\"\",\"title\":{\"standoff\":15},\"zerolinecolor\":\"white\",\"automargin\":true,\"zerolinewidth\":2},\"yaxis\":{\"gridcolor\":\"white\",\"linecolor\":\"white\",\"ticks\":\"\",\"title\":{\"standoff\":15},\"zerolinecolor\":\"white\",\"automargin\":true,\"zerolinewidth\":2},\"scene\":{\"xaxis\":{\"backgroundcolor\":\"#E5ECF6\",\"gridcolor\":\"white\",\"linecolor\":\"white\",\"showbackground\":true,\"ticks\":\"\",\"zerolinecolor\":\"white\",\"gridwidth\":2},\"yaxis\":{\"backgroundcolor\":\"#E5ECF6\",\"gridcolor\":\"white\",\"linecolor\":\"white\",\"showbackground\":true,\"ticks\":\"\",\"zerolinecolor\":\"white\",\"gridwidth\":2},\"zaxis\":{\"backgroundcolor\":\"#E5ECF6\",\"gridcolor\":\"white\",\"linecolor\":\"white\",\"showbackground\":true,\"ticks\":\"\",\"zerolinecolor\":\"white\",\"gridwidth\":2}},\"shapedefaults\":{\"line\":{\"color\":\"#2a3f5f\"}},\"annotationdefaults\":{\"arrowcolor\":\"#2a3f5f\",\"arrowhead\":0,\"arrowwidth\":1},\"geo\":{\"bgcolor\":\"white\",\"landcolor\":\"#E5ECF6\",\"subunitcolor\":\"white\",\"showland\":true,\"showlakes\":true,\"lakecolor\":\"white\"},\"title\":{\"x\":0.05},\"mapbox\":{\"style\":\"light\"}}},\"xaxis\":{\"anchor\":\"y\",\"domain\":[0.0,0.8358],\"title\":{\"text\":\"total_bill\"}},\"yaxis\":{\"anchor\":\"x\",\"domain\":[0.0,0.8316],\"title\":{\"text\":\"tip\"}},\"xaxis2\":{\"anchor\":\"y2\",\"domain\":[0.8408,1.0],\"matches\":\"x2\",\"showticklabels\":false,\"showline\":false,\"ticks\":\"\",\"showgrid\":false},\"yaxis2\":{\"anchor\":\"x2\",\"domain\":[0.0,0.8316],\"matches\":\"y\",\"showticklabels\":false,\"showgrid\":true},\"xaxis3\":{\"anchor\":\"y3\",\"domain\":[0.0,0.8358],\"matches\":\"x\",\"showticklabels\":false,\"showgrid\":true},\"yaxis3\":{\"anchor\":\"x3\",\"domain\":[0.8416,1.0],\"matches\":\"y3\",\"showticklabels\":false,\"showline\":false,\"ticks\":\"\",\"showgrid\":false},\"xaxis4\":{\"anchor\":\"y4\",\"domain\":[0.8408,1.0],\"matches\":\"x2\",\"showticklabels\":false,\"showgrid\":false,\"showline\":false,\"ticks\":\"\"},\"yaxis4\":{\"anchor\":\"x4\",\"domain\":[0.8416,1.0],\"matches\":\"y3\",\"showticklabels\":false,\"showline\":false,\"ticks\":\"\",\"showgrid\":true},\"coloraxis\":{\"colorbar\":{\"title\":{\"text\":\"count\"}},\"colorscale\":[[0.0,\"#0d0887\"],[0.1111111111111111,\"#46039f\"],[0.2222222222222222,\"#7201a8\"],[0.3333333333333333,\"#9c179e\"],[0.4444444444444444,\"#bd3786\"],[0.5555555555555556,\"#d8576b\"],[0.6666666666666666,\"#ed7953\"],[0.7777777777777778,\"#fb9f3a\"],[0.8888888888888888,\"#fdca26\"],[1.0,\"#f0f921\"]]},\"legend\":{\"tracegroupgap\":0},\"margin\":{\"t\":60}},                        {\"responsive\": true}                    ).then(function(){\n",
       "                            \n",
       "var gd = document.getElementById('2b163ecd-b621-4f0d-8fcc-b9128457fa91');\n",
       "var x = new MutationObserver(function (mutations, observer) {{\n",
       "        var display = window.getComputedStyle(gd).display;\n",
       "        if (!display || display === 'none') {{\n",
       "            console.log([gd, 'removed!']);\n",
       "            Plotly.purge(gd);\n",
       "            observer.disconnect();\n",
       "        }}\n",
       "}});\n",
       "\n",
       "// Listen for the removal of the full notebook cells\n",
       "var notebookContainer = gd.closest('#notebook-container');\n",
       "if (notebookContainer) {{\n",
       "    x.observe(notebookContainer, {childList: true});\n",
       "}}\n",
       "\n",
       "// Listen for the clearing of the current output cell\n",
       "var outputEl = gd.closest('.output');\n",
       "if (outputEl) {{\n",
       "    x.observe(outputEl, {childList: true});\n",
       "}}\n",
       "\n",
       "                        })                };                });            </script>        </div>"
      ]
     },
     "metadata": {},
     "output_type": "display_data"
    }
   ],
   "source": [
    "fig = px.density_heatmap(tips, x='total_bill', y='tip',\n",
    "                 marginal_x='box', marginal_y='violin',\n",
    "                 hover_data=['day','sex'])\n",
    "fig.show()"
   ]
  },
  {
   "attachments": {},
   "cell_type": "markdown",
   "id": "195a0506",
   "metadata": {},
   "source": [
    "### Time Series (Stocks)"
   ]
  },
  {
   "cell_type": "code",
   "execution_count": 158,
   "id": "e6de33a0",
   "metadata": {},
   "outputs": [],
   "source": [
    "import requests\n",
    "import pandas as pd\n",
    "\n",
    "url = 'https://www.alphavantage.co/query?function=TIME_SERIES_DAILY_ADJUSTED&symbol=IBM&outputsize=full&apikey=Q7N3TQXDW2FE59QN'\n",
    "r = requests.get(url)\n",
    "data = r.json()\n",
    "\n",
    "#print(data)\n",
    "#list(data)\n",
    "stock_data = pd.DataFrame(data['Time Series (Daily)'])"
   ]
  },
  {
   "cell_type": "code",
   "execution_count": 159,
   "id": "c5a1e427",
   "metadata": {},
   "outputs": [
    {
     "data": {
      "text/html": [
       "<div>\n",
       "<style scoped>\n",
       "    .dataframe tbody tr th:only-of-type {\n",
       "        vertical-align: middle;\n",
       "    }\n",
       "\n",
       "    .dataframe tbody tr th {\n",
       "        vertical-align: top;\n",
       "    }\n",
       "\n",
       "    .dataframe thead th {\n",
       "        text-align: right;\n",
       "    }\n",
       "</style>\n",
       "<table border=\"1\" class=\"dataframe\">\n",
       "  <thead>\n",
       "    <tr style=\"text-align: right;\">\n",
       "      <th></th>\n",
       "      <th>IBM</th>\n",
       "    </tr>\n",
       "  </thead>\n",
       "  <tbody>\n",
       "    <tr>\n",
       "      <th>2023-03-21</th>\n",
       "      <td>126.57</td>\n",
       "    </tr>\n",
       "    <tr>\n",
       "      <th>2023-03-20</th>\n",
       "      <td>125.94</td>\n",
       "    </tr>\n",
       "    <tr>\n",
       "      <th>2023-03-17</th>\n",
       "      <td>123.69</td>\n",
       "    </tr>\n",
       "    <tr>\n",
       "      <th>2023-03-16</th>\n",
       "      <td>124.7</td>\n",
       "    </tr>\n",
       "    <tr>\n",
       "      <th>2023-03-15</th>\n",
       "      <td>123.28</td>\n",
       "    </tr>\n",
       "    <tr>\n",
       "      <th>...</th>\n",
       "      <td>...</td>\n",
       "    </tr>\n",
       "    <tr>\n",
       "      <th>1999-11-05</th>\n",
       "      <td>90.25</td>\n",
       "    </tr>\n",
       "    <tr>\n",
       "      <th>1999-11-04</th>\n",
       "      <td>91.56</td>\n",
       "    </tr>\n",
       "    <tr>\n",
       "      <th>1999-11-03</th>\n",
       "      <td>94.37</td>\n",
       "    </tr>\n",
       "    <tr>\n",
       "      <th>1999-11-02</th>\n",
       "      <td>94.81</td>\n",
       "    </tr>\n",
       "    <tr>\n",
       "      <th>1999-11-01</th>\n",
       "      <td>96.75</td>\n",
       "    </tr>\n",
       "  </tbody>\n",
       "</table>\n",
       "<p>5884 rows × 1 columns</p>\n",
       "</div>"
      ],
      "text/plain": [
       "               IBM\n",
       "2023-03-21  126.57\n",
       "2023-03-20  125.94\n",
       "2023-03-17  123.69\n",
       "2023-03-16   124.7\n",
       "2023-03-15  123.28\n",
       "...            ...\n",
       "1999-11-05   90.25\n",
       "1999-11-04   91.56\n",
       "1999-11-03   94.37\n",
       "1999-11-02   94.81\n",
       "1999-11-01   96.75\n",
       "\n",
       "[5884 rows x 1 columns]"
      ]
     },
     "execution_count": 159,
     "metadata": {},
     "output_type": "execute_result"
    }
   ],
   "source": [
    "stock = pd.DataFrame(stock_data.loc['4. close'])\n",
    "stock.columns = ['IBM']\n",
    "stock"
   ]
  },
  {
   "cell_type": "code",
   "execution_count": 160,
   "id": "407fc0fb",
   "metadata": {},
   "outputs": [
    {
     "data": {
      "text/html": [
       "<div>\n",
       "<style scoped>\n",
       "    .dataframe tbody tr th:only-of-type {\n",
       "        vertical-align: middle;\n",
       "    }\n",
       "\n",
       "    .dataframe tbody tr th {\n",
       "        vertical-align: top;\n",
       "    }\n",
       "\n",
       "    .dataframe thead th {\n",
       "        text-align: right;\n",
       "    }\n",
       "</style>\n",
       "<table border=\"1\" class=\"dataframe\">\n",
       "  <thead>\n",
       "    <tr style=\"text-align: right;\">\n",
       "      <th></th>\n",
       "      <th>IBM</th>\n",
       "      <th>F</th>\n",
       "      <th>TSLA</th>\n",
       "      <th>AMZN</th>\n",
       "      <th>DIS</th>\n",
       "    </tr>\n",
       "  </thead>\n",
       "  <tbody>\n",
       "    <tr>\n",
       "      <th>2023-03-21</th>\n",
       "      <td>126.57</td>\n",
       "      <td>11.72</td>\n",
       "      <td>197.58</td>\n",
       "      <td>100.61</td>\n",
       "      <td>96.54</td>\n",
       "    </tr>\n",
       "    <tr>\n",
       "      <th>2023-03-20</th>\n",
       "      <td>125.94</td>\n",
       "      <td>11.18</td>\n",
       "      <td>183.25</td>\n",
       "      <td>97.71</td>\n",
       "      <td>94.22</td>\n",
       "    </tr>\n",
       "    <tr>\n",
       "      <th>2023-03-17</th>\n",
       "      <td>123.69</td>\n",
       "      <td>11.3</td>\n",
       "      <td>180.13</td>\n",
       "      <td>98.95</td>\n",
       "      <td>93.2</td>\n",
       "    </tr>\n",
       "    <tr>\n",
       "      <th>2023-03-16</th>\n",
       "      <td>124.7</td>\n",
       "      <td>11.82</td>\n",
       "      <td>184.13</td>\n",
       "      <td>100.04</td>\n",
       "      <td>94.29</td>\n",
       "    </tr>\n",
       "    <tr>\n",
       "      <th>2023-03-15</th>\n",
       "      <td>123.28</td>\n",
       "      <td>11.71</td>\n",
       "      <td>180.45</td>\n",
       "      <td>96.2</td>\n",
       "      <td>93.1</td>\n",
       "    </tr>\n",
       "    <tr>\n",
       "      <th>...</th>\n",
       "      <td>...</td>\n",
       "      <td>...</td>\n",
       "      <td>...</td>\n",
       "      <td>...</td>\n",
       "      <td>...</td>\n",
       "    </tr>\n",
       "    <tr>\n",
       "      <th>1999-11-05</th>\n",
       "      <td>90.25</td>\n",
       "      <td>53.69</td>\n",
       "      <td>NaN</td>\n",
       "      <td>64.94</td>\n",
       "      <td>24.31</td>\n",
       "    </tr>\n",
       "    <tr>\n",
       "      <th>1999-11-04</th>\n",
       "      <td>91.56</td>\n",
       "      <td>53.06</td>\n",
       "      <td>NaN</td>\n",
       "      <td>63.06</td>\n",
       "      <td>26.5</td>\n",
       "    </tr>\n",
       "    <tr>\n",
       "      <th>1999-11-03</th>\n",
       "      <td>94.37</td>\n",
       "      <td>53.75</td>\n",
       "      <td>NaN</td>\n",
       "      <td>65.81</td>\n",
       "      <td>26.88</td>\n",
       "    </tr>\n",
       "    <tr>\n",
       "      <th>1999-11-02</th>\n",
       "      <td>94.81</td>\n",
       "      <td>54.38</td>\n",
       "      <td>NaN</td>\n",
       "      <td>66.44</td>\n",
       "      <td>26.25</td>\n",
       "    </tr>\n",
       "    <tr>\n",
       "      <th>1999-11-01</th>\n",
       "      <td>96.75</td>\n",
       "      <td>54.63</td>\n",
       "      <td>NaN</td>\n",
       "      <td>69.13</td>\n",
       "      <td>25.69</td>\n",
       "    </tr>\n",
       "  </tbody>\n",
       "</table>\n",
       "<p>5884 rows × 5 columns</p>\n",
       "</div>"
      ],
      "text/plain": [
       "               IBM      F    TSLA    AMZN    DIS\n",
       "2023-03-21  126.57  11.72  197.58  100.61  96.54\n",
       "2023-03-20  125.94  11.18  183.25   97.71  94.22\n",
       "2023-03-17  123.69   11.3  180.13   98.95   93.2\n",
       "2023-03-16   124.7  11.82  184.13  100.04  94.29\n",
       "2023-03-15  123.28  11.71  180.45    96.2   93.1\n",
       "...            ...    ...     ...     ...    ...\n",
       "1999-11-05   90.25  53.69     NaN   64.94  24.31\n",
       "1999-11-04   91.56  53.06     NaN   63.06   26.5\n",
       "1999-11-03   94.37  53.75     NaN   65.81  26.88\n",
       "1999-11-02   94.81  54.38     NaN   66.44  26.25\n",
       "1999-11-01   96.75  54.63     NaN   69.13  25.69\n",
       "\n",
       "[5884 rows x 5 columns]"
      ]
     },
     "execution_count": 160,
     "metadata": {},
     "output_type": "execute_result"
    }
   ],
   "source": [
    "stock_codes = ['F','TSLA','AMZN','DIS']\n",
    "\n",
    "for code in stock_codes:\n",
    "    url = \"https://www.alphavantage.co/query?function=TIME_SERIES_DAILY_ADJUSTED&symbol={0}&outputsize=full&apikey=Q7N3TQXDW2FE59QN\".format(code)\n",
    "    r = requests.get(url)\n",
    "    data = r.json()\n",
    "    stock2 = pd.DataFrame(pd.DataFrame(data['Time Series (Daily)']).loc['4. close'])\n",
    "    stock2.columns = [code]\n",
    "    stock = stock.join(stock2, how='left')\n",
    "\n",
    "stock"
   ]
  },
  {
   "cell_type": "code",
   "execution_count": null,
   "id": "2d1e074b",
   "metadata": {},
   "outputs": [],
   "source": [
    "# Now, plot the time series"
   ]
  },
  {
   "attachments": {},
   "cell_type": "markdown",
   "id": "c5ad50fb-1839-48cc-94d4-efbfb718e414",
   "metadata": {},
   "source": [
    "### Image Progression\n",
    "* (https://plotly.com/python/imshow/)\n",
    "\n",
    "### Geographical"
   ]
  },
  {
   "cell_type": "code",
   "execution_count": 149,
   "id": "464b7b07",
   "metadata": {},
   "outputs": [],
   "source": [
    "import numpy as np\n",
    "import pandas as pd\n",
    "\n",
    "# Load Data\n",
    "votes = pd.read_csv('../Datasets/1976-2020-senate.csv', encoding=\"ISO-8859-1\")\n",
    "\n",
    "# Create a \"Percent Votes\" column\n",
    "votes['percentvotes'] = np.round(votes['candidatevotes'] * 100 / votes['totalvotes'], 1)\n",
    "#print(votes.head())\n",
    "\n",
    "# Pivot table to get the percent votes by party in the 2020 election\n",
    "results2020 = pd.pivot_table(votes[votes['year'] == 2020],\n",
    "                             index='state_po',\n",
    "                             columns='party_detailed',\n",
    "                             values='percentvotes')\n",
    "results2020['OTHER'] = np.round(100 - results2020['REPUBLICAN'] - results2020['DEMOCRAT'],1)\n",
    "\n",
    "# Add state names to pivot table for labels\n",
    "states = votes[['state','state_po']].drop_duplicates()\n",
    "states.set_index('state_po', inplace=True)\n",
    "states\n",
    "results2020 = results2020.join(states)\n",
    "\n",
    "# Replace NaN values with 0\n",
    "results2020.replace(np.nan, 0, inplace=True)"
   ]
  },
  {
   "cell_type": "code",
   "execution_count": 150,
   "id": "e0f949c9",
   "metadata": {},
   "outputs": [
    {
     "data": {
      "application/vnd.plotly.v1+json": {
       "config": {
        "plotlyServerURL": "https://plot.ly"
       },
       "data": [
        {
         "coloraxis": "coloraxis",
         "customdata": [
          [
           53.9,
           41.2,
           4.9
          ],
          [
           60.1,
           39.7,
           0.2
          ],
          [
           66.5,
           0,
           0
          ],
          [
           9.76,
           10.24,
           80
          ],
          [
           44.2,
           53.5,
           2.3
          ],
          [
           37.9,
           59.4,
           2.7
          ],
          [
           14.142857142857142,
           10.7,
           75.2
          ],
          [
           50.9,
           44.4,
           4.7
          ],
          [
           62.6,
           33.2,
           4.2
          ],
          [
           38.9,
           54.9,
           6.2
          ],
          [
           53.2,
           41.8,
           5
          ],
          [
           57.8,
           38.2,
           4
          ],
          [
           30.599999999999998,
           7.06,
           62.3
          ],
          [
           32.2,
           64.5,
           3.3
          ],
          [
           50.4,
           41.9,
           7.7
          ],
          [
           48.2,
           49.9,
           1.9
          ],
          [
           43.5,
           48.7,
           7.8
          ],
          [
           54.1,
           44.1,
           1.8
          ],
          [
           55,
           45,
           0
          ],
          [
           48.7,
           46.9,
           4.4
          ],
          [
           62.7,
           24.4,
           12.9
          ],
          [
           41,
           56.6,
           2.4
          ],
          [
           40.9,
           57.2,
           1.9
          ],
          [
           45.6,
           51.7,
           2.7
          ],
          [
           62.9,
           32.8,
           4.3
          ],
          [
           39.3,
           56.9,
           3.8
          ],
          [
           33.4,
           66.5,
           0.1
          ],
          [
           54.4,
           44.2,
           1.4
          ],
          [
           65.7,
           34.3,
           0
          ],
          [
           62.2,
           35.2,
           2.6
          ],
          [
           53.5,
           43.9,
           2.6
          ],
          [
           43.9,
           56,
           0.1
          ],
          [
           70.3,
           27,
           2.7
          ]
         ],
         "geo": "geo",
         "hovertemplate": "<b>%{hovertext}</b><br><br>state_po=%{location}<br>REPUBLICAN=%{z}<br>DEMOCRAT=%{customdata[1]}<br>OTHER=%{customdata[2]}<extra></extra>",
         "hovertext": [
          "ALASKA",
          "ALABAMA",
          "ARKANSAS",
          "ARIZONA",
          "COLORADO",
          "DELAWARE",
          "GEORGIA",
          "IOWA",
          "IDAHO",
          "ILLINOIS",
          "KANSAS",
          "KENTUCKY",
          "LOUISIANA",
          "MASSACHUSETTS",
          "MAINE",
          "MICHIGAN",
          "MINNESOTA",
          "MISSISSIPPI",
          "MONTANA",
          "NORTH CAROLINA",
          "NEBRASKA",
          "NEW HAMPSHIRE",
          "NEW JERSEY",
          "NEW MEXICO",
          "OKLAHOMA",
          "OREGON",
          "RHODE ISLAND",
          "SOUTH CAROLINA",
          "SOUTH DAKOTA",
          "TENNESSEE",
          "TEXAS",
          "VIRGINIA",
          "WEST VIRGINIA"
         ],
         "locationmode": "USA-states",
         "locations": [
          "AK",
          "AL",
          "AR",
          "AZ",
          "CO",
          "DE",
          "GA",
          "IA",
          "ID",
          "IL",
          "KS",
          "KY",
          "LA",
          "MA",
          "ME",
          "MI",
          "MN",
          "MS",
          "MT",
          "NC",
          "NE",
          "NH",
          "NJ",
          "NM",
          "OK",
          "OR",
          "RI",
          "SC",
          "SD",
          "TN",
          "TX",
          "VA",
          "WV"
         ],
         "name": "",
         "type": "choropleth",
         "z": [
          53.9,
          60.1,
          66.5,
          9.76,
          44.2,
          37.9,
          14.142857142857142,
          50.9,
          62.6,
          38.9,
          53.2,
          57.8,
          30.599999999999998,
          32.2,
          50.4,
          48.2,
          43.5,
          54.1,
          55,
          48.7,
          62.7,
          41,
          40.9,
          45.6,
          62.9,
          39.3,
          33.4,
          54.4,
          65.7,
          62.2,
          53.5,
          43.9,
          70.3
         ]
        }
       ],
       "layout": {
        "coloraxis": {
         "cmax": 100,
         "cmin": 0,
         "colorbar": {
          "title": {
           "text": "REPUBLICAN"
          }
         },
         "colorscale": [
          [
           0,
           "rgb(5,48,97)"
          ],
          [
           0.1,
           "rgb(33,102,172)"
          ],
          [
           0.2,
           "rgb(67,147,195)"
          ],
          [
           0.3,
           "rgb(146,197,222)"
          ],
          [
           0.4,
           "rgb(209,229,240)"
          ],
          [
           0.5,
           "rgb(247,247,247)"
          ],
          [
           0.6,
           "rgb(253,219,199)"
          ],
          [
           0.7,
           "rgb(244,165,130)"
          ],
          [
           0.8,
           "rgb(214,96,77)"
          ],
          [
           0.9,
           "rgb(178,24,43)"
          ],
          [
           1,
           "rgb(103,0,31)"
          ]
         ]
        },
        "geo": {
         "center": {},
         "domain": {
          "x": [
           0,
           1
          ],
          "y": [
           0,
           1
          ]
         },
         "scope": "usa"
        },
        "legend": {
         "tracegroupgap": 0
        },
        "margin": {
         "t": 60
        },
        "template": {
         "data": {
          "bar": [
           {
            "error_x": {
             "color": "#2a3f5f"
            },
            "error_y": {
             "color": "#2a3f5f"
            },
            "marker": {
             "line": {
              "color": "#E5ECF6",
              "width": 0.5
             },
             "pattern": {
              "fillmode": "overlay",
              "size": 10,
              "solidity": 0.2
             }
            },
            "type": "bar"
           }
          ],
          "barpolar": [
           {
            "marker": {
             "line": {
              "color": "#E5ECF6",
              "width": 0.5
             },
             "pattern": {
              "fillmode": "overlay",
              "size": 10,
              "solidity": 0.2
             }
            },
            "type": "barpolar"
           }
          ],
          "carpet": [
           {
            "aaxis": {
             "endlinecolor": "#2a3f5f",
             "gridcolor": "white",
             "linecolor": "white",
             "minorgridcolor": "white",
             "startlinecolor": "#2a3f5f"
            },
            "baxis": {
             "endlinecolor": "#2a3f5f",
             "gridcolor": "white",
             "linecolor": "white",
             "minorgridcolor": "white",
             "startlinecolor": "#2a3f5f"
            },
            "type": "carpet"
           }
          ],
          "choropleth": [
           {
            "colorbar": {
             "outlinewidth": 0,
             "ticks": ""
            },
            "type": "choropleth"
           }
          ],
          "contour": [
           {
            "colorbar": {
             "outlinewidth": 0,
             "ticks": ""
            },
            "colorscale": [
             [
              0,
              "#0d0887"
             ],
             [
              0.1111111111111111,
              "#46039f"
             ],
             [
              0.2222222222222222,
              "#7201a8"
             ],
             [
              0.3333333333333333,
              "#9c179e"
             ],
             [
              0.4444444444444444,
              "#bd3786"
             ],
             [
              0.5555555555555556,
              "#d8576b"
             ],
             [
              0.6666666666666666,
              "#ed7953"
             ],
             [
              0.7777777777777778,
              "#fb9f3a"
             ],
             [
              0.8888888888888888,
              "#fdca26"
             ],
             [
              1,
              "#f0f921"
             ]
            ],
            "type": "contour"
           }
          ],
          "contourcarpet": [
           {
            "colorbar": {
             "outlinewidth": 0,
             "ticks": ""
            },
            "type": "contourcarpet"
           }
          ],
          "heatmap": [
           {
            "colorbar": {
             "outlinewidth": 0,
             "ticks": ""
            },
            "colorscale": [
             [
              0,
              "#0d0887"
             ],
             [
              0.1111111111111111,
              "#46039f"
             ],
             [
              0.2222222222222222,
              "#7201a8"
             ],
             [
              0.3333333333333333,
              "#9c179e"
             ],
             [
              0.4444444444444444,
              "#bd3786"
             ],
             [
              0.5555555555555556,
              "#d8576b"
             ],
             [
              0.6666666666666666,
              "#ed7953"
             ],
             [
              0.7777777777777778,
              "#fb9f3a"
             ],
             [
              0.8888888888888888,
              "#fdca26"
             ],
             [
              1,
              "#f0f921"
             ]
            ],
            "type": "heatmap"
           }
          ],
          "heatmapgl": [
           {
            "colorbar": {
             "outlinewidth": 0,
             "ticks": ""
            },
            "colorscale": [
             [
              0,
              "#0d0887"
             ],
             [
              0.1111111111111111,
              "#46039f"
             ],
             [
              0.2222222222222222,
              "#7201a8"
             ],
             [
              0.3333333333333333,
              "#9c179e"
             ],
             [
              0.4444444444444444,
              "#bd3786"
             ],
             [
              0.5555555555555556,
              "#d8576b"
             ],
             [
              0.6666666666666666,
              "#ed7953"
             ],
             [
              0.7777777777777778,
              "#fb9f3a"
             ],
             [
              0.8888888888888888,
              "#fdca26"
             ],
             [
              1,
              "#f0f921"
             ]
            ],
            "type": "heatmapgl"
           }
          ],
          "histogram": [
           {
            "marker": {
             "pattern": {
              "fillmode": "overlay",
              "size": 10,
              "solidity": 0.2
             }
            },
            "type": "histogram"
           }
          ],
          "histogram2d": [
           {
            "colorbar": {
             "outlinewidth": 0,
             "ticks": ""
            },
            "colorscale": [
             [
              0,
              "#0d0887"
             ],
             [
              0.1111111111111111,
              "#46039f"
             ],
             [
              0.2222222222222222,
              "#7201a8"
             ],
             [
              0.3333333333333333,
              "#9c179e"
             ],
             [
              0.4444444444444444,
              "#bd3786"
             ],
             [
              0.5555555555555556,
              "#d8576b"
             ],
             [
              0.6666666666666666,
              "#ed7953"
             ],
             [
              0.7777777777777778,
              "#fb9f3a"
             ],
             [
              0.8888888888888888,
              "#fdca26"
             ],
             [
              1,
              "#f0f921"
             ]
            ],
            "type": "histogram2d"
           }
          ],
          "histogram2dcontour": [
           {
            "colorbar": {
             "outlinewidth": 0,
             "ticks": ""
            },
            "colorscale": [
             [
              0,
              "#0d0887"
             ],
             [
              0.1111111111111111,
              "#46039f"
             ],
             [
              0.2222222222222222,
              "#7201a8"
             ],
             [
              0.3333333333333333,
              "#9c179e"
             ],
             [
              0.4444444444444444,
              "#bd3786"
             ],
             [
              0.5555555555555556,
              "#d8576b"
             ],
             [
              0.6666666666666666,
              "#ed7953"
             ],
             [
              0.7777777777777778,
              "#fb9f3a"
             ],
             [
              0.8888888888888888,
              "#fdca26"
             ],
             [
              1,
              "#f0f921"
             ]
            ],
            "type": "histogram2dcontour"
           }
          ],
          "mesh3d": [
           {
            "colorbar": {
             "outlinewidth": 0,
             "ticks": ""
            },
            "type": "mesh3d"
           }
          ],
          "parcoords": [
           {
            "line": {
             "colorbar": {
              "outlinewidth": 0,
              "ticks": ""
             }
            },
            "type": "parcoords"
           }
          ],
          "pie": [
           {
            "automargin": true,
            "type": "pie"
           }
          ],
          "scatter": [
           {
            "fillpattern": {
             "fillmode": "overlay",
             "size": 10,
             "solidity": 0.2
            },
            "type": "scatter"
           }
          ],
          "scatter3d": [
           {
            "line": {
             "colorbar": {
              "outlinewidth": 0,
              "ticks": ""
             }
            },
            "marker": {
             "colorbar": {
              "outlinewidth": 0,
              "ticks": ""
             }
            },
            "type": "scatter3d"
           }
          ],
          "scattercarpet": [
           {
            "marker": {
             "colorbar": {
              "outlinewidth": 0,
              "ticks": ""
             }
            },
            "type": "scattercarpet"
           }
          ],
          "scattergeo": [
           {
            "marker": {
             "colorbar": {
              "outlinewidth": 0,
              "ticks": ""
             }
            },
            "type": "scattergeo"
           }
          ],
          "scattergl": [
           {
            "marker": {
             "colorbar": {
              "outlinewidth": 0,
              "ticks": ""
             }
            },
            "type": "scattergl"
           }
          ],
          "scattermapbox": [
           {
            "marker": {
             "colorbar": {
              "outlinewidth": 0,
              "ticks": ""
             }
            },
            "type": "scattermapbox"
           }
          ],
          "scatterpolar": [
           {
            "marker": {
             "colorbar": {
              "outlinewidth": 0,
              "ticks": ""
             }
            },
            "type": "scatterpolar"
           }
          ],
          "scatterpolargl": [
           {
            "marker": {
             "colorbar": {
              "outlinewidth": 0,
              "ticks": ""
             }
            },
            "type": "scatterpolargl"
           }
          ],
          "scatterternary": [
           {
            "marker": {
             "colorbar": {
              "outlinewidth": 0,
              "ticks": ""
             }
            },
            "type": "scatterternary"
           }
          ],
          "surface": [
           {
            "colorbar": {
             "outlinewidth": 0,
             "ticks": ""
            },
            "colorscale": [
             [
              0,
              "#0d0887"
             ],
             [
              0.1111111111111111,
              "#46039f"
             ],
             [
              0.2222222222222222,
              "#7201a8"
             ],
             [
              0.3333333333333333,
              "#9c179e"
             ],
             [
              0.4444444444444444,
              "#bd3786"
             ],
             [
              0.5555555555555556,
              "#d8576b"
             ],
             [
              0.6666666666666666,
              "#ed7953"
             ],
             [
              0.7777777777777778,
              "#fb9f3a"
             ],
             [
              0.8888888888888888,
              "#fdca26"
             ],
             [
              1,
              "#f0f921"
             ]
            ],
            "type": "surface"
           }
          ],
          "table": [
           {
            "cells": {
             "fill": {
              "color": "#EBF0F8"
             },
             "line": {
              "color": "white"
             }
            },
            "header": {
             "fill": {
              "color": "#C8D4E3"
             },
             "line": {
              "color": "white"
             }
            },
            "type": "table"
           }
          ]
         },
         "layout": {
          "annotationdefaults": {
           "arrowcolor": "#2a3f5f",
           "arrowhead": 0,
           "arrowwidth": 1
          },
          "autotypenumbers": "strict",
          "coloraxis": {
           "colorbar": {
            "outlinewidth": 0,
            "ticks": ""
           }
          },
          "colorscale": {
           "diverging": [
            [
             0,
             "#8e0152"
            ],
            [
             0.1,
             "#c51b7d"
            ],
            [
             0.2,
             "#de77ae"
            ],
            [
             0.3,
             "#f1b6da"
            ],
            [
             0.4,
             "#fde0ef"
            ],
            [
             0.5,
             "#f7f7f7"
            ],
            [
             0.6,
             "#e6f5d0"
            ],
            [
             0.7,
             "#b8e186"
            ],
            [
             0.8,
             "#7fbc41"
            ],
            [
             0.9,
             "#4d9221"
            ],
            [
             1,
             "#276419"
            ]
           ],
           "sequential": [
            [
             0,
             "#0d0887"
            ],
            [
             0.1111111111111111,
             "#46039f"
            ],
            [
             0.2222222222222222,
             "#7201a8"
            ],
            [
             0.3333333333333333,
             "#9c179e"
            ],
            [
             0.4444444444444444,
             "#bd3786"
            ],
            [
             0.5555555555555556,
             "#d8576b"
            ],
            [
             0.6666666666666666,
             "#ed7953"
            ],
            [
             0.7777777777777778,
             "#fb9f3a"
            ],
            [
             0.8888888888888888,
             "#fdca26"
            ],
            [
             1,
             "#f0f921"
            ]
           ],
           "sequentialminus": [
            [
             0,
             "#0d0887"
            ],
            [
             0.1111111111111111,
             "#46039f"
            ],
            [
             0.2222222222222222,
             "#7201a8"
            ],
            [
             0.3333333333333333,
             "#9c179e"
            ],
            [
             0.4444444444444444,
             "#bd3786"
            ],
            [
             0.5555555555555556,
             "#d8576b"
            ],
            [
             0.6666666666666666,
             "#ed7953"
            ],
            [
             0.7777777777777778,
             "#fb9f3a"
            ],
            [
             0.8888888888888888,
             "#fdca26"
            ],
            [
             1,
             "#f0f921"
            ]
           ]
          },
          "colorway": [
           "#636efa",
           "#EF553B",
           "#00cc96",
           "#ab63fa",
           "#FFA15A",
           "#19d3f3",
           "#FF6692",
           "#B6E880",
           "#FF97FF",
           "#FECB52"
          ],
          "font": {
           "color": "#2a3f5f"
          },
          "geo": {
           "bgcolor": "white",
           "lakecolor": "white",
           "landcolor": "#E5ECF6",
           "showlakes": true,
           "showland": true,
           "subunitcolor": "white"
          },
          "hoverlabel": {
           "align": "left"
          },
          "hovermode": "closest",
          "mapbox": {
           "style": "light"
          },
          "paper_bgcolor": "white",
          "plot_bgcolor": "#E5ECF6",
          "polar": {
           "angularaxis": {
            "gridcolor": "white",
            "linecolor": "white",
            "ticks": ""
           },
           "bgcolor": "#E5ECF6",
           "radialaxis": {
            "gridcolor": "white",
            "linecolor": "white",
            "ticks": ""
           }
          },
          "scene": {
           "xaxis": {
            "backgroundcolor": "#E5ECF6",
            "gridcolor": "white",
            "gridwidth": 2,
            "linecolor": "white",
            "showbackground": true,
            "ticks": "",
            "zerolinecolor": "white"
           },
           "yaxis": {
            "backgroundcolor": "#E5ECF6",
            "gridcolor": "white",
            "gridwidth": 2,
            "linecolor": "white",
            "showbackground": true,
            "ticks": "",
            "zerolinecolor": "white"
           },
           "zaxis": {
            "backgroundcolor": "#E5ECF6",
            "gridcolor": "white",
            "gridwidth": 2,
            "linecolor": "white",
            "showbackground": true,
            "ticks": "",
            "zerolinecolor": "white"
           }
          },
          "shapedefaults": {
           "line": {
            "color": "#2a3f5f"
           }
          },
          "ternary": {
           "aaxis": {
            "gridcolor": "white",
            "linecolor": "white",
            "ticks": ""
           },
           "baxis": {
            "gridcolor": "white",
            "linecolor": "white",
            "ticks": ""
           },
           "bgcolor": "#E5ECF6",
           "caxis": {
            "gridcolor": "white",
            "linecolor": "white",
            "ticks": ""
           }
          },
          "title": {
           "x": 0.05
          },
          "xaxis": {
           "automargin": true,
           "gridcolor": "white",
           "linecolor": "white",
           "ticks": "",
           "title": {
            "standoff": 15
           },
           "zerolinecolor": "white",
           "zerolinewidth": 2
          },
          "yaxis": {
           "automargin": true,
           "gridcolor": "white",
           "linecolor": "white",
           "ticks": "",
           "title": {
            "standoff": 15
           },
           "zerolinecolor": "white",
           "zerolinewidth": 2
          }
         }
        }
       }
      },
      "text/html": [
       "<div>                            <div id=\"d6e3e572-f218-4326-a5c2-b5003dd430d8\" class=\"plotly-graph-div\" style=\"height:525px; width:100%;\"></div>            <script type=\"text/javascript\">                require([\"plotly\"], function(Plotly) {                    window.PLOTLYENV=window.PLOTLYENV || {};                                    if (document.getElementById(\"d6e3e572-f218-4326-a5c2-b5003dd430d8\")) {                    Plotly.newPlot(                        \"d6e3e572-f218-4326-a5c2-b5003dd430d8\",                        [{\"coloraxis\":\"coloraxis\",\"customdata\":[[53.9,41.2,4.9],[60.1,39.7,0.2],[66.5,0.0,0.0],[9.76,10.24,80.0],[44.2,53.5,2.3],[37.9,59.4,2.7],[14.142857142857142,10.7,75.2],[50.9,44.4,4.7],[62.6,33.2,4.2],[38.9,54.9,6.2],[53.2,41.8,5.0],[57.8,38.2,4.0],[30.599999999999998,7.06,62.3],[32.2,64.5,3.3],[50.4,41.9,7.7],[48.2,49.9,1.9],[43.5,48.7,7.8],[54.1,44.1,1.8],[55.0,45.0,0.0],[48.7,46.9,4.4],[62.7,24.4,12.9],[41.0,56.6,2.4],[40.9,57.2,1.9],[45.6,51.7,2.7],[62.9,32.8,4.3],[39.3,56.9,3.8],[33.4,66.5,0.1],[54.4,44.2,1.4],[65.7,34.3,0.0],[62.2,35.2,2.6],[53.5,43.9,2.6],[43.9,56.0,0.1],[70.3,27.0,2.7]],\"geo\":\"geo\",\"hovertemplate\":\"<b>%{hovertext}</b><br><br>state_po=%{location}<br>REPUBLICAN=%{z}<br>DEMOCRAT=%{customdata[1]}<br>OTHER=%{customdata[2]}<extra></extra>\",\"hovertext\":[\"ALASKA\",\"ALABAMA\",\"ARKANSAS\",\"ARIZONA\",\"COLORADO\",\"DELAWARE\",\"GEORGIA\",\"IOWA\",\"IDAHO\",\"ILLINOIS\",\"KANSAS\",\"KENTUCKY\",\"LOUISIANA\",\"MASSACHUSETTS\",\"MAINE\",\"MICHIGAN\",\"MINNESOTA\",\"MISSISSIPPI\",\"MONTANA\",\"NORTH CAROLINA\",\"NEBRASKA\",\"NEW HAMPSHIRE\",\"NEW JERSEY\",\"NEW MEXICO\",\"OKLAHOMA\",\"OREGON\",\"RHODE ISLAND\",\"SOUTH CAROLINA\",\"SOUTH DAKOTA\",\"TENNESSEE\",\"TEXAS\",\"VIRGINIA\",\"WEST VIRGINIA\"],\"locationmode\":\"USA-states\",\"locations\":[\"AK\",\"AL\",\"AR\",\"AZ\",\"CO\",\"DE\",\"GA\",\"IA\",\"ID\",\"IL\",\"KS\",\"KY\",\"LA\",\"MA\",\"ME\",\"MI\",\"MN\",\"MS\",\"MT\",\"NC\",\"NE\",\"NH\",\"NJ\",\"NM\",\"OK\",\"OR\",\"RI\",\"SC\",\"SD\",\"TN\",\"TX\",\"VA\",\"WV\"],\"name\":\"\",\"z\":[53.9,60.1,66.5,9.76,44.2,37.9,14.142857142857142,50.9,62.6,38.9,53.2,57.8,30.599999999999998,32.2,50.4,48.2,43.5,54.1,55.0,48.7,62.7,41.0,40.9,45.6,62.9,39.3,33.4,54.4,65.7,62.2,53.5,43.9,70.3],\"type\":\"choropleth\"}],                        {\"template\":{\"data\":{\"histogram2dcontour\":[{\"type\":\"histogram2dcontour\",\"colorbar\":{\"outlinewidth\":0,\"ticks\":\"\"},\"colorscale\":[[0.0,\"#0d0887\"],[0.1111111111111111,\"#46039f\"],[0.2222222222222222,\"#7201a8\"],[0.3333333333333333,\"#9c179e\"],[0.4444444444444444,\"#bd3786\"],[0.5555555555555556,\"#d8576b\"],[0.6666666666666666,\"#ed7953\"],[0.7777777777777778,\"#fb9f3a\"],[0.8888888888888888,\"#fdca26\"],[1.0,\"#f0f921\"]]}],\"choropleth\":[{\"type\":\"choropleth\",\"colorbar\":{\"outlinewidth\":0,\"ticks\":\"\"}}],\"histogram2d\":[{\"type\":\"histogram2d\",\"colorbar\":{\"outlinewidth\":0,\"ticks\":\"\"},\"colorscale\":[[0.0,\"#0d0887\"],[0.1111111111111111,\"#46039f\"],[0.2222222222222222,\"#7201a8\"],[0.3333333333333333,\"#9c179e\"],[0.4444444444444444,\"#bd3786\"],[0.5555555555555556,\"#d8576b\"],[0.6666666666666666,\"#ed7953\"],[0.7777777777777778,\"#fb9f3a\"],[0.8888888888888888,\"#fdca26\"],[1.0,\"#f0f921\"]]}],\"heatmap\":[{\"type\":\"heatmap\",\"colorbar\":{\"outlinewidth\":0,\"ticks\":\"\"},\"colorscale\":[[0.0,\"#0d0887\"],[0.1111111111111111,\"#46039f\"],[0.2222222222222222,\"#7201a8\"],[0.3333333333333333,\"#9c179e\"],[0.4444444444444444,\"#bd3786\"],[0.5555555555555556,\"#d8576b\"],[0.6666666666666666,\"#ed7953\"],[0.7777777777777778,\"#fb9f3a\"],[0.8888888888888888,\"#fdca26\"],[1.0,\"#f0f921\"]]}],\"heatmapgl\":[{\"type\":\"heatmapgl\",\"colorbar\":{\"outlinewidth\":0,\"ticks\":\"\"},\"colorscale\":[[0.0,\"#0d0887\"],[0.1111111111111111,\"#46039f\"],[0.2222222222222222,\"#7201a8\"],[0.3333333333333333,\"#9c179e\"],[0.4444444444444444,\"#bd3786\"],[0.5555555555555556,\"#d8576b\"],[0.6666666666666666,\"#ed7953\"],[0.7777777777777778,\"#fb9f3a\"],[0.8888888888888888,\"#fdca26\"],[1.0,\"#f0f921\"]]}],\"contourcarpet\":[{\"type\":\"contourcarpet\",\"colorbar\":{\"outlinewidth\":0,\"ticks\":\"\"}}],\"contour\":[{\"type\":\"contour\",\"colorbar\":{\"outlinewidth\":0,\"ticks\":\"\"},\"colorscale\":[[0.0,\"#0d0887\"],[0.1111111111111111,\"#46039f\"],[0.2222222222222222,\"#7201a8\"],[0.3333333333333333,\"#9c179e\"],[0.4444444444444444,\"#bd3786\"],[0.5555555555555556,\"#d8576b\"],[0.6666666666666666,\"#ed7953\"],[0.7777777777777778,\"#fb9f3a\"],[0.8888888888888888,\"#fdca26\"],[1.0,\"#f0f921\"]]}],\"surface\":[{\"type\":\"surface\",\"colorbar\":{\"outlinewidth\":0,\"ticks\":\"\"},\"colorscale\":[[0.0,\"#0d0887\"],[0.1111111111111111,\"#46039f\"],[0.2222222222222222,\"#7201a8\"],[0.3333333333333333,\"#9c179e\"],[0.4444444444444444,\"#bd3786\"],[0.5555555555555556,\"#d8576b\"],[0.6666666666666666,\"#ed7953\"],[0.7777777777777778,\"#fb9f3a\"],[0.8888888888888888,\"#fdca26\"],[1.0,\"#f0f921\"]]}],\"mesh3d\":[{\"type\":\"mesh3d\",\"colorbar\":{\"outlinewidth\":0,\"ticks\":\"\"}}],\"scatter\":[{\"fillpattern\":{\"fillmode\":\"overlay\",\"size\":10,\"solidity\":0.2},\"type\":\"scatter\"}],\"parcoords\":[{\"type\":\"parcoords\",\"line\":{\"colorbar\":{\"outlinewidth\":0,\"ticks\":\"\"}}}],\"scatterpolargl\":[{\"type\":\"scatterpolargl\",\"marker\":{\"colorbar\":{\"outlinewidth\":0,\"ticks\":\"\"}}}],\"bar\":[{\"error_x\":{\"color\":\"#2a3f5f\"},\"error_y\":{\"color\":\"#2a3f5f\"},\"marker\":{\"line\":{\"color\":\"#E5ECF6\",\"width\":0.5},\"pattern\":{\"fillmode\":\"overlay\",\"size\":10,\"solidity\":0.2}},\"type\":\"bar\"}],\"scattergeo\":[{\"type\":\"scattergeo\",\"marker\":{\"colorbar\":{\"outlinewidth\":0,\"ticks\":\"\"}}}],\"scatterpolar\":[{\"type\":\"scatterpolar\",\"marker\":{\"colorbar\":{\"outlinewidth\":0,\"ticks\":\"\"}}}],\"histogram\":[{\"marker\":{\"pattern\":{\"fillmode\":\"overlay\",\"size\":10,\"solidity\":0.2}},\"type\":\"histogram\"}],\"scattergl\":[{\"type\":\"scattergl\",\"marker\":{\"colorbar\":{\"outlinewidth\":0,\"ticks\":\"\"}}}],\"scatter3d\":[{\"type\":\"scatter3d\",\"line\":{\"colorbar\":{\"outlinewidth\":0,\"ticks\":\"\"}},\"marker\":{\"colorbar\":{\"outlinewidth\":0,\"ticks\":\"\"}}}],\"scattermapbox\":[{\"type\":\"scattermapbox\",\"marker\":{\"colorbar\":{\"outlinewidth\":0,\"ticks\":\"\"}}}],\"scatterternary\":[{\"type\":\"scatterternary\",\"marker\":{\"colorbar\":{\"outlinewidth\":0,\"ticks\":\"\"}}}],\"scattercarpet\":[{\"type\":\"scattercarpet\",\"marker\":{\"colorbar\":{\"outlinewidth\":0,\"ticks\":\"\"}}}],\"carpet\":[{\"aaxis\":{\"endlinecolor\":\"#2a3f5f\",\"gridcolor\":\"white\",\"linecolor\":\"white\",\"minorgridcolor\":\"white\",\"startlinecolor\":\"#2a3f5f\"},\"baxis\":{\"endlinecolor\":\"#2a3f5f\",\"gridcolor\":\"white\",\"linecolor\":\"white\",\"minorgridcolor\":\"white\",\"startlinecolor\":\"#2a3f5f\"},\"type\":\"carpet\"}],\"table\":[{\"cells\":{\"fill\":{\"color\":\"#EBF0F8\"},\"line\":{\"color\":\"white\"}},\"header\":{\"fill\":{\"color\":\"#C8D4E3\"},\"line\":{\"color\":\"white\"}},\"type\":\"table\"}],\"barpolar\":[{\"marker\":{\"line\":{\"color\":\"#E5ECF6\",\"width\":0.5},\"pattern\":{\"fillmode\":\"overlay\",\"size\":10,\"solidity\":0.2}},\"type\":\"barpolar\"}],\"pie\":[{\"automargin\":true,\"type\":\"pie\"}]},\"layout\":{\"autotypenumbers\":\"strict\",\"colorway\":[\"#636efa\",\"#EF553B\",\"#00cc96\",\"#ab63fa\",\"#FFA15A\",\"#19d3f3\",\"#FF6692\",\"#B6E880\",\"#FF97FF\",\"#FECB52\"],\"font\":{\"color\":\"#2a3f5f\"},\"hovermode\":\"closest\",\"hoverlabel\":{\"align\":\"left\"},\"paper_bgcolor\":\"white\",\"plot_bgcolor\":\"#E5ECF6\",\"polar\":{\"bgcolor\":\"#E5ECF6\",\"angularaxis\":{\"gridcolor\":\"white\",\"linecolor\":\"white\",\"ticks\":\"\"},\"radialaxis\":{\"gridcolor\":\"white\",\"linecolor\":\"white\",\"ticks\":\"\"}},\"ternary\":{\"bgcolor\":\"#E5ECF6\",\"aaxis\":{\"gridcolor\":\"white\",\"linecolor\":\"white\",\"ticks\":\"\"},\"baxis\":{\"gridcolor\":\"white\",\"linecolor\":\"white\",\"ticks\":\"\"},\"caxis\":{\"gridcolor\":\"white\",\"linecolor\":\"white\",\"ticks\":\"\"}},\"coloraxis\":{\"colorbar\":{\"outlinewidth\":0,\"ticks\":\"\"}},\"colorscale\":{\"sequential\":[[0.0,\"#0d0887\"],[0.1111111111111111,\"#46039f\"],[0.2222222222222222,\"#7201a8\"],[0.3333333333333333,\"#9c179e\"],[0.4444444444444444,\"#bd3786\"],[0.5555555555555556,\"#d8576b\"],[0.6666666666666666,\"#ed7953\"],[0.7777777777777778,\"#fb9f3a\"],[0.8888888888888888,\"#fdca26\"],[1.0,\"#f0f921\"]],\"sequentialminus\":[[0.0,\"#0d0887\"],[0.1111111111111111,\"#46039f\"],[0.2222222222222222,\"#7201a8\"],[0.3333333333333333,\"#9c179e\"],[0.4444444444444444,\"#bd3786\"],[0.5555555555555556,\"#d8576b\"],[0.6666666666666666,\"#ed7953\"],[0.7777777777777778,\"#fb9f3a\"],[0.8888888888888888,\"#fdca26\"],[1.0,\"#f0f921\"]],\"diverging\":[[0,\"#8e0152\"],[0.1,\"#c51b7d\"],[0.2,\"#de77ae\"],[0.3,\"#f1b6da\"],[0.4,\"#fde0ef\"],[0.5,\"#f7f7f7\"],[0.6,\"#e6f5d0\"],[0.7,\"#b8e186\"],[0.8,\"#7fbc41\"],[0.9,\"#4d9221\"],[1,\"#276419\"]]},\"xaxis\":{\"gridcolor\":\"white\",\"linecolor\":\"white\",\"ticks\":\"\",\"title\":{\"standoff\":15},\"zerolinecolor\":\"white\",\"automargin\":true,\"zerolinewidth\":2},\"yaxis\":{\"gridcolor\":\"white\",\"linecolor\":\"white\",\"ticks\":\"\",\"title\":{\"standoff\":15},\"zerolinecolor\":\"white\",\"automargin\":true,\"zerolinewidth\":2},\"scene\":{\"xaxis\":{\"backgroundcolor\":\"#E5ECF6\",\"gridcolor\":\"white\",\"linecolor\":\"white\",\"showbackground\":true,\"ticks\":\"\",\"zerolinecolor\":\"white\",\"gridwidth\":2},\"yaxis\":{\"backgroundcolor\":\"#E5ECF6\",\"gridcolor\":\"white\",\"linecolor\":\"white\",\"showbackground\":true,\"ticks\":\"\",\"zerolinecolor\":\"white\",\"gridwidth\":2},\"zaxis\":{\"backgroundcolor\":\"#E5ECF6\",\"gridcolor\":\"white\",\"linecolor\":\"white\",\"showbackground\":true,\"ticks\":\"\",\"zerolinecolor\":\"white\",\"gridwidth\":2}},\"shapedefaults\":{\"line\":{\"color\":\"#2a3f5f\"}},\"annotationdefaults\":{\"arrowcolor\":\"#2a3f5f\",\"arrowhead\":0,\"arrowwidth\":1},\"geo\":{\"bgcolor\":\"white\",\"landcolor\":\"#E5ECF6\",\"subunitcolor\":\"white\",\"showland\":true,\"showlakes\":true,\"lakecolor\":\"white\"},\"title\":{\"x\":0.05},\"mapbox\":{\"style\":\"light\"}}},\"geo\":{\"domain\":{\"x\":[0.0,1.0],\"y\":[0.0,1.0]},\"center\":{},\"scope\":\"usa\"},\"coloraxis\":{\"colorbar\":{\"title\":{\"text\":\"REPUBLICAN\"}},\"colorscale\":[[0.0,\"rgb(5,48,97)\"],[0.1,\"rgb(33,102,172)\"],[0.2,\"rgb(67,147,195)\"],[0.3,\"rgb(146,197,222)\"],[0.4,\"rgb(209,229,240)\"],[0.5,\"rgb(247,247,247)\"],[0.6,\"rgb(253,219,199)\"],[0.7,\"rgb(244,165,130)\"],[0.8,\"rgb(214,96,77)\"],[0.9,\"rgb(178,24,43)\"],[1.0,\"rgb(103,0,31)\"]],\"cmin\":0,\"cmax\":100},\"legend\":{\"tracegroupgap\":0},\"margin\":{\"t\":60}},                        {\"responsive\": true}                    ).then(function(){\n",
       "                            \n",
       "var gd = document.getElementById('d6e3e572-f218-4326-a5c2-b5003dd430d8');\n",
       "var x = new MutationObserver(function (mutations, observer) {{\n",
       "        var display = window.getComputedStyle(gd).display;\n",
       "        if (!display || display === 'none') {{\n",
       "            console.log([gd, 'removed!']);\n",
       "            Plotly.purge(gd);\n",
       "            observer.disconnect();\n",
       "        }}\n",
       "}});\n",
       "\n",
       "// Listen for the removal of the full notebook cells\n",
       "var notebookContainer = gd.closest('#notebook-container');\n",
       "if (notebookContainer) {{\n",
       "    x.observe(notebookContainer, {childList: true});\n",
       "}}\n",
       "\n",
       "// Listen for the clearing of the current output cell\n",
       "var outputEl = gd.closest('.output');\n",
       "if (outputEl) {{\n",
       "    x.observe(outputEl, {childList: true});\n",
       "}}\n",
       "\n",
       "                        })                };                });            </script>        </div>"
      ]
     },
     "metadata": {},
     "output_type": "display_data"
    }
   ],
   "source": [
    "fig = px.choropleth(results2020,\n",
    "                    locationmode='USA-states',\n",
    "                    scope='usa',\n",
    "                    locations=results2020.index,\n",
    "                    color='REPUBLICAN',\n",
    "                    color_continuous_scale='RdBu_r',\n",
    "                    range_color = [0,100],\n",
    "                    hover_name='state',\n",
    "                    hover_data = ['REPUBLICAN','DEMOCRAT','OTHER']\n",
    "                    )\n",
    "fig.show()"
   ]
  },
  {
   "cell_type": "markdown",
   "id": "2f66051a-ead0-413a-9e49-d73b8a639758",
   "metadata": {},
   "source": [
    "Data to use:\n",
    "* Tips dataset\n",
    "* Iris dataset\n",
    "* Energy Production Data ([EIA ]())\n",
    "\n",
    "Plots to show:\n",
    "* A couple basic/statistical charts\n",
    "* Financial charts\n",
    "* Maps\n",
    "* 3-dimensional charts"
   ]
  }
 ],
 "metadata": {
  "kernelspec": {
   "display_name": "Python 3 (ipykernel)",
   "language": "python",
   "name": "python3"
  },
  "language_info": {
   "codemirror_mode": {
    "name": "ipython",
    "version": 3
   },
   "file_extension": ".py",
   "mimetype": "text/x-python",
   "name": "python",
   "nbconvert_exporter": "python",
   "pygments_lexer": "ipython3",
   "version": "3.9.14"
  }
 },
 "nbformat": 4,
 "nbformat_minor": 5
}
