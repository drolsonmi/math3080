{
 "cells": [
  {
   "cell_type": "markdown",
   "id": "5edf9881",
   "metadata": {},
   "source": [
    "# 08 Graphs\n",
    "__Math 3080: Fundamentals of Data Science__\n",
    "\n",
    "Reading:\n",
    "* McKinney, Chapter 9 Plotting and Visualization\n",
    "\n",
    "Outline:\n",
    "1. Summary of the different plots we can use\n",
    "2. Overview of MatplotLib\n",
    "3. Overview of Seaborn\n",
    "4. Interactive plots\n",
    "    * Plotly"
   ]
  },
  {
   "cell_type": "markdown",
   "id": "029ca273",
   "metadata": {},
   "source": [
    "-----\n",
    "## Interactive Plots\n",
    "Plotting information onto graphs has always been helpful in passing a lot of information by simple means. After all, a picture is worth a thousand words! The better the picture, the more it says.\n",
    "\n",
    "But what if we can add another dimension to these graphs? What if we can get users to interact with the graphs? For example, users can look at a graph and compare a number of variables to each other, then look closer at one particular variable and get exact numbers and more details about each variable. \n",
    "\n",
    "There are a number of libraries that have included interactions. Plots made with these libraries are called __interactive plots__. These are some of the libraries that include interactive abilities:\n",
    "* Bokeh\n",
    "* Plotly\n",
    "* Altair\n",
    "* mpld3\n",
    "* matplotlib + ipywidgets\n",
    "* Streamlit\n",
    "* pygal\n",
    "* bqplot\n",
    "\n",
    "We will not be going through all of these. Many have done reviews on these libraries (e.g. [Northwester University - Research Computing Services](https://sites.northwestern.edu/researchcomputing/2022/02/03/what-is-the-best-interactive-plotting-package-in-python/)), and they all tend to agree that Bokeh, Plotly, and Altair are the top three libraries. So, we are going to use the Plotly package\n",
    "* [Plotly Website](https://plotly.com/python/)"
   ]
  },
  {
   "cell_type": "code",
   "execution_count": null,
   "id": "67c8fee2",
   "metadata": {},
   "outputs": [],
   "source": []
  },
  {
   "cell_type": "code",
   "execution_count": null,
   "id": "6424e410",
   "metadata": {},
   "outputs": [],
   "source": []
  },
  {
   "cell_type": "code",
   "execution_count": null,
   "id": "daaba087",
   "metadata": {},
   "outputs": [],
   "source": []
  },
  {
   "cell_type": "code",
   "execution_count": null,
   "id": "ac4a2f48",
   "metadata": {},
   "outputs": [],
   "source": []
  },
  {
   "cell_type": "code",
   "execution_count": null,
   "id": "207656d4",
   "metadata": {},
   "outputs": [],
   "source": []
  },
  {
   "cell_type": "code",
   "execution_count": null,
   "id": "c6414c29",
   "metadata": {},
   "outputs": [],
   "source": []
  },
  {
   "cell_type": "code",
   "execution_count": null,
   "id": "e6de33a0",
   "metadata": {},
   "outputs": [],
   "source": []
  },
  {
   "cell_type": "markdown",
   "id": "2f66051a-ead0-413a-9e49-d73b8a639758",
   "metadata": {},
   "source": [
    "Data to use:\n",
    "* Tips dataset\n",
    "* Iris dataset\n",
    "* Energy Production Data ([EIA ]())"
   ]
  }
 ],
 "metadata": {
  "kernelspec": {
   "display_name": "Python 3 (ipykernel)",
   "language": "python",
   "name": "python3"
  },
  "language_info": {
   "codemirror_mode": {
    "name": "ipython",
    "version": 3
   },
   "file_extension": ".py",
   "mimetype": "text/x-python",
   "name": "python",
   "nbconvert_exporter": "python",
   "pygments_lexer": "ipython3",
   "version": "3.9.14"
  }
 },
 "nbformat": 4,
 "nbformat_minor": 5
}
