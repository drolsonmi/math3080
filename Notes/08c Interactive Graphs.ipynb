{
 "cells": [
  {
   "cell_type": "markdown",
   "id": "2f66051a-ead0-413a-9e49-d73b8a639758",
   "metadata": {},
   "source": [
    "Data to use:\n",
    "* Tips dataset\n",
    "* Iris dataset\n",
    "* Energy Production Data ([EIA ]())"
   ]
  }
 ],
 "metadata": {
  "kernelspec": {
   "display_name": "Python 3 (ipykernel)",
   "language": "python",
   "name": "python3"
  },
  "language_info": {
   "codemirror_mode": {
    "name": "ipython",
    "version": 3
   },
   "file_extension": ".py",
   "mimetype": "text/x-python",
   "name": "python",
   "nbconvert_exporter": "python",
   "pygments_lexer": "ipython3",
   "version": "3.9.14"
  }
 },
 "nbformat": 4,
 "nbformat_minor": 5
}
