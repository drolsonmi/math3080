{
 "cells": [
  {
   "cell_type": "markdown",
   "id": "5edf9881",
   "metadata": {},
   "source": [
    "# 08 Graphs\n",
    "__Math 3080: Fundamentals of Data Science__\n",
    "\n",
    "Reading:\n",
    "* McKinney, Chapter 9 Plotting and Visualization\n",
    "\n",
    "Outline:\n",
    "1. Summary of the different plots we can use\n",
    "2. Overview of MatplotLib\n",
    "3. Overview of Seaborn\n",
    "4. Interactive plots\n",
    "    * Plotly"
   ]
  },
  {
   "cell_type": "markdown",
   "id": "029ca273",
   "metadata": {},
   "source": [
    "-----\n",
    "## Interactive Plots\n",
    "Plotting information onto graphs has always been helpful in passing a lot of information by simple means. After all, a picture is worth a thousand words! The better the picture, the more it says.\n",
    "\n",
    "But what if we can add another dimension to these graphs? What if we can get users to interact with the graphs? For example, users can look at a graph and compare a number of variables to each other, then look closer at one particular variable and get exact numbers and more details about each variable. \n",
    "\n",
    "There are a number of libraries that have included interactions. Plots made with these libraries are called __interactive plots__. These are some of the libraries that include interactive abilities:\n",
    "* Bokeh\n",
    "* Plotly\n",
    "* Altair\n",
    "* mpld3\n",
    "* matplotlib + ipywidgets\n",
    "* Streamlit\n",
    "* pygal\n",
    "* bqplot\n",
    "\n",
    "We will not be going through all of these. Many have done reviews on these libraries (e.g. [Northwester University - Research Computing Services](https://sites.northwestern.edu/researchcomputing/2022/02/03/what-is-the-best-interactive-plotting-package-in-python/)), and they all tend to agree that Bokeh, Plotly, and Altair are the top three libraries. So, we are going to use the Plotly package\n",
    "* [Plotly Website](https://plotly.com/python/)"
   ]
  },
  {
   "cell_type": "code",
   "execution_count": null,
   "id": "67c8fee2",
   "metadata": {},
   "outputs": [],
   "source": [
    "import plotly.express as px\n",
    "import seaborn as sns"
   ]
  },
  {
   "cell_type": "code",
   "execution_count": null,
   "id": "6424e410",
   "metadata": {},
   "outputs": [],
   "source": [
    "tips = sns.load_dataset('tips')\n",
    "tips.head()"
   ]
  },
  {
   "cell_type": "code",
   "execution_count": null,
   "id": "ac4a2f48",
   "metadata": {},
   "outputs": [],
   "source": [
    "fig = px.scatter(tips, x='total_bill', y='tip')\n",
    "fig.show()"
   ]
  },
  {
   "cell_type": "code",
   "execution_count": null,
   "id": "207656d4",
   "metadata": {},
   "outputs": [],
   "source": [
    "fig = px.scatter(tips, x='total_bill', y='tip',\n",
    "                 color='smoker', \n",
    "                 size='size',\n",
    "                 symbol='time',\n",
    "                 marginal_x='histogram', marginal_y='rug',\n",
    "                 hover_data=['day','sex'])\n",
    "fig.show()"
   ]
  },
  {
   "cell_type": "code",
   "execution_count": null,
   "id": "c6414c29",
   "metadata": {},
   "outputs": [],
   "source": [
    "fig = px.density_heatmap(tips, x='total_bill', y='tip',\n",
    "                 marginal_x='box', marginal_y='violin',\n",
    "                 hover_data=['day','sex'])\n",
    "fig.show()"
   ]
  },
  {
   "cell_type": "markdown",
   "id": "195a0506",
   "metadata": {},
   "source": [
    "### Time Series (Stocks)"
   ]
  },
  {
   "cell_type": "code",
   "execution_count": null,
   "id": "9dc6e6b8",
   "metadata": {
    "tags": []
   },
   "outputs": [],
   "source": [
    "import requests\n",
    "import pandas as pd\n",
    "\n",
    "url = 'https://www.alphavantage.co/query?function=TIME_SERIES_DAILY_ADJUSTED&symbol=IBM&outputsize=full&apikey=Q7N3TQXDW2FE59QN'\n",
    "r = requests.get(url)\n",
    "data = r.json()\n",
    "\n",
    "print(data)"
   ]
  },
  {
   "cell_type": "code",
   "execution_count": null,
   "id": "178c207d",
   "metadata": {},
   "outputs": [],
   "source": [
    "list(data)"
   ]
  },
  {
   "cell_type": "code",
   "execution_count": null,
   "id": "e6de33a0",
   "metadata": {},
   "outputs": [],
   "source": [
    "stock_data = pd.DataFrame(data['Time Series (Daily)'])\n",
    "stock_data.head()"
   ]
  },
  {
   "cell_type": "code",
   "execution_count": null,
   "id": "4f47a0ff",
   "metadata": {},
   "outputs": [],
   "source": []
  },
  {
   "cell_type": "code",
   "execution_count": null,
   "id": "54a12998",
   "metadata": {},
   "outputs": [],
   "source": [
    "px.line(stock_data.loc['4. close'])"
   ]
  },
  {
   "cell_type": "code",
   "execution_count": null,
   "id": "c5a1e427",
   "metadata": {},
   "outputs": [],
   "source": [
    "stock = pd.DataFrame(stock_data.loc['4. close'])\n",
    "stock.columns = ['IBM']\n",
    "stock"
   ]
  },
  {
   "cell_type": "code",
   "execution_count": null,
   "id": "34b7913b",
   "metadata": {},
   "outputs": [],
   "source": [
    "px.line(stock, x=stock.index, y='IBM')"
   ]
  },
  {
   "cell_type": "code",
   "execution_count": null,
   "id": "9f96ab45",
   "metadata": {},
   "outputs": [],
   "source": [
    "sns.lineplot(data=stock, x='IBM', y=stock.index)"
   ]
  },
  {
   "cell_type": "code",
   "execution_count": null,
   "id": "407fc0fb",
   "metadata": {},
   "outputs": [],
   "source": [
    "stock_codes = ['F','TSLA','AMZN','DIS']\n",
    "\n",
    "for code in stock_codes:\n",
    "    url = \"https://www.alphavantage.co/query?function=TIME_SERIES_DAILY_ADJUSTED&symbol={0}&outputsize=full&apikey=Q7N3TQXDW2FE59QN\".format(code)\n",
    "    r = requests.get(url)\n",
    "    data = r.json()\n",
    "    stock2 = pd.DataFrame(pd.DataFrame(data['Time Series (Daily)']).loc['4. close'])\n",
    "    stock2.columns = [code]\n",
    "    stock = stock.join(stock2, how='left')\n",
    "\n",
    "stock"
   ]
  },
  {
   "cell_type": "code",
   "execution_count": null,
   "id": "2d1e074b",
   "metadata": {},
   "outputs": [],
   "source": [
    "# Now, plot the time series"
   ]
  },
  {
   "cell_type": "markdown",
   "id": "c5ad50fb-1839-48cc-94d4-efbfb718e414",
   "metadata": {},
   "source": [
    "### Image Progression\n",
    "* (https://plotly.com/python/imshow/)\n",
    "\n",
    "### Geographical"
   ]
  },
  {
   "cell_type": "code",
   "execution_count": null,
   "id": "9af90004",
   "metadata": {},
   "outputs": [],
   "source": [
    "import numpy as np\n",
    "import pandas as pd\n",
    "\n",
    "# Load Data\n",
    "votes = pd.read_csv('../Datasets/1976-2020-senate.csv', encoding=\"ISO-8859-1\")\n",
    "votes"
   ]
  },
  {
   "cell_type": "code",
   "execution_count": null,
   "id": "20d987db",
   "metadata": {},
   "outputs": [],
   "source": [
    "# Create a \"Percent Votes\" column\n",
    "votes['percentvotes'] = np.round(votes['candidatevotes'] * 100 / votes['totalvotes'], 1)\n",
    "#print(votes.head())\n",
    "\n",
    "# Pivot table to get the percent votes by party in the 2020 election\n",
    "results2020 = pd.pivot_table(votes[votes['year'] == 2020],\n",
    "                             index='state_po',\n",
    "                             columns='party_detailed',\n",
    "                             values='percentvotes')\n",
    "results2020['OTHER'] = np.round(100 - results2020['REPUBLICAN'] - results2020['DEMOCRAT'],1)\n",
    "results2020"
   ]
  },
  {
   "cell_type": "code",
   "execution_count": null,
   "id": "464b7b07",
   "metadata": {},
   "outputs": [],
   "source": [
    "# Add state names to pivot table for labels\n",
    "states = votes[['state','state_po']].drop_duplicates()\n",
    "states.set_index('state_po', inplace=True)\n",
    "states\n",
    "results2020 = results2020.join(states)\n",
    "\n",
    "# Replace NaN values with 0\n",
    "results2020.replace(np.nan, 0, inplace=True)"
   ]
  },
  {
   "cell_type": "code",
   "execution_count": null,
   "id": "e0f949c9",
   "metadata": {},
   "outputs": [],
   "source": [
    "fig = px.choropleth(results2020,\n",
    "                    locationmode='USA-states',\n",
    "                    scope='usa',\n",
    "                    locations=results2020.index,\n",
    "                    color='REPUBLICAN',\n",
    "                    color_continuous_scale='RdBu_r',\n",
    "                    range_color = [0,100],\n",
    "                    hover_name='state',\n",
    "                    hover_data = ['REPUBLICAN','DEMOCRAT','OTHER']\n",
    "                    )\n",
    "fig.show()"
   ]
  },
  {
   "cell_type": "markdown",
   "id": "2f66051a-ead0-413a-9e49-d73b8a639758",
   "metadata": {},
   "source": [
    "Data to use:\n",
    "* Tips dataset\n",
    "* Iris dataset\n",
    "* Energy Production Data ([EIA ]())\n",
    "\n",
    "Plots to show:\n",
    "* A couple basic/statistical charts\n",
    "* Financial charts\n",
    "* Maps\n",
    "* 3-dimensional charts"
   ]
  }
 ],
 "metadata": {
  "kernelspec": {
   "display_name": "Python 3 (ipykernel)",
   "language": "python",
   "name": "python3"
  },
  "language_info": {
   "codemirror_mode": {
    "name": "ipython",
    "version": 3
   },
   "file_extension": ".py",
   "mimetype": "text/x-python",
   "name": "python",
   "nbconvert_exporter": "python",
   "pygments_lexer": "ipython3",
   "version": "3.9.16"
  }
 },
 "nbformat": 4,
 "nbformat_minor": 5
}
