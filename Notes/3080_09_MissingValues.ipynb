{
 "cells": [
  {
   "cell_type": "markdown",
   "metadata": {},
   "source": [
    "# Lecture 9 Cleaning Data - Part 1 - Missing Values\n",
    "__Math 3080: Fundamentals of Data Science__\n",
    "\n",
    "Reading:\n",
    "* [McKinney, *Python for Data Science*, Chapter 6](https://wesmckinney.com/book/accessing-data)\n",
    "* Chapter 7\n",
    "\n",
    "Class notes are found through GitHub. As changes are made, they will automatically be uploaded to GitHub. A link to the repository is on Canvas.\n",
    "\n",
    "-----\n",
    "## Outline\n",
    "* Missing data\n",
    "  * Locating/Identifying missing data\n",
    "  * Ways to handle missing data\n",
    "\n",
    "-----"
   ]
  },
  {
   "cell_type": "markdown",
   "metadata": {},
   "source": [
    "In order to have data ready for analysis or for modeling, the data needs to be prepared. We call this __preprocessing__.\n",
    "1. Cleaning the Data\n",
    "    * Handling missing data\n",
    "    * Cleaning Labels\n",
    "    * Formats\n",
    "      * str to int/float\n",
    "      * DateTime\n",
    "2. Data Wrangling\n",
    "    * Encoding categorical data\n",
    "    * Rearranging data\n",
    "    * Combining datasets"
   ]
  },
  {
   "cell_type": "markdown",
   "metadata": {},
   "source": [
    "-----\n",
    "## Missing Data"
   ]
  },
  {
   "cell_type": "markdown",
   "metadata": {},
   "source": [
    "There are many ways to identify missing data:\n",
    "* Common in coding: `NaN` (Not a number)\n",
    "* Blank spaces (auto fill in with NaN)\n",
    "* Large, unreasonable values\n",
    "* Characters/strings, such as `-` or `missing`\n",
    "\n",
    "We can deal with missing values in two ways:\n",
    "1. Dropping them\n",
    "2. Filling them in with a reasonable value"
   ]
  },
  {
   "cell_type": "code",
   "execution_count": null,
   "metadata": {},
   "outputs": [],
   "source": [
    "import numpy as np\n",
    "import pandas as pd\n",
    "\n",
    "info = {\n",
    "    'day': ['Monday','Tuesday','Wednesday','Thursday','Friday','Saturday','Sunday'],\n",
    "    'Number of Customers': [62,54,71,9999,65,9999,52],\n",
    "    'Revenue': [321.45, 295.74, 441.24, 9999, 512.64, 652.31, 512.04],\n",
    "    'Shoplifters': [9999, 9999, 2, 9999, 9999, 5, 1],\n",
    "    'Expenses': [51.40, 53.75, 9999, 59.63, 61.42, 64.25, 75.12]\n",
    "}\n",
    "\n",
    "dataset = pd.DataFrame(info)\n",
    "display(dataset)"
   ]
  },
  {
   "cell_type": "markdown",
   "metadata": {},
   "source": [
    "While programing, it will be most helpful to deal with `NaN` entries so they don't mess up our calculations."
   ]
  },
  {
   "cell_type": "code",
   "execution_count": null,
   "metadata": {},
   "outputs": [],
   "source": [
    "dataset.replace(9999, np.nan, inplace=True)\n",
    "dataset"
   ]
  },
  {
   "cell_type": "markdown",
   "metadata": {},
   "source": [
    "### Dropping missing values\n",
    "When to drop a variable\n",
    "* When so much data is missing, the observation/variable doesn't provide any significant information\n",
    "    * If number of missing values reaches ____% of the total number of values, we can simply drop that data as it wouldn't give us enough information anyway.\n",
    "* Duplicated entries\n",
    "\n",
    "  * Remove rows with too many missing values\n",
    "  * Remove any row with a missing value in a column\n",
    "  * Remove columns with too many missing values"
   ]
  },
  {
   "cell_type": "code",
   "execution_count": null,
   "metadata": {},
   "outputs": [],
   "source": [
    "display(dataset)\n",
    "\n",
    "# Drop a column with too many missing values\n",
    "display(dataset.drop('Shoplifters', axis=1, inplace=False))\n",
    "\n",
    "# Drop a row with too many missing values\n",
    "display(dataset.drop(3, axis=0, inplace=False))"
   ]
  },
  {
   "cell_type": "code",
   "execution_count": null,
   "metadata": {},
   "outputs": [],
   "source": [
    "# Filtering\n",
    "print(f\"There are {dataset['Number of Customers'].isna().sum()} missing values.\")\n",
    "\n",
    "dataset[ dataset['Number of Customers'].notna() ]"
   ]
  },
  {
   "cell_type": "code",
   "execution_count": null,
   "metadata": {},
   "outputs": [],
   "source": [
    "# Using the .dropna() method\n",
    "display(dataset.dropna())\n",
    "\n",
    "# .dropna() - \"how\" argument  -  default: how='any'\n",
    "display(dataset.dropna(how='all', axis=0, inplace=False))\n",
    "\n",
    "# .dropna() if missing in a particular column\n",
    "display(dataset.dropna(subset='Number of Customers', inplace=False))\n",
    "display(dataset.dropna(subset=['Number of Customers','Expenses'], inplace=False))"
   ]
  },
  {
   "cell_type": "code",
   "execution_count": null,
   "metadata": {},
   "outputs": [],
   "source": [
    "dataset.dropna(subset=['Number of Customers','Expenses'], inplace=True)\n",
    "dataset.dropna(axis=1, how=\"any\", inplace=True)\n",
    "display(dataset)"
   ]
  },
  {
   "cell_type": "code",
   "execution_count": null,
   "metadata": {},
   "outputs": [],
   "source": [
    "# drop columns where more than 10% of values are missing\n",
    "limit_cols = 0.1*len(dataset)\n",
    "\n",
    "for col in dataset.columns:\n",
    "    if dataset[col].isna().sum() > limit_cols:\n",
    "        dataset.drop(col, inplace=True)\n",
    "\n",
    "# drop rows where more than 10% of values are missing\n",
    "limit_rows = 0.1*len(dataset.iloc[0])\n",
    "\n",
    "dataset = dataset[dataset.isna().sum(axis=1) < limit_rows]"
   ]
  },
  {
   "cell_type": "markdown",
   "metadata": {},
   "source": [
    "### Duplicate Values"
   ]
  },
  {
   "cell_type": "code",
   "execution_count": null,
   "metadata": {},
   "outputs": [],
   "source": []
  },
  {
   "cell_type": "markdown",
   "metadata": {},
   "source": [
    "### Filling missing values\n",
    "Sometimes it makes more sense to fill in a missing value with another value. There are a few ways we can fill in missing values:\n",
    "* Constant\n",
    "* Calculation (mean/median/min/max)\n",
    "* Forward fill / Backward fill\n",
    "\n",
    "Filling in with a constant or a calculation is good if values are random. The mean is frequently used as then it doesn't affect calculations too much. Forward or Backward fill is used when we can see an order to the data.\n",
    "\n",
    "We can fill in values using the `.fillna()` and `.interpolate()` methods"
   ]
  },
  {
   "cell_type": "code",
   "execution_count": null,
   "metadata": {},
   "outputs": [],
   "source": [
    "dataset = pd.DataFrame(info)\n",
    "dataset.replace(9999, np.nan, inplace=True)\n",
    "dataset"
   ]
  },
  {
   "cell_type": "code",
   "execution_count": null,
   "metadata": {},
   "outputs": [],
   "source": [
    "dataset.fillna(0.5, inplace=False)"
   ]
  },
  {
   "cell_type": "code",
   "execution_count": null,
   "metadata": {},
   "outputs": [],
   "source": [
    "dataset['Number of Customers'].fillna(dataset['Number of Customers'].mean())"
   ]
  },
  {
   "cell_type": "code",
   "execution_count": null,
   "metadata": {},
   "outputs": [],
   "source": [
    "dataset['Expenses'].fillna(dataset['Expenses'].mean())"
   ]
  },
  {
   "cell_type": "code",
   "execution_count": null,
   "metadata": {},
   "outputs": [],
   "source": [
    "dataset['Expenses'].fillna(method='ffill')"
   ]
  },
  {
   "cell_type": "code",
   "execution_count": null,
   "metadata": {},
   "outputs": [],
   "source": [
    "dataset['Shoplifters'].fillna(method='bfill', limit=1, inplace=False)"
   ]
  },
  {
   "cell_type": "code",
   "execution_count": null,
   "metadata": {},
   "outputs": [],
   "source": [
    "print(dataset['Expenses'])\n",
    "print(dataset['Expenses'].interpolate())"
   ]
  },
  {
   "cell_type": "markdown",
   "metadata": {},
   "source": [
    "### Locating and Handling missing data"
   ]
  },
  {
   "cell_type": "markdown",
   "metadata": {},
   "source": [
    "Look for numbers of missing values in rows and columns\n",
    "\n",
    "* If there isn't too much missing data, we can determine what to do based on the variable that is missing\n",
    "  * Fill all missing values with a value (0, 0.5, average)\n",
    "    * `df.fillna(0.5)`\n",
    "    * `df.fillna({'Col1':val1, 'Col2':val2})`\n",
    "  * Fill all missing values with the following value\n",
    "    * `df.fillna(method=\"ffill\")`\n",
    "  * Fill all missing values based on the data in that variable\n",
    "    * `df.fillna(df.mean())`\n",
    "    * `df.fillna(df.median())`\n",
    "    * `df.fillna(df.min())`\n",
    "    * `df.fillna(df.max())`"
   ]
  },
  {
   "cell_type": "code",
   "execution_count": null,
   "metadata": {},
   "outputs": [],
   "source": []
  },
  {
   "cell_type": "markdown",
   "metadata": {},
   "source": []
  },
  {
   "cell_type": "markdown",
   "metadata": {},
   "source": []
  }
 ],
 "metadata": {
  "kernelspec": {
   "display_name": "Python 3 (ipykernel)",
   "language": "python",
   "name": "python3"
  },
  "language_info": {
   "codemirror_mode": {
    "name": "ipython",
    "version": 3
   },
   "file_extension": ".py",
   "mimetype": "text/x-python",
   "name": "python",
   "nbconvert_exporter": "python",
   "pygments_lexer": "ipython3",
   "version": "3.9.16"
  }
 },
 "nbformat": 4,
 "nbformat_minor": 4
}
