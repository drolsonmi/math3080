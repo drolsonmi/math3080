{
 "cells": [
  {
   "cell_type": "markdown",
   "metadata": {},
   "source": [
    "# Lecture 9 Cleaning Data\n",
    "__Math 3080: Fundamentals of Data Science__\n",
    "\n",
    "Reading:\n",
    "* [McKinney, *Python for Data Science*, Chapter 6](https://wesmckinney.com/book/accessing-data)\n",
    "* Chapter 7\n",
    "\n",
    "Class notes are found through GitHub. As changes are made, they will automatically be uploaded to GitHub. A link to the repository is on Canvas.\n",
    "\n",
    "-----\n",
    "## Outline\n",
    "* Missing data\n",
    "  * Locating/Identifying missing data\n",
    "  * Ways to handle missing data\n",
    "* Formats\n",
    "  * Changing str to int\n",
    "  * DateTime"
   ]
  },
  {
   "cell_type": "markdown",
   "metadata": {},
   "source": []
  },
  {
   "cell_type": "markdown",
   "metadata": {},
   "source": [
    "In order to have data ready for analysis or for modeling, the data needs to be prepared. We call this __preprocessing__.\n",
    "1. Cleaning the Data\n",
    "    * Handling missing data\n",
    "    * Formats\n",
    "      * str to int/float\n",
    "      * DateTime\n",
    "2. Data Wrangling\n",
    "    * Encoding categorical data\n",
    "    * Rearranging data\n",
    "    * Combining datasets"
   ]
  },
  {
   "cell_type": "markdown",
   "metadata": {},
   "source": [
    "-----\n",
    "## Missing Data"
   ]
  },
  {
   "cell_type": "markdown",
   "metadata": {},
   "source": [
    "There are many ways to identify missing data:\n",
    "* Common in coding: `NaN` (Not a number)\n",
    "* Blank spaces (auto fill in with NaN)\n",
    "* Large, unreasonable values"
   ]
  },
  {
   "cell_type": "code",
   "execution_count": 1,
   "metadata": {},
   "outputs": [
    {
     "data": {
      "text/html": [
       "<div>\n",
       "<style scoped>\n",
       "    .dataframe tbody tr th:only-of-type {\n",
       "        vertical-align: middle;\n",
       "    }\n",
       "\n",
       "    .dataframe tbody tr th {\n",
       "        vertical-align: top;\n",
       "    }\n",
       "\n",
       "    .dataframe thead th {\n",
       "        text-align: right;\n",
       "    }\n",
       "</style>\n",
       "<table border=\"1\" class=\"dataframe\">\n",
       "  <thead>\n",
       "    <tr style=\"text-align: right;\">\n",
       "      <th></th>\n",
       "      <th>day</th>\n",
       "      <th>Number of Customers</th>\n",
       "      <th>Revenue</th>\n",
       "      <th>Shoplifters</th>\n",
       "      <th>Expenses</th>\n",
       "    </tr>\n",
       "  </thead>\n",
       "  <tbody>\n",
       "    <tr>\n",
       "      <th>0</th>\n",
       "      <td>Monday</td>\n",
       "      <td>62</td>\n",
       "      <td>321.45</td>\n",
       "      <td>9999</td>\n",
       "      <td>51.40</td>\n",
       "    </tr>\n",
       "    <tr>\n",
       "      <th>1</th>\n",
       "      <td>Tuesday</td>\n",
       "      <td>54</td>\n",
       "      <td>295.74</td>\n",
       "      <td>9999</td>\n",
       "      <td>53.75</td>\n",
       "    </tr>\n",
       "    <tr>\n",
       "      <th>2</th>\n",
       "      <td>Wednesday</td>\n",
       "      <td>71</td>\n",
       "      <td>441.24</td>\n",
       "      <td>2</td>\n",
       "      <td>9999.00</td>\n",
       "    </tr>\n",
       "    <tr>\n",
       "      <th>3</th>\n",
       "      <td>Thursday</td>\n",
       "      <td>9999</td>\n",
       "      <td>9999.00</td>\n",
       "      <td>9999</td>\n",
       "      <td>59.63</td>\n",
       "    </tr>\n",
       "    <tr>\n",
       "      <th>4</th>\n",
       "      <td>Friday</td>\n",
       "      <td>65</td>\n",
       "      <td>512.64</td>\n",
       "      <td>9999</td>\n",
       "      <td>61.42</td>\n",
       "    </tr>\n",
       "    <tr>\n",
       "      <th>5</th>\n",
       "      <td>Saturday</td>\n",
       "      <td>9999</td>\n",
       "      <td>652.31</td>\n",
       "      <td>5</td>\n",
       "      <td>64.25</td>\n",
       "    </tr>\n",
       "    <tr>\n",
       "      <th>6</th>\n",
       "      <td>Sunday</td>\n",
       "      <td>52</td>\n",
       "      <td>512.04</td>\n",
       "      <td>1</td>\n",
       "      <td>65.12</td>\n",
       "    </tr>\n",
       "  </tbody>\n",
       "</table>\n",
       "</div>"
      ],
      "text/plain": [
       "         day  Number of Customers  Revenue  Shoplifters  Expenses\n",
       "0     Monday                   62   321.45         9999     51.40\n",
       "1    Tuesday                   54   295.74         9999     53.75\n",
       "2  Wednesday                   71   441.24            2   9999.00\n",
       "3   Thursday                 9999  9999.00         9999     59.63\n",
       "4     Friday                   65   512.64         9999     61.42\n",
       "5   Saturday                 9999   652.31            5     64.25\n",
       "6     Sunday                   52   512.04            1     65.12"
      ]
     },
     "metadata": {},
     "output_type": "display_data"
    }
   ],
   "source": [
    "import numpy as np\n",
    "import pandas as pd\n",
    "\n",
    "dataset = pd.DataFrame({\n",
    "    'day': ['Monday','Tuesday','Wednesday','Thursday','Friday','Saturday','Sunday'],\n",
    "    'Number of Customers': [62,54,71,9999,65,9999,52],\n",
    "    'Revenue': [321.45, 295.74, 441.24, 9999, 512.64, 652.31, 512.04],\n",
    "    'Shoplifters': [9999, 9999, 2, 9999, 9999, 5, 1],\n",
    "    'Expenses': [51.40, 53.75, 9999, 59.63, 61.42, 64.25, 65.12]\n",
    "})\n",
    "display(dataset)"
   ]
  },
  {
   "cell_type": "markdown",
   "metadata": {},
   "source": [
    "While programing, it will be most helpful to deal with `NaN` entries so they don't mess up our calculations."
   ]
  },
  {
   "cell_type": "code",
   "execution_count": 4,
   "metadata": {},
   "outputs": [
    {
     "data": {
      "text/html": [
       "<div>\n",
       "<style scoped>\n",
       "    .dataframe tbody tr th:only-of-type {\n",
       "        vertical-align: middle;\n",
       "    }\n",
       "\n",
       "    .dataframe tbody tr th {\n",
       "        vertical-align: top;\n",
       "    }\n",
       "\n",
       "    .dataframe thead th {\n",
       "        text-align: right;\n",
       "    }\n",
       "</style>\n",
       "<table border=\"1\" class=\"dataframe\">\n",
       "  <thead>\n",
       "    <tr style=\"text-align: right;\">\n",
       "      <th></th>\n",
       "      <th>day</th>\n",
       "      <th>Number of Customers</th>\n",
       "      <th>Revenue</th>\n",
       "      <th>Shoplifters</th>\n",
       "      <th>Expenses</th>\n",
       "    </tr>\n",
       "  </thead>\n",
       "  <tbody>\n",
       "    <tr>\n",
       "      <th>0</th>\n",
       "      <td>Monday</td>\n",
       "      <td>62.0</td>\n",
       "      <td>321.45</td>\n",
       "      <td>NaN</td>\n",
       "      <td>51.40</td>\n",
       "    </tr>\n",
       "    <tr>\n",
       "      <th>1</th>\n",
       "      <td>Tuesday</td>\n",
       "      <td>54.0</td>\n",
       "      <td>295.74</td>\n",
       "      <td>NaN</td>\n",
       "      <td>53.75</td>\n",
       "    </tr>\n",
       "    <tr>\n",
       "      <th>2</th>\n",
       "      <td>Wednesday</td>\n",
       "      <td>71.0</td>\n",
       "      <td>441.24</td>\n",
       "      <td>2.0</td>\n",
       "      <td>NaN</td>\n",
       "    </tr>\n",
       "    <tr>\n",
       "      <th>3</th>\n",
       "      <td>Thursday</td>\n",
       "      <td>NaN</td>\n",
       "      <td>NaN</td>\n",
       "      <td>NaN</td>\n",
       "      <td>59.63</td>\n",
       "    </tr>\n",
       "    <tr>\n",
       "      <th>4</th>\n",
       "      <td>Friday</td>\n",
       "      <td>65.0</td>\n",
       "      <td>512.64</td>\n",
       "      <td>NaN</td>\n",
       "      <td>61.42</td>\n",
       "    </tr>\n",
       "    <tr>\n",
       "      <th>5</th>\n",
       "      <td>Saturday</td>\n",
       "      <td>NaN</td>\n",
       "      <td>652.31</td>\n",
       "      <td>5.0</td>\n",
       "      <td>64.25</td>\n",
       "    </tr>\n",
       "    <tr>\n",
       "      <th>6</th>\n",
       "      <td>Sunday</td>\n",
       "      <td>52.0</td>\n",
       "      <td>512.04</td>\n",
       "      <td>1.0</td>\n",
       "      <td>65.12</td>\n",
       "    </tr>\n",
       "  </tbody>\n",
       "</table>\n",
       "</div>"
      ],
      "text/plain": [
       "         day  Number of Customers  Revenue  Shoplifters  Expenses\n",
       "0     Monday                 62.0   321.45          NaN     51.40\n",
       "1    Tuesday                 54.0   295.74          NaN     53.75\n",
       "2  Wednesday                 71.0   441.24          2.0       NaN\n",
       "3   Thursday                  NaN      NaN          NaN     59.63\n",
       "4     Friday                 65.0   512.64          NaN     61.42\n",
       "5   Saturday                  NaN   652.31          5.0     64.25\n",
       "6     Sunday                 52.0   512.04          1.0     65.12"
      ]
     },
     "execution_count": 4,
     "metadata": {},
     "output_type": "execute_result"
    }
   ],
   "source": [
    "dataset.replace(9999, np.nan, inplace=True)\n",
    "dataset"
   ]
  },
  {
   "cell_type": "markdown",
   "metadata": {},
   "source": []
  },
  {
   "cell_type": "code",
   "execution_count": null,
   "metadata": {},
   "outputs": [],
   "source": []
  },
  {
   "cell_type": "markdown",
   "metadata": {},
   "source": [
    "### Locating and Handling missing data"
   ]
  },
  {
   "cell_type": "markdown",
   "metadata": {},
   "source": [
    "Look for numbers of missing values in rows and columns\n",
    "* If number of missing values reaches ____% of the total number of values, we can simply drop that data as it wouldn't give us enough information anyway.\n",
    "  * Remove rows with too many missing values\n",
    "  * Remove any row with a missing value in a column\n",
    "  * Remove columns with too many missing values\n",
    "* If there isn't too much missing data, we can determine what to do based on the variable that is missing\n",
    "  * Fill all missing values with a value (0, 0.5, average)\n",
    "    * `df.fillna(0.5)`\n",
    "    * `df.fillna({'Col1':val1, 'Col2':val2})`\n",
    "  * Fill all missing values with the following value\n",
    "    * `df.fillna(method=\"ffill\")`\n",
    "  * Fill all missing values based on the data in that variable\n",
    "    * `df.fillna(df.mean())`\n",
    "    * `df.fillna(df.median())`\n",
    "    * `df.fillna(df.min())`\n",
    "    * `df.fillna(df.max())`"
   ]
  },
  {
   "cell_type": "code",
   "execution_count": null,
   "metadata": {},
   "outputs": [],
   "source": [
    "# drop columns where more than 10% of values are missing\n",
    "limit_cols = 0.1*len(df)\n",
    "\n",
    "for col in df.columns:\n",
    "    if df[col].isna().sum() > limit_cols:\n",
    "        df.drop(col, inplace=True)\n",
    "\n",
    "# drop rows where more than 10% of values are missing\n",
    "limit_rows = 0.1*len(df.iloc[0])\n",
    "\n",
    "df = df[df.isna().sum(axis=1) < limit_rows]"
   ]
  },
  {
   "cell_type": "markdown",
   "metadata": {},
   "source": []
  },
  {
   "cell_type": "markdown",
   "metadata": {},
   "source": []
  }
 ],
 "metadata": {
  "kernelspec": {
   "display_name": "DataScience",
   "language": "python",
   "name": "python3"
  },
  "language_info": {
   "codemirror_mode": {
    "name": "ipython",
    "version": 3
   },
   "file_extension": ".py",
   "mimetype": "text/x-python",
   "name": "python",
   "nbconvert_exporter": "python",
   "pygments_lexer": "ipython3",
   "version": "3.9.17"
  }
 },
 "nbformat": 4,
 "nbformat_minor": 4
}
