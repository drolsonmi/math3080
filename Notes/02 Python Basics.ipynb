{
 "cells": [
  {
   "cell_type": "markdown",
   "id": "02dae5e2",
   "metadata": {},
   "source": [
    "# 02 What is Data Science?\n",
    "__Math 3080: Fundamentals of Data Science__\n",
    "\n",
    "Reading:\n",
    "* Grus, *Data Science from Scratch*, Chapter 2\n",
    "* McKinney, *Python for Data Science*, Chapters 2-4"
   ]
  },
  {
   "cell_type": "markdown",
   "id": "619b2dc2",
   "metadata": {
    "tags": []
   },
   "source": [
    "## Installing Python\n",
    "Note: Since MacOS is unix-based, python is automatically installed on your machine. Open a terminal and run `python`.\n",
    "\n",
    "Options for Windows:\n",
    "1. Anaconda or Miniconda\n",
    "2. Install Python directly\n",
    "3. Install WSL on Python\n",
    "4. Google CoLab\n",
    "\n",
    "In addition to having Python on your computer, you will need a programming environment, or an Integrated Development Environment (IDE).\n",
    "* Jupyter\n",
    "  * Simple environment which separates Python into blocks of code - only need to run one block at a time instead of the entire program\n",
    "  * Comes pre-installed in Anaconda\n",
    "  * Google CoLab uses an environment very similar to Jupyter\n",
    "* Microsoft VisualStudio Code\n",
    "  * Once you have a kernel set up, VSCode can recognize it\n",
    "  * Reads Jupyter .ipynb files"
   ]
  },
  {
   "cell_type": "markdown",
   "id": "e0226866",
   "metadata": {},
   "source": [
    "### Python from the Command Line\n",
    "From the command line, run `python`.\n",
    "```python\n",
    "1+4\n",
    "print('Hello World!')\n",
    "print('I am',30 + 5,'years old!')\n",
    "```\n",
    "\n",
    "To exit, type `exit()`"
   ]
  },
  {
   "cell_type": "markdown",
   "id": "3b6d0e41",
   "metadata": {},
   "source": [
    "### Python from the file\n",
    "Alternatively, save code in a file. For example, save the following in the file *Hello.py*:\n",
    "```python\n",
    "print('Hello World! My name is Michael.')\n",
    "```\n",
    "\n",
    "Then from the command line, type `python Hello.py`."
   ]
  },
  {
   "cell_type": "markdown",
   "id": "724c79b2",
   "metadata": {},
   "source": [
    "### IPython\n",
    "An alternative to python is IPython. Advantages:\n",
    "\n",
    "#### Tab-Completion\n",
    "Press `Tab` to complete a command, filename, variable, etc.\n",
    "\n",
    "#### Magic Functions\n",
    "Certain command-line functions can be completed within python. Preface with `%`. For example, within iPython, type\n",
    "```python\n",
    "%pwd\n",
    "%mkdir tmp\n",
    "%cd tmp\n",
    "```\n",
    "\n",
    "They also make coding easier. For example, if you want to copy-paste a block of code, try:\n",
    "```python\n",
    "%paste\n",
    "%cpaste\n",
    "```\n",
    "\n",
    "#### Introspection\n",
    "If you want to know more about a function, type a `?` after the command:\n",
    "```python\n",
    "print?\n",
    "```\n",
    "This also works for variables and other objects within python. Any information available within your python installation will be displayed.\n",
    "\n",
    "If you use `??`, source-code will also be displayed."
   ]
  },
  {
   "cell_type": "markdown",
   "id": "582de422",
   "metadata": {
    "tags": []
   },
   "source": [
    "## Jupyter Notebook / Lab\n",
    "Jupyter Notebook runs just like IPython. They were originally one and the same. In Jupyter Notebook, your code is separated in cells. This is a happy balance between command-line and file-stored programs. You have other advantages:\n",
    "\n",
    "### HTML based\n",
    "Output is HTML based, so is much cleaner than a text-based command-line output.\n",
    "\n",
    "### Inline images\n",
    "When we talk about images, you will be able to see your images within Notebook. You would not be able to see these images in the command-line.\n",
    "\n",
    "### More on Introspection\n",
    "Just like IPython, you can use the introspection commands (`?` and `??`) to learn more of a function. But if you are wanting that information without leaving your work, you can type `Shift-Tab`. This will produce a pop-up window with the same information as `?`. This allows quick reference while typing your program.\n",
    "\n",
    "### Markdown\n",
    "Some cells can be turned into __Markdown__ cells. This is simplified HTML coding, providing an easy way to annotate your work.\n",
    "\n",
    "### Lab\n",
    "Jupyter Lab is based on Notebook, but provides a setup with the following in one window:\n",
    "* File Directory\n",
    "* Tabs for all open files\n",
    "  * Tabs can be tiled\n",
    "* Console (Like command-line input, but with HTML output)\n",
    "* Terminal (for file browsing purposes, or for executing file-stored python programs...)\n",
    "* Markdown files"
   ]
  },
  {
   "cell_type": "markdown",
   "id": "df6b8f88",
   "metadata": {},
   "source": [
    "## Interrupting\n",
    "If you have a run-away code (e.g. infinite loop), you can \n",
    "1. use `Ctrl-c` to interrupt the command (command-line, IPython, or Jupyter)\n",
    "2. go to the \"Kernel\" menu and select \"Interrupt\""
   ]
  },
  {
   "cell_type": "markdown",
   "id": "25d4e223",
   "metadata": {},
   "source": [
    "## Closing Jupyter Notebook or Jupyter Lab\n",
    "When you started Notebook/Lab, you saw that a terminal window opened. To close Notebook or Lab,\n",
    "1. Shutdown all running Kernels\n",
    "2. Quit from Notebook/Lab in the File Menu\n",
    "3. Press `Ctrl-C` twice in the terminal window\n",
    "\n",
    "You could just do step (3), but could cause problems with the hardware of the computer, leaving stacks of information in memory and processes in the processor. It is best to properly close every time."
   ]
  }
 ],
 "metadata": {
  "kernelspec": {
   "display_name": "Python 3 (ipykernel)",
   "language": "python",
   "name": "python3"
  },
  "language_info": {
   "codemirror_mode": {
    "name": "ipython",
    "version": 3
   },
   "file_extension": ".py",
   "mimetype": "text/x-python",
   "name": "python",
   "nbconvert_exporter": "python",
   "pygments_lexer": "ipython3",
   "version": "3.10.9"
  }
 },
 "nbformat": 4,
 "nbformat_minor": 5
}
