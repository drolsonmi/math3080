{
 "cells": [
  {
   "cell_type": "markdown",
   "metadata": {},
   "source": [
    "# Lecture 25 Introduction to Machine Learning\n",
    "__Math 3080: Fundamentals of Data Science__\n",
    "\n",
    "Reading:\n",
    "* a\n",
    "\n",
    "Machine Learning Process\n",
    "1. Obtain and Clean Data\n",
    "2. Wrangle data\n",
    "3. Exploratory Data Analysis\n",
    "4. __Model__\n",
    "5. __Evaluate__"
   ]
  },
  {
   "cell_type": "markdown",
   "metadata": {},
   "source": [
    "The goal of machine learning is to create a model, or calculation, that mimics the data. Then, we use the model/calculation to make predictions for new data. This will,\n",
    "* Give insight into how the data works\n",
    "* Give values that we can use in real life\n",
    "\n",
    "Many see ML as \"Magic\". Though it is incredible what ML can do, there is no magic. There are a lot of algorithms and calculations involved, and they all have logic and sound mathematics behind them.\n",
    "\n",
    "As such, for the remainder of these courses (MATH 3080, 3280, and 3480), we will be looking at a lot of mathematics. We will look at the math behind the many models.\n",
    "\n",
    "Things that we will want:\n",
    "* Optimization from Calculus (to optimize our models)\n",
    "* Statistical calculations (e.g. Normal Distributions, Uncertainty)\n",
    "* Linear Algebra (simplifies most calculations and makes all possible)\n",
    "  * Required for MATH 3280\n"
   ]
  },
  {
   "cell_type": "markdown",
   "metadata": {},
   "source": [
    "## The Machine Learning Landscape\n",
    "There are many types of models. Each type of model depends a lot on what the data looks like. We'll break down the different model types in three ways:\n",
    "* Supervised/Unsupervised models\n",
    "* Online/Batch learning\n",
    "* Instance-based or model-based learning\n",
    "\n",
    "A picture of the models we will look at throughout the rest of these courses, broken down by supervised/unsupervised models:\n",
    "* [Machine Learning Landscape](https://raw.githubusercontent.com/drolsonmi/math3480/main/Notes/Images/3480_05_ML_Landscape.png)\n",
    "\n",
    "In statistics courses, we have learned about the regression models. For the remainder of this semester, we are going to look deeper into regression models, including the mathematics behind them. We'll create subroutines that will calculate them for us.\n",
    "\n",
    "### Artificial Intelligence\n",
    "Where does AI fit into the picture? The idea of AI is that machines start doing some of the things that biological creatures do: \n",
    "* ask questions \n",
    "* reason\n",
    "* learn and improve\n",
    "\n",
    "There is fear that, eventually, the computers will take over the jobs of humans. In some movies, the computers can often be shown to take over humans.\n",
    "* Matrix\n",
    "* I, Robot\n",
    "* ChatGPT\n",
    "\n",
    "However, there are two thoughts on this I'd like to share:\n",
    "1. The world thinks of AI as computer-autonomy (computers that think for themselves). AI models are created for specific tasks, and will not work well at all outside of those tasks\n",
    "2. One thing that is often misunderstood is that these models have settings (hyperparameters) that need to be tweaked. This is very much a human-guided process. Although models are starting to train themselves to a degree, the math and the hyperparameters are still in our hands. Could it happen? Possibly, but we are a long way from that still.\n",
    "\n",
    "But AI sounds cool! So, people everywhere are working on AI systems. Here at Snow College, we are developing an OpenAI system for our website. The problem is that many companies use ML for their products and claim they are using AI, when it is really just a simple model (For example, AI for your exercise machines). So, we really have to be careful in using the term \"AI\" and use it for when it really is AI."
   ]
  },
  {
   "cell_type": "markdown",
   "metadata": {},
   "source": [
    "## Goals of Machine Learning\n",
    "* Can be used in future scenarios (not just for the one dataset you have)\n",
    "* Accurate\n",
    "* Fast\n",
    "* Generalizable - can be used in multiple circumstances\n",
    "    * $F=ma$ is a generalized model that is applied in many circumstances\n",
    "* Interpretability"
   ]
  }
 ],
 "metadata": {
  "kernelspec": {
   "display_name": "ML",
   "language": "python",
   "name": "ml"
  },
  "language_info": {
   "codemirror_mode": {
    "name": "ipython",
    "version": 3
   },
   "file_extension": ".py",
   "mimetype": "text/x-python",
   "name": "python",
   "nbconvert_exporter": "python",
   "pygments_lexer": "ipython3",
   "version": "3.9.16"
  }
 },
 "nbformat": 4,
 "nbformat_minor": 4
}
