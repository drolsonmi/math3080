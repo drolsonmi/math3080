{
 "cells": [
  {
   "cell_type": "markdown",
   "id": "f25155fc-cd9a-4f2a-8b45-24fcf558748e",
   "metadata": {},
   "source": []
  },
  {
   "cell_type": "markdown",
   "id": "f99c1e14-da2c-4921-8939-692b68ad3c9c",
   "metadata": {},
   "source": [
    "## Types of Data"
   ]
  }
 ],
 "metadata": {
  "kernelspec": {
   "display_name": "Python 3 (ipykernel)",
   "language": "python",
   "name": "python3"
  },
  "language_info": {
   "codemirror_mode": {
    "name": "ipython",
    "version": 3
   },
   "file_extension": ".py",
   "mimetype": "text/x-python",
   "name": "python",
   "nbconvert_exporter": "python",
   "pygments_lexer": "ipython3",
   "version": "3.9.10"
  }
 },
 "nbformat": 4,
 "nbformat_minor": 5
}
