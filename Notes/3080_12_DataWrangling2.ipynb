{
 "cells": [
  {
   "cell_type": "markdown",
   "metadata": {},
   "source": [
    "# Lecture 12 Data Wrangling - Part 2 - Joins\n",
    "__Math 3080: Fundamentals of Data Science__\n",
    "\n",
    "Reading:\n",
    "* [McKinney, *Python for Data Science*, Chapter 6](https://wesmckinney.com/book/accessing-data)\n",
    "* Chapter 8\n",
    "* Chapter 10\n",
    "\n",
    "Class notes are found through GitHub. As changes are made, they will automatically be uploaded to GitHub. A link to the repository is on Canvas.\n",
    "\n",
    "-----\n",
    "## Outline\n",
    "* Concatenating two dataframes\n",
    "* Joining two dataframes\n",
    "  * Inner/Left/Right/Outer\n",
    "  * Joining on a specific column\n",
    "  * Joining on an index\n",
    "  * Joining by multiple columns\n",
    "* Aggregation\n",
    "  * Methods of Aggregation\n",
    "  * Joining when values are repeated\n",
    "* Long and Wide Formats\n",
    "  * Pivot Table\n",
    "  * Melting\n",
    "  * Groupbys"
   ]
  },
  {
   "cell_type": "code",
   "execution_count": null,
   "metadata": {},
   "outputs": [],
   "source": [
    "# Use the gradebook from last lecture\n",
    "# Add a second gradebook (data from previous semester)"
   ]
  },
  {
   "cell_type": "markdown",
   "metadata": {
    "vscode": {
     "languageId": "plaintext"
    }
   },
   "source": [
    "## Concatenating"
   ]
  },
  {
   "cell_type": "markdown",
   "metadata": {},
   "source": [
    "## Joining"
   ]
  },
  {
   "cell_type": "markdown",
   "metadata": {},
   "source": [
    "## Aggregation\n",
    "Different aggregation functions:\n",
    "```python\n",
    "df.agg('max')\n",
    "df.agg('min')\n",
    "df.agg('mean') # Default\n",
    "df.agg('std')\n",
    "df.agg('count')\n",
    "\n",
    "def range(x):\n",
    "    return x.max()-x.min()\n",
    "    \n",
    "df.agg(range)\n",
    "```"
   ]
  },
  {
   "cell_type": "markdown",
   "metadata": {},
   "source": [
    "## Long and Wide Formats"
   ]
  },
  {
   "cell_type": "markdown",
   "metadata": {},
   "source": [
    "### Pivot Tables"
   ]
  },
  {
   "cell_type": "markdown",
   "metadata": {},
   "source": [
    "### Melting"
   ]
  },
  {
   "cell_type": "markdown",
   "metadata": {},
   "source": [
    "### Groupbys"
   ]
  },
  {
   "cell_type": "code",
   "execution_count": null,
   "metadata": {
    "vscode": {
     "languageId": "plaintext"
    }
   },
   "outputs": [],
   "source": []
  },
  {
   "cell_type": "code",
   "execution_count": null,
   "metadata": {
    "vscode": {
     "languageId": "plaintext"
    }
   },
   "outputs": [],
   "source": []
  },
  {
   "cell_type": "markdown",
   "metadata": {},
   "source": [
    "Topics:\n",
    "* Cleaning Data\n",
    "  * Missing Data\n",
    "* Data Wrangling\n",
    "  * Splitting strings\n",
    "    * [LastName FirstnName] to [LastName] [FirstName]\n",
    "    * Dates\n",
    "  * Mapping\n",
    "  * Sampling ?? (Maybe save for another lecture?)\n",
    "  * One-hot Encoding / Dummy Variables\n",
    "    * Value Counts\n",
    "  * Ordinal Encoding\n",
    "  * Joins\n",
    "  * Pivot Tables\n",
    "  * Melting\n",
    "  * Groupbys"
   ]
  }
 ],
 "metadata": {
  "kernelspec": {
   "display_name": "Python 3 (ipykernel)",
   "language": "python",
   "name": "python3"
  },
  "language_info": {
   "codemirror_mode": {
    "name": "ipython",
    "version": 3
   },
   "file_extension": ".py",
   "mimetype": "text/x-python",
   "name": "python",
   "nbconvert_exporter": "python",
   "pygments_lexer": "ipython3",
   "version": "3.9.16"
  }
 },
 "nbformat": 4,
 "nbformat_minor": 4
}
