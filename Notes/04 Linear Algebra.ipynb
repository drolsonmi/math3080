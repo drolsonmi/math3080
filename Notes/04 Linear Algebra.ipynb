{
 "cells": [
  {
   "cell_type": "markdown",
   "id": "62805c13",
   "metadata": {},
   "source": [
    "# 04 Linear Algebra\n",
    "__Math 3080: Fundamentals of Data Science__\n",
    "\n",
    "Reading: \n",
    "* Grus, Chapter 4\n",
    "* Phillips, Chapter 3\n",
    "* [3 Blue 1 Brown YouTube Series on Linear Algebra](https://www.youtube.com/playlist?list=PL0-GT3co4r2y2YErbmuJw2L5tW4Ew2O5B)"
   ]
  },
  {
   "attachments": {},
   "cell_type": "markdown",
   "id": "8dd1568d",
   "metadata": {},
   "source": [
    "-----\n",
    "__Things to work on in this lecture__\n",
    "* Display all vectors and matrices properly, according to math notation, not Python notation\n",
    "* After they are shown properly, then we can show them in Python\n",
    "-----"
   ]
  },
  {
   "attachments": {},
   "cell_type": "markdown",
   "id": "7c0145b2",
   "metadata": {},
   "source": [
    "## Vectors\n",
    "A vector is a series of numbers that combined describe the property of something. The most common example of a vector is a point on a graph. This is used a lot in physics to describe position, velocity, forces, electric and magnetic fields, and so on.\n",
    "\n",
    "It is simply a collection of two or more points. For example, [5,2] represents a vector that points from the origin to a point 5 units to the right and 2 units up.\n",
    "\n",
    "In the physical world, we generally deal with points in 3 dimensions. Our minds cannot intuitively comprehend more dimensions than that. For example, if we consider an airport to be the origin, then the vector [75,-10,6] would indicate an airplane that is 75 miles to the East, 10 miles to the South, and 6 miles up vertically.\n",
    "```python\n",
    "import numpy as np\n",
    "x = np.array([75, -10, 6])\n",
    "```\n",
    "\n",
    "However, in the data world, a vector could contain 12 pieces of information to describe a particular object. This would then be depicted as a 12-dimensional vector. The following could be a list of items that describe the background of a student:\n",
    "```python\n",
    "# [height, weight, eye color, hair color, Grade in school, GPA, Housing, Pay Wage, Gender, Ethnicity, Marriage status, Religion]\n",
    "person_1 = [71, 220, 'brown', 'black', 'Sophomore', 3.78, 'Off-campus', 12.70, 'M', 'Hispanic', 'Married', 'Catholic']\n",
    "```\n",
    "\n",
    "* *Note*: In a Python list or array, not all elements have to be the same type."
   ]
  },
  {
   "attachments": {},
   "cell_type": "markdown",
   "id": "1e793501",
   "metadata": {},
   "source": [
    "### Vector Addition\n",
    "We can easily add two vectors together. Adding $A=[5,2]$ and $B=[1,6]$ would go 5 to the right plus an additional 1, the 2 up plus an additional 6. That is,\n",
    "$$A+B=[A_x,A_y]+[B_x,B_y] = [A_x+B_x, A_y+B_y]$$\n",
    "$$[5,2]+[1,6] = [5+1, 2+6] = [6,8]$$\n",
    "\n",
    "* Show Graphically"
   ]
  },
  {
   "cell_type": "code",
   "execution_count": 4,
   "id": "8b3666f7",
   "metadata": {},
   "outputs": [
    {
     "data": {
      "text/plain": [
       "array([6, 8])"
      ]
     },
     "execution_count": 4,
     "metadata": {},
     "output_type": "execute_result"
    }
   ],
   "source": [
    "import numpy as np\n",
    "A = np.array([5,2])\n",
    "B = np.array([1,6])\n",
    "A+B"
   ]
  },
  {
   "attachments": {},
   "cell_type": "markdown",
   "id": "e1297929",
   "metadata": {},
   "source": [
    "Note that this operation is commutative:\n",
    "* Show Graphically"
   ]
  },
  {
   "cell_type": "code",
   "execution_count": 5,
   "id": "a1bf70c1",
   "metadata": {},
   "outputs": [
    {
     "data": {
      "text/plain": [
       "array([6, 8])"
      ]
     },
     "execution_count": 5,
     "metadata": {},
     "output_type": "execute_result"
    }
   ],
   "source": [
    "B+A"
   ]
  },
  {
   "attachments": {},
   "cell_type": "markdown",
   "id": "51dd434e-238d-4792-a430-97bb1e087a1e",
   "metadata": {},
   "source": [
    "Subtraction also works:\n",
    "$$[5,2] + [-1,-4] = [5-1, 2-4] = [4,-2]$$"
   ]
  },
  {
   "attachments": {},
   "cell_type": "markdown",
   "id": "e3ee6c03",
   "metadata": {},
   "source": [
    "### Scalar Multiplication\n",
    "A scalar is a value that increases or decreases the size of a vector but doesn't change the direction. It is simply a number multiplied by the vector:\n",
    "$$10[5,2] = [10*5, 10*2] = [50,20]$$"
   ]
  },
  {
   "attachments": {},
   "cell_type": "markdown",
   "id": "73eb51c2",
   "metadata": {},
   "source": [
    "### The Norm"
   ]
  },
  {
   "attachments": {},
   "cell_type": "markdown",
   "id": "c5f94eb8",
   "metadata": {},
   "source": [
    "### Dot Product"
   ]
  },
  {
   "cell_type": "markdown",
   "id": "8220b5f8",
   "metadata": {},
   "source": []
  }
 ],
 "metadata": {
  "kernelspec": {
   "display_name": "DataScience",
   "language": "python",
   "name": "python3"
  },
  "language_info": {
   "codemirror_mode": {
    "name": "ipython",
    "version": 3
   },
   "file_extension": ".py",
   "mimetype": "text/x-python",
   "name": "python",
   "nbconvert_exporter": "python",
   "pygments_lexer": "ipython3",
   "version": "3.9.10"
  },
  "vscode": {
   "interpreter": {
    "hash": "1c3b4ec50ccf284dd362e349fb7b4805a9e338df2b2ffaff49cb8c015a0bd926"
   }
  }
 },
 "nbformat": 4,
 "nbformat_minor": 5
}
