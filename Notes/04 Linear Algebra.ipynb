{
 "cells": [
  {
   "cell_type": "markdown",
   "id": "62805c13",
   "metadata": {},
   "source": [
    "# 04 Linear Algebra\n",
    "__Math 3080: Fundamentals of Data Science__\n",
    "\n",
    "Reading: \n",
    "* Phillips, Chapter 3\n",
    "* [3 Blue 1 Brown YouTube Series on Linear Algebra](https://www.youtube.com/playlist?list=PL0-GT3co4r2y2YErbmuJw2L5tW4Ew2O5B)\n",
    "* Grus, Chapter 4"
   ]
  },
  {
   "cell_type": "markdown",
   "id": "8dd1568d",
   "metadata": {},
   "source": [
    "-----\n",
    "__Things to work on in this lecture__\n",
    "* Display all vectors and matrices properly, according to math notation, not Python notation\n",
    "* After they are shown properly, then we can show them in Python\n",
    "\n",
    "__Outline__\n",
    "* What is a vector\n",
    "* Vector addition\n",
    "* The (L2) Norm\n",
    "* Vector scaling\n",
    "* Basis vectors\n",
    "* Dot Product\n",
    "* The Matrix\n",
    "* Matrix Multiplication\n",
    "\n",
    "I have created a vector addition and vector scaling graph on Desmos.\n",
    "* https://www.desmos.com/calculator/femuk0totw\n",
    "-----"
   ]
  },
  {
   "cell_type": "markdown",
   "id": "7c0145b2",
   "metadata": {},
   "source": [
    "## Vectors\n",
    "A vector is a series of numbers that combined describe the property of something. The most common example of a vector is a point on a graph. This is used a lot in physics to describe position, velocity, forces, electric and magnetic fields, and so on.\n",
    "\n",
    "It is simply a collection of two or more points. For example, $\\begin{bmatrix}5\\\\2\\end{bmatrix}$ represents a vector that points from the origin to a point 5 units to the right and 2 units up.\n",
    "\n",
    "In the physical world, we generally deal with points in 3 dimensions. Our minds cannot intuitively comprehend more dimensions than that. For example, if we consider an airport to be the origin, then the vector $\\begin{bmatrix}75\\\\-10\\\\6\\end{bmatrix}$ would indicate an airplane that is 75 miles to the East, 10 miles to the South, and 6 miles up vertically.\n"
   ]
  },
  {
   "cell_type": "code",
   "execution_count": 2,
   "id": "891e15b9",
   "metadata": {},
   "outputs": [],
   "source": [
    "import numpy as np\n",
    "x = np.array([75, -10, 6])"
   ]
  },
  {
   "cell_type": "markdown",
   "id": "c7747fb0",
   "metadata": {},
   "source": [
    "\n",
    "However, in the data world, a vector could contain 12 pieces of information to describe a particular object. This would then be depicted as a 12-dimensional vector. The following could be a list of items that describe the background of a student:\n",
    "```python\n",
    "# [height, weight, eye color, hair color, Grade in school, GPA, Housing, Pay Wage, Gender, Ethnicity, Marriage status, Religion]\n",
    "person_1 = [71, 220, 'brown', 'black', 'Sophomore', 3.78, 'Off-campus', 12.70, 'M', 'Hispanic', 'Married', 'Catholic']\n",
    "```\n",
    "\n",
    "* *Note*: In a Python list or array, not all elements have to be the same type."
   ]
  },
  {
   "cell_type": "markdown",
   "id": "1e793501",
   "metadata": {},
   "source": [
    "### Vector Addition\n",
    "We can easily add two vectors together. Adding $A=\\begin{bmatrix}5\\\\2\\end{bmatrix}$ and $B=\\begin{bmatrix}1\\\\6\\end{bmatrix}$ would go 5 to the right plus an additional 1, the 2 up plus an additional 6. That is,\n",
    "$$A+B=\\begin{bmatrix}A_x\\\\A_y\\end{bmatrix}+\\begin{bmatrix}B_x\\\\B_y\\end{bmatrix} = \\begin{bmatrix}A_x+B_x\\\\A_y+B_y\\end{bmatrix}$$\n",
    "$$\\begin{bmatrix}5\\\\2\\end{bmatrix}+\\begin{bmatrix}1\\\\6\\end{bmatrix} = \\begin{bmatrix}5+1\\\\2+6\\end{bmatrix} = \\begin{bmatrix}6\\\\8\\end{bmatrix}$$\n",
    "\n",
    "* Show Graphically on https://www.desmos.com/calculator/femuk0totw"
   ]
  },
  {
   "cell_type": "code",
   "execution_count": 4,
   "id": "8b3666f7",
   "metadata": {},
   "outputs": [
    {
     "data": {
      "text/plain": [
       "array([6, 8])"
      ]
     },
     "execution_count": 4,
     "metadata": {},
     "output_type": "execute_result"
    }
   ],
   "source": [
    "A = np.array([5,2])\n",
    "B = np.array([1,6])\n",
    "A+B"
   ]
  },
  {
   "cell_type": "markdown",
   "id": "e1297929",
   "metadata": {},
   "source": [
    "Note that this operation is commutative:\n",
    "* Show Graphically"
   ]
  },
  {
   "cell_type": "code",
   "execution_count": 5,
   "id": "a1bf70c1",
   "metadata": {},
   "outputs": [
    {
     "data": {
      "text/plain": [
       "array([6, 8])"
      ]
     },
     "execution_count": 5,
     "metadata": {},
     "output_type": "execute_result"
    }
   ],
   "source": [
    "B+A"
   ]
  },
  {
   "cell_type": "markdown",
   "id": "51dd434e-238d-4792-a430-97bb1e087a1e",
   "metadata": {},
   "source": [
    "Subtraction also works:\n",
    "$$\\begin{bmatrix}5\\\\2\\end{bmatrix} - \\begin{bmatrix}1\\\\6\\end{bmatrix} = \\begin{bmatrix}5\\\\2\\end{bmatrix} + \\begin{bmatrix}-1\\\\-6\\end{bmatrix} = \\begin{bmatrix}5-1\\\\2-6\\end{bmatrix} = \\begin{bmatrix}4\\\\-4\\end{bmatrix}$$"
   ]
  },
  {
   "cell_type": "code",
   "execution_count": 7,
   "id": "0c097c28",
   "metadata": {},
   "outputs": [
    {
     "data": {
      "text/plain": [
       "array([ 4, -4])"
      ]
     },
     "execution_count": 7,
     "metadata": {},
     "output_type": "execute_result"
    }
   ],
   "source": [
    "A-B"
   ]
  },
  {
   "cell_type": "markdown",
   "id": "5afd0812",
   "metadata": {},
   "source": [
    "### The L2 Norm\n",
    "A __Norm__ is a method of measuring the length of a vector. There are many ways to measure the length of a vector:\n",
    "* L0 Norm (not really a norm, but some people use it that way)\n",
    "* L1 Norm\n",
    "* L2 Norm\n",
    "* Infinity Norm\n",
    "\n",
    "Since the L2 Norm is the one we will deal with the most in this class, we will only define this one.\n",
    "\n",
    "The __L2 Norm__ is simply the length of the vector from tail to tip. Note how any vector can be written as a combination of vectors in $\\vec{\\mathbf{x}}$ and $\\vec{\\mathbf{y}}$:\n",
    "$$\\begin{bmatrix}5\\\\2\\end{bmatrix} = \\begin{bmatrix}5\\\\0\\end{bmatrix} + \\begin{bmatrix}0\\\\2\\end{bmatrix}$$\n",
    "This is a right triangle. So, the length of the vector can be found using the Pythagorean Theorem:\n",
    "$$||\\vec{\\mathbf{x}}||_2 = \\begin{vmatrix}A_x\\\\A_y\\end{vmatrix} = \\sqrt{A_x^2 + A_y^2}$$\n",
    "$$||\\vec{\\mathbf{x}}||_2 = \\begin{vmatrix}5\\\\2\\end{vmatrix} = \\sqrt{5^2 + 2^2} = \\sqrt{25+4} = \\sqrt{29} \\approx 5.385$$\n",
    "In 3 dimensions, we just add another term:\n",
    "$$||\\vec{\\mathbf{x}}||_2 = \\begin{vmatrix}A_x\\\\A_y\\\\A_z\\end{vmatrix} = \\sqrt{A_x^2 + A_y^2 + A_z^2}$$\n",
    "$$||\\vec{\\mathbf{x}}||_2 = \\begin{vmatrix}75\\\\-10\\\\6\\end{vmatrix} = \\sqrt{75^2 + (-10)^2 + 6^2} = \\sqrt{5625+100+36} = \\sqrt{5761} \\approx 75.90$$\n",
    "The result of the Pythagorean Theorem is known as the Euclidean distance, so this is also known as the __Euclidean Norm__."
   ]
  },
  {
   "cell_type": "markdown",
   "id": "e3ee6c03",
   "metadata": {},
   "source": [
    "### Vector Multiplication\n",
    "There are many ways to multiply vectors: Scalar multiplication, Dot product, Cross product, ...\n",
    "\n",
    "#### Scalar Multiplication\n",
    "A scalar is a value that increases or decreases the size of a vector but doesn't change the direction. It is simply a number multiplied by the vector:\n",
    "$$10\\begin{bmatrix}5\\\\2\\end{bmatrix} = \\begin{bmatrix}10*5\\\\10*2\\end{bmatrix} = \\begin{bmatrix}50\\\\20\\end{bmatrix}$$\n",
    "\n",
    "* Show Graphically on https://www.desmos.com/calculator/femuk0totw"
   ]
  },
  {
   "cell_type": "markdown",
   "id": "73eb51c2",
   "metadata": {},
   "source": [
    "#### Dot Product\n",
    "The dot product is a multiplication method for vectors\n",
    "$$\\vec{x}=\\begin{bmatrix}x_1\\\\x_2\\end{bmatrix} \\qquad \\vec{y}=\\begin{bmatrix}y_1\\\\y_2\\end{bmatrix}$$\n",
    "$$\\vec{x} \\cdot \\vec{y} = \\begin{bmatrix} x_1 \\\\ x_2 \\end{bmatrix} \\cdot \\begin{bmatrix} y_1 \\\\ y_2 \\end{bmatrix} = x_1y_1+x_2y_2$$\n",
    "Another way to write this is using a transpose: $\\vec{x}^T=\\begin{bmatrix}x_1 & x_2\\end{bmatrix}$\n",
    "$$\\vec{x} \\cdot \\vec{y} = \\vec{x}^T\\vec{y} = \\begin{bmatrix} x_1 & x_2 \\end{bmatrix} \\begin{bmatrix} y_1 \\\\ y_2 \\end{bmatrix} = x_1y_1+x_2y_2$$\n",
    "\n",
    "* Multiply first elements\n",
    "* Go to the next elements (right in $\\vec{x}$ and down in $\\vec{y}$) and find their product\n",
    "* Continue through all elements\n",
    "* Add all products together\n",
    "\n",
    "$$x_1 = \\begin{bmatrix}1\\\\3\\\\4\\end{bmatrix} \\qquad x_2 = \\begin{bmatrix}2\\\\4\\\\1\\end{bmatrix}$$\n",
    "$$x_1\\cdot x_2 = x_1^T x_2 = \\begin{bmatrix}1&3&4\\end{bmatrix}\\begin{bmatrix}2\\\\4\\\\1\\end{bmatrix} = (1\\cdot 2) + (3\\cdot 4) + (4\\cdot 1) = 2 + 12 + 4 = 18$$"
   ]
  },
  {
   "cell_type": "markdown",
   "id": "a1f38c73",
   "metadata": {},
   "source": [
    "### Basis Vectors\n",
    "A set of $k$ vectors is given: $X=\\{x_1,x_2,...,x_k\\}\\in\\mathbb{R}^d$. For example:\n",
    "$$X=\\{x_1,x_2\\}\\in\\mathbb{R}^3 \\qquad x_1=\\begin{bmatrix}1\\\\3\\\\4\\end{bmatrix} \\qquad x_2=\\begin{bmatrix}2\\\\4\\\\1\\end{bmatrix}$$\n",
    "\n",
    "A vector is __linearly dependent__ to $X$ if it can be written as a linear combination of the vectors in $X$.\n",
    "$$z=\\begin{bmatrix}-3\\\\-5\\\\2\\end{bmatrix} = \\begin{bmatrix}1\\\\3\\\\4\\end{bmatrix} -\\begin{bmatrix}4\\\\8\\\\2\\end{bmatrix} = \\begin{bmatrix}1\\\\3\\\\4\\end{bmatrix} - 2\\begin{bmatrix}2\\\\4\\\\1\\end{bmatrix} = x_1-2x_2$$"
   ]
  },
  {
   "cell_type": "code",
   "execution_count": 9,
   "id": "4d6edf8a",
   "metadata": {},
   "outputs": [
    {
     "data": {
      "text/plain": [
       "array([-3, -5,  2])"
      ]
     },
     "execution_count": 9,
     "metadata": {},
     "output_type": "execute_result"
    }
   ],
   "source": [
    "x1 = np.array([1,3,4])\n",
    "x2 = np.array([2,4,1])\n",
    "\n",
    "x1 - 2*x2"
   ]
  },
  {
   "cell_type": "markdown",
   "id": "c5f94eb8",
   "metadata": {},
   "source": [
    "On the other hand, a vector is __linearly independent__ if it __cannot__ be written as a linear combination of the vectors in $X$.\n",
    "$$z=\\begin{bmatrix}3\\\\7\\\\1\\end{bmatrix} = \\begin{bmatrix}1\\\\3\\\\4\\end{bmatrix} -\\begin{bmatrix}-2\\\\-4\\\\3\\end{bmatrix} \\ne c_1 x_1 + c_2 x_2$$"
   ]
  },
  {
   "cell_type": "markdown",
   "id": "bb5bff73",
   "metadata": {},
   "source": [
    "#### Span\n",
    "The __span__ of a set of vectors is the set of __all__ vectors that can be written as a linear combination of vectors in $X$.\n",
    "\n",
    "For example, there are two (linearly independent) vectors:\n",
    "$$\\hat{i}=\\hat{x}=\\begin{bmatrix}1\\\\0\\end{bmatrix} \\qquad \\hat{j}=\\hat{y}=\\begin{bmatrix}0\\\\1\\end{bmatrix}$$\n",
    "\n",
    "Any 2D vector can be written as a linear combination of $\\hat{i},\\hat{j}$. Consider $\\begin{bmatrix}7\\\\-9\\end{bmatrix}$:"
   ]
  },
  {
   "cell_type": "code",
   "execution_count": 8,
   "id": "cf4e15ae",
   "metadata": {},
   "outputs": [
    {
     "data": {
      "text/plain": [
       "array([ 7, -9])"
      ]
     },
     "execution_count": 8,
     "metadata": {},
     "output_type": "execute_result"
    }
   ],
   "source": [
    "i_hat = np.array([1,0])\n",
    "j_hat = np.array([0,1])\n",
    "\n",
    "7*i_hat - 9*j_hat"
   ]
  },
  {
   "cell_type": "markdown",
   "id": "75ca0574",
   "metadata": {},
   "source": [
    "Thus, $span(X) = \\left\\{z | z = c_x \\hat{i} + c_y \\hat{j}\\right\\}$ where $X = \\begin{Bmatrix}\\begin{bmatrix}1\\\\0\\end{bmatrix}, \\begin{bmatrix}0\\\\1\\end{bmatrix}\\end{Bmatrix}$\n",
    "\n",
    "The vectors of $X$ are known as __basis vectors__ and can be used to depict any two-dimensional vector in the x-y coordinate system."
   ]
  },
  {
   "cell_type": "markdown",
   "id": "8220b5f8",
   "metadata": {},
   "source": [
    "### The Matrix\n",
    "If we put our two basis vectors together, we get a 2-dimensional vector, also known as a matrix:\n",
    "$$\\begin{bmatrix}\\hat{i} & \\hat{j}\\end{bmatrix} = \\begin{bmatrix}1 & 0 \\\\ 0 & 1 \\end{bmatrix}$$\n",
    "The left two numbers indicate the direction of one basis vector ($\\hat{i}$) and the right two numbers indicate the direction of the other basis vector ($\\hat{j}$). We can multiply this matrix with any vector and we get the original vector:\n",
    "$$\\begin{bmatrix}1 & 0 \\\\ 0 & 1 \\end{bmatrix}\\begin{bmatrix}5 \\\\ 2 \\end{bmatrix}=5\\begin{bmatrix}1 \\\\ 0 \\end{bmatrix} + 2\\begin{bmatrix}0 \\\\ 1 \\end{bmatrix} = \\begin{bmatrix}5+0\\\\0+2\\end{bmatrix}=\\begin{bmatrix}5\\\\2\\end{bmatrix}$$\n",
    "If instead we multiply our vector by a matrix with different basis vectors, then we pass our vector through a __linear transformation__ onto the new basis vector system.\n",
    "$$\\begin{bmatrix}3 & -1 \\\\ 1 & 5 \\end{bmatrix}\\begin{bmatrix}5 \\\\ 2 \\end{bmatrix}=5\\begin{bmatrix}3 \\\\ 1 \\end{bmatrix} + 2\\begin{bmatrix}-1 \\\\ 5 \\end{bmatrix} = \\begin{bmatrix}5(3) + 2(-1)\\\\5(1)+2(5)\\end{bmatrix} = \\begin{bmatrix}13 \\\\ 15 \\end{bmatrix}$$\n",
    "\n",
    "__*COME UP WITH BETTER NUMBERS FOR THIS TRANSFORMATION*__\n",
    "\n",
    "* Look at the vector with basis vectors before and after the transformation"
   ]
  },
  {
   "cell_type": "code",
   "execution_count": 14,
   "id": "0d693d94",
   "metadata": {},
   "outputs": [
    {
     "data": {
      "text/plain": [
       "array([13, 15])"
      ]
     },
     "execution_count": 14,
     "metadata": {},
     "output_type": "execute_result"
    }
   ],
   "source": [
    "L = np.array([[3,-1],\n",
    "              [1,5]])\n",
    "\n",
    "x = np.array([5,2])\n",
    "\n",
    "np.matmul(L,x)"
   ]
  },
  {
   "cell_type": "markdown",
   "id": "9f57b77b",
   "metadata": {},
   "source": [
    "### Matrix Multiplication"
   ]
  }
 ],
 "metadata": {
  "kernelspec": {
   "display_name": "Python 3 (ipykernel)",
   "language": "python",
   "name": "python3"
  },
  "language_info": {
   "codemirror_mode": {
    "name": "ipython",
    "version": 3
   },
   "file_extension": ".py",
   "mimetype": "text/x-python",
   "name": "python",
   "nbconvert_exporter": "python",
   "pygments_lexer": "ipython3",
   "version": "3.10.9 (main, Jan  6 2023, 15:19:46) [GCC 10.2.1 20210110]"
  },
  "vscode": {
   "interpreter": {
    "hash": "b8a940844f7f8998522eedb112310c0958420b6c917d0853ef275f15829120cc"
   }
  }
 },
 "nbformat": 4,
 "nbformat_minor": 5
}
