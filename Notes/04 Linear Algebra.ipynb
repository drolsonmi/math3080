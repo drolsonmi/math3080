{
 "cells": [
  {
   "attachments": {},
   "cell_type": "markdown",
   "id": "62805c13",
   "metadata": {},
   "source": [
    "# 04 Linear Algebra\n",
    "__Math 3080: Fundamentals of Data Science__\n",
    "\n",
    "Reading: \n",
    "* Phillips, Chapter 3\n",
    "* [3 Blue 1 Brown YouTube Series on Linear Algebra](https://www.youtube.com/playlist?list=PL0-GT3co4r2y2YErbmuJw2L5tW4Ew2O5B)\n",
    "* Grus, Chapter 4"
   ]
  },
  {
   "attachments": {},
   "cell_type": "markdown",
   "id": "8dd1568d",
   "metadata": {},
   "source": [
    "-----\n",
    "__Things to work on in this lecture__\n",
    "* Display all vectors and matrices properly, according to math notation, not Python notation\n",
    "* After they are shown properly, then we can show them in Python\n",
    "\n",
    "__Outline__\n",
    "* What is a vector\n",
    "* Vector addition\n",
    "* The (L2) Norm\n",
    "* Vector scaling\n",
    "* Basis vectors\n",
    "* Dot Product\n",
    "* The Matrix\n",
    "* Matrix Multiplication\n",
    "\n",
    "I have created a vector addition and vector scaling graph on Desmos.\n",
    "* https://www.desmos.com/calculator/femuk0totw\n",
    "-----"
   ]
  },
  {
   "attachments": {},
   "cell_type": "markdown",
   "id": "7c0145b2",
   "metadata": {},
   "source": [
    "## Vectors\n",
    "A vector is a series of numbers that combined describe the property of something. The most common example of a vector is a point on a graph. This is used a lot in physics to describe position, velocity, forces, electric and magnetic fields, and so on.\n",
    "\n",
    "It is simply a collection of two or more points. For example, $\\begin{pmatrix}5\\\\2\\end{pmatrix}$ represents a vector that points from the origin to a point 5 units to the right and 2 units up.\n",
    "\n",
    "In the physical world, we generally deal with points in 3 dimensions. Our minds cannot intuitively comprehend more dimensions than that. For example, if we consider an airport to be the origin, then the vector $\\begin{pmatrix}75\\\\-10\\\\6\\end{pmatrix}$ would indicate an airplane that is 75 miles to the East, 10 miles to the South, and 6 miles up vertically.\n",
    "```python\n",
    "import numpy as np\n",
    "x = np.array([75, -10, 6])\n",
    "```\n",
    "\n",
    "However, in the data world, a vector could contain 12 pieces of information to describe a particular object. This would then be depicted as a 12-dimensional vector. The following could be a list of items that describe the background of a student:\n",
    "```python\n",
    "# [height, weight, eye color, hair color, Grade in school, GPA, Housing, Pay Wage, Gender, Ethnicity, Marriage status, Religion]\n",
    "person_1 = [71, 220, 'brown', 'black', 'Sophomore', 3.78, 'Off-campus', 12.70, 'M', 'Hispanic', 'Married', 'Catholic']\n",
    "```\n",
    "\n",
    "* *Note*: In a Python list or array, not all elements have to be the same type."
   ]
  },
  {
   "attachments": {},
   "cell_type": "markdown",
   "id": "1e793501",
   "metadata": {},
   "source": [
    "### Vector Addition\n",
    "We can easily add two vectors together. Adding $A=\\begin{pmatrix}5\\\\2\\end{pmatrix}$ and $B=\\begin{pmatrix}1\\\\6\\end{pmatrix}$ would go 5 to the right plus an additional 1, the 2 up plus an additional 6. That is,\n",
    "$$A+B=\\begin{pmatrix}A_x\\\\A_y\\end{pmatrix}+\\begin{pmatrix}B_x\\\\B_y\\end{pmatrix} = \\begin{pmatrix}A_x+B_x\\\\A_y+B_y\\end{pmatrix}$$\n",
    "$$\\begin{pmatrix}5\\\\2\\end{pmatrix}+\\begin{pmatrix}1\\\\6\\end{pmatrix} = \\begin{pmatrix}5+1\\\\2+6\\end{pmatrix} = \\begin{pmatrix}6\\\\8\\end{pmatrix}$$\n",
    "\n",
    "* Show Graphically on https://www.desmos.com/calculator/femuk0totw"
   ]
  },
  {
   "cell_type": "code",
   "execution_count": 4,
   "id": "8b3666f7",
   "metadata": {},
   "outputs": [
    {
     "data": {
      "text/plain": [
       "array([6, 8])"
      ]
     },
     "execution_count": 4,
     "metadata": {},
     "output_type": "execute_result"
    }
   ],
   "source": [
    "import numpy as np\n",
    "A = np.array([5,2])\n",
    "B = np.array([1,6])\n",
    "A+B"
   ]
  },
  {
   "attachments": {},
   "cell_type": "markdown",
   "id": "e1297929",
   "metadata": {},
   "source": [
    "Note that this operation is commutative:\n",
    "* Show Graphically"
   ]
  },
  {
   "cell_type": "code",
   "execution_count": 5,
   "id": "a1bf70c1",
   "metadata": {},
   "outputs": [
    {
     "data": {
      "text/plain": [
       "array([6, 8])"
      ]
     },
     "execution_count": 5,
     "metadata": {},
     "output_type": "execute_result"
    }
   ],
   "source": [
    "B+A"
   ]
  },
  {
   "attachments": {},
   "cell_type": "markdown",
   "id": "51dd434e-238d-4792-a430-97bb1e087a1e",
   "metadata": {},
   "source": [
    "Subtraction also works:\n",
    "$$\\begin{pmatrix}5\\\\2\\end{pmatrix} + \\begin{pmatrix}-1\\\\-4\\end{pmatrix} = \\begin{pmatrix}5-1\\\\2-4\\end{pmatrix} = \\begin{pmatrix}4\\\\-2\\end{pmatrix}$$"
   ]
  },
  {
   "attachments": {},
   "cell_type": "markdown",
   "id": "5afd0812",
   "metadata": {},
   "source": [
    "### The L2 Norm\n",
    "A __Norm__ is a method of measuring the length of a vector. There are many ways to measure the length of a vector:\n",
    "* L0 Norm (not really a norm, but some people use it that way)\n",
    "* L1 Norm\n",
    "* L2 Norm\n",
    "* Infinity Norm\n",
    "\n",
    "Since the L2 Norm is the one we will deal with the most in this class, we will only define this one.\n",
    "\n",
    "The __L2 Norm__ is simply the length of the vector from tail to tip. Note how any vector can be written as a combination of vectors in $\\vec{\\mathbf{x}}$ and $\\vec{\\mathbf{y}}$:\n",
    "$$\\begin{pmatrix}5\\\\2\\end{pmatrix} = \\begin{pmatrix}5\\\\0\\end{pmatrix} + \\begin{pmatrix}0\\\\2\\end{pmatrix}$$\n",
    "This is a right triangle. So, the length of the vector can be found using the Pythagorean Theorem:\n",
    "$$||\\vec{\\mathbf{x}}||_2 = \\begin{vmatrix}A_x\\\\A_y\\end{vmatrix} = \\sqrt{A_x^2 + A_y^2}$$\n",
    "$$||\\vec{\\mathbf{x}}||_2 = \\begin{vmatrix}5\\\\2\\end{vmatrix} = \\sqrt{5^2 + 2^2} = \\sqrt{25+4} = \\sqrt{29} \\approx 5.385$$\n",
    "In 3 dimensions, we just add another term:\n",
    "$$||\\vec{\\mathbf{x}}||_2 = \\begin{vmatrix}A_x\\\\A_y\\\\A_z\\end{vmatrix} = \\sqrt{A_x^2 + A_y^2 + A_z^2}$$\n",
    "$$||\\vec{\\mathbf{x}}||_2 = \\begin{vmatrix}75\\\\-10\\\\6\\end{vmatrix} = \\sqrt{75^2 + (-10)^2 + 6^2} = \\sqrt{5625+100+36} = \\sqrt{5761} \\approx 75.90$$\n",
    "The result of the Pythagorean Theorem is known as the Euclidean distance, so this is also known as the __Euclidean Norm__."
   ]
  },
  {
   "attachments": {},
   "cell_type": "markdown",
   "id": "e3ee6c03",
   "metadata": {},
   "source": [
    "### Scalar Multiplication\n",
    "A scalar is a value that increases or decreases the size of a vector but doesn't change the direction. It is simply a number multiplied by the vector:\n",
    "$$10\\begin{pmatrix}5\\\\2\\end{pmatrix} = \\begin{pmatrix}10*5\\\\10*2\\end{pmatrix} = \\begin{pmatrix}50\\\\20\\end{pmatrix}$$\n",
    "\n",
    "* Show Graphically on https://www.desmos.com/calculator/femuk0totw"
   ]
  },
  {
   "attachments": {},
   "cell_type": "markdown",
   "id": "73eb51c2",
   "metadata": {},
   "source": [
    "### Basis Vectors"
   ]
  },
  {
   "attachments": {},
   "cell_type": "markdown",
   "id": "c5f94eb8",
   "metadata": {},
   "source": [
    "### Dot Product"
   ]
  },
  {
   "attachments": {},
   "cell_type": "markdown",
   "id": "8220b5f8",
   "metadata": {},
   "source": [
    "### The Matrix"
   ]
  },
  {
   "attachments": {},
   "cell_type": "markdown",
   "id": "9f57b77b",
   "metadata": {},
   "source": [
    "### Matrix Multiplication"
   ]
  }
 ],
 "metadata": {
  "kernelspec": {
   "display_name": "DataScience",
   "language": "python",
   "name": "python3"
  },
  "language_info": {
   "codemirror_mode": {
    "name": "ipython",
    "version": 3
   },
   "file_extension": ".py",
   "mimetype": "text/x-python",
   "name": "python",
   "nbconvert_exporter": "python",
   "pygments_lexer": "ipython3",
   "version": "3.9.10"
  },
  "vscode": {
   "interpreter": {
    "hash": "1c3b4ec50ccf284dd362e349fb7b4805a9e338df2b2ffaff49cb8c015a0bd926"
   }
  }
 },
 "nbformat": 4,
 "nbformat_minor": 5
}
