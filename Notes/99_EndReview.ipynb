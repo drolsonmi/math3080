{
 "cells": [
  {
   "cell_type": "markdown",
   "id": "8c61d86b",
   "metadata": {},
   "source": [
    "# End of the Semester Review\n",
    "__Math 3080: Fundamentals of Data Science__"
   ]
  },
  {
   "cell_type": "markdown",
   "id": "022e03dc",
   "metadata": {},
   "source": [
    "* What is (are) statistics?\n",
    "* What is Data Science?\n",
    "* Pi Model\n",
    "* The Data Cycle\n",
    "  * Data <--> Questions\n",
    "  * More about Data\n",
    "      * Types of Data\n",
    "      * Dimensional Data\n",
    "      * Labeled\n",
    "      * Temporal/Physical\n",
    "      * Big or Smart Data\n",
    "      * Limitations\n",
    "      * Documentation\n",
    "  * Data Analysis\n",
    "      * Obtaining Data\n",
    "      * Cleaning Data (Missing Data)\n",
    "      * Data Wrangling\n",
    "      * Graphs\n",
    "      * Linear Algebra\n",
    "        * Vectors\n",
    "        * Matrices\n",
    "        * Linear transformations\n",
    "        * Eigenvalues/Eigenvectors\n",
    "      * Summary Statistics\n",
    "        * Probability\n",
    "        * Mean/Median/Mode\n",
    "        * Variance/Standard Deviation\n",
    "        * Bayes Theorem\n",
    "  * Modeling\n",
    "      * What inputs/Outputs do we have/want\n",
    "      * Linear Regression\n",
    "      * Naive Bayes\n",
    "      * Logisic Regression\n",
    "      * Decision Trees\n",
    "  * More questions (cycle repeats)\n",
    "* Ethics"
   ]
  },
  {
   "cell_type": "markdown",
   "id": "f807b77e",
   "metadata": {},
   "source": []
  },
  {
   "cell_type": "markdown",
   "id": "c5498709",
   "metadata": {},
   "source": []
  },
  {
   "cell_type": "markdown",
   "id": "824d142f",
   "metadata": {},
   "source": []
  }
 ],
 "metadata": {
  "kernelspec": {
   "display_name": "Python 3 (ipykernel)",
   "language": "python",
   "name": "python3"
  },
  "language_info": {
   "codemirror_mode": {
    "name": "ipython",
    "version": 3
   },
   "file_extension": ".py",
   "mimetype": "text/x-python",
   "name": "python",
   "nbconvert_exporter": "python",
   "pygments_lexer": "ipython3",
   "version": "3.9.14"
  }
 },
 "nbformat": 4,
 "nbformat_minor": 5
}
