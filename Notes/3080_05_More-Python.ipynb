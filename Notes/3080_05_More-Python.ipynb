{
 "cells": [
  {
   "cell_type": "markdown",
   "id": "cc609342-5f5e-4da0-ac7c-fec76e688938",
   "metadata": {},
   "source": [
    "# Lecture 5 More Python Basics\n",
    "__Math 3080: Fundamentals of Data Science__\n",
    "\n",
    "Reading:\n",
    "* [McKinney, *Python for Data Science*, Chapters 2-4](https://wesmckinney.com/book/python-basics)\n",
    "\n",
    "Class notes are found through GitHub. As changes are made, they will automatically be uploaded to GitHub. A link to the repository is on Canvas."
   ]
  },
  {
   "cell_type": "markdown",
   "id": "6bcdc934-fd3d-4843-9d64-d0ab6568b8f7",
   "metadata": {},
   "source": [
    "## Virtual Environments\n",
    "Within Data Science, we use many tools. However, sometimes these tools don't work well with each other. For example, installing tools for Machine Learning may interfere with tools for Data Analysis. So, we create something called *Virtual Environments* which are setups within your computer where you can customize what is installed.\n",
    "\n",
    "* *Anaconda*\n",
    "  * To create a new virtual enviornment in *Anaconda*: `conda create -n Math3080`\n",
    "  * To start a virtual environment in *Anaconda*: `conda activate Math3080`\n",
    "  * To close a virtual environment in *Anaconda*: `conda deactivate`\n",
    "* *Python*\n",
    "  * To create a new virtual environment in *Python*: `python3 -m venv $HOME/.virtualenvs/Math3080`\n",
    "  * To start a virtual environment in *Python*: `source $HOME/.virtualenvs/Math3080/bin/activate`\n",
    "  * To close a virtual environment in *Python*: `deactivate`\n",
    "  \n",
    "More information can be found on the *Anaconda* documentation page:\n",
    "* https://docs.conda.io/projects/conda/en/latest/user-guide/tasks/manage-environments.html\n",
    "\n",
    "Once virtual environments are made, you should be able to see an option within Jupyter to create Notebooks/Consoles within that environment."
   ]
  },
  {
   "cell_type": "markdown",
   "id": "5a7d06dc-24cf-43c4-a928-abade55c6b2e",
   "metadata": {},
   "source": [
    "## Installing Packages\n",
    "Most basic functions are installed directly into Python. But to Python more versatile, the desired packages are left for the user to load into Python.\n",
    "\n",
    "__To install packages__:\n",
    "  * To install packages within an Anaconda environment: `conda install numpy`\n",
    "  * To install packages within a Python environment: `pip install numpy`\n",
    "\n",
    "__To load packages__:\n",
    "```python\n",
    "import numpy\n",
    "```\n",
    "\n",
    "Often, we give the package an abbreviation to make it easier to work with:\n",
    "```python\n",
    "import numpy as np\n",
    "```\n",
    "\n",
    "Sometimes, we only want one or two specific functions from the package:\n",
    "```python\n",
    "from numpy import sqrt\n",
    "from numpy.random import randint\n",
    "```"
   ]
  },
  {
   "cell_type": "code",
   "execution_count": null,
   "id": "a5b52ba1-1dc6-4399-883a-2e780946ed09",
   "metadata": {},
   "outputs": [],
   "source": [
    "sqrt(16)"
   ]
  },
  {
   "cell_type": "code",
   "execution_count": null,
   "id": "fa4cb0f3-c8a0-475c-be5d-ecf32a2327ff",
   "metadata": {},
   "outputs": [],
   "source": [
    "from numpy import sqrt\n",
    "sqrt(16)"
   ]
  },
  {
   "cell_type": "markdown",
   "id": "24346eb4",
   "metadata": {},
   "source": [
    "## Connecting Virtual Environment to Jupyter Notebook\n",
    "* After Jupyter is installed, install the kernel within the virtual environment\n",
    "  * In *venv*: `pip install ipykernel`\n",
    "  * In *anaconda*: `conda install -c anaconda ipykernel`\n",
    "* Connect the new kernel with Jupyter\n",
    "  * `python -m ipykernel install --user --name Math3080 --display-name \"Python (DataScience)\"`\n",
    "* Reload Jupyter Lab/Notebook"
   ]
  },
  {
   "cell_type": "markdown",
   "id": "32e0ebb4-54a8-468a-953a-d15ee915fb26",
   "metadata": {},
   "source": [
    "## Creating an Array of Random Numbers"
   ]
  },
  {
   "cell_type": "code",
   "execution_count": null,
   "id": "9f86d3c7-e3ae-4de0-9422-ad9b8e50be21",
   "metadata": {},
   "outputs": [],
   "source": [
    "import numpy as np\n",
    "rnd_nums = np.random.randint(50, size=120) # 120 values from 0 to 50\n",
    "\n",
    "rnd_nums"
   ]
  },
  {
   "cell_type": "code",
   "execution_count": null,
   "id": "c55fc982-7810-4227-b3be-694217d7d53d",
   "metadata": {},
   "outputs": [],
   "source": [
    "from numpy.random import randint\n",
    "rnd_nums = randint(50, size=120)\n",
    "\n",
    "rnd_nums"
   ]
  },
  {
   "cell_type": "code",
   "execution_count": null,
   "id": "bcf205e1-4d80-489d-b5c5-f46066137e05",
   "metadata": {},
   "outputs": [],
   "source": [
    "np.random.rand(2,4)"
   ]
  },
  {
   "cell_type": "markdown",
   "id": "60060bb4-5ee3-4177-ac92-39d9de39c494",
   "metadata": {},
   "source": [
    "## For Loops"
   ]
  },
  {
   "cell_type": "code",
   "execution_count": null,
   "id": "7901458c-9f6d-4528-88e9-a61d0223785c",
   "metadata": {},
   "outputs": [],
   "source": [
    "for i in range(5):\n",
    "    print(rnd_nums[i]*2)"
   ]
  },
  {
   "cell_type": "code",
   "execution_count": null,
   "id": "6b1090f0-0937-4047-9730-039dfa87026a",
   "metadata": {},
   "outputs": [],
   "source": [
    "total = 0\n",
    "for i in range(len(rnd_nums)):\n",
    "    total += rnd_nums[i]\n",
    "\n",
    "total"
   ]
  },
  {
   "cell_type": "code",
   "execution_count": null,
   "id": "2cce8b82-029c-4274-862f-f013709dbac7",
   "metadata": {},
   "outputs": [],
   "source": [
    "total = 0\n",
    "for value in rnd_nums:\n",
    "    total += value\n",
    "\n",
    "total"
   ]
  },
  {
   "cell_type": "code",
   "execution_count": null,
   "id": "0fe6cc55-b533-4b97-a8b5-b57b8d77da9f",
   "metadata": {},
   "outputs": [],
   "source": [
    "doubles = [value*2 for value in rnd_nums]\n",
    "doubles[:5]"
   ]
  },
  {
   "cell_type": "markdown",
   "id": "74e62d53-386e-4aa9-9f79-cced281e3135",
   "metadata": {},
   "source": [
    "## If Statments"
   ]
  },
  {
   "cell_type": "code",
   "execution_count": null,
   "id": "c809c477-f346-4047-97bf-c89df533a35b",
   "metadata": {},
   "outputs": [],
   "source": [
    "evens = []\n",
    "\n",
    "for value in rnd_nums:\n",
    "    if (value % 2) == 0:\n",
    "        evens.append(True)\n",
    "    else:\n",
    "        evens.append(False)\n",
    "\n",
    "print(rnd_nums[:10])\n",
    "print(evens[:10])"
   ]
  },
  {
   "cell_type": "code",
   "execution_count": null,
   "id": "f6d8a5e2-b8e6-4f0c-8164-c3aca5cf188e",
   "metadata": {},
   "outputs": [],
   "source": [
    "evens = []\n",
    "for value in rnd_nums:\n",
    "    evens.append(True if (value%2)==0 else False)\n",
    "\n",
    "evens[:10]"
   ]
  },
  {
   "cell_type": "code",
   "execution_count": null,
   "id": "6ba61666-b641-4fcc-ad39-9ec08a1bce05",
   "metadata": {},
   "outputs": [],
   "source": [
    "evens = [True if (value%2)==0 else False for value in rnd_nums]\n",
    "evens[:10]"
   ]
  },
  {
   "cell_type": "markdown",
   "id": "a285cc48-fd5a-438b-9b0c-2f8a29970d98",
   "metadata": {},
   "source": [
    "## Functions\n",
    "__What is a function?__\n",
    "* How to make a function\n",
    "  * def\n",
    "  * lambda"
   ]
  },
  {
   "cell_type": "code",
   "execution_count": null,
   "id": "07552849-36ec-4258-8aa3-c09c96e572d6",
   "metadata": {},
   "outputs": [],
   "source": [
    "def power_function(x,y):\n",
    "    result = 1\n",
    "    for i in range(y):\n",
    "        result *= x\n",
    "    return result\n",
    "\n",
    "power_function(2,3)"
   ]
  },
  {
   "cell_type": "code",
   "execution_count": null,
   "id": "2cea77c5-6bb9-492c-935e-d32f4651aa76",
   "metadata": {},
   "outputs": [],
   "source": [
    "power_ftn = lambda x,y: x**y\n",
    "power_ftn(2,5)"
   ]
  },
  {
   "cell_type": "markdown",
   "id": "fff5f25d-6553-4fcf-a677-c89fd3cb78aa",
   "metadata": {},
   "source": [
    "### Docstrings"
   ]
  },
  {
   "cell_type": "code",
   "execution_count": null,
   "id": "2d3a13d7-1a94-4011-8637-5e315e40fc07",
   "metadata": {},
   "outputs": [],
   "source": [
    "def subtract_one(x):\n",
    "    \"\"\" Here is a description of the function. \n",
    "    And a second line to the description. \"\"\"\n",
    "    return x-1"
   ]
  },
  {
   "cell_type": "markdown",
   "id": "94604fb2-d36f-4704-9add-990bdac8a3fc",
   "metadata": {},
   "source": [
    "### Loading functions from a file"
   ]
  },
  {
   "cell_type": "code",
   "execution_count": null,
   "id": "467f269e-36cd-4d09-8b35-4017f1ba1e83",
   "metadata": {},
   "outputs": [],
   "source": [
    "from function_file import find_power"
   ]
  },
  {
   "cell_type": "code",
   "execution_count": null,
   "id": "0ff090b1-79ed-4139-9ea6-df1fc4e91a08",
   "metadata": {},
   "outputs": [],
   "source": [
    "find_power?"
   ]
  },
  {
   "cell_type": "code",
   "execution_count": null,
   "id": "152ed5ca-078e-4c6f-82f4-3f440de3d13c",
   "metadata": {},
   "outputs": [],
   "source": [
    "find_power??"
   ]
  },
  {
   "cell_type": "code",
   "execution_count": null,
   "id": "7c62b78a-fb58-494f-8efa-1af5d92478ea",
   "metadata": {},
   "outputs": [],
   "source": [
    "find_power(2,5)"
   ]
  }
 ],
 "metadata": {
  "kernelspec": {
   "display_name": "Python (DM)",
   "language": "python",
   "name": "datamining"
  },
  "language_info": {
   "codemirror_mode": {
    "name": "ipython",
    "version": 3
   },
   "file_extension": ".py",
   "mimetype": "text/x-python",
   "name": "python",
   "nbconvert_exporter": "python",
   "pygments_lexer": "ipython3",
   "version": "3.9.14"
  }
 },
 "nbformat": 4,
 "nbformat_minor": 5
}
