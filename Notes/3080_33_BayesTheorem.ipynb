{
 "cells": [
  {
   "cell_type": "markdown",
   "metadata": {},
   "source": [
    "# Bayes Theorem\n",
    "__Math 3080: Fundamentals of Data Science__\n",
    "\n",
    "Reading:\n",
    "* [Matt Parker and Hannah Fry on Bayes' Theorem](https://www.youtube.com/watch?v=7GgLSnQ48os)"
   ]
  },
  {
   "cell_type": "markdown",
   "metadata": {},
   "source": [
    "-----\n",
    "## The Theorem\n",
    "Thomas Bayes came up with a thought experiment and wrote it ddown. After he died, this thought experiment was found by a family friend (Richard Price). Mathematicians eventually came up with a formula to explain this thought experiment, which came to be known as __Bayes' Theorem__.\n",
    "\n",
    "Here's the theorem:\n",
    "$$P(A) = \\frac{\\text{\\# of outcomes in A}}{\\text{Total \\# of outcomes}}$$\n",
    "$$P(B|A) = \\frac{\\text{\\# of outcomes in both A and B}}{\\text{\\# of outcomes in A}}$$\n",
    "$$P(A~and~B) = P(A)P(B|A) \\qquad P(B~and~A) = P(B)P(A|B)$$\n",
    "\n",
    "Discuss example with cards.\n",
    "$$P(Q) = 4/52 = 1/13 \\qquad P(H) = 13/52 = 1/4$$\n",
    "$$P(H|Q) = 1/4$$\n",
    "$$P(Q~and~H) = P(Q)P(H|Q) = \\frac{4}{52}\\frac{1}{4} = \\frac{1}{52}$$\n",
    "\n",
    "$$P(A)P(B|A) = P(B)P(A|B)$$\n",
    "$$P(B|A) = \\frac{P(B)P(A|B)}{P(A)}$$"
   ]
  },
  {
   "cell_type": "markdown",
   "metadata": {},
   "source": [
    "This is Bayes' Theorem. But what does it mean?\n",
    "\n",
    "* Do the thought experiment\n",
    "* Notice that each piece of information did not determine what you believed was true. Rather, each piece of information *updated* your belief of what is true.\n",
    "    * The accumulation of information led to a belief"
   ]
  },
  {
   "cell_type": "markdown",
   "metadata": {},
   "source": [
    "So, what does this have to do with Bayes' experiment? Let's give names to A and B:\n",
    "$$P(Belief|Information) = \\frac{P(Belief)P(Information|Belief)}{P(Information)}$$\n",
    "\n",
    "or perhaps another set of names:\n",
    "$$P(Hypothesis|Evidence) = \\frac{P(Hypothesis)P(Evidence|Hypothesis)}{P(Evidence)}$$\n",
    "\n",
    "* $P(Hypothesis)$ is known as the __Prior__\n",
    "* $P(Evidence|Hypothesis)$ is known as the __Likelihood__\n",
    "\n",
    "Take an example of a doctor, trying to diagnose a patient. Here is the previous data:\n",
    "* Condition = 0 says condition is not present\n",
    "* Condition = 1 says conddition may or may not be present\n",
    "* Condition = 2 says condition is present"
   ]
  },
  {
   "cell_type": "code",
   "execution_count": 10,
   "metadata": {},
   "outputs": [
    {
     "data": {
      "text/html": [
       "<div>\n",
       "<style scoped>\n",
       "    .dataframe tbody tr th:only-of-type {\n",
       "        vertical-align: middle;\n",
       "    }\n",
       "\n",
       "    .dataframe tbody tr th {\n",
       "        vertical-align: top;\n",
       "    }\n",
       "\n",
       "    .dataframe thead th {\n",
       "        text-align: right;\n",
       "    }\n",
       "</style>\n",
       "<table border=\"1\" class=\"dataframe\">\n",
       "  <thead>\n",
       "    <tr style=\"text-align: right;\">\n",
       "      <th></th>\n",
       "      <th>Condition</th>\n",
       "      <th>Diagnosis</th>\n",
       "    </tr>\n",
       "  </thead>\n",
       "  <tbody>\n",
       "    <tr>\n",
       "      <th>0</th>\n",
       "      <td>0</td>\n",
       "      <td>0</td>\n",
       "    </tr>\n",
       "    <tr>\n",
       "      <th>1</th>\n",
       "      <td>0</td>\n",
       "      <td>0</td>\n",
       "    </tr>\n",
       "    <tr>\n",
       "      <th>2</th>\n",
       "      <td>1</td>\n",
       "      <td>1</td>\n",
       "    </tr>\n",
       "    <tr>\n",
       "      <th>3</th>\n",
       "      <td>0</td>\n",
       "      <td>0</td>\n",
       "    </tr>\n",
       "    <tr>\n",
       "      <th>4</th>\n",
       "      <td>2</td>\n",
       "      <td>1</td>\n",
       "    </tr>\n",
       "    <tr>\n",
       "      <th>5</th>\n",
       "      <td>1</td>\n",
       "      <td>1</td>\n",
       "    </tr>\n",
       "    <tr>\n",
       "      <th>6</th>\n",
       "      <td>0</td>\n",
       "      <td>0</td>\n",
       "    </tr>\n",
       "    <tr>\n",
       "      <th>7</th>\n",
       "      <td>2</td>\n",
       "      <td>1</td>\n",
       "    </tr>\n",
       "    <tr>\n",
       "      <th>8</th>\n",
       "      <td>2</td>\n",
       "      <td>1</td>\n",
       "    </tr>\n",
       "    <tr>\n",
       "      <th>9</th>\n",
       "      <td>1</td>\n",
       "      <td>0</td>\n",
       "    </tr>\n",
       "    <tr>\n",
       "      <th>10</th>\n",
       "      <td>0</td>\n",
       "      <td>0</td>\n",
       "    </tr>\n",
       "    <tr>\n",
       "      <th>11</th>\n",
       "      <td>0</td>\n",
       "      <td>1</td>\n",
       "    </tr>\n",
       "    <tr>\n",
       "      <th>12</th>\n",
       "      <td>2</td>\n",
       "      <td>0</td>\n",
       "    </tr>\n",
       "    <tr>\n",
       "      <th>13</th>\n",
       "      <td>2</td>\n",
       "      <td>1</td>\n",
       "    </tr>\n",
       "  </tbody>\n",
       "</table>\n",
       "</div>"
      ],
      "text/plain": [
       "    Condition  Diagnosis\n",
       "0           0          0\n",
       "1           0          0\n",
       "2           1          1\n",
       "3           0          0\n",
       "4           2          1\n",
       "5           1          1\n",
       "6           0          0\n",
       "7           2          1\n",
       "8           2          1\n",
       "9           1          0\n",
       "10          0          0\n",
       "11          0          1\n",
       "12          2          0\n",
       "13          2          1"
      ]
     },
     "metadata": {},
     "output_type": "display_data"
    }
   ],
   "source": [
    "import numpy as np\n",
    "import pandas as pd\n",
    "import seaborn as sns\n",
    "\n",
    "numbers = {\n",
    "    #'Condition':[0,0,1,0,2,1,0,2,2,1,0,0,2,2,1,2,0,2,1,0,1,1,2,2,0,0,1,0,2],\n",
    "    #'Diagnosis':[0,0,1,0,1,1,0,1,1,0,0,1,0,1,1,0,0,1,1,0,0,1,1,1,0,1,0,0,0]\n",
    "    'Condition':[0,0,1,0,2,1,0,2,2,1,0,0,2,2],\n",
    "    'Diagnosis':[0,0,1,0,1,1,0,1,1,0,0,1,0,1]\n",
    "}\n",
    "\n",
    "numbers = pd.DataFrame(numbers)\n",
    "display(numbers)"
   ]
  },
  {
   "cell_type": "code",
   "execution_count": 14,
   "metadata": {},
   "outputs": [
    {
     "data": {
      "text/html": [
       "<div>\n",
       "<style scoped>\n",
       "    .dataframe tbody tr th:only-of-type {\n",
       "        vertical-align: middle;\n",
       "    }\n",
       "\n",
       "    .dataframe tbody tr th {\n",
       "        vertical-align: top;\n",
       "    }\n",
       "\n",
       "    .dataframe thead th {\n",
       "        text-align: right;\n",
       "    }\n",
       "</style>\n",
       "<table border=\"1\" class=\"dataframe\">\n",
       "  <thead>\n",
       "    <tr style=\"text-align: right;\">\n",
       "      <th>Condition</th>\n",
       "      <th>0</th>\n",
       "      <th>1</th>\n",
       "      <th>2</th>\n",
       "    </tr>\n",
       "    <tr>\n",
       "      <th>Diagnosis</th>\n",
       "      <th></th>\n",
       "      <th></th>\n",
       "      <th></th>\n",
       "    </tr>\n",
       "  </thead>\n",
       "  <tbody>\n",
       "    <tr>\n",
       "      <th>0</th>\n",
       "      <td>5.0</td>\n",
       "      <td>1.0</td>\n",
       "      <td>1.0</td>\n",
       "    </tr>\n",
       "    <tr>\n",
       "      <th>1</th>\n",
       "      <td>1.0</td>\n",
       "      <td>2.0</td>\n",
       "      <td>4.0</td>\n",
       "    </tr>\n",
       "  </tbody>\n",
       "</table>\n",
       "</div>"
      ],
      "text/plain": [
       "Condition    0    1    2\n",
       "Diagnosis               \n",
       "0          5.0  1.0  1.0\n",
       "1          1.0  2.0  4.0"
      ]
     },
     "execution_count": 14,
     "metadata": {},
     "output_type": "execute_result"
    }
   ],
   "source": [
    "#numbers.pivot_table(index='Condition', columns='Diagnosis', values=1, aggfunc='sum')\n",
    "numbers_long = numbers.groupby(numbers.columns.tolist(), as_index=False).size()\n",
    "nums = numbers_long.pivot_table(index='Diagnosis', columns='Condition', values='size')\n",
    "nums"
   ]
  },
  {
   "cell_type": "code",
   "execution_count": 31,
   "metadata": {},
   "outputs": [
    {
     "name": "stdout",
     "output_type": "stream",
     "text": [
      "0.5 0.35714285714285715 0.2857142857142857\n",
      "0.40\n"
     ]
    }
   ],
   "source": [
    "# What is the probability of being diagnosed if your test comes out as a 2?\n",
    "P_D = numbers[numbers['Diagnosis'] == 1]['Diagnosis'].count() / len(numbers)\n",
    "P_CD = numbers[(numbers['Diagnosis'] == 1) & (numbers['Condition'] == 2)]['Diagnosis'].count() / len(numbers)\n",
    "P_C = numbers[numbers['Condition'] == 2]['Diagnosis'].count() / len(numbers)\n",
    "\n",
    "print(P_D, P_C, P_CD)\n",
    "\n",
    "P_D1C2 = P_D*P_CD/P_C\n",
    "print(f\"{P_D1C2:0.2f}\")"
   ]
  },
  {
   "cell_type": "code",
   "execution_count": null,
   "metadata": {},
   "outputs": [],
   "source": []
  }
 ],
 "metadata": {
  "kernelspec": {
   "display_name": "DataScience",
   "language": "python",
   "name": "python3"
  },
  "language_info": {
   "codemirror_mode": {
    "name": "ipython",
    "version": 3
   },
   "file_extension": ".py",
   "mimetype": "text/x-python",
   "name": "python",
   "nbconvert_exporter": "python",
   "pygments_lexer": "ipython3",
   "version": "3.9.14"
  }
 },
 "nbformat": 4,
 "nbformat_minor": 2
}
