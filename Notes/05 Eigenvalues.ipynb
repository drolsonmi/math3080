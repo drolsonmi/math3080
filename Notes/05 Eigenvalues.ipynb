{
 "cells": [
  {
   "attachments": {},
   "cell_type": "markdown",
   "metadata": {},
   "source": [
    "# 05 Eigenvalues\n",
    "__Math 3080: Fundamentals of Data Science__\n",
    "\n",
    "Math 3080-Specific Lecture\n",
    "\n",
    "Reading: \n",
    "* Phillips, Chapter 3\n",
    "* [3 Blue 1 Brown YouTube Series on Linear Algebra](https://www.youtube.com/playlist?list=PL0-GT3co4r2y2YErbmuJw2L5tW4Ew2O5B) - Specifically Chapter 14\n",
    "* Grus, Chapter 4"
   ]
  },
  {
   "attachments": {},
   "cell_type": "markdown",
   "metadata": {},
   "source": [
    "-----\n",
    "__Outline__\n",
    "* The (L1) Norm ?\n",
    "* The Infinity Norm ?\n",
    "-----"
   ]
  },
  {
   "cell_type": "code",
   "execution_count": null,
   "metadata": {},
   "outputs": [],
   "source": []
  }
 ],
 "metadata": {
  "language_info": {
   "name": "python"
  },
  "orig_nbformat": 4
 },
 "nbformat": 4,
 "nbformat_minor": 2
}
