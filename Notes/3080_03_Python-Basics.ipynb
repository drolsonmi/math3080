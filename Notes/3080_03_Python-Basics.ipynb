{
 "cells": [
  {
   "cell_type": "markdown",
   "id": "02dae5e2",
   "metadata": {},
   "source": [
    "# Lecture 3 Python Basics\n",
    "__Math 3080: Fundamentals of Data Science__\n",
    "\n",
    "Reading:\n",
    "* [McKinney, *Python for Data Science*, Chapters 2-4](https://wesmckinney.com/book/python-basics)\n",
    "\n",
    "Class notes are found through GitHub. As changes are made, they will automatically be uploaded to GitHub. A link to the repository is on Canvas."
   ]
  },
  {
   "cell_type": "markdown",
   "id": "619b2dc2",
   "metadata": {
    "tags": []
   },
   "source": [
    "## Installing Python\n",
    "__MacOS__:\n",
    "* Since MacOS is unix-based, python is automatically installed on your machine. Open a terminal and run `python`.\n",
    "\n",
    "__Windows__:\n",
    "1. Google CoLab\n",
    "2. Anaconda or Miniconda\n",
    "3. Install WSL on Python\n",
    "4. Install Python directly\n",
    "\n",
    "For now, I would recommend *Google CoLab*. If you want it locally, *Anaconda* is the easiest to work with. It does install a lot of extra (non-essential) packages, but this will work quite well until we get the hang of using Python. You can always learn how to install Python directly on your computer and/or WSL later (I'm happy to show you if you would like).\n",
    "\n",
    "In addition to having Python on your computer, you will need a programming environment, or an Integrated Development Environment (IDE).\n",
    "* Jupyter (or Python Notebooks)\n",
    "  * Simple environment which separates Python into blocks of code - only need to run one block at a time instead of the entire program\n",
    "  * Comes pre-installed in Anaconda\n",
    "  * Google CoLab uses an environment very similar to Jupyter\n",
    "* Microsoft VisualStudio Code\n",
    "  * Once you have a kernel set up, VSCode can recognize it\n",
    "  * Reads Jupyter .ipynb files\n",
    "* Spyder\n",
    "  * Nice layout for code, data displays, and figures all in one window\n",
    "  * Readily available in *Anaconda*"
   ]
  },
  {
   "cell_type": "markdown",
   "id": "e0226866",
   "metadata": {},
   "source": [
    "### Python from the Command Line\n",
    "From the command line, run `python`.\n",
    "\n",
    "```python\n",
    "1+4\n",
    "print('Hello World!')\n",
    "print('I am',30 + 5,'years old!')\n",
    "print('I am {0} {1} old'.format(30+5,'years'))\n",
    "```\n",
    "\n",
    "To exit, type `exit()`"
   ]
  },
  {
   "cell_type": "markdown",
   "id": "3b6d0e41",
   "metadata": {},
   "source": [
    "### Python from the file\n",
    "Alternatively, save code in a file. For example, save the following in the file *Hello.py*:\n",
    "```python\n",
    "print('Hello World! My name is Michael.')\n",
    "```\n",
    "\n",
    "Then from the command line, type `python Hello.py`."
   ]
  },
  {
   "cell_type": "markdown",
   "id": "724c79b2",
   "metadata": {},
   "source": [
    "### IPython\n",
    "An alternative to python is IPython. Advantages:\n",
    "\n",
    "#### Tab-Completion\n",
    "Press `Tab` to complete a command, filename, variable, etc.\n",
    "\n",
    "#### Magic Functions\n",
    "Certain command-line functions can be completed within python. Preface with `%`. For example, within iPython, type\n",
    "```python\n",
    "%pwd\n",
    "%mkdir tmp\n",
    "%cd tmp\n",
    "```\n",
    "\n",
    "They also make coding easier. For example, if you want to copy-paste a block of code, try:\n",
    "```python\n",
    "%paste\n",
    "%cpaste\n",
    "```\n",
    "\n",
    "#### Introspection\n",
    "If you want to know more about a function, type a `?` after the command:\n",
    "```python\n",
    "print?\n",
    "```\n",
    "This also works for variables and other objects within python. Any information available within your python installation will be displayed.\n",
    "\n",
    "If you use `??`, source-code will also be displayed."
   ]
  },
  {
   "cell_type": "markdown",
   "id": "582de422",
   "metadata": {
    "tags": []
   },
   "source": [
    "## Jupyter Notebook / Lab\n",
    "Jupyter Notebook runs just like IPython. They were originally one and the same. In Jupyter Notebook, your code is separated in cells. This is a happy balance between command-line and file-stored programs. You have other advantages:\n",
    "\n",
    "### HTML based\n",
    "Output is HTML based, so is much cleaner than a text-based command-line output.\n",
    "\n",
    "### Inline images\n",
    "When we talk about images, you will be able to see your images within Notebook. You would not be able to see these images in the command-line.\n",
    "\n",
    "### More on Introspection\n",
    "Just like IPython, you can use the introspection commands (`?` and `??`) to learn more of a function. But if you are wanting that information without leaving your work, you can type `Shift-Tab`. This will produce a pop-up window with the same information as `?`. This allows quick reference while typing your program.\n",
    "\n",
    "### Markdown\n",
    "Some cells can be turned into __Markdown__ cells. This is simplified HTML coding, providing an easy way to annotate your work.\n",
    "\n",
    "### Lab\n",
    "Jupyter Lab is based on Notebook, but provides a setup with the following in one window:\n",
    "* File Directory\n",
    "* Tabs for all open files\n",
    "  * Tabs can be tiled\n",
    "* Console (Like command-line input, but with HTML output)\n",
    "* Terminal (for file browsing purposes, or for executing file-stored python programs...)\n",
    "* Markdown files"
   ]
  },
  {
   "cell_type": "markdown",
   "id": "df6b8f88",
   "metadata": {},
   "source": [
    "## Interrupting\n",
    "If you have a run-away code (e.g. infinite loop), you can \n",
    "1. use `Ctrl-c` to interrupt the command (command-line, IPython, or Jupyter)\n",
    "2. go to the \"Kernel\" menu and select \"Interrupt\""
   ]
  },
  {
   "cell_type": "markdown",
   "id": "25d4e223",
   "metadata": {},
   "source": [
    "## Closing Jupyter Notebook or Jupyter Lab\n",
    "When you started Notebook/Lab, you saw that a terminal window opened. This is listing all the processes happening within Jupyter. As long as Jupyter is running, it is using RAM and Processing power.\n",
    "\n",
    "To close Notebook or Lab,\n",
    "1. Shutdown all running Kernels\n",
    "2. Quit from Notebook/Lab in the File Menu\n",
    "3. Press `Ctrl-C` twice in the terminal window\n",
    "\n",
    "You could just do step (3), but could cause problems with the hardware of the computer, leaving stacks of information in memory and processes in the processor. It is best to properly close every time."
   ]
  },
  {
   "cell_type": "markdown",
   "id": "9b9d1580-5a6f-4a57-a4d5-ff6bb7e4a332",
   "metadata": {},
   "source": [
    "# More about Python"
   ]
  },
  {
   "cell_type": "markdown",
   "id": "cb1be6ac-8f28-44a8-b801-c497fcfe570f",
   "metadata": {},
   "source": [
    "## Modules / Packages\n",
    "Python comes with a lot of tools. But other tools have been created that we can attach to Python. These tools are assembled in __packages__ (also called __modules__). Some packages are already installed. Others, we have to install by hand:\n",
    "* Open a terminal window\n",
    "* Run `pip install numpy` substituting *numpy* for whatever package you are wanting to install\n",
    "\n",
    "We can attach these packages using the `import` command. Then we access the tools (functions) by calling *package.function*:"
   ]
  },
  {
   "cell_type": "code",
   "execution_count": 1,
   "id": "a5613ec6",
   "metadata": {},
   "outputs": [
    {
     "data": {
      "text/plain": [
       "0.49999999999999994"
      ]
     },
     "execution_count": 1,
     "metadata": {},
     "output_type": "execute_result"
    }
   ],
   "source": [
    "import math\n",
    "math.sin(math.pi/6)"
   ]
  },
  {
   "cell_type": "markdown",
   "id": "523be1f4",
   "metadata": {},
   "source": [
    "Common packages that we use:\n",
    "* math\n",
    "* NumPy\n",
    "* pandas\n",
    "* MatplotLib\n",
    "* Seaborn\n",
    "* SciPy\n",
    "* ...many others...\n",
    "\n",
    "We can also give nicknames to the packages to make them easier to access:"
   ]
  },
  {
   "cell_type": "code",
   "execution_count": 3,
   "id": "abe0c8e9-7a48-4d65-a3b6-80cda5e8070d",
   "metadata": {},
   "outputs": [
    {
     "data": {
      "text/plain": [
       "array([0, 1, 2, 3, 4, 5, 6, 7, 8, 9])"
      ]
     },
     "execution_count": 3,
     "metadata": {},
     "output_type": "execute_result"
    }
   ],
   "source": [
    "import numpy as np\n",
    "np.array([i for i in range(10)])"
   ]
  },
  {
   "cell_type": "markdown",
   "id": "4b1c1658-4517-4003-a485-477c990470b6",
   "metadata": {},
   "source": [
    "We can also import specific functions from within a package. Note that when you do this, there is no need to call the package name any more - just call the package itself."
   ]
  },
  {
   "cell_type": "code",
   "execution_count": 5,
   "id": "15c3ceb2-f90b-489e-80ff-37bafc5499fa",
   "metadata": {},
   "outputs": [
    {
     "data": {
      "text/plain": [
       "6.283185307179586"
      ]
     },
     "execution_count": 5,
     "metadata": {},
     "output_type": "execute_result"
    }
   ],
   "source": [
    "from math import pi\n",
    "2*pi"
   ]
  },
  {
   "cell_type": "markdown",
   "id": "635d172a-1308-43d2-a688-dfb8713b51f4",
   "metadata": {},
   "source": [
    "__What is a module?__\n",
    "\n",
    "To best answer this, we also need to define __classes__, __objects__. Python has the ability to work as an object-oriented language. To better understand this, consider a house that is to be built.\n",
    "* A __class__ is a specific type within programming, and what you can do to this class is different than any other classes.\n",
    "* An __object__ is a specific instance of a class.\n",
    "* A __module__ is a package with different tools that can be applied to any object in the class.\n",
    "* A __method__ is a specific tool within the module, which can sometimes be mistaken for a function.\n",
    "\n",
    "Here are two examples of the differences between classes, objects, and modules:\n",
    "\n",
    "|     | $\\sqrt{16}$ vs. \"sixteen\" | Building a House |\n",
    "| ---: | :---: | :---: |\n",
    "| __Class__ | The number (16) is an integer, and we can apply certain functions to it. $\\sqrt{16} = 4$. Now, try to apply the square root the word $\\sqrt{sixteen}$. You can't take a square root of a word. | For the house you are building, the __class__ would be the plan for what you're building: a house. Defining this determines the tools you will need to build the house. (For example, you wouldn't bring in a 10-story crane!) |\n",
    "| __Object__ | 16 is an integer. In other words, the number (16) is an object of the class integer and inherits the properties of an integer. | The actual physical house would be the actual object. It is the physical construction of the *house* class. |\n",
    "| __Module__ | The square root function is part of a math package, or *module*, which can be applied to 16 (the *object*) because it is an integer (the *class*) | The set of tools (*module*) that you can use to build your house (*object*) in the way the plans (*class*) instruct. |\n",
    "| __Method__ | An individual function housed within a module. For example, the square root function is a method that can be applied to integers, and is housed within the math module. | A hammer is a tool in the toolset, which can be applied to build the house. |"
   ]
  },
  {
   "cell_type": "markdown",
   "id": "66ab4c7f-984c-4644-9274-092b40de9c7e",
   "metadata": {},
   "source": [
    "* A function has an input and produces an output\n",
    "* A method is a tool used to work on a given object\n",
    "\n",
    "Not all methods can be used as functions. 'sqrt' is a function that can be applied to integers, but does not work as a method."
   ]
  },
  {
   "cell_type": "code",
   "execution_count": 52,
   "id": "c1ccb9f3-252c-48db-ad5b-960f7e40c845",
   "metadata": {},
   "outputs": [
    {
     "data": {
      "text/plain": [
       "16"
      ]
     },
     "execution_count": 52,
     "metadata": {},
     "output_type": "execute_result"
    }
   ],
   "source": [
    "import numpy as np       # numpy is a module\n",
    "y = np.array([1,4,9,16]) # y is an object of class array\n",
    "max(y)                   # max() is a function"
   ]
  },
  {
   "cell_type": "code",
   "execution_count": 53,
   "id": "e5ef22a6-fa4c-4d52-93a2-dab7ac9f2735",
   "metadata": {
    "tags": []
   },
   "outputs": [
    {
     "data": {
      "text/plain": [
       "16"
      ]
     },
     "execution_count": 53,
     "metadata": {},
     "output_type": "execute_result"
    }
   ],
   "source": [
    "y.max()                  # .max() is a method, or a property applied to the object y of class array"
   ]
  },
  {
   "cell_type": "markdown",
   "id": "f5bfcdb7-b375-41f3-bccb-2142934fe101",
   "metadata": {},
   "source": [
    "## Virtual Environments\n",
    "Within Data Science, we use many tools. However, sometimes these tools don't work well with each other. For example, installing tools for Machine Learning may interfere with tools for Data Analysis. So, we create something called *Virtual Environments* which are setups within your computer where you can customize what is installed.\n",
    "\n",
    "* To create a new virtual enviornment in *Anaconda*:\n",
    "  * `conda create -n {EnvName}`\n",
    "  * `conda create -n Math3080`\n",
    "* To start a new virtual environment in *Anaconda*:\n",
    "  * `conda activate {EnvName}`\n",
    "  * `conda activate Math3080`\n",
    "* To install packages within an environment:\n",
    "  * `pip install numpy`\n",
    "* To close a virtual environment in *Anaconda*:\n",
    "  * `conda deactivate`\n",
    "  \n",
    "More information can be found on the *Anaconda* documentation page:\n",
    "* https://docs.conda.io/projects/conda/en/latest/user-guide/tasks/manage-environments.html\n",
    "\n",
    "Once virtual environments are made, you should be able to see an option within Jupyter to create Notebooks/Consoles within that environment."
   ]
  },
  {
   "cell_type": "markdown",
   "id": "59d4884b-545f-4d3e-824b-aba3c137b817",
   "metadata": {},
   "source": [
    "## Basic Python Programming"
   ]
  },
  {
   "cell_type": "markdown",
   "id": "94d46b2f-3167-4e32-95a1-83b851bac44e",
   "metadata": {
    "tags": []
   },
   "source": [
    "### Tips for Programming\n",
    "* Keep code clean and organized\n",
    "  * Use Whitespace\n",
    "* Use comments"
   ]
  },
  {
   "cell_type": "code",
   "execution_count": 22,
   "id": "9d273bd2-8502-4832-ba81-8d383a3a2376",
   "metadata": {},
   "outputs": [
    {
     "name": "stdout",
     "output_type": "stream",
     "text": [
      "4\n"
     ]
    }
   ],
   "source": [
    "x = 4\n",
    "# A comment is led with a '#' symbol\n",
    "print(x)"
   ]
  },
  {
   "cell_type": "markdown",
   "id": "0c51d189-e9bd-4cd7-857c-22995fd3a05b",
   "metadata": {},
   "source": [
    "## Basic Math"
   ]
  },
  {
   "cell_type": "code",
   "execution_count": null,
   "id": "7a3bf311-f02f-4913-ad1a-0d6c2ed2bbc3",
   "metadata": {},
   "outputs": [],
   "source": [
    "5 + 2  # Addition\n",
    "5 - 2  # Subtraction"
   ]
  },
  {
   "cell_type": "markdown",
   "id": "7dfecf42-d1bd-4a79-92ef-2eb6134c239f",
   "metadata": {},
   "source": [
    "## Variables\n",
    "### Integer and Float"
   ]
  },
  {
   "cell_type": "code",
   "execution_count": 3,
   "id": "3460e333-f63a-4823-89e8-06a113c5bf34",
   "metadata": {},
   "outputs": [
    {
     "data": {
      "text/plain": [
       "2.5"
      ]
     },
     "execution_count": 3,
     "metadata": {},
     "output_type": "execute_result"
    }
   ],
   "source": [
    "# Integers\n",
    "\n",
    "A = 5\n",
    "B = 2\n",
    "A / B"
   ]
  },
  {
   "cell_type": "code",
   "execution_count": 4,
   "id": "fe44340e-3d8f-478b-becb-e34d9724ef11",
   "metadata": {},
   "outputs": [
    {
     "data": {
      "text/plain": [
       "2.5"
      ]
     },
     "execution_count": 4,
     "metadata": {},
     "output_type": "execute_result"
    }
   ],
   "source": [
    "# Float\n",
    "\n",
    "A = 5.0\n",
    "B = 2.0\n",
    "A / B"
   ]
  },
  {
   "cell_type": "markdown",
   "id": "4066cf5b-1e8b-4e5f-90e3-fff9bfb76f9b",
   "metadata": {},
   "source": [
    "\n",
    "### Strings\n"
   ]
  },
  {
   "cell_type": "code",
   "execution_count": 13,
   "id": "00f10734-024f-4177-ba72-ef9fb05b9aa9",
   "metadata": {},
   "outputs": [
    {
     "data": {
      "text/plain": [
       "'Hello World!'"
      ]
     },
     "execution_count": 13,
     "metadata": {},
     "output_type": "execute_result"
    }
   ],
   "source": [
    "Hello = 'Hello World!'\n",
    "Hello"
   ]
  },
  {
   "cell_type": "markdown",
   "id": "0a3e72af-1889-4d20-af0a-f6f0a48ca897",
   "metadata": {},
   "source": [
    "## Print\n",
    "* Basic print command\n",
    "* Format command"
   ]
  },
  {
   "cell_type": "code",
   "execution_count": 5,
   "id": "21ba105b-f3a8-4cae-9c44-7ed447850624",
   "metadata": {},
   "outputs": [
    {
     "name": "stdout",
     "output_type": "stream",
     "text": [
      "5 / 2  =  2.5\n"
     ]
    }
   ],
   "source": [
    "A = 5\n",
    "B = 2\n",
    "\n",
    "print(A, \"/\", B, \" = \", A/B)"
   ]
  },
  {
   "cell_type": "code",
   "execution_count": 7,
   "id": "b1a592c6-ec56-4124-ad3a-194727539bab",
   "metadata": {},
   "outputs": [
    {
     "name": "stdout",
     "output_type": "stream",
     "text": [
      "5 / 2 = 2.5\n"
     ]
    }
   ],
   "source": [
    "A = 5\n",
    "B = 2\n",
    "print(\"{0} / {1} = {2}\".format(A,B,A/B))"
   ]
  },
  {
   "cell_type": "markdown",
   "id": "7a6117c8-7901-498b-805e-2aa0e63f2636",
   "metadata": {},
   "source": [
    "## Tuples and Lists\n",
    "* Try to manipulate a tuple and a list\n",
    "* Append, insert, remove, pop from a list\n",
    "* Indices\n",
    "* Slicing\n",
    "  * Negative slicing\n",
    "* Splitting"
   ]
  },
  {
   "cell_type": "code",
   "execution_count": 14,
   "id": "d1b51a90-9b39-426b-9c4b-387f255fef01",
   "metadata": {},
   "outputs": [
    {
     "data": {
      "text/plain": [
       "(5, 2)"
      ]
     },
     "execution_count": 14,
     "metadata": {},
     "output_type": "execute_result"
    }
   ],
   "source": [
    "### Tuple ###\n",
    "tuple_A = (5,2)\n",
    "tuple_A\n",
    "\n",
    "# Can't edit components of a tuple - these values are set"
   ]
  },
  {
   "cell_type": "code",
   "execution_count": 15,
   "id": "e342d1ea-4461-45f3-a374-f06acbc954ad",
   "metadata": {},
   "outputs": [
    {
     "data": {
      "text/plain": [
       "[5, 2]"
      ]
     },
     "execution_count": 15,
     "metadata": {},
     "output_type": "execute_result"
    }
   ],
   "source": [
    "### List ###\n",
    "list_A = [5,2]\n",
    "list_A"
   ]
  },
  {
   "cell_type": "code",
   "execution_count": 16,
   "id": "cb236221-5f51-4811-9738-08409d67455d",
   "metadata": {},
   "outputs": [
    {
     "data": {
      "text/plain": [
       "5"
      ]
     },
     "execution_count": 16,
     "metadata": {},
     "output_type": "execute_result"
    }
   ],
   "source": [
    "# 1st element of the list\n",
    "list_A[0]"
   ]
  },
  {
   "cell_type": "code",
   "execution_count": 17,
   "id": "d0b9dee7-ecf3-4a35-af31-81a60988245f",
   "metadata": {},
   "outputs": [
    {
     "data": {
      "text/plain": [
       "[5, 3]"
      ]
     },
     "execution_count": 17,
     "metadata": {},
     "output_type": "execute_result"
    }
   ],
   "source": [
    "# Editing the elements of a list\n",
    "list_A[1] = 3\n",
    "list_A"
   ]
  },
  {
   "cell_type": "code",
   "execution_count": 23,
   "id": "9850c2f1-eee6-40f8-a115-92bac42de40b",
   "metadata": {},
   "outputs": [
    {
     "data": {
      "text/plain": [
       "array([5, 2])"
      ]
     },
     "execution_count": 23,
     "metadata": {},
     "output_type": "execute_result"
    }
   ],
   "source": [
    "### Arrays ###\n",
    "import numpy as np # Module (or package of functions) for NUMerical PYthon\n",
    "\n",
    "array_A = np.array([5, 2])\n",
    "array_A\n",
    "\n",
    "# Behaves very much like a list, but with added functionalities"
   ]
  },
  {
   "cell_type": "markdown",
   "id": "49bc997f-64c6-44a7-9018-f62738df737b",
   "metadata": {},
   "source": [
    "## Strings\n",
    "A string is just list of characters"
   ]
  },
  {
   "cell_type": "code",
   "execution_count": 19,
   "id": "6aaab860-db6b-4621-a5f6-8b17d433b73a",
   "metadata": {},
   "outputs": [
    {
     "name": "stdout",
     "output_type": "stream",
     "text": [
      "Hello[0] = H\n",
      "Hello[1] = e\n",
      "Hello[2] = l\n",
      "Hello[3] = l\n",
      "Hello[4] = o\n",
      "Hello[5] =  \n",
      "Hello[6] = W\n",
      "Hello[7] = o\n",
      "Hello[8] = r\n",
      "Hello[9] = l\n",
      "Hello[10] = d\n"
     ]
    }
   ],
   "source": [
    "# Showing the indices of an array\n",
    "Hello = \"Hello World\"\n",
    "for i in range(len(Hello)):\n",
    "    print (\"Hello[{0}] = {1}\".format(i,Hello[i]))"
   ]
  },
  {
   "cell_type": "code",
   "execution_count": 21,
   "id": "1e1661f9-2f2c-44b8-acfd-59d5b1e3e8df",
   "metadata": {},
   "outputs": [
    {
     "data": {
      "text/plain": [
       "['Hello', 'World']"
      ]
     },
     "execution_count": 21,
     "metadata": {},
     "output_type": "execute_result"
    }
   ],
   "source": [
    "## Splitting an Array\n",
    "\n",
    "World = Hello.split()\n",
    "World"
   ]
  },
  {
   "cell_type": "code",
   "execution_count": 22,
   "id": "7ad25c98-7cf8-4b97-b0ac-f057f9c0bef6",
   "metadata": {},
   "outputs": [
    {
     "data": {
      "text/plain": [
       "['Hell', ' W', 'rld']"
      ]
     },
     "execution_count": 22,
     "metadata": {},
     "output_type": "execute_result"
    }
   ],
   "source": [
    "World = Hello.split(\"o\")\n",
    "World"
   ]
  },
  {
   "cell_type": "markdown",
   "id": "a7ca16a8-9278-433e-931b-37aebc3f7036",
   "metadata": {},
   "source": [
    "## Dictionaries\n",
    "* Creating and Updating\n",
    "* Zipping"
   ]
  },
  {
   "cell_type": "code",
   "execution_count": 8,
   "id": "7ecb09ea-5cb2-4e39-9ef5-56085b8fd84b",
   "metadata": {},
   "outputs": [
    {
     "data": {
      "text/plain": [
       "1"
      ]
     },
     "execution_count": 8,
     "metadata": {},
     "output_type": "execute_result"
    }
   ],
   "source": [
    "dict_1 = {'a':1, 'b':2, 'c':3}\n",
    "dict_1['a']"
   ]
  },
  {
   "cell_type": "code",
   "execution_count": 10,
   "id": "7d661252-b1e1-4534-988a-97d9b4afe5e7",
   "metadata": {},
   "outputs": [
    {
     "data": {
      "text/plain": [
       "{'a': 1, 'b': 2, 'c': 3, 'd': 4, 'e': 5}"
      ]
     },
     "execution_count": 10,
     "metadata": {},
     "output_type": "execute_result"
    }
   ],
   "source": [
    "dict_1.update({'d':4, 'e':5})\n",
    "dict_1"
   ]
  },
  {
   "cell_type": "code",
   "execution_count": 28,
   "id": "0a5a5c8e-b554-4998-a48f-b65b4e6dc914",
   "metadata": {},
   "outputs": [
    {
     "data": {
      "text/plain": [
       "{'First Name': 'Abraham', 'Last Name': 'Lincoln', 'President #': '16'}"
      ]
     },
     "execution_count": 28,
     "metadata": {},
     "output_type": "execute_result"
    }
   ],
   "source": [
    "Category = ['First Name','Last Name','President #']\n",
    "Data = ['Abraham','Lincoln','16']\n",
    "dict_2 = dict(zip(Category,Data))\n",
    "dict_2"
   ]
  },
  {
   "cell_type": "code",
   "execution_count": 29,
   "id": "0222ee3d-9d0a-45fa-9ee7-0f46758d5de3",
   "metadata": {},
   "outputs": [
    {
     "data": {
      "text/plain": [
       "'Lincoln'"
      ]
     },
     "execution_count": 29,
     "metadata": {},
     "output_type": "execute_result"
    }
   ],
   "source": [
    "dict_2['Last Name']"
   ]
  },
  {
   "cell_type": "markdown",
   "id": "188cf7ed-833a-4c84-851a-8f779f304497",
   "metadata": {},
   "source": [
    "### Functions, Modules, and Methods\n",
    "__What is a function?__\n",
    "* How to make a function\n",
    "  * def\n",
    "  * lambda"
   ]
  },
  {
   "cell_type": "code",
   "execution_count": 10,
   "id": "25963390-29fe-4429-84a6-5633d5fad605",
   "metadata": {},
   "outputs": [
    {
     "data": {
      "text/plain": [
       "8"
      ]
     },
     "execution_count": 10,
     "metadata": {},
     "output_type": "execute_result"
    }
   ],
   "source": [
    "def power_function(x,y):\n",
    "    result = 1\n",
    "    for i in range(y):\n",
    "        result *= x\n",
    "    return result\n",
    "\n",
    "power_function(2,3)"
   ]
  },
  {
   "cell_type": "markdown",
   "id": "75f67f15-abf6-4c34-b0b2-23d5a87211d9",
   "metadata": {},
   "source": [
    "## NumPy\n",
    "Once of the most widely used tools in Python is *Numerical Python*, or *NumPy*. It contains functions that create and do math with arrays and matrices, which can greatly enhance our productivity as Data Scientists."
   ]
  },
  {
   "cell_type": "code",
   "execution_count": 14,
   "id": "fe82d8db-bcf1-4557-96c0-7ac9a3444ef2",
   "metadata": {},
   "outputs": [
    {
     "data": {
      "text/plain": [
       "array([1, 3, 5, 7, 9, 0, 8, 6, 4, 2, 0])"
      ]
     },
     "execution_count": 14,
     "metadata": {},
     "output_type": "execute_result"
    }
   ],
   "source": [
    "# 'numpy' is a module with many basic functions\n",
    "import numpy as np\n",
    "\n",
    "# 'x' is an object defined by the class 'array', which is described in 'numpy'\n",
    "x = np.array([1,3,5,7,9,0,8,6,4,2,0])\n",
    "x"
   ]
  },
  {
   "cell_type": "code",
   "execution_count": 16,
   "id": "0fd2558f-2eb2-4f5f-8c13-ccb595d47f59",
   "metadata": {},
   "outputs": [
    {
     "data": {
      "text/plain": [
       "9"
      ]
     },
     "execution_count": 16,
     "metadata": {},
     "output_type": "execute_result"
    }
   ],
   "source": [
    "# 'max' is a method from the 'numpy' module and finds the maximum value\n",
    "# of the object 'x' which was defined in the 'array' class.\n",
    "max(x)   # Function"
   ]
  },
  {
   "cell_type": "code",
   "execution_count": 17,
   "id": "1769207d-4fd6-4350-803d-0ba3b5e5a8dd",
   "metadata": {},
   "outputs": [
    {
     "data": {
      "text/plain": [
       "9"
      ]
     },
     "execution_count": 17,
     "metadata": {},
     "output_type": "execute_result"
    }
   ],
   "source": [
    "x.max()  # Method"
   ]
  },
  {
   "cell_type": "code",
   "execution_count": null,
   "id": "bf688b5f-ca0e-4752-b02a-bc45f2d3db9c",
   "metadata": {},
   "outputs": [],
   "source": []
  },
  {
   "cell_type": "markdown",
   "id": "0521ef31",
   "metadata": {},
   "source": [
    "-----\n",
    "## Additional topics to cover\n",
    "### Function Documentation - __Docstrings__"
   ]
  },
  {
   "cell_type": "code",
   "execution_count": null,
   "id": "2a53251b",
   "metadata": {},
   "outputs": [],
   "source": [
    "def subtract_one(x):\n",
    "    \"\"\" Here is a description of the function. \n",
    "    And a second line to the description. \"\"\"\n",
    "    return x-1"
   ]
  }
 ],
 "metadata": {
  "kernelspec": {
   "display_name": "Python 3 (ipykernel)",
   "language": "python",
   "name": "python3"
  },
  "language_info": {
   "codemirror_mode": {
    "name": "ipython",
    "version": 3
   },
   "file_extension": ".py",
   "mimetype": "text/x-python",
   "name": "python",
   "nbconvert_exporter": "python",
   "pygments_lexer": "ipython3",
   "version": "3.9.16"
  },
  "vscode": {
   "interpreter": {
    "hash": "b0fa6594d8f4cbf19f97940f81e996739fb7646882a419484c72d19e05852a7e"
   }
  }
 },
 "nbformat": 4,
 "nbformat_minor": 5
}
