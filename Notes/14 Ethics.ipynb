{
 "cells": [
  {
   "cell_type": "markdown",
   "id": "97584e50-29e3-4320-b54b-ea1e48fda516",
   "metadata": {},
   "source": [
    "# 14 Data Ethics\n",
    "__Math 3080: Fundamentals of Data Science__\n",
    "\n",
    "Reading:\n",
    "* Grus, Chapter 26 Data Ethics\n",
    "* [Irizarry,Rafael A., Introduction to Data Science, Chapter 11, Data visualization principles](http://rafalab.dfci.harvard.edu/dsbook/data-visualization-principles.html)\n",
    "\n",
    "Outline:\n",
    "* What is meant by Ethics and Data Ethics?\n",
    "* Examples of poor "
   ]
  },
  {
   "cell_type": "markdown",
   "id": "12aeb2de-6b52-4259-928d-6fc4a0cb7450",
   "metadata": {},
   "source": [
    "# What is ethics?\n",
    "\"*Ethics* is a framework for thinking about 'right' and 'wrong' behavior.\"\n",
    "\n",
    "\"*Data Ethics*, then, is a framework for thinking about right and wrong behavior involving data.\"\n",
    "\n",
    "Is there really a right and a wrong answer? That answer may very well depend on the situation. But just as we should care about doing things the right way in school and in our careers, we should also care about using and displaying data the right way. Perhaps instead of focusing on the right and the wrong, we could ask ourselves questions to determine if our data is :\n",
    "* Am I acurately representing the data?\n",
    "* Am I misleading the viewer in any way?\n",
    "* Am I misusing the data, or not giving credit where due?"
   ]
  },
  {
   "cell_type": "markdown",
   "id": "e9e838a1-5000-4f89-afc5-569d0dee1f8e",
   "metadata": {},
   "source": [
    "# Examples of poor data usage\n",
    "\n",
    "## Poor (and Deceptive) Wording\n",
    "In the 2020 Elections, there was a nation-wide debate about the role of mail-in ballots. One article explored this issue and said the following:\n",
    "\n",
    "> \"Older, white voters are significantly more likely to vote by mail and have those ballots counted, studies show, while voters of color and younger voters are significantly more likely to have their ballots rejected.\" \n",
    "> \n",
    "> NBC News Report, \"A white person and a Black person vote by mail in the same state. Whose ballot is more likely to be rejected?\", https://www.nbcnews.com/politics/2020-election/white-person-black-person-vote-mail-same-state-whose-ballot-n1234126, obtained April 22, 2023.\n",
    "\n",
    "I cannot disagree with this statement. However, I cannot agree with it either. Why? Because they did not provide data to support the claim - not even a reference. Although I don't have the actual data, I have created a fictitious dataset (including the very vague and unclear distinction between \"Old\" and \"Young\" voters) that would make the statement correct, but very misleading:\n",
    "\n",
    "| __Returned Ballots__ | *Non-white voters* | *White voters* |\n",
    "| -------------------: | :----------------: | :------------: |\n",
    "|       \"Older\" voters |         16%        |       49%      |\n",
    "|     \"Younger\" voters |         17%        |       18%      |\n",
    "\n",
    "Following this data, the majority of returned ballots are for:\n",
    "* white voters (67%) --> only 33% of non-white voters had their ballots returned\n",
    "* older voters (65%) --> only 35% of the younger voters had their ballots returned\n",
    "\n",
    "However, the statement says \"voters of color\" combined with \"younger voters\", meaning both categories combined. If you include the two *independent* and unrelated categories, then that comes to 51% of colored *and* younger voters. \n",
    "\n",
    "To be fair, they may have meant that the majority is the group of voters who are both non-white and younger, in which case it would be the bottom-left quadrant of our table, in which case their claim is true. If we were to reword this statement and say \"voters who are people of color *and* of the younger generation,\" then we'd only be talking about 17% of the population. However, the wording makes it sound like they are including everyone in both groups, which is deceptive and untrue. __So, the way we word our results can be subtly misleading__.\n",
    "\n",
    "Again, I don't have the data from the article, so I cannot tell if this article was truthful or misleading. It would have been very useful to have the actual data in the article to support the claim. __So, when you make a claim, be sure to provide data to back up the claim.__\n",
    "\n",
    "Unfortunately, with the ballot issues of the 2016 and 2020 presidential elections, this probably not go away. We will continue to see news agencies make poor statements like these just to get the attention of readers and create a story that isn't really there.\n",
    "\n",
    "Lessons:\n",
    "1. Make sure that the wording of results doesn't mislead the audience\n",
    "2. Include data to back up any claims"
   ]
  },
  {
   "cell_type": "markdown",
   "id": "6f1ce6ba-a0e2-46b4-a683-cd2ffa1aa900",
   "metadata": {},
   "source": [
    "## Bad Data Products\n",
    "Nobody likes a bad product. However, this sometimes just happens, most often unintentionally:\n",
    "* Microsoft Tay - a chat bot that replied back things tweeted to it, but began saying offensive things (racist comments)\n",
    "* Google Photos - at one point, the image recognition algorithm classified pictures of black people as \"gorillas\"\n",
    "\n",
    "These occurrences are generally not intentional - just aspects that programmers don't expect to happen, so they have to retrain and rerelease the models."
   ]
  },
  {
   "cell_type": "markdown",
   "id": "11d4491b-615e-471a-8f85-335a0ac449a4",
   "metadata": {},
   "source": [
    "## Trading Accuracy for Fairness\n",
    "In college, professors often get together to do a statistical review success of student pass/fail rates.\n",
    "* Using standard measures work for large classes, but not for small classes\n",
    "* I had a class once that had about 10 students, 2 of whom dropped the class, and 2 failed because they never came to class or completed homework. Using standard statistics, that means I had only a 60% pass rate. Is this a fair measure of my quality of teaching?"
   ]
  },
  {
   "cell_type": "markdown",
   "id": "e45f6eef-3756-40e6-98d5-5a855fe2f9f4",
   "metadata": {},
   "source": [
    "## Collaboration\n",
    "Internet services collect lots of data from us. But exactly how much information do they need for the job? Do they sometimes collect too much?\n",
    "\n",
    "As a data scientist, how much data is too much? And remember that if you only get a little data, there may be a chance you need more later. How easy will it be to get more data? Is the data automated and easy to obtain, or will a second poll become an annoyance to those who participate in the project?"
   ]
  },
  {
   "cell_type": "markdown",
   "id": "3dd00894-04c2-4649-b6b8-7c35ebdb8fc5",
   "metadata": {},
   "source": [
    "## Interpretability\n",
    "Decision trees are very easy to interpret but aren't always as accurate. They can easily overfit to the training data.\n",
    "\n",
    "Neural networks can get much higher accuracy, but understanding and interpreting what is happening is challenging. \n",
    "\n",
    "When we choose a model, we need to be able to explain where the numbers came from. For that reason, should we stick with the decision tree, or use the neural network even if we can't explain the details?"
   ]
  },
  {
   "cell_type": "markdown",
   "id": "3e384235-99b8-4a94-b0e3-d5469f62350b",
   "metadata": {},
   "source": [
    "## Recommendations"
   ]
  },
  {
   "cell_type": "markdown",
   "id": "43a49061-6342-409d-84df-a80b7a6d8edb",
   "metadata": {},
   "source": [
    "## Biased Data"
   ]
  },
  {
   "cell_type": "markdown",
   "id": "3f36fd51-9499-4239-9ca3-cf0c57817e84",
   "metadata": {},
   "source": [
    "## Data Protection"
   ]
  },
  {
   "cell_type": "markdown",
   "id": "045127da-e28f-4df5-b4a2-259d0bf2f429",
   "metadata": {},
   "source": []
  },
  {
   "cell_type": "markdown",
   "id": "25cf6e0e-fcca-4bb2-934f-467b91f1555f",
   "metadata": {},
   "source": []
  },
  {
   "cell_type": "markdown",
   "id": "e8040654-689d-4fa1-a346-896c0dda6056",
   "metadata": {},
   "source": []
  },
  {
   "cell_type": "markdown",
   "id": "910ae85a-27bf-479e-a21c-de9c9a92153d",
   "metadata": {},
   "source": []
  },
  {
   "cell_type": "markdown",
   "id": "cb726c47-b705-48c4-b17f-0e96386e8007",
   "metadata": {},
   "source": []
  },
  {
   "cell_type": "markdown",
   "id": "4ffc037d-1ba6-4b5a-ab14-7246ff68d267",
   "metadata": {},
   "source": [
    "# Visualization Principles\n",
    "For this, check out the text written by [Irizarry,Rafael A., Introduction to Data Science, Chapter 11, Data visualization principles](http://rafalab.dfci.harvard.edu/dsbook/data-visualization-principles.html)\n",
    "\n",
    "Things to remember when making graphics:\n",
    "1. Use Visual Cues\n",
    "2. Know when to include 0\n",
    "3. Do not distort quantities\n",
    "4. Order categories in a meaningful order\n",
    "5. Show the data\n",
    "    * Show data to support claims\n",
    "    * Make sure the graphs show enough data and don't hide details\n",
    "6. Ease comparisons"
   ]
  },
  {
   "cell_type": "markdown",
   "id": "a18fbb4a-8a70-485e-9fd2-89d6211332c4",
   "metadata": {},
   "source": []
  },
  {
   "cell_type": "markdown",
   "id": "ba9497d7-9237-4784-93b2-42fdf8ee25c2",
   "metadata": {},
   "source": []
  },
  {
   "cell_type": "markdown",
   "id": "7914e513-dd80-4b00-a6ab-10b96f805a5f",
   "metadata": {},
   "source": []
  },
  {
   "cell_type": "markdown",
   "id": "7c30ac7e-ef0c-488f-b103-9d73ed94d6cf",
   "metadata": {},
   "source": []
  },
  {
   "cell_type": "markdown",
   "id": "4dc03683-6e00-4144-b55c-f7ab4235dd97",
   "metadata": {},
   "source": []
  },
  {
   "cell_type": "markdown",
   "id": "2a884a58-0050-4c08-990c-89da5045e1c7",
   "metadata": {},
   "source": []
  },
  {
   "cell_type": "markdown",
   "id": "c28732e0-b25a-4bdf-9fe2-3a72beca442a",
   "metadata": {},
   "source": []
  },
  {
   "cell_type": "markdown",
   "id": "3582cfd1-a260-49fe-b646-0217e6a408fe",
   "metadata": {},
   "source": []
  },
  {
   "cell_type": "markdown",
   "id": "cd05cbec-2c3f-4883-8960-2e449bf3ec8f",
   "metadata": {},
   "source": []
  },
  {
   "cell_type": "markdown",
   "id": "49288fd1-745d-4f97-833d-150d96525fd1",
   "metadata": {},
   "source": []
  },
  {
   "cell_type": "markdown",
   "id": "7c651336-045d-44e7-94af-e6b004dec384",
   "metadata": {},
   "source": []
  },
  {
   "cell_type": "markdown",
   "id": "ae18dfec-ef3c-448e-9529-68ee9b88d4ae",
   "metadata": {},
   "source": []
  },
  {
   "cell_type": "markdown",
   "id": "6166b555-ca9d-43f4-b4a8-efec4500b75b",
   "metadata": {},
   "source": []
  },
  {
   "cell_type": "markdown",
   "id": "40fb3232-a015-4447-9acf-0c9f4fef2b81",
   "metadata": {},
   "source": []
  },
  {
   "cell_type": "code",
   "execution_count": null,
   "id": "3ddc0e00-1f12-4cd5-8baf-e2f52721650a",
   "metadata": {},
   "outputs": [],
   "source": []
  }
 ],
 "metadata": {
  "kernelspec": {
   "display_name": "Python 3 (ipykernel)",
   "language": "python",
   "name": "python3"
  },
  "language_info": {
   "codemirror_mode": {
    "name": "ipython",
    "version": 3
   },
   "file_extension": ".py",
   "mimetype": "text/x-python",
   "name": "python",
   "nbconvert_exporter": "python",
   "pygments_lexer": "ipython3",
   "version": "3.10.9"
  }
 },
 "nbformat": 4,
 "nbformat_minor": 5
}
