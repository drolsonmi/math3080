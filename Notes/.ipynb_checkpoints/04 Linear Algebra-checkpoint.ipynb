{
 "cells": [
  {
   "cell_type": "markdown",
   "id": "62805c13",
   "metadata": {},
   "source": [
    "# 04 Linear Algebra\n",
    "__Math 3080: Fundamentals of Data Science__\n",
    "\n",
    "Reading: \n",
    "* Grus, Chapter 4\n",
    "* Phillips, Chapter 3\n",
    "* [3 Blue 1 Brown YouTube Series on Linear Algebra](https://www.youtube.com/playlist?list=PL0-GT3co4r2y2YErbmuJw2L5tW4Ew2O5B)"
   ]
  },
  {
   "cell_type": "markdown",
   "id": "7c0145b2",
   "metadata": {},
   "source": [
    "## Vectors\n",
    "A vector is a series of numbers that combined describe the property of something. The most common example of a vector is a point on a graph. This is used a lot in physics to describe position, velocity, forces, electric and magnetic fields, and so on.\n",
    "\n",
    "It is simply a collection of two or more points. For example, [5,2] represents a vector that points from the origin to a point 5 units to the right and 2 units up.\n",
    "\n",
    "In the physical world, we generally deal with points in 3 dimensions. Our minds cannot intuitively comprehend more dimensions than that. For example, if we consider an airport to be the origin, then the vector [75,-10,6] would indicate an airplane that is 75 miles to the East, 10 miles to the South, and 6 miles up vertically."
   ]
  },
  {
   "cell_type": "code",
   "execution_count": null,
   "id": "8b3666f7",
   "metadata": {},
   "outputs": [],
   "source": [
    "import numpy as np\n",
    "x = np.array([75, -10, 6])"
   ]
  },
  {
   "cell_type": "markdown",
   "id": "51dd434e-238d-4792-a430-97bb1e087a1e",
   "metadata": {},
   "source": []
  }
 ],
 "metadata": {
  "kernelspec": {
   "display_name": "Python 3 (ipykernel)",
   "language": "python",
   "name": "python3"
  },
  "language_info": {
   "codemirror_mode": {
    "name": "ipython",
    "version": 3
   },
   "file_extension": ".py",
   "mimetype": "text/x-python",
   "name": "python",
   "nbconvert_exporter": "python",
   "pygments_lexer": "ipython3",
   "version": "3.9.10"
  }
 },
 "nbformat": 4,
 "nbformat_minor": 5
}
