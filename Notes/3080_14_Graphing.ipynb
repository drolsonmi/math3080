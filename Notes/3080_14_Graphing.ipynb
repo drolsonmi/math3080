{
 "cells": [
  {
   "cell_type": "markdown",
   "metadata": {},
   "source": [
    "# Lecture 14 Graphing\n",
    "__Math 3080: Fundamentals of Data Science__\n",
    "\n",
    "Reading:\n",
    "* [McKinney: Chapter 9](https://wesmckinney.com/book/plotting-and-visualization)\n",
    "* [Irizzary: Chapter 7](https://rafalab.dfci.harvard.edu/dsbook-part-1/dataviz/distributions.html)"
   ]
  },
  {
   "cell_type": "markdown",
   "metadata": {},
   "source": [
    "-----\n",
    "## Intro to Exploratory Data Analysis\n",
    "We all want to do __machine learning__. However, we know that we can't just jump in - we have to prepare data.\n",
    "* Obtain data\n",
    "* Clean data\n",
    "* Analyze data\n",
    "* Prepare data\n",
    "* Model\n",
    "* Evaluate\n",
    "\n",
    "We have learned how to obtain and clean the data, now we are going to analyze data. We often call this stage __exploratory data analysis__ (EDA).\n",
    "\n",
    "Why do we do EDA?\n",
    "* Explore how we can use each variable\n",
    "  * What variables are related to each other?\n",
    "  * What variables can be used?\n",
    "  * Are there any patterns/trends in the data?\n",
    "* Make a plan for our model\n",
    "\n",
    "What is involved in EDA?\n",
    "* Graphing\n",
    "* Statistics\n",
    "\n",
    "Let's find out how to make effective graphs in python. Today, we will just make graphs. The next two classes will focus on more intricate graphing (including interactive graphs) and analysis."
   ]
  },
  {
   "cell_type": "markdown",
   "metadata": {},
   "source": [
    "-----\n",
    "## Graphing with Matplotlib"
   ]
  },
  {
   "cell_type": "markdown",
   "metadata": {},
   "source": [
    "`matplotlib` is the basic package we use for data visualization. There are other packages that are built on matplotlib (like `seaborn`), and other packages which are independent of matplotlib (like some interactive graphs we'll see later). Today, we'll learn the basics of matplotlib.\n",
    "\n",
    "First, load matplotlib. Let's also create a simple dataset we can work with:"
   ]
  },
  {
   "cell_type": "code",
   "execution_count": null,
   "metadata": {},
   "outputs": [],
   "source": [
    "import numpy as np\n",
    "import matplotlib.pyplot as plt\n",
    "\n",
    "x = np.linspace(0, 1, 101)\n",
    "print(x)\n",
    "y = x**2 + np.random.randn(len(x))/50\n",
    "print(y)"
   ]
  },
  {
   "cell_type": "markdown",
   "metadata": {},
   "source": [
    "Now, we need to create a frame for our figure and a set of axes:"
   ]
  },
  {
   "cell_type": "code",
   "execution_count": null,
   "metadata": {},
   "outputs": [],
   "source": [
    "fig = plt.figure()\n",
    "ax = fig.add_axes([0.1, 0.1, 0.8, 0.8]) # left, bottom, width, height (range 0 to 1)\n",
    "plt.show()"
   ]
  },
  {
   "cell_type": "markdown",
   "metadata": {},
   "source": [
    "From here, we can go ahead and graph our data, or we can set up the environment some more. Here is a quick graph using our data."
   ]
  },
  {
   "cell_type": "code",
   "execution_count": null,
   "metadata": {},
   "outputs": [],
   "source": [
    "fig = plt.figure()\n",
    "ax = fig.add_axes([0.1, 0.1, 0.8, 0.8])\n",
    "ax.plot(x,y)\n",
    "plt.show()"
   ]
  },
  {
   "cell_type": "markdown",
   "metadata": {},
   "source": [
    "We can add information to the graph. For example, let's add a $y=x^2$ line, a title, axis labels, and a legend. And let's make the $y=x^2$ line dashed."
   ]
  },
  {
   "cell_type": "code",
   "execution_count": null,
   "metadata": {},
   "outputs": [],
   "source": [
    "fig = plt.figure()\n",
    "ax = fig.add_axes([0.1, 0.1, 0.8, 0.8])\n",
    "\n",
    "ax.plot(x,y, label='original data')\n",
    "ax.plot(x,x**2,c='orange', linestyle='dashed', label='$y=x^2$')\n",
    "\n",
    "plt.xlabel('The x value')\n",
    "plt.ylabel('The y value')\n",
    "plt.title('Random data following the $y=x^2$ line')\n",
    "\n",
    "ax.legend(loc='lower right')\n",
    "plt.show()"
   ]
  },
  {
   "cell_type": "markdown",
   "metadata": {},
   "source": [
    "Now, let's say that we want an inset, like a zoom-in view, of the range $x=[0.4,0.5]$.\n",
    "\n",
    "Note that I am also resizing the figure to the size I would like."
   ]
  },
  {
   "cell_type": "code",
   "execution_count": null,
   "metadata": {},
   "outputs": [],
   "source": [
    "fig = plt.figure(figsize=(10,5))\n",
    "ax = fig.add_axes([0.1, 0.1, 0.8, 0.8]) # left, bottom, width, height (range 0 to 1)\n",
    "\n",
    "ax.plot(x,y, label='original data')\n",
    "ax.plot(x,x**2,c='orange', linestyle='dashed', label='$y=x^2$')\n",
    "\n",
    "plt.xlabel('The x value')\n",
    "plt.ylabel('The y value')\n",
    "plt.title('Random data following the $y=x^2$ line')\n",
    "\n",
    "ax_inset = fig.add_axes([0.2, 0.6, 0.3, 0.25]) # left, bottom, width, height (range 0 to 1)\n",
    "\n",
    "ax_inset.plot(x,y)\n",
    "ax_inset.plot(x,x**2,c='orange')\n",
    "ax_inset.set_xlim([0.4,0.5])\n",
    "ax_inset.set_ylim([0.1,0.3])\n",
    "\n",
    "ticks = ax_inset.set_xticks([0.4,0.42,0.44,0.46,0.48,0.5])\n",
    "labels = ax_inset.set_xticklabels(['','0.42','0.44','0.46','0.48',''])\n",
    "\n",
    "ax.legend(loc='lower right')\n",
    "plt.show()"
   ]
  },
  {
   "cell_type": "markdown",
   "metadata": {},
   "source": [
    "-----\n",
    "## Seaborn and Graph Types\n",
    "Other packages that are built on Matplotlib can simplify the process. We are going to look at the `seaborn` package. Let's load an actual dataset with both numerical and categorical data to see how these work."
   ]
  },
  {
   "cell_type": "code",
   "execution_count": null,
   "metadata": {},
   "outputs": [],
   "source": [
    "import seaborn as sns\n",
    "tips = sns.load_dataset('tips')\n",
    "tips.head()"
   ]
  },
  {
   "cell_type": "markdown",
   "metadata": {},
   "source": [
    "Now, let's make a scatterplot of the total bill compared to the tip left by the customer."
   ]
  },
  {
   "cell_type": "code",
   "execution_count": null,
   "metadata": {},
   "outputs": [],
   "source": [
    "fig = plt.figure()\n",
    "ax = fig.add_axes([0.1,0.1,0.8,0.8])\n",
    "\n",
    "ax.scatter(tips['total_bill'], tips['tip'])\n",
    "\n",
    "plt.title('Tips as a function of the Total Bill')\n",
    "plt.xlabel('Total Bill ($US)')\n",
    "plt.ylabel('Tip Amount ($US)')\n",
    "\n",
    "plt.show()"
   ]
  },
  {
   "cell_type": "code",
   "execution_count": null,
   "metadata": {},
   "outputs": [],
   "source": [
    "sns.scatterplot(data=tips, x='total_bill', y='tip')\n",
    "\n",
    "plt.title('Tips as a function of the Total Bill')\n",
    "plt.xlabel('Total Bill ($US)')\n",
    "plt.ylabel('Tip Amount ($US)')\n",
    "\n",
    "plt.show()"
   ]
  },
  {
   "cell_type": "markdown",
   "metadata": {},
   "source": [
    "One thing that seaborn can do is highlight each point by a third variable. We can do this in matplotlib, but it's so much easier in seaborn."
   ]
  },
  {
   "cell_type": "code",
   "execution_count": null,
   "metadata": {},
   "outputs": [],
   "source": [
    "fig = plt.figure()\n",
    "ax = fig.add_axes([0.1,0.1,0.8,0.8])\n",
    "\n",
    "ax.scatter(tips[tips['time'] == 'Lunch']['total_bill'],\n",
    "           tips[tips['time'] == 'Lunch']['tip'],\n",
    "           c='orange',\n",
    "           label='Lunch')\n",
    "ax.scatter(tips[tips['time'] == 'Dinner']['total_bill'],\n",
    "           tips[tips['time'] == 'Dinner']['tip'],\n",
    "           c='blue',\n",
    "           label='Dinner')\n",
    "\n",
    "plt.title('Tips as a function of the Total Bill')\n",
    "plt.xlabel('Total Bill ($US)')\n",
    "plt.ylabel('Tip Amount ($US)')\n",
    "\n",
    "plt.legend()\n",
    "plt.show()"
   ]
  },
  {
   "cell_type": "code",
   "execution_count": null,
   "metadata": {},
   "outputs": [],
   "source": [
    "sns.scatterplot(data=tips, x='total_bill', y='tip', hue='time')\n",
    "\n",
    "plt.title('Tips as a function of the Total Bill')\n",
    "plt.xlabel('Total Bill ($US)')\n",
    "plt.ylabel('Tip Amount ($US)')\n",
    "\n",
    "plt.show()"
   ]
  },
  {
   "cell_type": "markdown",
   "metadata": {},
   "source": [
    "Other options that can be applied in both matplotlib and seaborn:\n",
    "* Transparency\n",
    "* Size"
   ]
  },
  {
   "cell_type": "code",
   "execution_count": null,
   "metadata": {},
   "outputs": [],
   "source": [
    "sns.scatterplot(data=tips, x='total_bill', y='tip', hue='time',\n",
    "                alpha=0.7, size='size')\n",
    "\n",
    "plt.title('Tips as a function of the Total Bill')\n",
    "plt.xlabel('Total Bill ($US)')\n",
    "plt.ylabel('Tip Amount ($US)')\n",
    "\n",
    "plt.show()"
   ]
  },
  {
   "cell_type": "code",
   "execution_count": null,
   "metadata": {},
   "outputs": [],
   "source": []
  },
  {
   "cell_type": "code",
   "execution_count": null,
   "metadata": {},
   "outputs": [],
   "source": []
  },
  {
   "cell_type": "markdown",
   "metadata": {},
   "source": [
    "We saw how to create one graph in one figure. We can also create multiple graphs. We can use insets as we saw above, or we can use a grid of figures. Here, we have three figures in a row. Let's also see how to make:\n",
    "* countplots (bar graphs)\n",
    "* boxplots"
   ]
  },
  {
   "cell_type": "code",
   "execution_count": null,
   "metadata": {},
   "outputs": [],
   "source": [
    "fig, ax = plt.subplots(1,3, figsize=(13,4)) # ax is an array of 3 axes\n",
    "\n",
    "sns.scatterplot(data=tips, x='total_bill', y='tip', hue='sex', alpha=0.7, ax=ax[0])\n",
    "ax[0].set_title('Bill vs. Tip')\n",
    "\n",
    "sns.countplot(data=tips, x='day', ax=ax[1])\n",
    "ax[1].set_title('Meals by day')\n",
    "\n",
    "sns.boxplot(data=tips, x='tip', hue='day', ax=ax[2])\n",
    "ax[2].set_title('Tips')\n",
    "plt.show()"
   ]
  },
  {
   "cell_type": "markdown",
   "metadata": {},
   "source": [
    "Now, we'll make a 2x3 grid of figures. Let's also see how to make:\n",
    "* Histograms\n",
    "* KDE graphs (1D and 2D)\n",
    "* Heatmaps"
   ]
  },
  {
   "cell_type": "code",
   "execution_count": null,
   "metadata": {},
   "outputs": [],
   "source": [
    "fig, ax = plt.subplots(2,3, figsize=(13,8)) # ax is a matrix of 6 axes\n",
    "\n",
    "sns.scatterplot(data=tips, x='total_bill', y='tip', hue='sex', alpha=0.7, ax=ax[0,0])\n",
    "ax[0,0].set_title('Bill vs. Tip')\n",
    "\n",
    "sns.countplot(data=tips, x='day', ax=ax[0,1], hue='sex')\n",
    "ax[0,1].set_title('Meals by day')\n",
    "\n",
    "# Horizontal barplot\n",
    "sns.countplot(data=tips, y='time', hue='sex', ax=ax[0,2])\n",
    "ax[0,2].set_title('Tips')\n",
    "\n",
    "sns.histplot(data=tips, x='tip', ax=ax[1,0], hue='sex', kde=True)\n",
    "ax[1,0].set_title('Tips')\n",
    "\n",
    "# KDE plot\n",
    "sns.kdeplot(data=tips, x='total_bill', hue='sex', ax=ax[1,1])\n",
    "ax[1,1].set_title('Total Bill')\n",
    "\n",
    "# 2D KDE plot\n",
    "sns.kdeplot(data=tips, x='size', y='tip', hue='sex', ax=ax[1,2])\n",
    "ax[1,2].set_title('Tips based on party size')\n",
    "\n",
    "plt.subplots_adjust(hspace=0.4, wspace=0.3)\n",
    "plt.show()"
   ]
  },
  {
   "cell_type": "markdown",
   "metadata": {},
   "source": [
    "-----\n",
    "## Student's Play time\n",
    "Can we predict a wizard's/witch's Hogwarts House based on hair color? eye color? ancestry?\n",
    "* https://github.com/drolsonmi/math3080/tree/main/Datasets and select [HarryPotterCharacters.csv](https://raw.githubusercontent.com/drolsonmi/math3080/main/Datasets/HarryPotterCharacters.csv)\n",
    "* https://www.kaggle.com/datasets/gulsahdemiryurek/harry-potter-dataset?select=shortversioncharacters.csv"
   ]
  },
  {
   "cell_type": "code",
   "execution_count": null,
   "metadata": {},
   "outputs": [],
   "source": []
  },
  {
   "cell_type": "code",
   "execution_count": null,
   "metadata": {},
   "outputs": [],
   "source": []
  },
  {
   "cell_type": "code",
   "execution_count": null,
   "metadata": {},
   "outputs": [],
   "source": []
  },
  {
   "cell_type": "code",
   "execution_count": null,
   "metadata": {},
   "outputs": [],
   "source": []
  },
  {
   "cell_type": "markdown",
   "metadata": {},
   "source": [
    "Import a dataset that has quantitative and categorical variables\n",
    "\n",
    "Still to cover:\n",
    "* Scatterplots\n",
    "* Histograms\n",
    "* Boxplots\n",
    "* Barplot (`.bar()` and `.barh()`)\n",
    "* Timeseries\n",
    "* Subplots\n",
    "* Seaborn\n",
    "\n",
    "```python\n",
    "fig, ax = plt.subplots(1,3, sharey=True)\n",
    "ax[0].plot()\n",
    "ax[1].plot()\n",
    "ax[2].plot()\n",
    "```\n",
    "\n",
    "```python\n",
    "fig, ax = plt.subplots(2,3, sharey=False, sharex=True)\n",
    "ax[0,0].plot() # Row 0, Column 0\n",
    "ax[0,1].plot() # Row 0, Column 1\n",
    "ax[1,0].plot() # Row 1, Column 0\n",
    "ax[1,1].plot() # Row 1, Column 1\n",
    "```"
   ]
  },
  {
   "cell_type": "code",
   "execution_count": null,
   "metadata": {},
   "outputs": [],
   "source": []
  },
  {
   "cell_type": "code",
   "execution_count": null,
   "metadata": {},
   "outputs": [],
   "source": []
  },
  {
   "cell_type": "code",
   "execution_count": null,
   "metadata": {},
   "outputs": [],
   "source": []
  },
  {
   "cell_type": "code",
   "execution_count": null,
   "metadata": {},
   "outputs": [],
   "source": [
    "import pandas as pd\n",
    "co2 = pd.read_csv('../Datasets/co2_mm_mlo.csv', header=40)\n",
    "co2.head()"
   ]
  },
  {
   "cell_type": "code",
   "execution_count": null,
   "metadata": {},
   "outputs": [],
   "source": [
    "co2['date'] = co2['year'] + (co2['month']-1)/12\n",
    "co2.head()"
   ]
  },
  {
   "cell_type": "code",
   "execution_count": null,
   "metadata": {},
   "outputs": [],
   "source": [
    "import seaborn as sns\n",
    "sns.lineplot(data=co2, x='decimal date', y='average')"
   ]
  },
  {
   "cell_type": "code",
   "execution_count": null,
   "metadata": {},
   "outputs": [],
   "source": []
  }
 ],
 "metadata": {
  "kernelspec": {
   "display_name": "Python 3 (ipykernel)",
   "language": "python",
   "name": "python3"
  },
  "language_info": {
   "codemirror_mode": {
    "name": "ipython",
    "version": 3
   },
   "file_extension": ".py",
   "mimetype": "text/x-python",
   "name": "python",
   "nbconvert_exporter": "python",
   "pygments_lexer": "ipython3",
   "version": "3.9.16"
  }
 },
 "nbformat": 4,
 "nbformat_minor": 4
}
