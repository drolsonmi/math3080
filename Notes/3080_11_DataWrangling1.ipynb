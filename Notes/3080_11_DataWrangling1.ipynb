{
 "cells": [
  {
   "cell_type": "markdown",
   "metadata": {},
   "source": [
    "# Lecture 11 Data Wrangling - Part 1 - Categorical Variables\n",
    "__Math 3080: Fundamentals of Data Science__\n",
    "\n",
    "Reading:\n",
    "* [McKinney, *Python for Data Science*, Chapter 6](https://wesmckinney.com/book/accessing-data)\n",
    "* Chapter 8\n",
    "\n",
    "Class notes are found through GitHub. As changes are made, they will automatically be uploaded to GitHub. A link to the repository is on Canvas.\n",
    "\n",
    "-----\n",
    "## Outline\n",
    "* Mapping\n",
    "* One-hot Encoding / Dummy Variables\n",
    "* Ordinal Encoding"
   ]
  },
  {
   "cell_type": "code",
   "execution_count": null,
   "metadata": {
    "vscode": {
     "languageId": "plaintext"
    }
   },
   "outputs": [],
   "source": [
    "# Create a larger file with multiple HW and Exams and Projects\n",
    "grades = pd.DataFrame({\n",
    "    \"Name\": [\"Aaron\",\"Seth\",\"Kyler\",\"Seth\",\"Aaron\",\"Kyler\",\"Kyler\",\"Seth\",\"Aaron\",\"Kyler\"],\n",
    "    \"Assignment\": [\"HW1\",\"HW1\",\"HW1\",\"Exam 1\",\"Exam 1\",\"Exam 1\",\"HW2\",\"HW2\",\"HW2\",\"Exam 1\"],\n",
    "    \"Score\": [97,89,100,56,72,20,100,96,83,74]\n",
    "})\n",
    "grades"
   ]
  },
  {
   "cell_type": "markdown",
   "metadata": {},
   "source": [
    "## Mapping"
   ]
  },
  {
   "cell_type": "code",
   "execution_count": null,
   "metadata": {
    "vscode": {
     "languageId": "plaintext"
    }
   },
   "outputs": [],
   "source": [
    "assignment_types = {\n",
    "    \"HW1\" : \"Homework\",\n",
    "    \"Exam 1\": \"Exam\",\n",
    "    \"HW2\" : \"Homework\"\n",
    "}\n",
    "\n",
    "grade_level = {\n",
    "    \"Aaron\" : \"Junior\",\n",
    "    \"Seth\" : \"Sophomore\",\n",
    "    \"Kyler\" : \"Sophomore\",\n",
    "}"
   ]
  },
  {
   "cell_type": "markdown",
   "metadata": {},
   "source": [
    "## One-hot Encoding\n",
    "For Nominal variables"
   ]
  },
  {
   "cell_type": "markdown",
   "metadata": {},
   "source": [
    "## Ordinal Encoding\n",
    "For Ordinal variables"
   ]
  },
  {
   "cell_type": "code",
   "execution_count": null,
   "metadata": {
    "vscode": {
     "languageId": "plaintext"
    }
   },
   "outputs": [],
   "source": []
  },
  {
   "cell_type": "markdown",
   "metadata": {},
   "source": [
    "Topics:\n",
    "* Cleaning Data\n",
    "  * Missing Data\n",
    "* Data Wrangling\n",
    "  * Splitting strings\n",
    "    * [LastName FirstnName] to [LastName] [FirstName]\n",
    "    * Dates\n",
    "\n",
    "  * Joins\n",
    "  * Pivot Tables\n",
    "  * Melting\n",
    "  * Groupbys"
   ]
  }
 ],
 "metadata": {
  "kernelspec": {
   "display_name": "Python 3 (ipykernel)",
   "language": "python",
   "name": "python3"
  },
  "language_info": {
   "codemirror_mode": {
    "name": "ipython",
    "version": 3
   },
   "file_extension": ".py",
   "mimetype": "text/x-python",
   "name": "python",
   "nbconvert_exporter": "python",
   "pygments_lexer": "ipython3",
   "version": "3.9.16"
  }
 },
 "nbformat": 4,
 "nbformat_minor": 4
}
