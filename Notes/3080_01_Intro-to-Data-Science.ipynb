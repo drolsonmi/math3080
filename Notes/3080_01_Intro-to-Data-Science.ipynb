{
 "cells": [
  {
   "cell_type": "markdown",
   "id": "a64d8ebd-06bd-4155-9657-115cd5f9948a",
   "metadata": {},
   "source": [
    "# Lecture 1 Introduction to Data Science\n",
    "__Math 3080: Fundamentals of Data Science__\n",
    "\n",
    "__Outline__\n",
    "1. What is Data Science? What is Machine Learning?\n",
    "2. Setup of the Data Science courses\n",
    "3. Textbooks and Homework\n",
    "\n",
    "__Reading__ \n",
    "* Grus, *Data Science from Scratch*, Chapter 1\n",
    "* [Brunton video: The Nature of Data](https://youtu.be/OAB2bHsee9Y)\n",
    "* [Leskovec](https://www.mmds.org), 1.1-1.3"
   ]
  },
  {
   "cell_type": "markdown",
   "id": "61f94845-9d86-4d77-b13b-16f24c502518",
   "metadata": {},
   "source": [
    "-----\n",
    "## What is Data Science?\n",
    "* What is Statistics?\n",
    "  * Answering a question by infering information from Data\n",
    "    * It is important to ask the \"right\" questions\n",
    "    * Determine what data is needed to answer the question\n",
    "  * Who won the election?\n",
    "  * Confidence Interval and Hypothesis Test\n",
    "* What is Data Science?\n",
    "  * The Science of how to best handle data\n",
    "    * *Brunton*: How to collect, clean, store, visualize, and model data\n",
    "    * *Leskovec*: How to use the most powerful hardware, the most powerful programming systems, and the most efficient algorithms to solve problems in science, commerce, healthcare, government, the humanities, and many other fields of human endeavor.\n",
    "  * Field is changing quickly\n",
    "  * Have been doing this for 1,000's of years\n",
    "  * Stages of Data Science\n",
    "    1. Gathering of Data (Collecting, curating, cleaning)\n",
    "        * Tico Bray - Astronomical observations\n",
    "    2. Analysis of Data (visualization, analysis, modeling (machine learning))\n",
    "        * Johannes Kepler - Astronomical models\n",
    "    3. Explanation of Data (Cleaning and Presenting the visuals with explanations)\n",
    "        * Isaac Newton - Laws of Motion\n",
    "        * Based his laws on the \"preponderance of the evidence\"\n",
    "  * Data Science spans all three stages, but primarily the Gathering and Analysis stages\n",
    "  * Machine learning takes up Kepler's role - come up with a general model to explain how things work\n",
    "  * Most of our work as data scientists is in the first stage - collecting and cleaning the data\n",
    "    * Bad data = Bad science\n",
    "* What is a Data Scientist?\n",
    "  * This can be difficult to answer, and the answer depends on what the person is trying to do\n",
    "      * Someone who extracts insights from messy data\n",
    "  * Most experts follow a T-shape (general knowledge of many fields, but a depth of knowledge in one field)\n",
    "  * Data scientists need to follow pi-model (depth in main field, but a second depth in data science as well)\n",
    "  * Important aspects of Data Science\n",
    "    * Reproducibility "
   ]
  },
  {
   "cell_type": "markdown",
   "id": "7579d44f-595d-4fc1-b494-cc57e62d272d",
   "metadata": {},
   "source": [
    "-----\n",
    "## Setup of courses\n",
    "We are going to learn Data Science in 3 courses\n",
    "\n",
    "* __Math 2080 Applied Data Science / Math 3080 Foundations of Data Science__\n",
    "  * How to obtain data\n",
    "  * How to clean/edit data\n",
    "  * How to graph data\n",
    "  * Some work on models and Machine Learning\n",
    "* __Math 3280 Data Mining__\n",
    "  * How to manage large datasets and files\n",
    "  * Server management\n",
    "* __Math 3480 Machine Learning__\n",
    "  * How to train computers to make predictions based on previously obtained data\n",
    "\n",
    "\n",
    "For Math 2080/3080, we have two things we have to learn, but not enough time to learn it all:\n",
    "\n",
    "1. Fundamentals of Data Science\n",
    "2. Python programming\n",
    "    * The point of this course is to learn the fundamentals of data science\n",
    "    * Python is just a tool that we are going to use\n",
    "    * Homework assignments will be courses within DataCamp to help learn the language so that we can focus on the fundamentals in the classroom\n",
    "    * In addition to DataCamp, we also have Chapter 2 of the Grus textbook, as well as nearly the entire *Python for Data Analysis* textbook.\n",
    "    \n",
    "__How much Python experience does the class have?__"
   ]
  },
  {
   "cell_type": "markdown",
   "id": "bb8ff1a3-d762-4be0-a8a7-6970b9b1f1fc",
   "metadata": {},
   "source": [
    "## Textbooks\n",
    "I will be pulling from 3 textbooks, all of which are free:\n",
    "* [McKinney, Wes, *Python for Data Science*, 3rd Edition, 2022.](https://wesmckinney.com/book/)\n",
    "* [Irizarry, Rafael, *Introduction to Data Science*, 2020.](https://rafalab.dfci.harvard.edu/dsbook-part-1/)\n",
    "\n",
    "We may look into the textbooks for Math 3280 and Math 3480, but I will show you those if/when needed."
   ]
  },
  {
   "cell_type": "markdown",
   "id": "201ee56a-a774-49bb-a748-53521c61f7c4",
   "metadata": {},
   "source": [
    "## DataCamp\n",
    "* Everyone will be sent an email with an invitation to our classroom on DataCamp\n",
    "* Homework assignments will be administered on DataCamp\n",
    "  * Projects will be administered every 2-3 weeks to apply what you are learning\n",
    "* In addition to homework, you will have access to other courses, certification training (and certification exams), competitions, etc.\n",
    "  * Only good for 6 months\n",
    "  * Those continuing on to Math 3280 will receive another invitation to that course to retain access to DataCamp materials"
   ]
  },
  {
   "cell_type": "markdown",
   "id": "fa34cc3f",
   "metadata": {},
   "source": [
    "-----\n",
    "### After Class\n",
    "* Admit all students to *DataCamp* classroom"
   ]
  }
 ],
 "metadata": {
  "kernelspec": {
   "display_name": "Python 3 (ipykernel)",
   "language": "python",
   "name": "python3"
  },
  "language_info": {
   "codemirror_mode": {
    "name": "ipython",
    "version": 3
   },
   "file_extension": ".py",
   "mimetype": "text/x-python",
   "name": "python",
   "nbconvert_exporter": "python",
   "pygments_lexer": "ipython3",
   "version": "3.9.16"
  }
 },
 "nbformat": 4,
 "nbformat_minor": 5
}
