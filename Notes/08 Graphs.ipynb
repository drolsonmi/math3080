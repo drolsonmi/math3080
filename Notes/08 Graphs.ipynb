{
 "cells": [
  {
   "attachments": {},
   "cell_type": "markdown",
   "metadata": {},
   "source": [
    "# 08 Graphs\n",
    "__Math 3080: Fundamentals of Data Science__\n",
    "\n",
    "Reading:\n",
    "* McKinney, Chapter \n",
    "\n",
    "Outline:\n",
    "1. Summary of the different plots we can use\n",
    "2. Overview of MatplotLib\n",
    "3. Overview of Seaborn\n",
    "4. Interactive plots\n",
    "    * Plotly"
   ]
  },
  {
   "attachments": {},
   "cell_type": "markdown",
   "metadata": {},
   "source": [
    "-----\n",
    "## 8.1 Summary of different plots\n",
    "There are a number of plots that we can use to display the data. Each plot is valuable in its own way. Which plot you use depends on the type of data. For example, \n",
    "* Categorical data is often displayed in groups\n",
    "  * barplot/countplot\n",
    "  * piechart\n",
    "* Quantitative data is often displayed by individual measurements\n",
    "  * boxplot\n",
    "  * scatterplot\n",
    "  * timeseries graph."
   ]
  },
  {
   "attachments": {},
   "cell_type": "markdown",
   "metadata": {},
   "source": [
    "## 8.2 Overview of MatplotLib"
   ]
  },
  {
   "cell_type": "code",
   "execution_count": null,
   "metadata": {},
   "outputs": [],
   "source": []
  },
  {
   "attachments": {},
   "cell_type": "markdown",
   "metadata": {},
   "source": [
    "## 8.3 Overview of Seaborn"
   ]
  },
  {
   "cell_type": "code",
   "execution_count": null,
   "metadata": {},
   "outputs": [],
   "source": []
  },
  {
   "attachments": {},
   "cell_type": "markdown",
   "metadata": {},
   "source": [
    "## 8.4 Interactive Graphs"
   ]
  },
  {
   "cell_type": "code",
   "execution_count": null,
   "metadata": {},
   "outputs": [],
   "source": []
  }
 ],
 "metadata": {
  "language_info": {
   "name": "python"
  },
  "orig_nbformat": 4
 },
 "nbformat": 4,
 "nbformat_minor": 2
}
