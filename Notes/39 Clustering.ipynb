{
 "cells": [
  {
   "cell_type": "markdown",
   "id": "b44d4423-9c02-44d4-b734-70ebfe9752ae",
   "metadata": {
    "tags": []
   },
   "source": []
  },
  {
   "cell_type": "markdown",
   "id": "6a1ede6c-b92b-40e7-92c6-46e969936b19",
   "metadata": {},
   "source": []
  },
  {
   "cell_type": "markdown",
   "id": "af5bf027-93de-4cb3-a4e8-807203522027",
   "metadata": {},
   "source": [
    "### Things to include in this lecture\n",
    "* Leskovec, 1.1.5\n",
    "  * Discovery of cause of cholera by clustering cases of cholera and noting the wells in the area."
   ]
  }
 ],
 "metadata": {
  "kernelspec": {
   "display_name": "Python 3 (ipykernel)",
   "language": "python",
   "name": "python3"
  },
  "language_info": {
   "codemirror_mode": {
    "name": "ipython",
    "version": 3
   },
   "file_extension": ".py",
   "mimetype": "text/x-python",
   "name": "python",
   "nbconvert_exporter": "python",
   "pygments_lexer": "ipython3",
   "version": "3.9.12"
  }
 },
 "nbformat": 4,
 "nbformat_minor": 5
}
