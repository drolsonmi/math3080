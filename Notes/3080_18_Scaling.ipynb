{
 "cells": [
  {
   "cell_type": "markdown",
   "metadata": {},
   "source": [
    "## Feature Scaling\n",
    "The scales of variables can have a very large impact on the results of the model. For instance, consider this example of employee salaries:\n"
   ]
  },
  {
   "cell_type": "code",
   "execution_count": null,
   "metadata": {},
   "outputs": [],
   "source": [
    "import pandas as pd\n",
    "\n",
    "salaries = {\n",
    "    'ID':['01','02','03'],\n",
    "    'Salary':[70000,60000,52000],\n",
    "    'Years of Experience':[5,4,1]\n",
    "}\n",
    "\n",
    "df = pd.DataFrame(salaries, index=salaries['ID']).drop('ID', axis=1)\n",
    "df"
   ]
  },
  {
   "cell_type": "markdown",
   "metadata": {},
   "source": [
    "We want to group employees together. Employees 1 and 3 are definitely in different groups. But how would we group Employee 2? Employee 2 is closer to Employee 1 in salary, but to Employee 3 in experience. \n",
    "\n",
    "The scale is throwing us off, so we look at __feature scaling__. There are two methods of feature scaling:\n",
    "1. Standardization\n",
    "$$\\hat{x} = \\frac{x-\\bar{x}}{s}$$\n",
    "2. Normalization\n",
    "$$\\hat{x} = \\frac{x-x_{min}}{x_{max}-x_{min}}$$\n",
    "\n",
    "Standardization will generally give a number in the range [-3,3], while normalization will always give a result between [0,1].\n",
    "\n",
    "Let's see how each method affects the data."
   ]
  },
  {
   "cell_type": "code",
   "execution_count": null,
   "metadata": {},
   "outputs": [],
   "source": [
    "# Standardized\n",
    "def standardize_df(x):\n",
    "    return (x-x.mean())/(x.std(ddof=1))\n",
    "\n",
    "standardize_df(df)"
   ]
  },
  {
   "cell_type": "code",
   "execution_count": null,
   "metadata": {},
   "outputs": [],
   "source": [
    "def normalize_df(x):\n",
    "    return (x-x.min())/(x.max()-x.min())\n",
    "\n",
    "normalize_df(df)"
   ]
  },
  {
   "cell_type": "markdown",
   "metadata": {},
   "source": [
    "What do we see? Looking at the original data, the gap in salaries between Employees 1 and 2 was so large that we'd say that Employee 2 was closer to Employee 3. But as we look at the standardized and normalized data, we see that the salary of Employee 2 is very nearly in the middle (0 for Standardized, 0.5 for Normalized). So, the Salary may not be a good indicator. But looking at the Years of Experience, we see Employee 2 is actually very close to Employee 1. So, it is more likely for Employee 2 to be grouped with Employee 1."
   ]
  }
 ],
 "metadata": {
  "kernelspec": {
   "display_name": "DataScience",
   "language": "python",
   "name": "python3"
  },
  "language_info": {
   "name": "python",
   "version": "3.9.17"
  }
 },
 "nbformat": 4,
 "nbformat_minor": 2
}
