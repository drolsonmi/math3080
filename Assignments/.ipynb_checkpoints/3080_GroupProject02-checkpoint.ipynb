{
 "cells": [
  {
   "cell_type": "markdown",
   "metadata": {},
   "source": [
    "# Math 3080 - Group Project 2\n",
    "You have access to three datasets showing movie ratings. You can find the data here:\n",
    "* https://github.com/wesm/pydata-book/tree/3rd-edition/datasets/movielens\n",
    "* Either download the files to load them into your program, or you can load them directly from their websites:\n",
    "  * Movie Data: https://raw.githubusercontent.com/wesm/pydata-book/3rd-edition/datasets/movielens/movies.dat\n",
    "  * Ratings Data: https://raw.githubusercontent.com/wesm/pydata-book/3rd-edition/datasets/movielens/ratings.dat\n",
    "  * User Data: https://raw.githubusercontent.com/wesm/pydata-book/3rd-edition/datasets/movielens/users.dat\n",
    "  * Documentation for these datasets is in README.md file: https://github.com/wesm/pydata-book/blob/3rd-edition/datasets/movielens/README\n",
    "\n",
    "This data is provided by the Wes McKinney, the author of our *Python for Data Science* textbook. Usage information is included in the README file on the github site.\n",
    "\n",
    "I recommend looking through McKinney's textbook (Chapter 7 and Chapter 8) to get more information about all of these functions:\n",
    "* https://wesmckinney.com/book/data-cleaning.html\n",
    "\n",
    "Your task is to do the following with this data:\n",
    "1. Load the ratings.dat file\n",
    "2. Merge information from the movies.dat file to include movie titles and genres\n",
    "    * Separate the genres using get_dummies function\n",
    "3. Merge information from the users.dat file to include gender, age, and occupation for the users giving the ratings\n",
    "\n",
    "Use this data to find:\n",
    "1. Average rating for each genre\n",
    "2. Average age for each genre\n",
    "3. Count of genders for each genre\n",
    "4. Count of user occupations for each genre"
   ]
  },
  {
   "cell_type": "code",
   "execution_count": null,
   "metadata": {},
   "outputs": [],
   "source": []
  }
 ],
 "metadata": {
  "kernelspec": {
   "display_name": "Python 3 (ipykernel)",
   "language": "python",
   "name": "python3"
  },
  "language_info": {
   "codemirror_mode": {
    "name": "ipython",
    "version": 3
   },
   "file_extension": ".py",
   "mimetype": "text/x-python",
   "name": "python",
   "nbconvert_exporter": "python",
   "pygments_lexer": "ipython3",
   "version": "3.9.14"
  },
  "vscode": {
   "interpreter": {
    "hash": "949777d72b0d2535278d3dc13498b2535136f6dfe0678499012e853ee9abcab1"
   }
  }
 },
 "nbformat": 4,
 "nbformat_minor": 2
}
