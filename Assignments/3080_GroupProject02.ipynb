{
 "cells": [
  {
   "attachments": {},
   "cell_type": "markdown",
   "metadata": {},
   "source": [
    "# Math 3080 - Group Project 2\n",
    "You have access to three datasets showing movie ratings. You can find the data here:\n",
    "* https://github.com/wesm/pydata-book/tree/3rd-edition/datasets/movielens\n",
    "\n",
    "This data is provided by the Wes McKinney, the author of our *Python for Data Science* textbook. Usage information is included in the README file on the github site.\n",
    "\n",
    "I recommend looking through McKinney's textbook (Chapter 7 and Chapter 8) to get more information about all of these functions:\n",
    "* https://wesmckinney.com/book/data-cleaning.html\n",
    "\n",
    "Your task is to do the following with this data:\n",
    "1. Load the ratings.dat file\n",
    "2. Merge information from the movies.dat file to include movie titles and genres\n",
    "    * Separate the genres using get_dummies function\n",
    "3. Merge information from the users.dat file to include gender, age, and occupation for the users giving the ratings\n",
    "\n",
    "Use this data to find:\n",
    "1. Average rating for each genre\n",
    "2. Average age for each genre\n",
    "3. Count of genders for each genre\n",
    "4. Count of user occupations for each genre"
   ]
  },
  {
   "cell_type": "code",
   "execution_count": null,
   "metadata": {},
   "outputs": [],
   "source": []
  }
 ],
 "metadata": {
  "kernelspec": {
   "display_name": "Python 3",
   "language": "python",
   "name": "python3"
  },
  "language_info": {
   "name": "python",
   "version": "3.9.14"
  },
  "orig_nbformat": 4,
  "vscode": {
   "interpreter": {
    "hash": "949777d72b0d2535278d3dc13498b2535136f6dfe0678499012e853ee9abcab1"
   }
  }
 },
 "nbformat": 4,
 "nbformat_minor": 2
}
