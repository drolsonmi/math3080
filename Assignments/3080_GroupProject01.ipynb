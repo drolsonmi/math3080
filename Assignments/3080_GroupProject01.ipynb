{
 "cells": [
  {
   "cell_type": "markdown",
   "metadata": {},
   "source": [
    "# Math 3080 - Group Project 1\n",
    "You have received a dataset that shows the GDP of countries around the world. Your employer has asked you to create a linear regression model to predict a nation's GDP based on its population, population density, literacy, birthrate, and deathrate.\n",
    "\n",
    "The dataset can be downloaded here: [countries-of-the-world.csv](https://github.com/drolsonmi/math3080/blob/main/Datasets/countries-of-the-world.csv)\n",
    "\n",
    "Load the data, then calculate the following:\n",
    "1. Summary Statistics of Population\n",
    "    * Mean, Median, Quartiles, Variance\n",
    "2. Summary Statistics of GDP\n",
    "    * Mean, Median, Quartiles, Variance\n",
    "3. Linear Regression of Population and GDP\n",
    "    * Your first guess is that GDP is affected by population. So, start by finding the correlation between population and GDP\n",
    "      * Find correlation coefficient\n",
    "      * Calculate the line of best fit\n",
    "      * Make a scatterplot of the data and include the line of best fit\n",
    "      * Predict the GDP for a country with a population of 5,250,000\n",
    "      * Extra: Calculate the Root Mean Square Error of all prediction values\n",
    "      * Questions to answer: \n",
    "        * How good is this prediction?\n",
    "        * Can you find any other variables with a better correlation?\n",
    "4. Multivariable Linear Regression\n",
    "    * Find the vector of parameters $\\hat{\\theta}$ that will model the data using the following variables:\n",
    "      * Population, Population Density, Literacy, Birthrate, Deathrate\n",
    "    * Predict the GDP for a country with\n",
    "      * Population = 5,250,000\n",
    "      * Population Density = 72.0\n",
    "      * Literacy = 56.0%\n",
    "      * Birthrate = 22.0\n",
    "      * Deathrate = 12.0\n",
    "    * Extra: Calculate the Root Mean Square Error of all prediction values - Did it improve from the 2-D regression model?\n",
    "5. Questions to answer:\n",
    "    * Which variable from the data has the smallest weight in the prediction?\n",
    "    * Which variable from the data has the largest weight in the prediction? Would it be positively or negatively correlated\n",
    "    * Are there any other variables with a higher correlation that we should consider including in our model?"
   ]
  },
  {
   "cell_type": "markdown",
   "metadata": {},
   "source": [
    "Things to note:\n",
    "* NumPy can't import the data because it cannot convert strings to floats \n",
    "* Pandas will import the data, but it will import everything as a string since the decimals are commas\n",
    "  * Use the `decimal=` argument to change that\n",
    "* `nan` data is included. We want to drop any observations with missing data\n",
    "  * `df.dropna(inplace=True)`"
   ]
  },
  {
   "cell_type": "code",
   "execution_count": 4,
   "metadata": {},
   "outputs": [],
   "source": [
    "import numpy as np\n",
    "import pandas as pd"
   ]
  },
  {
   "cell_type": "code",
   "execution_count": null,
   "metadata": {},
   "outputs": [],
   "source": []
  },
  {
   "cell_type": "code",
   "execution_count": null,
   "metadata": {},
   "outputs": [],
   "source": []
  },
  {
   "cell_type": "code",
   "execution_count": null,
   "metadata": {},
   "outputs": [],
   "source": []
  },
  {
   "cell_type": "code",
   "execution_count": null,
   "metadata": {},
   "outputs": [],
   "source": []
  },
  {
   "cell_type": "code",
   "execution_count": null,
   "metadata": {},
   "outputs": [],
   "source": []
  },
  {
   "cell_type": "code",
   "execution_count": null,
   "metadata": {},
   "outputs": [],
   "source": []
  },
  {
   "cell_type": "code",
   "execution_count": null,
   "metadata": {},
   "outputs": [],
   "source": []
  },
  {
   "cell_type": "code",
   "execution_count": null,
   "metadata": {},
   "outputs": [],
   "source": []
  },
  {
   "cell_type": "code",
   "execution_count": null,
   "metadata": {},
   "outputs": [],
   "source": []
  },
  {
   "cell_type": "code",
   "execution_count": null,
   "metadata": {},
   "outputs": [],
   "source": []
  }
 ],
 "metadata": {
  "kernelspec": {
   "display_name": "Python 3 (ipykernel)",
   "language": "python",
   "name": "python3"
  },
  "language_info": {
   "codemirror_mode": {
    "name": "ipython",
    "version": 3
   },
   "file_extension": ".py",
   "mimetype": "text/x-python",
   "name": "python",
   "nbconvert_exporter": "python",
   "pygments_lexer": "ipython3",
   "version": "3.10.9"
  },
  "vscode": {
   "interpreter": {
    "hash": "5c7b89af1651d0b8571dde13640ecdccf7d5a6204171d6ab33e7c296e100e08a"
   }
  }
 },
 "nbformat": 4,
 "nbformat_minor": 4
}
