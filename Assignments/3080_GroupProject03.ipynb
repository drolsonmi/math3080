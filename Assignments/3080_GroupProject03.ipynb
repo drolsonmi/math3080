{
 "cells": [
  {
   "cell_type": "markdown",
   "id": "746d5e1d-ab2c-4064-bcaf-23afa4f7ecdd",
   "metadata": {},
   "source": [
    "# Math 3080 - Group Project 3\n",
    "In this project, we are going to do an analysis of stock data. In this project, we will practice the following:\n",
    "* Loading API data\n",
    "* Manipulating DataFrames\n",
    "* Joins\n",
    "* Datetime objects\n",
    "* Graphing\n",
    "\n",
    "We are going to obtain stock data from the Alpha Vantage service API service. Here are a couple of helps:\n",
    "* [Alpha Vantage FAQs](https://www.alphavantage.co/support/#api-key)\n",
    "* [Alpha Vantage Documentation](https://www.alphavantage.co/documentation/)\n",
    "  * We will focus on the __DAILY_ADJUSTED__ dataset. You are welcome to experiment and play with the other datasets.\n",
    "\n",
    "API keys will be emailed to you before this project begins.\n",
    "\n",
    "You may also want to look back at the *05 Obtaining Data.ipynb* notes to remind yourself of how APIs work."
   ]
  },
  {
   "cell_type": "markdown",
   "id": "de5ef19c-b00d-4b86-b2cb-faa189f81e7d",
   "metadata": {},
   "source": [
    "-----\n",
    "For this segment, we will work with 5 datasets: \n",
    "* Google / Alphabet Inc (GOOGL)\n",
    "* Tesla (TSLA)\n",
    "* Amazon (AMZN)\n",
    "* AT&T (T)\n",
    "* Ford (F)\n",
    "\n",
    "1. Load the Google dataset\n",
    "2. Wrangle the data so that,\n",
    "    * there are two columns for the date and closing values\n",
    "    * the dates are in datetime format and closing values are floats (You may need to use a .apply() method to turn values into a float)\n",
    "3. Load the other 4 datasets the same way\n",
    "4. Join the 5 DataFrames on the dates\n",
    "5. Show the final DataFrame"
   ]
  },
  {
   "cell_type": "code",
   "execution_count": null,
   "id": "fb390c67-84d5-4883-81cc-f732be5794bd",
   "metadata": {
    "tags": []
   },
   "outputs": [],
   "source": []
  },
  {
   "cell_type": "code",
   "execution_count": null,
   "id": "ed7e873d-7f1f-4554-814e-9c84d4df9a54",
   "metadata": {
    "tags": []
   },
   "outputs": [],
   "source": []
  },
  {
   "cell_type": "code",
   "execution_count": null,
   "id": "11615f0d-1012-4fdc-a729-558d46221ba7",
   "metadata": {},
   "outputs": [],
   "source": []
  },
  {
   "cell_type": "code",
   "execution_count": null,
   "id": "d5c132b3-f5b3-4a04-a654-77bd3ee68ed1",
   "metadata": {},
   "outputs": [],
   "source": []
  },
  {
   "cell_type": "markdown",
   "id": "77c650e7-0edf-416a-ba7e-1419511cb86e",
   "metadata": {},
   "source": [
    "-----\n",
    "6. Plot the 5 stocks over\n",
    "    * The past month\n",
    "    * The past 6 months\n",
    "    * The past year\n",
    "    * The past 5 years\n",
    "    \n",
    "Make sure that each plot has an appropriate title and x- and y-axis labels."
   ]
  },
  {
   "cell_type": "code",
   "execution_count": null,
   "id": "863fdfab-d6af-4126-aea9-f6376b1367a3",
   "metadata": {},
   "outputs": [],
   "source": []
  },
  {
   "cell_type": "code",
   "execution_count": null,
   "id": "d0ee9c46-76f7-47b1-b29c-08617fd27e40",
   "metadata": {},
   "outputs": [],
   "source": []
  },
  {
   "cell_type": "code",
   "execution_count": null,
   "id": "3cc87152-ed08-479f-a640-c56f953890fa",
   "metadata": {},
   "outputs": [],
   "source": []
  },
  {
   "cell_type": "code",
   "execution_count": null,
   "id": "c2296d25-fb3d-48bc-b954-83f971dc540a",
   "metadata": {},
   "outputs": [],
   "source": []
  },
  {
   "cell_type": "markdown",
   "id": "3b4959d3-7ac7-4870-9e6b-455f9716a281",
   "metadata": {},
   "source": [
    "You'll notice that there is a sudden drop in the values of Google, Amazon, and Tesla stocks. This happens when the company changes the value of the stocks.\n",
    "* If you have 10 stocks at \\\\$100 each, then you'll have 20 stocks at \\\\$50 each after the change"
   ]
  },
  {
   "cell_type": "markdown",
   "id": "dc1fe196-df94-4944-bdf9-9c9ffec5a693",
   "metadata": {},
   "source": [
    "-----\n",
    "7. Compare the Google and Amazon company stocks\n",
    "    * Plot just the two stocks over the last 6 months and the last year\n",
    "    * Add the 15-day rolling averages to the graph"
   ]
  },
  {
   "cell_type": "code",
   "execution_count": null,
   "id": "b56e2c74-2d34-4923-ad72-e3836729b99a",
   "metadata": {},
   "outputs": [],
   "source": []
  },
  {
   "cell_type": "code",
   "execution_count": null,
   "id": "c3f31a47-9f94-45cb-9185-3cea18c3bd77",
   "metadata": {},
   "outputs": [],
   "source": []
  },
  {
   "cell_type": "code",
   "execution_count": null,
   "id": "73e1bb97-e588-41ec-a655-d7f562ffe734",
   "metadata": {},
   "outputs": [],
   "source": []
  },
  {
   "cell_type": "code",
   "execution_count": null,
   "id": "f1aa3024-b472-452c-b5ec-ee1388701cf7",
   "metadata": {},
   "outputs": [],
   "source": [
    "### What observations can you make in these two graphs?\n",
    "# \n",
    "# \n",
    "# "
   ]
  },
  {
   "cell_type": "markdown",
   "id": "521f8575-3c60-4e8d-9603-9834062b62ab",
   "metadata": {},
   "source": [
    "8. Find the correlation between the stocks of Google and Amazon\n",
    "    * Experiment to find the best way to find the clearest correlation - correlation between averages, percent changes (stock returns), rolling averages,..."
   ]
  },
  {
   "cell_type": "code",
   "execution_count": null,
   "id": "963378ed-d6ec-46c6-874c-dca6e2c05e37",
   "metadata": {},
   "outputs": [],
   "source": []
  },
  {
   "cell_type": "code",
   "execution_count": null,
   "id": "22c3365f-0ccc-4724-b573-c8838ea03a88",
   "metadata": {},
   "outputs": [],
   "source": [
    "### How would you describe the relationship between the Google and Amazon stocks?\n",
    "# \n",
    "# \n",
    "# "
   ]
  },
  {
   "cell_type": "markdown",
   "id": "af4b6c51-7fdd-4eb3-b181-ad143f0a4ad9",
   "metadata": {},
   "source": [
    "-----\n",
    "9. Compare the Google and Amazon company stocks\n",
    "    * Plot just the two stocks over the last year\n",
    "    * Add the 15-day rolling averages to the graph"
   ]
  },
  {
   "cell_type": "code",
   "execution_count": null,
   "id": "450dcefc-ab0f-485f-b404-5d697fe59489",
   "metadata": {},
   "outputs": [],
   "source": []
  },
  {
   "cell_type": "code",
   "execution_count": null,
   "id": "6cc26d54-40cd-4b18-8439-b2f236386ef5",
   "metadata": {},
   "outputs": [],
   "source": []
  },
  {
   "cell_type": "markdown",
   "id": "1291a794-a370-4334-8096-93056188e4d4",
   "metadata": {},
   "source": [
    "10. You'll see that this isn't clear. So, do the same for the returns (daily percent change)"
   ]
  },
  {
   "cell_type": "code",
   "execution_count": null,
   "id": "73d81f5a-ea1a-4202-a7ef-3b13cb154036",
   "metadata": {},
   "outputs": [],
   "source": []
  },
  {
   "cell_type": "markdown",
   "id": "1c4e5763-79ce-49b1-b376-67952b7d8d52",
   "metadata": {},
   "source": [
    "11. Find the correlation between the stock returns of Ford and Tesla\n",
    "    * Experiment to find the best way to find the clearest correlation - correlation between averages, percent changes (stock returns), rolling averages,..."
   ]
  },
  {
   "cell_type": "code",
   "execution_count": null,
   "id": "a3ccf9e6-2331-43b9-970e-1376c20f916c",
   "metadata": {},
   "outputs": [],
   "source": []
  },
  {
   "cell_type": "code",
   "execution_count": null,
   "id": "71e5157d-14a0-4450-8f65-848f380d18a7",
   "metadata": {},
   "outputs": [],
   "source": [
    "### Describe the correlation between the returns of these two companies\n",
    "# \n",
    "# \n",
    "# "
   ]
  },
  {
   "cell_type": "code",
   "execution_count": null,
   "id": "e08b5d59-b1a4-4f5a-8c78-173294562bae",
   "metadata": {},
   "outputs": [],
   "source": []
  }
 ],
 "metadata": {
  "kernelspec": {
   "display_name": "Python 3 (ipykernel)",
   "language": "python",
   "name": "python3"
  },
  "language_info": {
   "codemirror_mode": {
    "name": "ipython",
    "version": 3
   },
   "file_extension": ".py",
   "mimetype": "text/x-python",
   "name": "python",
   "nbconvert_exporter": "python",
   "pygments_lexer": "ipython3",
   "version": "3.9.14"
  }
 },
 "nbformat": 4,
 "nbformat_minor": 5
}
